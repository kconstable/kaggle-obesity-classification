{
 "cells": [
  {
   "cell_type": "markdown",
   "id": "c4b3cded",
   "metadata": {
    "papermill": {
     "duration": 0.013854,
     "end_time": "2024-02-17T19:20:16.972160",
     "exception": false,
     "start_time": "2024-02-17T19:20:16.958306",
     "status": "completed"
    },
    "tags": []
   },
   "source": [
    "## Ensemble Models to Predict Obesity Classification (0.91+ Accuracy)\n",
    "The overall approach to this project was to train and optimize three individual models and evaluate two ensemble strategies\n",
    "\n",
    "+ Soft Voting Ensemble: In this strategy, the model that was most confident in its classification prediction was selected. This evaluation is done at the observation level. The weighting of each individual model was optimized.\n",
    "+ Stacked Voting Ensemble: In this strategy, the probability of churn outputs from each individual model was as inputs to the fourth model. This final model makes the ensemble prediction\n",
    "\n",
    "The overall results show that the ensemble models performed better than each individual model, with the soft voting ensemble outperforming the stacking ensemble method.\n",
    "\n",
    "### Feature Engineering\n",
    "Several strategies were used to find features that could be used to exploit signals in the data, but not all of them worked.\n",
    "\n",
    "+ One-Hot Encoding Categorial features (Gender, Geography)\n",
    "+ Ordinal Encoding\n",
    "+ Standard Scaling ofcontinuous features. While not strictly necessary when using decision tree models, it has been shown to boost performance in these competitions\n",
    "+ Adding some feature interactions, such as balance-to-salary, balance-to-products, productst-to-tenure and tenure-to-age ratios\n",
    "\n",
    "### Class Imbalance\n",
    "This dataset does not suffer from signifcant class imbalences. As such, so special methods were employed\n",
    "\n",
    "### Hyperparameter Tuning \n",
    "Hyperparameter tuning was done using Optuna to select parameter values that optimized the accuracy socres using cross-validation.\n",
    "\n",
    "+ Individual Model Parameters (xgb, catboost, Light GBM)\n",
    "+ Soft Voting Model Weights => to select the optimal weights of each individual model in the ensemble\n",
    "+ lazypredict was used to search for the optimal meta-learner for the stacking ensemble"
   ]
  },
  {
   "cell_type": "markdown",
   "id": "aa8834f1",
   "metadata": {
    "papermill": {
     "duration": 0.012681,
     "end_time": "2024-02-17T19:20:16.998884",
     "exception": false,
     "start_time": "2024-02-17T19:20:16.986203",
     "status": "completed"
    },
    "tags": []
   },
   "source": [
    "## Import Libraries and Configure Notebook"
   ]
  },
  {
   "cell_type": "code",
   "execution_count": 1,
   "id": "0a857595",
   "metadata": {
    "execution": {
     "iopub.execute_input": "2024-02-17T19:20:17.029907Z",
     "iopub.status.busy": "2024-02-17T19:20:17.028947Z",
     "iopub.status.idle": "2024-02-17T19:20:17.034666Z",
     "shell.execute_reply": "2024-02-17T19:20:17.033670Z"
    },
    "papermill": {
     "duration": 0.022683,
     "end_time": "2024-02-17T19:20:17.036786",
     "exception": false,
     "start_time": "2024-02-17T19:20:17.014103",
     "status": "completed"
    },
    "tags": []
   },
   "outputs": [],
   "source": [
    "# %pip install lazypredict "
   ]
  },
  {
   "cell_type": "code",
   "execution_count": 2,
   "id": "eac5be59",
   "metadata": {
    "_cell_guid": "b1076dfc-b9ad-4769-8c92-a6c4dae69d19",
    "_uuid": "8f2839f25d086af736a60e9eeb907d3b93b6e0e5",
    "execution": {
     "iopub.execute_input": "2024-02-17T19:20:17.066496Z",
     "iopub.status.busy": "2024-02-17T19:20:17.065668Z",
     "iopub.status.idle": "2024-02-17T19:20:23.481509Z",
     "shell.execute_reply": "2024-02-17T19:20:23.480403Z"
    },
    "papermill": {
     "duration": 6.433063,
     "end_time": "2024-02-17T19:20:23.484271",
     "exception": false,
     "start_time": "2024-02-17T19:20:17.051208",
     "status": "completed"
    },
    "tags": []
   },
   "outputs": [],
   "source": [
    "import gc\n",
    "import numpy as np # linear algebra\n",
    "import pandas as pd # data processing, CSV file I/O (e.g. pd.read_csv)\n",
    "import seaborn as sns\n",
    "import matplotlib.pyplot as plt\n",
    "import plotly.express as px\n",
    "import plotly.graph_objects as go\n",
    "import plotly.express as px\n",
    "import plotly.graph_objects as go\n",
    "\n",
    "\n",
    "from sklearn.preprocessing import OrdinalEncoder, OneHotEncoder,StandardScaler, MinMaxScaler\n",
    "from sklearn.model_selection import train_test_split\n",
    "from sklearn.pipeline import Pipeline\n",
    "from sklearn.compose import ColumnTransformer\n",
    "from sklearn.metrics import accuracy_score\n",
    "\n",
    "from xgboost import XGBClassifier\n",
    "from lightgbm import LGBMClassifier\n",
    "from lightgbm import early_stopping, log_evaluation\n",
    "from catboost import CatBoostClassifier\n",
    "from sklearn.naive_bayes import GaussianNB\n",
    "from sklearn.ensemble import VotingClassifier, StackingClassifier\n",
    "from sklearn.model_selection import RepeatedStratifiedKFold, StratifiedKFold, cross_val_score\n",
    "import optuna\n",
    "from optuna.visualization import plot_param_importances\n",
    "from optuna.visualization import plot_optimization_history\n",
    "\n",
    "\n",
    "import warnings\n",
    "warnings.simplefilter(action='ignore', category=FutureWarning)\n",
    "\n",
    "# Constants\n",
    "RANDOM = 1992\n",
    "\n",
    "# Plotting\n",
    "PLOT = False\n",
    "\n",
    "# Optimization\n",
    "TUNE = False\n",
    "\n",
    "# Evalution  \n",
    "EVALUATE, LAZY_PREDICT_EVAL = True, False\n",
    "\n",
    "# Voting Type\n",
    "VOTE_TYPE = 'soft'\n",
    "\n",
    "# Submission\n",
    "STACK, VOTE, XGB, LGB, CAT = False, True, False, False, False"
   ]
  },
  {
   "cell_type": "markdown",
   "id": "a1aeb06c",
   "metadata": {
    "papermill": {
     "duration": 0.012373,
     "end_time": "2024-02-17T19:20:23.509907",
     "exception": false,
     "start_time": "2024-02-17T19:20:23.497534",
     "status": "completed"
    },
    "tags": []
   },
   "source": [
    "#### Ploting Theme"
   ]
  },
  {
   "cell_type": "code",
   "execution_count": 3,
   "id": "3ae736c1",
   "metadata": {
    "execution": {
     "iopub.execute_input": "2024-02-17T19:20:23.536848Z",
     "iopub.status.busy": "2024-02-17T19:20:23.536452Z",
     "iopub.status.idle": "2024-02-17T19:20:23.548953Z",
     "shell.execute_reply": "2024-02-17T19:20:23.548276Z"
    },
    "papermill": {
     "duration": 0.028016,
     "end_time": "2024-02-17T19:20:23.550753",
     "exception": false,
     "start_time": "2024-02-17T19:20:23.522737",
     "status": "completed"
    },
    "tags": []
   },
   "outputs": [
    {
     "data": {
      "text/html": [
       "<svg  width=\"385\" height=\"55\"><rect x=\"0\" y=\"0\" width=\"55\" height=\"55\" style=\"fill:#53808d;stroke-width:2;stroke:rgb(255,255,255)\"/><rect x=\"55\" y=\"0\" width=\"55\" height=\"55\" style=\"fill:#fc4c02;stroke-width:2;stroke:rgb(255,255,255)\"/><rect x=\"110\" y=\"0\" width=\"55\" height=\"55\" style=\"fill:#1b99d6;stroke-width:2;stroke:rgb(255,255,255)\"/><rect x=\"165\" y=\"0\" width=\"55\" height=\"55\" style=\"fill:#fff57b;stroke-width:2;stroke:rgb(255,255,255)\"/><rect x=\"220\" y=\"0\" width=\"55\" height=\"55\" style=\"fill:#585858;stroke-width:2;stroke:rgb(255,255,255)\"/><rect x=\"275\" y=\"0\" width=\"55\" height=\"55\" style=\"fill:#d5dadd;stroke-width:2;stroke:rgb(255,255,255)\"/><rect x=\"330\" y=\"0\" width=\"55\" height=\"55\" style=\"fill:#e9f2ef;stroke-width:2;stroke:rgb(255,255,255)\"/></svg>"
      ],
      "text/plain": [
       "[(0.3254901960784314, 0.5019607843137255, 0.5529411764705883),\n",
       " (0.9882352941176471, 0.2980392156862745, 0.00784313725490196),\n",
       " (0.10588235294117647, 0.6, 0.8392156862745098),\n",
       " (1.0, 0.9607843137254902, 0.4823529411764706),\n",
       " (0.34509803921568627, 0.34509803921568627, 0.34509803921568627),\n",
       " (0.8352941176470589, 0.8549019607843137, 0.8666666666666667),\n",
       " (0.9137254901960784, 0.9490196078431372, 0.9372549019607843)]"
      ]
     },
     "execution_count": 3,
     "metadata": {},
     "output_type": "execute_result"
    }
   ],
   "source": [
    "# Color Palettes\n",
    "colors = {\n",
    "    \"sage\"     : \"#53808D\",\n",
    "    \"orange\"   : \"#FC4C02\",\n",
    "    \"blue\"     : \"#1B99D6\",\n",
    "    \"yellow\"   : \"#FFF57B\",\n",
    "    \"darkgrey\" : \"#585858\",\n",
    "    \"lightgrey\": \"#D5DADD\",\n",
    "    \"lightsage\": '#E9F2EF'\n",
    "}\n",
    "palette_discete = sns.color_palette([v for k,v in colors.items()])\n",
    "palette_continuous = sns.color_palette(f\"blend:{colors['sage']},{colors['orange']}\", as_cmap=True) \n",
    "\n",
    "# custom theme\n",
    "rc = {\n",
    "    'axes.facecolor':f\"{colors['lightsage']}\",\n",
    "    \"axes.edgecolor\":f\"{colors['sage']}\",\n",
    "    \"text.color\":f\"{colors['sage']}\",\n",
    "    \"axes.labelcolor\":f\"{colors['sage']}\",\n",
    "    \"ytick.color\":f\"{colors['sage']}\",\n",
    "    \"xtick.color\":f\"{colors['sage']}\",\n",
    "}\n",
    "sns.set_style('whitegrid',rc =rc)\n",
    "\n",
    "# set context elements\n",
    "sns.set_context('notebook',rc={'grid.linewidth':'1.1'})\n",
    "\n",
    "# set custom palette\n",
    "sns.set_palette(palette_discete)\n",
    "\n",
    "palette_discete"
   ]
  },
  {
   "cell_type": "markdown",
   "id": "b517be89",
   "metadata": {
    "papermill": {
     "duration": 0.012394,
     "end_time": "2024-02-17T19:20:23.576183",
     "exception": false,
     "start_time": "2024-02-17T19:20:23.563789",
     "status": "completed"
    },
    "tags": []
   },
   "source": [
    "## Data Descriptions\n",
    "\n",
    "The attributes related with eating habits are: \n",
    "+ Frequent consumption of high caloric food (FAVC)\n",
    "+ Frequency of consumption of vegetables (FCVC)\n",
    "+ Number of main meals (NCP)\n",
    "+ Consumption of food between meals (CAEC) => Ordinal  (always, frequently, sometimes, no=never)\n",
    "+ Consumption of water daily (CH20)\n",
    "+ Consumption of alcohol (CALC) => Ordinal (frequently, sometimes, no=never)\n",
    "\n",
    "The attributes related with the physical condition are: \n",
    "+ Calories consumption monitoring (SCC)\n",
    "+ Physical activity frequency (FAF)\n",
    "+ Time using technology devices (TUE)\n",
    "+ Transportation used (MTRANS)\n",
    "\n",
    "variables obtained\n",
    "+ Gender\n",
    "+ Age\n",
    "+ Height\n",
    "+ Weight\n",
    "\n",
    "NObesity values are\n",
    "\n",
    "+ Insufficient_Weight Less than 18.5\n",
    "+ Normal_Weight 18.5 to 24.9\n",
    "+ Overweight 25.0 to 29.9\n",
    "+ Obesity_Type_I 30.0 to 34.9\n",
    "+ Obesity_Type_II 35.0 to 39.9\n",
    "+ Obesity_Type_III Higher than 40"
   ]
  },
  {
   "cell_type": "markdown",
   "id": "2f099a5e",
   "metadata": {
    "papermill": {
     "duration": 0.012448,
     "end_time": "2024-02-17T19:20:23.601259",
     "exception": false,
     "start_time": "2024-02-17T19:20:23.588811",
     "status": "completed"
    },
    "tags": []
   },
   "source": [
    "#### Helper Functions: Data Aquisiton, Feature Engineering & Encoding"
   ]
  },
  {
   "cell_type": "code",
   "execution_count": 4,
   "id": "c7020fc0",
   "metadata": {
    "execution": {
     "iopub.execute_input": "2024-02-17T19:20:23.628706Z",
     "iopub.status.busy": "2024-02-17T19:20:23.628047Z",
     "iopub.status.idle": "2024-02-17T19:20:24.096510Z",
     "shell.execute_reply": "2024-02-17T19:20:24.094953Z"
    },
    "papermill": {
     "duration": 0.486395,
     "end_time": "2024-02-17T19:20:24.100266",
     "exception": false,
     "start_time": "2024-02-17T19:20:23.613871",
     "status": "completed"
    },
    "tags": []
   },
   "outputs": [
    {
     "data": {
      "text/html": [
       "<div>\n",
       "<style scoped>\n",
       "    .dataframe tbody tr th:only-of-type {\n",
       "        vertical-align: middle;\n",
       "    }\n",
       "\n",
       "    .dataframe tbody tr th {\n",
       "        vertical-align: top;\n",
       "    }\n",
       "\n",
       "    .dataframe thead th {\n",
       "        text-align: right;\n",
       "    }\n",
       "</style>\n",
       "<table border=\"1\" class=\"dataframe\">\n",
       "  <thead>\n",
       "    <tr style=\"text-align: right;\">\n",
       "      <th></th>\n",
       "      <th>id</th>\n",
       "      <th>Gender</th>\n",
       "      <th>Age</th>\n",
       "      <th>Height</th>\n",
       "      <th>Weight</th>\n",
       "      <th>FamiliyHistory</th>\n",
       "      <th>FAVC</th>\n",
       "      <th>FCVC</th>\n",
       "      <th>NCP</th>\n",
       "      <th>CAEC</th>\n",
       "      <th>SMOKE</th>\n",
       "      <th>CH2O</th>\n",
       "      <th>SCC</th>\n",
       "      <th>FAF</th>\n",
       "      <th>TUE</th>\n",
       "      <th>CALC</th>\n",
       "      <th>MTRANS</th>\n",
       "      <th>NObeyesdad</th>\n",
       "    </tr>\n",
       "  </thead>\n",
       "  <tbody>\n",
       "    <tr>\n",
       "      <th>0</th>\n",
       "      <td>0</td>\n",
       "      <td>male</td>\n",
       "      <td>24.443011</td>\n",
       "      <td>1.699998</td>\n",
       "      <td>81.669950</td>\n",
       "      <td>1</td>\n",
       "      <td>1</td>\n",
       "      <td>2.000000</td>\n",
       "      <td>2.983297</td>\n",
       "      <td>sometimes</td>\n",
       "      <td>0</td>\n",
       "      <td>2.763573</td>\n",
       "      <td>0</td>\n",
       "      <td>0.000000</td>\n",
       "      <td>0.976473</td>\n",
       "      <td>sometimes</td>\n",
       "      <td>public_transportation</td>\n",
       "      <td>Overweight_Level_II</td>\n",
       "    </tr>\n",
       "    <tr>\n",
       "      <th>1</th>\n",
       "      <td>1</td>\n",
       "      <td>female</td>\n",
       "      <td>18.000000</td>\n",
       "      <td>1.560000</td>\n",
       "      <td>57.000000</td>\n",
       "      <td>1</td>\n",
       "      <td>1</td>\n",
       "      <td>2.000000</td>\n",
       "      <td>3.000000</td>\n",
       "      <td>frequently</td>\n",
       "      <td>0</td>\n",
       "      <td>2.000000</td>\n",
       "      <td>0</td>\n",
       "      <td>1.000000</td>\n",
       "      <td>1.000000</td>\n",
       "      <td>no</td>\n",
       "      <td>automobile</td>\n",
       "      <td>Normal_Weight</td>\n",
       "    </tr>\n",
       "    <tr>\n",
       "      <th>2</th>\n",
       "      <td>2</td>\n",
       "      <td>female</td>\n",
       "      <td>18.000000</td>\n",
       "      <td>1.711460</td>\n",
       "      <td>50.165754</td>\n",
       "      <td>1</td>\n",
       "      <td>1</td>\n",
       "      <td>1.880534</td>\n",
       "      <td>1.411685</td>\n",
       "      <td>sometimes</td>\n",
       "      <td>0</td>\n",
       "      <td>1.910378</td>\n",
       "      <td>0</td>\n",
       "      <td>0.866045</td>\n",
       "      <td>1.673584</td>\n",
       "      <td>no</td>\n",
       "      <td>public_transportation</td>\n",
       "      <td>Insufficient_Weight</td>\n",
       "    </tr>\n",
       "    <tr>\n",
       "      <th>3</th>\n",
       "      <td>3</td>\n",
       "      <td>female</td>\n",
       "      <td>20.952737</td>\n",
       "      <td>1.710730</td>\n",
       "      <td>131.274851</td>\n",
       "      <td>1</td>\n",
       "      <td>1</td>\n",
       "      <td>3.000000</td>\n",
       "      <td>3.000000</td>\n",
       "      <td>sometimes</td>\n",
       "      <td>0</td>\n",
       "      <td>1.674061</td>\n",
       "      <td>0</td>\n",
       "      <td>1.467863</td>\n",
       "      <td>0.780199</td>\n",
       "      <td>sometimes</td>\n",
       "      <td>public_transportation</td>\n",
       "      <td>Obesity_Type_III</td>\n",
       "    </tr>\n",
       "    <tr>\n",
       "      <th>4</th>\n",
       "      <td>4</td>\n",
       "      <td>male</td>\n",
       "      <td>31.641081</td>\n",
       "      <td>1.914186</td>\n",
       "      <td>93.798055</td>\n",
       "      <td>1</td>\n",
       "      <td>1</td>\n",
       "      <td>2.679664</td>\n",
       "      <td>1.971472</td>\n",
       "      <td>sometimes</td>\n",
       "      <td>0</td>\n",
       "      <td>1.979848</td>\n",
       "      <td>0</td>\n",
       "      <td>1.967973</td>\n",
       "      <td>0.931721</td>\n",
       "      <td>sometimes</td>\n",
       "      <td>public_transportation</td>\n",
       "      <td>Overweight_Level_II</td>\n",
       "    </tr>\n",
       "  </tbody>\n",
       "</table>\n",
       "</div>"
      ],
      "text/plain": [
       "   id  Gender        Age    Height      Weight  FamiliyHistory  FAVC  \\\n",
       "0   0    male  24.443011  1.699998   81.669950               1     1   \n",
       "1   1  female  18.000000  1.560000   57.000000               1     1   \n",
       "2   2  female  18.000000  1.711460   50.165754               1     1   \n",
       "3   3  female  20.952737  1.710730  131.274851               1     1   \n",
       "4   4    male  31.641081  1.914186   93.798055               1     1   \n",
       "\n",
       "       FCVC       NCP        CAEC  SMOKE      CH2O  SCC       FAF       TUE  \\\n",
       "0  2.000000  2.983297   sometimes      0  2.763573    0  0.000000  0.976473   \n",
       "1  2.000000  3.000000  frequently      0  2.000000    0  1.000000  1.000000   \n",
       "2  1.880534  1.411685   sometimes      0  1.910378    0  0.866045  1.673584   \n",
       "3  3.000000  3.000000   sometimes      0  1.674061    0  1.467863  0.780199   \n",
       "4  2.679664  1.971472   sometimes      0  1.979848    0  1.967973  0.931721   \n",
       "\n",
       "        CALC                 MTRANS           NObeyesdad  \n",
       "0  sometimes  public_transportation  Overweight_Level_II  \n",
       "1         no             automobile        Normal_Weight  \n",
       "2         no  public_transportation  Insufficient_Weight  \n",
       "3  sometimes  public_transportation     Obesity_Type_III  \n",
       "4  sometimes  public_transportation  Overweight_Level_II  "
      ]
     },
     "execution_count": 4,
     "metadata": {},
     "output_type": "execute_result"
    }
   ],
   "source": [
    "def get_data():\n",
    "    \"\"\"Read data from the csv, adjust data types\"\"\"\n",
    "    train= pd.read_csv(\"/kaggle/input/playground-series-s4e2/train.csv\")\n",
    "    test = pd.read_csv(\"/kaggle/input/playground-series-s4e2/test.csv\")\n",
    "    original = pd.read_csv('/kaggle/input/obesity-or-cvd-risk-classifyregressorcluster/ObesityDataSet.csv')\n",
    "    \n",
    "    # category features \n",
    "    cols = ['Gender','CAEC','CALC','MTRANS','NObeyesdad']\n",
    "    for col in cols:\n",
    "        if col == 'NObeyesdad':\n",
    "            # test data doesn't have NObeyesdad\n",
    "            train[col] = train[col].apply(lambda x: x.strip()).astype('category')\n",
    "            original[col] = original[col].apply(lambda x: x.strip()).astype('category')\n",
    "        else:\n",
    "            train[col] = train[col].apply(lambda x: x.lower().strip()).astype('category')\n",
    "            test[col] = test[col].apply(lambda x: x.lower().strip()).astype('category')\n",
    "            original[col] = original[col].apply(lambda x: x.lower().strip()).astype('category')\n",
    "      \n",
    "            \n",
    "    # bindary features\n",
    "    cols = ['family_history_with_overweight','FAVC','SMOKE','SCC']\n",
    "    for col in cols:\n",
    "        train[col] = train[col].map({'yes':1,'no':0}).astype('uint8')\n",
    "        test[col] = test[col].map({'yes':1,'no':0}).astype('uint8')\n",
    "        original[col] = original[col].map({'yes':1,'no':0}).astype('uint8')\n",
    "        \n",
    "    # rename columns\n",
    "    train.rename(columns = {'family_history_with_overweight':'FamiliyHistory'},inplace=True)\n",
    "    test.rename(columns = {'family_history_with_overweight':'FamiliyHistory'},inplace=True)\n",
    "    original.rename(columns = {'family_history_with_overweight':'FamiliyHistory'},inplace=True)\n",
    "    \n",
    "    # add id to the oringal dataset, reorder to match the train/test data\n",
    "    original['id'] = original.index\n",
    "    original = original[train.columns.to_list()]\n",
    "    \n",
    "    # combine the original dataset with the train dataset, remove any duplicates\n",
    "    train_and_original = (\n",
    "         pd.concat([train, original],axis=0)\n",
    "        .set_index('id')\n",
    "        .drop_duplicates(ignore_index=True)\n",
    "        .reset_index()\n",
    "        .rename(columns={'index':'id'})\n",
    "    )\n",
    "\n",
    "    return train_and_original, test\n",
    "\n",
    "\n",
    "# get the raw data\n",
    "train, test = get_data()\n",
    "gc.collect()\n",
    "train.head()"
   ]
  },
  {
   "cell_type": "code",
   "execution_count": 5,
   "id": "bb3ea01a",
   "metadata": {
    "execution": {
     "iopub.execute_input": "2024-02-17T19:20:24.131686Z",
     "iopub.status.busy": "2024-02-17T19:20:24.131300Z",
     "iopub.status.idle": "2024-02-17T19:20:24.141253Z",
     "shell.execute_reply": "2024-02-17T19:20:24.140481Z"
    },
    "papermill": {
     "duration": 0.026618,
     "end_time": "2024-02-17T19:20:24.143227",
     "exception": false,
     "start_time": "2024-02-17T19:20:24.116609",
     "status": "completed"
    },
    "tags": []
   },
   "outputs": [],
   "source": [
    "def add_features(df):\n",
    "    \"\"\"Add additional features\"\"\"\n",
    "    def risk_consumption(row):\n",
    "        \"\"\" consumption risk score\"\"\"\n",
    "        # score\n",
    "        risk = 0\n",
    "        \n",
    "        # consumption between meals (increases risk)\n",
    "        d = {'always':2,'frequency':1}\n",
    "        risk += d.get(row.CAEC,0)\n",
    "\n",
    "        # number of main meals (median = 3)(increases risk)\n",
    "        risk += row.NCP - 3.0\n",
    "\n",
    "        # consumption of vegtables (median = 2.40 )(reduces risk)\n",
    "        risk += 2.40 -row.FCVC\n",
    "\n",
    "        # consumption of water (median = 2.0)(reduces risk)\n",
    "        risk += 2.0 - row.CH2O\n",
    "        \n",
    "        # consumption of high caloric food(increases risk)\n",
    "        risk += row.FAVC\n",
    "\n",
    "        # caloric monitoring(decreases risk)\n",
    "        risk -= row.SCC\n",
    "        \n",
    "        return risk\n",
    "            \n",
    "    def risk_activity(row):\n",
    "        \"\"\"activity risk score\"\"\"\n",
    "        # score\n",
    "        risk = 0\n",
    "        \n",
    "        # method of transportation (phyiscal activity reduces risk)\n",
    "        d = {'walking':-1.0,'bike':-1.0}\n",
    "        risk += d.get(row.MTRANS, 1.0)   \n",
    "            \n",
    "        # physical activity (median =1.0)(reduces risk)\n",
    "        risk += 1.0 - row.FAF   \n",
    "        \n",
    "        return risk\n",
    "    \n",
    "    def risk_lifestyle(row):\n",
    "        \"\"\"lifestyle risk score\"\"\"\n",
    "        risk = 0\n",
    "        \n",
    "        # consumption of alcohol (increases risk)\n",
    "        d = {'always':2,'frequency':1,'no':-1}\n",
    "        risk += d.get(row.CALC,0)\n",
    "\n",
    "        # smoking (increases risk)\n",
    "        risk += row.SMOKE\n",
    "        return risk\n",
    "\n",
    "    # copy the original\n",
    "    dff = df.copy()\n",
    "    \n",
    "    # body-mass-index\n",
    "    dff['risk_bmi'] = dff['Weight'] / dff['Height']**2\n",
    "    \n",
    "    # calculate the risk-factor\n",
    "    dff['risk_consumption'] = dff.apply(lambda x: risk_consumption(x),axis=1)\n",
    "    dff['risk_activity'] = dff.apply(lambda x: risk_activity(x),axis=1)\n",
    "    dff['risk_lifestyle'] = dff.apply(lambda x: risk_lifestyle(x),axis=1)\n",
    "    \n",
    "    return dff"
   ]
  },
  {
   "cell_type": "code",
   "execution_count": 6,
   "id": "4591617f",
   "metadata": {
    "execution": {
     "iopub.execute_input": "2024-02-17T19:20:24.171212Z",
     "iopub.status.busy": "2024-02-17T19:20:24.170821Z",
     "iopub.status.idle": "2024-02-17T19:20:24.178183Z",
     "shell.execute_reply": "2024-02-17T19:20:24.177191Z"
    },
    "papermill": {
     "duration": 0.023827,
     "end_time": "2024-02-17T19:20:24.180236",
     "exception": false,
     "start_time": "2024-02-17T19:20:24.156409",
     "status": "completed"
    },
    "tags": []
   },
   "outputs": [],
   "source": [
    "def encode_target_variable(df,direction='encode'):\n",
    "    \"\"\"\n",
    "    Encode the target variable to ordinal integers for classification\n",
    "    Decode the target variable from ordinal integers back to string for submission\n",
    "    \"\"\"\n",
    "    if direction=='encode':\n",
    "        encode = {\n",
    "            'Insufficient_Weight': 0,\n",
    "            'Normal_Weight'      : 1,\n",
    "            'Overweight_Level_I' : 2,\n",
    "            'Overweight_Level_II': 3,\n",
    "            'Obesity_Type_I'     : 4,\n",
    "            'Obesity_Type_II'    : 5,\n",
    "            'Obesity_Type_III'   : 6\n",
    "        }\n",
    "        encoded = df.NObeyesdad.map(encode).to_frame('Target')\n",
    "        dff = pd.concat([df,encoded],axis=1)\n",
    "    else:\n",
    "        decode = {\n",
    "            0:'Insufficient_Weight',\n",
    "            1:'Normal_Weight'      ,\n",
    "            2:'Overweight_Level_I' ,\n",
    "            3:'Overweight_Level_II',\n",
    "            4:'Obesity_Type_I'     ,\n",
    "            5:'Obesity_Type_II'    ,\n",
    "            6:'Obesity_Type_III'   \n",
    "        }\n",
    "        decoded = df.Target.map(decode).to_frame('NObeyesdad')\n",
    "        dff = pd.concat([df,decoded],axis=1).drop(columns=['Target'])\n",
    "    return dff"
   ]
  },
  {
   "cell_type": "code",
   "execution_count": 7,
   "id": "72c0dce7",
   "metadata": {
    "execution": {
     "iopub.execute_input": "2024-02-17T19:20:24.208365Z",
     "iopub.status.busy": "2024-02-17T19:20:24.207980Z",
     "iopub.status.idle": "2024-02-17T19:20:24.214737Z",
     "shell.execute_reply": "2024-02-17T19:20:24.213977Z"
    },
    "papermill": {
     "duration": 0.023391,
     "end_time": "2024-02-17T19:20:24.216727",
     "exception": false,
     "start_time": "2024-02-17T19:20:24.193336",
     "status": "completed"
    },
    "tags": []
   },
   "outputs": [],
   "source": [
    "def describe_train_test(y_train, y_test):\n",
    "    \"\"\"Check the train/test splits by class\"\"\"\n",
    "        \n",
    "    tn = pd.DataFrame(y_train.value_counts()).reset_index()\n",
    "    tn['train_pct'] = round((tn['count']/tn['count'].sum())*100,2)\n",
    "    tn.drop(columns=['count'],inplace=True)\n",
    "    \n",
    "    ts = pd.DataFrame(y_test.value_counts()).reset_index()\n",
    "    ts['test_pct'] = round((ts['count']/ts['count'].sum())*100,2)\n",
    "    ts.drop(columns=['count'],inplace=True)\n",
    "    \n",
    "    return tn.merge(ts, on='Target',how='inner').set_index('Target')    "
   ]
  },
  {
   "cell_type": "code",
   "execution_count": 8,
   "id": "f40212dd",
   "metadata": {
    "execution": {
     "iopub.execute_input": "2024-02-17T19:20:24.245157Z",
     "iopub.status.busy": "2024-02-17T19:20:24.244504Z",
     "iopub.status.idle": "2024-02-17T19:20:24.252189Z",
     "shell.execute_reply": "2024-02-17T19:20:24.251323Z"
    },
    "papermill": {
     "duration": 0.024538,
     "end_time": "2024-02-17T19:20:24.254418",
     "exception": false,
     "start_time": "2024-02-17T19:20:24.229880",
     "status": "completed"
    },
    "tags": []
   },
   "outputs": [],
   "source": [
    "def subset_features_by_type(df, include_types):\n",
    "    \"\"\"\n",
    "    Filter columns of a pandas DataFrame based on specified data types.\n",
    "\n",
    "    Parameters:\n",
    "    df (pandas.DataFrame): DataFrame to filter\n",
    "    include_types (list): List of data types to include in the filtered DataFrame.\n",
    "        Valid values are: 'numeric', 'date', 'string', 'binary'\n",
    "\n",
    "    Returns:\n",
    "    filtered_df (pandas.DataFrame): DataFrame with only the columns that match\n",
    "        the specified data types. If an error occurs, returns the original DataFrame\n",
    "        with all columns.\n",
    "    \"\"\"\n",
    "    # Map data types to numpy types\n",
    "    type_map = {\n",
    "        'numeric': np.number,\n",
    "        'date': np.datetime64,\n",
    "        'string': np.object_,\n",
    "        'category': pd.CategoricalDtype,\n",
    "        'binary': np.bool_,\n",
    "        'float': np.float_,\n",
    "        'int': np.int_\n",
    "    }\n",
    "\n",
    "    # Check if include_types is a valid list\n",
    "    if not isinstance(include_types, list):\n",
    "        include_types = [include_types]\n",
    "\n",
    "    # Check if include_types contains valid data types\n",
    "    for t in include_types:\n",
    "        if t not in type_map:\n",
    "            raise ValueError(f\"Invalid data type: '{t}'\")\n",
    "\n",
    "    # Convert include_types to numpy types\n",
    "    include_numpy_types = [type_map[t] for t in include_types]\n",
    "\n",
    "    try:\n",
    "        # Filter columns using select_dtypes\n",
    "        return df.select_dtypes(include=include_numpy_types)\n",
    "    except Exception as e:\n",
    "        # If an error occurs, return the original DataFrame with all columns\n",
    "        print(f\"Error: {e}\")\n",
    "        return df"
   ]
  },
  {
   "cell_type": "markdown",
   "id": "8928ee6e",
   "metadata": {
    "papermill": {
     "duration": 0.012767,
     "end_time": "2024-02-17T19:20:24.280723",
     "exception": false,
     "start_time": "2024-02-17T19:20:24.267956",
     "status": "completed"
    },
    "tags": []
   },
   "source": [
    "#### Add Features & Split into Train/Validation Datasets"
   ]
  },
  {
   "cell_type": "code",
   "execution_count": 9,
   "id": "cab71403",
   "metadata": {
    "execution": {
     "iopub.execute_input": "2024-02-17T19:20:24.308896Z",
     "iopub.status.busy": "2024-02-17T19:20:24.308295Z",
     "iopub.status.idle": "2024-02-17T19:20:27.623525Z",
     "shell.execute_reply": "2024-02-17T19:20:27.622432Z"
    },
    "papermill": {
     "duration": 3.331899,
     "end_time": "2024-02-17T19:20:27.625624",
     "exception": false,
     "start_time": "2024-02-17T19:20:24.293725",
     "status": "completed"
    },
    "tags": []
   },
   "outputs": [
    {
     "data": {
      "text/html": [
       "<div>\n",
       "<style scoped>\n",
       "    .dataframe tbody tr th:only-of-type {\n",
       "        vertical-align: middle;\n",
       "    }\n",
       "\n",
       "    .dataframe tbody tr th {\n",
       "        vertical-align: top;\n",
       "    }\n",
       "\n",
       "    .dataframe thead th {\n",
       "        text-align: right;\n",
       "    }\n",
       "</style>\n",
       "<table border=\"1\" class=\"dataframe\">\n",
       "  <thead>\n",
       "    <tr style=\"text-align: right;\">\n",
       "      <th></th>\n",
       "      <th>train_pct</th>\n",
       "      <th>test_pct</th>\n",
       "    </tr>\n",
       "    <tr>\n",
       "      <th>Target</th>\n",
       "      <th></th>\n",
       "      <th></th>\n",
       "    </tr>\n",
       "  </thead>\n",
       "  <tbody>\n",
       "    <tr>\n",
       "      <th>6</th>\n",
       "      <td>19.13</td>\n",
       "      <td>19.13</td>\n",
       "    </tr>\n",
       "    <tr>\n",
       "      <th>5</th>\n",
       "      <td>15.52</td>\n",
       "      <td>15.52</td>\n",
       "    </tr>\n",
       "    <tr>\n",
       "      <th>1</th>\n",
       "      <td>14.72</td>\n",
       "      <td>14.73</td>\n",
       "    </tr>\n",
       "    <tr>\n",
       "      <th>4</th>\n",
       "      <td>14.28</td>\n",
       "      <td>14.27</td>\n",
       "    </tr>\n",
       "    <tr>\n",
       "      <th>3</th>\n",
       "      <td>12.31</td>\n",
       "      <td>12.30</td>\n",
       "    </tr>\n",
       "    <tr>\n",
       "      <th>0</th>\n",
       "      <td>12.21</td>\n",
       "      <td>12.21</td>\n",
       "    </tr>\n",
       "    <tr>\n",
       "      <th>2</th>\n",
       "      <td>11.83</td>\n",
       "      <td>11.84</td>\n",
       "    </tr>\n",
       "  </tbody>\n",
       "</table>\n",
       "</div>"
      ],
      "text/plain": [
       "        train_pct  test_pct\n",
       "Target                     \n",
       "6           19.13     19.13\n",
       "5           15.52     15.52\n",
       "1           14.72     14.73\n",
       "4           14.28     14.27\n",
       "3           12.31     12.30\n",
       "0           12.21     12.21\n",
       "2           11.83     11.84"
      ]
     },
     "execution_count": 9,
     "metadata": {},
     "output_type": "execute_result"
    }
   ],
   "source": [
    "# encode the target variable\n",
    "train = encode_target_variable(train,'encode')\n",
    "\n",
    "# add features\n",
    "train = add_features(train)\n",
    "test = add_features(test)\n",
    "\n",
    "# test data is used for submission (does not include the Exited(y) variable)\n",
    "X_submit_ids = test.id  # keep ids for later\n",
    "X_submit = test.drop(columns = ['id'])\n",
    "\n",
    "# train data\n",
    "X = train.drop(columns=['Target','NObeyesdad']) # leave id until after train/test splits\n",
    "y = train.Target\n",
    "\n",
    "# split train data into train/test\n",
    "X_train, X_test, y_train, y_test = train_test_split(X, y, test_size=0.20, random_state=RANDOM,stratify=y)\n",
    "\n",
    "# keep the ids for lazy evaluation, then remove\n",
    "X_train_ids = X_train.id\n",
    "X_train.drop(columns =['id'],inplace=True)\n",
    "X_test.drop(columns =['id'],inplace=True)\n",
    "X.drop(columns =['id'],inplace=True)\n",
    "\n",
    "# remove train/test\n",
    "# del train\n",
    "# del test\n",
    "# gc.collect()\n",
    "\n",
    "# describe train/test split\n",
    "describe_train_test(y_train,y_test)"
   ]
  },
  {
   "cell_type": "markdown",
   "id": "6e576fb0",
   "metadata": {
    "papermill": {
     "duration": 0.013234,
     "end_time": "2024-02-17T19:20:27.652247",
     "exception": false,
     "start_time": "2024-02-17T19:20:27.639013",
     "status": "completed"
    },
    "tags": []
   },
   "source": [
    "## Pipelines and Transformers\n",
    "https://medium.com/analytics-vidhya/how-to-apply-preprocessing-steps-in-a-pipeline-only-to-specific-features-4e91fe45dfb8"
   ]
  },
  {
   "cell_type": "code",
   "execution_count": 10,
   "id": "8f09ba4b",
   "metadata": {
    "execution": {
     "iopub.execute_input": "2024-02-17T19:20:27.681239Z",
     "iopub.status.busy": "2024-02-17T19:20:27.680582Z",
     "iopub.status.idle": "2024-02-17T19:20:27.685587Z",
     "shell.execute_reply": "2024-02-17T19:20:27.684808Z"
    },
    "papermill": {
     "duration": 0.021839,
     "end_time": "2024-02-17T19:20:27.687530",
     "exception": false,
     "start_time": "2024-02-17T19:20:27.665691",
     "status": "completed"
    },
    "tags": []
   },
   "outputs": [],
   "source": [
    "def convert_to_df (transformed, processor):\n",
    "    \"\"\"Convert from array to dataframe after preprocessing the data\"\"\"\n",
    "    df = pd.DataFrame(transformed)\n",
    "    df.columns = processor.get_feature_names_out()\n",
    "    return df\n",
    "    "
   ]
  },
  {
   "cell_type": "code",
   "execution_count": 11,
   "id": "a2afd00b",
   "metadata": {
    "execution": {
     "iopub.execute_input": "2024-02-17T19:20:27.716701Z",
     "iopub.status.busy": "2024-02-17T19:20:27.716032Z",
     "iopub.status.idle": "2024-02-17T19:20:27.969282Z",
     "shell.execute_reply": "2024-02-17T19:20:27.968211Z"
    },
    "papermill": {
     "duration": 0.270037,
     "end_time": "2024-02-17T19:20:27.971345",
     "exception": false,
     "start_time": "2024-02-17T19:20:27.701308",
     "status": "completed"
    },
    "tags": []
   },
   "outputs": [
    {
     "data": {
      "text/plain": [
       "108"
      ]
     },
     "execution_count": 11,
     "metadata": {},
     "output_type": "execute_result"
    }
   ],
   "source": [
    "# numeric transformers\n",
    "numeric_features = ['Age','Height','Weight','FCVC','NCP','CH2O','FAF','TUE','risk_bmi','risk_lifestyle','risk_consumption','risk_activity']\n",
    "numeric_transformer = Pipeline(\n",
    "    steps = [('scaler',StandardScaler())]\n",
    ")\n",
    "\n",
    "# categorical encoders\n",
    "category_features =  ['Gender','MTRANS','CAEC','CALC']\n",
    "category_gender = ['male', 'female']\n",
    "category_trans = ['public_transportation', 'automobile', 'walking', 'motorbike', 'bike']\n",
    "category_scale = ['always','frequently','sometimes','no']\n",
    "category_transformer = Pipeline(\n",
    "    steps =[('onehot_encoder',OneHotEncoder(categories = [category_gender, category_trans, category_scale, category_scale]))]\n",
    ")\n",
    "\n",
    "\n",
    "# # ordinal features\n",
    "# ordinal_features = ['CAEC','CALC']\n",
    "# ordinal_feature_order = [['always','frequently','sometimes','no'],['always','frequently','sometimes','no']]\n",
    "# ordinal_transformer = Pipeline(\n",
    "#     steps =[('ordinal_encoder',OrdinalEncoder(categories = ordinal_feature_order))]\n",
    "# )\n",
    "\n",
    "# apply the column transforms\n",
    "preprocessor = ColumnTransformer(\n",
    "    transformers = [\n",
    "        ('num', numeric_transformer,numeric_features),\n",
    "        ('cat',category_transformer,category_features),\n",
    "    ],\n",
    "    remainder = 'passthrough'\n",
    ")\n",
    "\n",
    "\n",
    "# prepare data for classification\n",
    "X_array = preprocessor.fit_transform(X)\n",
    "X_train_array = preprocessor.transform(X_train)\n",
    "X_test_array = preprocessor.transform(X_test)\n",
    "X_submit_array = preprocessor.transform(X_submit)\n",
    "\n",
    "# convert to dataframes\n",
    "X = convert_to_df(X_array,preprocessor)\n",
    "X_train = convert_to_df(X_train_array,preprocessor)\n",
    "X_test =  convert_to_df(X_test_array,preprocessor)\n",
    "X_submit = convert_to_df(X_submit_array,preprocessor)\n",
    "\n",
    "\n",
    "# clear memmory\n",
    "gc.collect()"
   ]
  },
  {
   "cell_type": "markdown",
   "id": "ba1653fa",
   "metadata": {
    "papermill": {
     "duration": 0.013051,
     "end_time": "2024-02-17T19:20:27.997742",
     "exception": false,
     "start_time": "2024-02-17T19:20:27.984691",
     "status": "completed"
    },
    "tags": []
   },
   "source": [
    "## Exploratory Data Analysis"
   ]
  },
  {
   "cell_type": "markdown",
   "id": "91800ee9",
   "metadata": {
    "papermill": {
     "duration": 0.014263,
     "end_time": "2024-02-17T19:20:28.025320",
     "exception": false,
     "start_time": "2024-02-17T19:20:28.011057",
     "status": "completed"
    },
    "tags": []
   },
   "source": [
    "#### Correlations"
   ]
  },
  {
   "cell_type": "code",
   "execution_count": 12,
   "id": "591b44b0",
   "metadata": {
    "execution": {
     "iopub.execute_input": "2024-02-17T19:20:28.053988Z",
     "iopub.status.busy": "2024-02-17T19:20:28.053392Z",
     "iopub.status.idle": "2024-02-17T19:20:28.060719Z",
     "shell.execute_reply": "2024-02-17T19:20:28.059883Z"
    },
    "papermill": {
     "duration": 0.024231,
     "end_time": "2024-02-17T19:20:28.062860",
     "exception": false,
     "start_time": "2024-02-17T19:20:28.038629",
     "status": "completed"
    },
    "tags": []
   },
   "outputs": [],
   "source": [
    "def plot_correlations(X_train, y_train, y_label, only_vs_target = True):\n",
    "    \"\"\" Plot the correlations between features\"\"\"\n",
    "    \n",
    "    df_y = pd.DataFrame(y_train)\n",
    "    df_y.columns = [y_label]\n",
    "    \n",
    "    # combine with input features\n",
    "    df = pd.concat([X_train,df_y],axis=1)\n",
    "    \n",
    "    # calc the correlations\n",
    "    c = df.corr().round(decimals=2)\n",
    "    \n",
    "    # subset to only show correlations with the target variable\n",
    "    if only_vs_target:\n",
    "        c = pd.DataFrame(c[y_label].sort_values()).T\n",
    "        w = 1200\n",
    "        h = 500\n",
    "        title = \"<b>Correlation of Features to Target</b>\"\n",
    "    else:\n",
    "        w = 1000\n",
    "        h = 1000\n",
    "        title = \"<b>Correlation of Features</b>\"\n",
    "    \n",
    "    # plot the correlation matrix\n",
    "    fig = px.imshow(\n",
    "        c, \n",
    "        text_auto=True, \n",
    "        color_continuous_scale = 'RdYlbu',\n",
    "        title = title,\n",
    "        template = 'plotly_white',\n",
    "        width = w,\n",
    "        height= h,\n",
    "    )\n",
    "    fig.show()"
   ]
  },
  {
   "cell_type": "code",
   "execution_count": 13,
   "id": "0dcd62e1",
   "metadata": {
    "execution": {
     "iopub.execute_input": "2024-02-17T19:20:28.148539Z",
     "iopub.status.busy": "2024-02-17T19:20:28.147690Z",
     "iopub.status.idle": "2024-02-17T19:20:28.152406Z",
     "shell.execute_reply": "2024-02-17T19:20:28.151724Z"
    },
    "papermill": {
     "duration": 0.077889,
     "end_time": "2024-02-17T19:20:28.154305",
     "exception": false,
     "start_time": "2024-02-17T19:20:28.076416",
     "status": "completed"
    },
    "tags": []
   },
   "outputs": [],
   "source": [
    "if PLOT:\n",
    "    plot_correlations(X, y, 'Target',True)"
   ]
  },
  {
   "cell_type": "markdown",
   "id": "fe1c0658",
   "metadata": {
    "papermill": {
     "duration": 0.013081,
     "end_time": "2024-02-17T19:20:28.180794",
     "exception": false,
     "start_time": "2024-02-17T19:20:28.167713",
     "status": "completed"
    },
    "tags": []
   },
   "source": [
    "#### Pair Plots: Physical Factors\n",
    "+ There are strong relationships with the target variable and physical attributes such as weight, height, bmi and age"
   ]
  },
  {
   "cell_type": "code",
   "execution_count": 14,
   "id": "5d198578",
   "metadata": {
    "execution": {
     "iopub.execute_input": "2024-02-17T19:20:28.209198Z",
     "iopub.status.busy": "2024-02-17T19:20:28.208580Z",
     "iopub.status.idle": "2024-02-17T19:20:28.213544Z",
     "shell.execute_reply": "2024-02-17T19:20:28.212632Z"
    },
    "papermill": {
     "duration": 0.021617,
     "end_time": "2024-02-17T19:20:28.215675",
     "exception": false,
     "start_time": "2024-02-17T19:20:28.194058",
     "status": "completed"
    },
    "tags": []
   },
   "outputs": [],
   "source": [
    "if PLOT:\n",
    "    # physical factors\n",
    "    numeric_features = ['Age','Height','Weight','risk_bmi','NObeyesdad']\n",
    "    sns.pairplot(data = train[numeric_features],hue= 'NObeyesdad')\n",
    "    "
   ]
  },
  {
   "cell_type": "markdown",
   "id": "abe43bfd",
   "metadata": {
    "papermill": {
     "duration": 0.013078,
     "end_time": "2024-02-17T19:20:28.242695",
     "exception": false,
     "start_time": "2024-02-17T19:20:28.229617",
     "status": "completed"
    },
    "tags": []
   },
   "source": [
    "#### Pair Plots: Consumption Factors"
   ]
  },
  {
   "cell_type": "code",
   "execution_count": 15,
   "id": "2286c52d",
   "metadata": {
    "execution": {
     "iopub.execute_input": "2024-02-17T19:20:28.271193Z",
     "iopub.status.busy": "2024-02-17T19:20:28.270812Z",
     "iopub.status.idle": "2024-02-17T19:20:28.275615Z",
     "shell.execute_reply": "2024-02-17T19:20:28.274497Z"
    },
    "papermill": {
     "duration": 0.021725,
     "end_time": "2024-02-17T19:20:28.277766",
     "exception": false,
     "start_time": "2024-02-17T19:20:28.256041",
     "status": "completed"
    },
    "tags": []
   },
   "outputs": [],
   "source": [
    "if PLOT:\n",
    "    # consumption factors\n",
    "    numeric_features = ['FCVC','NCP','CH2O','FAVC','SCC','risk_consumption','NObeyesdad']\n",
    "    sns.pairplot(data = train[numeric_features],hue= 'NObeyesdad')"
   ]
  },
  {
   "cell_type": "markdown",
   "id": "c2c137d6",
   "metadata": {
    "papermill": {
     "duration": 0.01347,
     "end_time": "2024-02-17T19:20:28.305250",
     "exception": false,
     "start_time": "2024-02-17T19:20:28.291780",
     "status": "completed"
    },
    "tags": []
   },
   "source": [
    "#### Risk Features vs Classification"
   ]
  },
  {
   "cell_type": "code",
   "execution_count": 16,
   "id": "c8995005",
   "metadata": {
    "execution": {
     "iopub.execute_input": "2024-02-17T19:20:28.334593Z",
     "iopub.status.busy": "2024-02-17T19:20:28.334228Z",
     "iopub.status.idle": "2024-02-17T19:20:28.341142Z",
     "shell.execute_reply": "2024-02-17T19:20:28.340036Z"
    },
    "papermill": {
     "duration": 0.02436,
     "end_time": "2024-02-17T19:20:28.343188",
     "exception": false,
     "start_time": "2024-02-17T19:20:28.318828",
     "status": "completed"
    },
    "tags": []
   },
   "outputs": [],
   "source": [
    "if PLOT:\n",
    "    features = list(subset_features_by_type(train, 'float').columns)\n",
    "    features = ['risk_bmi','risk_lifestyle','risk_activity','risk_consumption']\n",
    "\n",
    "    fig, axs = plt.subplots(len(features),2,figsize=(25,20),gridspec_kw=dict(width_ratios=[4,4]))\n",
    "    for row, feature in enumerate(features,0):\n",
    "        sns.kdeplot(data = train, x=feature,hue='NObeyesdad',fill=True,warn_singular=False,ax=axs[row,0]).set_xlabel(feature)\n",
    "        sns.boxplot(data=train, x='NObeyesdad',y=feature,ax=axs[row,1]).set_xlabel('class')\n",
    "\n",
    "    # Title for the complete figure \n",
    "    fig.suptitle(\"Distribution by Features & Class\" , fontsize = 'x-large' ,  fontweight = 'bold' ) \n",
    "    plt.tight_layout()"
   ]
  },
  {
   "cell_type": "markdown",
   "id": "174c7d56",
   "metadata": {
    "papermill": {
     "duration": 0.013577,
     "end_time": "2024-02-17T19:20:28.370338",
     "exception": false,
     "start_time": "2024-02-17T19:20:28.356761",
     "status": "completed"
    },
    "tags": []
   },
   "source": [
    "## Model Training\n",
    "### Plotting & Evaluation Functions"
   ]
  },
  {
   "cell_type": "code",
   "execution_count": 17,
   "id": "97cf640e",
   "metadata": {
    "execution": {
     "iopub.execute_input": "2024-02-17T19:20:28.399314Z",
     "iopub.status.busy": "2024-02-17T19:20:28.398910Z",
     "iopub.status.idle": "2024-02-17T19:20:28.407419Z",
     "shell.execute_reply": "2024-02-17T19:20:28.406511Z"
    },
    "papermill": {
     "duration": 0.02576,
     "end_time": "2024-02-17T19:20:28.409685",
     "exception": false,
     "start_time": "2024-02-17T19:20:28.383925",
     "status": "completed"
    },
    "tags": []
   },
   "outputs": [],
   "source": [
    "def plot_training_metrics(model, model_type, metric='auc'):\n",
    "    \"\"\"\n",
    "    Plot the evalution metric for train/validation datasets against each epoch\n",
    "    Supports xgb, catboost and light gbm models\n",
    "    \"\"\"\n",
    "    # extract train/validation results from the model\n",
    "    if model_type == 'xgb':\n",
    "        d = model.evals_result_\n",
    "        t = d['validation_0'][metric]\n",
    "        v = d['validation_1'][metric]\n",
    "    elif model_type == \"cat\":\n",
    "        d = model.evals_result_\n",
    "        t = d[\"validation_0\"][str(metric)]\n",
    "        v = d[\"validation_1\"][str(metric)]\n",
    "    elif model_type == 'lgb':\n",
    "        d = model.evals_result_\n",
    "        t = d['training'][metric]\n",
    "        v = d['valid_1'][metric]\n",
    "        \n",
    "    # convert to dataframe\n",
    "    df_eval = pd.DataFrame(list(zip(t, v)), columns=[\"train\", \"val\"])\n",
    "    \n",
    "    # create the plot\n",
    "    fig = go.Figure()\n",
    "    fig.add_trace(\n",
    "        go.Scatter(\n",
    "            x=df_eval.index,\n",
    "            y=df_eval.train,\n",
    "            name=\"Training\",\n",
    "            line=dict(color=colors[\"sage\"], width=2),\n",
    "        )\n",
    "    )\n",
    "    fig.add_trace(\n",
    "        go.Scatter(\n",
    "            x=df_eval.index,\n",
    "            y=df_eval.val,\n",
    "            name=\"Validation\",\n",
    "            line=dict(color=colors[\"orange\"], width=2),\n",
    "        )\n",
    "    )\n",
    "    fig.update_layout(\n",
    "        template=\"plotly_white\",\n",
    "        title=f\"<b>Training Metrics: {metric.upper()}</b>\",\n",
    "        width=800,\n",
    "        height=400,\n",
    "    )\n",
    "    fig.show()"
   ]
  },
  {
   "cell_type": "code",
   "execution_count": 18,
   "id": "389be1f6",
   "metadata": {
    "execution": {
     "iopub.execute_input": "2024-02-17T19:20:28.439518Z",
     "iopub.status.busy": "2024-02-17T19:20:28.438447Z",
     "iopub.status.idle": "2024-02-17T19:20:28.446654Z",
     "shell.execute_reply": "2024-02-17T19:20:28.445680Z"
    },
    "papermill": {
     "duration": 0.025185,
     "end_time": "2024-02-17T19:20:28.448600",
     "exception": false,
     "start_time": "2024-02-17T19:20:28.423415",
     "status": "completed"
    },
    "tags": []
   },
   "outputs": [],
   "source": [
    "def get_feature_importance(model, model_type, importance_type, normalize=True):\n",
    "    \"\"\"\n",
    "    Extract the feature importance from a trained model\n",
    "    model: trained  model\n",
    "    model_type: model name (xgb, lgbm, cat)\n",
    "    importance_type: weight, gain, cover (only applies to xgb)\n",
    "    \"\"\"\n",
    "\n",
    "    # extract feature importance for each cv\n",
    "    if model_type == \"xgb\":\n",
    "        scores = model.get_booster().get_score(importance_type=importance_type)\n",
    "        df = pd.DataFrame(dict(feature=scores.keys(),score=scores.values()))\n",
    "    elif model_type == \"lgb\":\n",
    "        # importance_type is set during model training=> importance_type='gain','split'\n",
    "        names = model.feature_name_\n",
    "        scores = model.feature_importances_\n",
    "        df = pd.DataFrame(dict(feature=names,score=scores))\n",
    "    elif model_type == \"cat\":\n",
    "        # only weight is available. Gain requires that training dataset and is calculated post-training\n",
    "        df = (\n",
    "             model.get_feature_importance(prettified=True)\n",
    "            .rename(columns={'Feature Id':'feature','Importances':'score'})\n",
    "        )\n",
    "    else:\n",
    "        print(f\"Model not recognized:{model_type} (get_feature_importances)\")\n",
    "        df = None\n",
    "    \n",
    "    # normalize the score out of 100%\n",
    "    if normalize:\n",
    "        df['score'] = df[\"score\"] / df[\"score\"].sum()\n",
    "        \n",
    "    # sort\n",
    "    df.sort_values(by=\"score\", ascending=True, inplace=True)\n",
    "    \n",
    "    return df"
   ]
  },
  {
   "cell_type": "code",
   "execution_count": 19,
   "id": "de7c6b3c",
   "metadata": {
    "execution": {
     "iopub.execute_input": "2024-02-17T19:20:28.478020Z",
     "iopub.status.busy": "2024-02-17T19:20:28.477395Z",
     "iopub.status.idle": "2024-02-17T19:20:28.484100Z",
     "shell.execute_reply": "2024-02-17T19:20:28.483386Z"
    },
    "papermill": {
     "duration": 0.023685,
     "end_time": "2024-02-17T19:20:28.486063",
     "exception": false,
     "start_time": "2024-02-17T19:20:28.462378",
     "status": "completed"
    },
    "tags": []
   },
   "outputs": [],
   "source": [
    "def plot_feature_importance(model, model_type, importance_type, normalize=True, top_n=None):\n",
    "    \"\"\"\n",
    "    Plot a bar chart of feature importance\n",
    "    Params:\n",
    "        df_importance: a dataframe with the output from calc_feature_importance\n",
    "    \"\"\"\n",
    "    # get feature importance\n",
    "    df = get_feature_importance(model, model_type, importance_type, normalize)\n",
    "\n",
    "    # filter by the top-n features & resort\n",
    "    if top_n is not None:\n",
    "        df = df.nlargest(top_n, \"score\")\n",
    "        df.sort_values(by=\"score\", ascending=True, inplace=True)\n",
    "\n",
    "    # create plot\n",
    "    fig = go.Figure()\n",
    "\n",
    "    # create the plot of feature importance\n",
    "    fig.add_trace(\n",
    "        go.Bar(\n",
    "            name=\"Importance\",\n",
    "            x=df.score,\n",
    "            y=df.feature,\n",
    "            orientation=\"h\",\n",
    "            marker=dict(color=colors[\"sage\"]),\n",
    "        )\n",
    "    )\n",
    "    fig.update_layout(\n",
    "        title=f\"<b>Feature Importance for the {model_type} model</b><br>Calculated using feature {importance_type}\",\n",
    "        template=\"plotly_white\",\n",
    "        width=500,\n",
    "        height=500,\n",
    "        yaxis=dict(type=\"category\", tickmode=\"linear\"),\n",
    "    )\n",
    "    fig.show()"
   ]
  },
  {
   "cell_type": "code",
   "execution_count": 20,
   "id": "4cf746ce",
   "metadata": {
    "execution": {
     "iopub.execute_input": "2024-02-17T19:20:28.516335Z",
     "iopub.status.busy": "2024-02-17T19:20:28.515970Z",
     "iopub.status.idle": "2024-02-17T19:20:28.521514Z",
     "shell.execute_reply": "2024-02-17T19:20:28.520565Z"
    },
    "papermill": {
     "duration": 0.023315,
     "end_time": "2024-02-17T19:20:28.523761",
     "exception": false,
     "start_time": "2024-02-17T19:20:28.500446",
     "status": "completed"
    },
    "tags": []
   },
   "outputs": [],
   "source": [
    "def submit_predictions(ids, y_pred, decode=True,filename='submission.csv'):\n",
    "    \n",
    "    # assemble the submission data, decode the target variable back to strings\n",
    "    df_submission = pd.DataFrame(zip(ids,y_pred),columns = ['id','Target'])\n",
    "    \n",
    "    # decode the classification\n",
    "    if decode:\n",
    "        df_submission = encode_target_variable(df_submission,'decode')\n",
    "        df_submission.to_csv(f\"/kaggle/working/{filename}\",index=False)\n",
    "    else:\n",
    "        df_submission.to_csv(f\"/kaggle/working/{filename}\",index=False)\n"
   ]
  },
  {
   "cell_type": "markdown",
   "id": "8463e5e0",
   "metadata": {
    "papermill": {
     "duration": 0.013071,
     "end_time": "2024-02-17T19:20:28.550635",
     "exception": false,
     "start_time": "2024-02-17T19:20:28.537564",
     "status": "completed"
    },
    "tags": []
   },
   "source": [
    "## Individual Models\n",
    "### XGBoost\n",
    "#### XGB Hyperparameter Tuning"
   ]
  },
  {
   "cell_type": "code",
   "execution_count": 21,
   "id": "0e302d99",
   "metadata": {
    "execution": {
     "iopub.execute_input": "2024-02-17T19:20:28.579161Z",
     "iopub.status.busy": "2024-02-17T19:20:28.578753Z",
     "iopub.status.idle": "2024-02-17T19:20:28.587835Z",
     "shell.execute_reply": "2024-02-17T19:20:28.587095Z"
    },
    "papermill": {
     "duration": 0.025744,
     "end_time": "2024-02-17T19:20:28.589701",
     "exception": false,
     "start_time": "2024-02-17T19:20:28.563957",
     "status": "completed"
    },
    "tags": []
   },
   "outputs": [],
   "source": [
    "def objective(trial):\n",
    "    #XGB params to tune\n",
    "    params = {\n",
    "        'objective'        :'multi:softprob',\n",
    "        'tree_method'      :'auto',\n",
    "        'eval_metric'      :'mlogloss',\n",
    "        'random_state'     : RANDOM,\n",
    "        'n_estimators'     : trial.suggest_int('n_estimators',100,1000),\n",
    "        'learning_rate'    : trial.suggest_loguniform('learning_rate', 0.01, 0.3),  \n",
    "        'max_depth'        : trial.suggest_int('max_depth',3, 15),\n",
    "        'min_child_weight' : trial.suggest_int('min_child_weight',2,20),\n",
    "        'gamma'            : trial.suggest_float('gamma', 0, 1.0), \n",
    "        'subsample'        : trial.suggest_float('subsample', 0.5, 0.9), \n",
    "        'colsample_bytree' : trial.suggest_float('colsample_bytree', 0.5, 0.9), \n",
    "        'lambda'           : trial.suggest_float('lambda', 0.0, 3.0),\n",
    "        'alpha'            : trial.suggest_float('alpha', 0.0, 3.0),\n",
    "    }\n",
    "    # model\n",
    "    xgb = XGBClassifier(**params)\n",
    "\n",
    "    # use stratified kfold to evalute each set of model weights\n",
    "    skf= StratifiedKFold(n_splits=3, shuffle=True, random_state=RANDOM)\n",
    "\n",
    "    # Calculate the auc for each set of model weights\n",
    "    acc = cross_val_score(xgb, X_train, y_train, cv=skf, scoring='accuracy').mean()\n",
    "    \n",
    "    return acc\n",
    "\n",
    "\n",
    "\n",
    "if XGB and TUNE:\n",
    "    # Optimize Hyperparameters\n",
    "    # =====================================================================================================\n",
    "    # create the study and run the optimization\n",
    "    study = optuna.create_study(study_name='xgb-optimization',direction='maximize', sampler=optuna.samplers.TPESampler(seed=RANDOM))\n",
    "    study.optimize(objective, n_trials=200)\n",
    "\n",
    "    # get the best weights from the optimization\n",
    "    xgb_best = study.best_params\n",
    "    print(study.best_value)\n",
    "    print(xgb_best)\n",
    "\n",
    "    # clear some memmory\n",
    "    gc.collect()\n",
    "    \n",
    "    # plot optimization\n",
    "    plot_param_importances(study).show()\n",
    "    plot_optimization_history(study).show()\n",
    "    "
   ]
  },
  {
   "cell_type": "markdown",
   "id": "c3e56288",
   "metadata": {
    "papermill": {
     "duration": 0.01338,
     "end_time": "2024-02-17T19:20:28.617041",
     "exception": false,
     "start_time": "2024-02-17T19:20:28.603661",
     "status": "completed"
    },
    "tags": []
   },
   "source": [
    "#### XGBoost Evaluation"
   ]
  },
  {
   "cell_type": "code",
   "execution_count": 22,
   "id": "296620c3",
   "metadata": {
    "execution": {
     "iopub.execute_input": "2024-02-17T19:20:28.645280Z",
     "iopub.status.busy": "2024-02-17T19:20:28.644869Z",
     "iopub.status.idle": "2024-02-17T19:20:51.037718Z",
     "shell.execute_reply": "2024-02-17T19:20:51.036875Z"
    },
    "papermill": {
     "duration": 22.410669,
     "end_time": "2024-02-17T19:20:51.041022",
     "exception": false,
     "start_time": "2024-02-17T19:20:28.630353",
     "status": "completed"
    },
    "tags": []
   },
   "outputs": [
    {
     "data": {
      "text/html": [
       "        <script type=\"text/javascript\">\n",
       "        window.PlotlyConfig = {MathJaxConfig: 'local'};\n",
       "        if (window.MathJax && window.MathJax.Hub && window.MathJax.Hub.Config) {window.MathJax.Hub.Config({SVG: {font: \"STIX-Web\"}});}\n",
       "        if (typeof require !== 'undefined') {\n",
       "        require.undef(\"plotly\");\n",
       "        requirejs.config({\n",
       "            paths: {\n",
       "                'plotly': ['https://cdn.plot.ly/plotly-2.27.0.min']\n",
       "            }\n",
       "        });\n",
       "        require(['plotly'], function(Plotly) {\n",
       "            window._Plotly = Plotly;\n",
       "        });\n",
       "        }\n",
       "        </script>\n",
       "        "
      ]
     },
     "metadata": {},
     "output_type": "display_data"
    },
    {
     "data": {
      "text/html": [
       "<div>                            <div id=\"6fb0769f-7214-45d8-bda9-7cb5016bf846\" class=\"plotly-graph-div\" style=\"height:400px; width:800px;\"></div>            <script type=\"text/javascript\">                require([\"plotly\"], function(Plotly) {                    window.PLOTLYENV=window.PLOTLYENV || {};                                    if (document.getElementById(\"6fb0769f-7214-45d8-bda9-7cb5016bf846\")) {                    Plotly.newPlot(                        \"6fb0769f-7214-45d8-bda9-7cb5016bf846\",                        [{\"line\":{\"color\":\"#53808D\",\"width\":2},\"name\":\"Training\",\"x\":[0,1,2,3,4,5,6,7,8,9,10,11,12,13,14,15,16,17,18,19,20,21,22,23,24,25,26,27,28,29,30,31,32,33,34,35,36,37,38,39,40,41,42,43,44,45,46,47,48,49,50,51,52,53,54,55,56,57,58,59,60,61,62,63,64,65,66,67,68,69,70,71,72,73,74,75,76,77,78,79,80,81,82,83,84,85,86,87,88,89,90,91,92,93,94,95,96,97,98,99,100,101,102,103,104,105,106,107,108,109,110,111,112,113,114,115,116,117,118,119,120,121,122,123,124,125,126,127,128,129,130,131,132,133,134,135,136,137,138,139,140,141,142,143,144,145,146,147,148,149,150,151,152,153,154,155,156,157,158,159,160,161,162,163,164,165,166,167,168,169,170,171,172,173,174,175,176,177,178,179,180,181,182,183,184,185,186,187,188,189,190,191,192,193,194,195,196,197,198,199,200,201,202,203,204,205,206,207,208,209,210,211,212,213,214,215,216,217,218,219,220,221,222,223,224,225,226,227,228,229,230,231,232,233,234,235,236,237,238,239,240,241,242,243,244,245,246,247,248,249,250,251,252,253,254,255,256,257,258,259,260,261,262,263,264,265,266,267,268,269,270,271,272,273,274,275,276,277,278,279,280,281,282,283,284,285,286,287,288,289,290,291,292,293,294,295,296,297,298,299,300,301,302,303,304,305,306,307,308,309,310,311,312,313,314,315,316,317,318,319,320,321,322,323,324,325,326,327,328,329,330,331,332,333,334,335,336,337,338,339,340,341,342,343,344,345,346,347,348,349,350,351,352,353,354,355,356,357,358,359,360,361,362,363,364,365,366,367,368,369,370,371,372,373,374,375,376,377,378,379,380,381,382,383,384,385,386,387,388,389,390,391,392,393,394,395,396,397,398,399,400,401,402,403,404,405,406,407,408,409,410,411,412,413,414,415,416,417,418,419,420,421,422,423,424,425,426,427,428,429,430,431,432,433,434,435,436,437,438,439,440,441,442,443,444,445,446,447,448,449,450,451,452,453,454,455,456,457,458,459,460,461,462,463,464,465,466,467,468,469,470,471,472,473,474,475,476,477,478,479,480,481,482,483,484,485,486,487,488,489,490,491,492,493,494,495,496,497,498,499,500,501,502,503,504,505,506,507,508,509,510,511,512,513,514,515,516,517,518,519,520,521,522,523,524,525,526,527,528,529,530,531,532,533,534,535,536,537,538,539,540,541,542,543,544,545,546,547,548,549,550,551,552,553,554,555,556,557,558,559,560,561,562,563,564,565,566,567,568,569,570,571,572,573,574,575,576,577,578,579,580,581,582,583,584,585,586,587,588,589,590,591,592,593,594,595,596,597,598,599,600,601,602,603,604,605,606,607,608,609,610,611,612,613,614,615,616,617,618,619,620,621,622,623,624,625,626,627,628,629,630,631,632,633,634,635,636,637,638,639,640,641,642,643,644,645,646,647,648,649,650,651,652,653,654,655,656,657,658,659,660,661,662,663,664,665,666,667,668,669,670,671,672,673,674,675,676,677,678,679,680,681,682,683,684,685,686,687,688,689,690,691,692,693,694,695,696,697,698,699,700,701,702,703,704,705,706,707,708,709,710,711,712,713,714,715,716,717,718,719,720,721,722,723,724,725,726,727,728,729,730,731,732,733,734,735,736,737,738,739,740,741,742,743,744,745,746,747,748,749,750,751,752,753,754,755,756,757,758,759,760,761,762,763,764,765,766,767,768,769,770,771,772,773,774,775,776,777,778,779,780,781,782,783,784,785,786,787,788,789,790,791,792,793,794,795,796,797,798,799,800,801,802,803,804,805,806,807,808,809,810,811,812,813,814,815,816,817,818,819,820,821,822,823,824,825,826,827,828,829,830,831,832,833,834,835,836,837,838,839,840,841,842,843,844,845,846,847,848,849,850,851,852,853,854,855,856,857,858,859,860,861,862,863,864,865,866,867,868,869,870,871,872,873,874,875,876,877,878,879,880,881,882,883,884,885,886,887,888,889,890,891],\"y\":[1.8976159482105057,1.845740749632981,1.7966700026544915,1.756000388814,1.7200518077287092,1.6855398101928225,1.6439532252690234,1.6041773880015946,1.5695765478902166,1.5362538105942118,1.5081248260426245,1.4749950060217718,1.4445008325104538,1.4130084701559167,1.3831033073569523,1.3551613519399948,1.3282648268610102,1.3084242458050244,1.2867938056767547,1.2611898955004197,1.240593829622517,1.2187531758063104,1.197965028305418,1.1786075732064314,1.1569295166703224,1.1396601100599617,1.1219193140339554,1.1036742156810535,1.084099326784174,1.06865879826445,1.0505896205582748,1.0354062237398294,1.0194310174093488,1.0034478085650007,0.9902733043863519,0.9750952386613434,0.9593283130782625,0.9448996016274241,0.9293286645795982,0.9179659498047061,0.905871558421601,0.8912983799357727,0.8786184123834861,0.8668610351785943,0.8546546632878549,0.8436169530042649,0.8321574878662622,0.8208229290686334,0.8098922441037799,0.798351153987363,0.7874401037891706,0.7771096535778771,0.7669038913131386,0.7567938020891918,0.7471137942383863,0.7368541083289043,0.7275994031101589,0.7191613044049188,0.7107607918600072,0.701444189856104,0.693349432807622,0.6863160956643635,0.6778149839272957,0.670109796479041,0.6624520773728089,0.6560128085245108,0.6476841252904592,0.6399295785855506,0.6335032725016511,0.6265685169825697,0.6200590705742433,0.6140632446986577,0.6072956469390214,0.601428822878219,0.5949224204030463,0.5892909428719932,0.5826022486100705,0.577125265481736,0.5714453329163194,0.5659338672730797,0.5603448501597494,0.5548072308994965,0.5493415301801418,0.5438941419393666,0.5391943566264692,0.5343307172914229,0.5296313844900028,0.5249020023800189,0.5199766931266512,0.5150357590542695,0.5101371325909583,0.5061620522790272,0.5016038947746657,0.49797894628496314,0.4939528612689433,0.4898322953025813,0.4859035800466537,0.48218566692858433,0.4783087984586824,0.47387242793847706,0.4700215389305091,0.4668153201295709,0.4632893963053441,0.4593042239235316,0.45581484659544147,0.4523613774008734,0.44873523566619944,0.44497391736042347,0.4417977333574359,0.43829571701623754,0.4350882465715715,0.431799791439386,0.4284827414065156,0.4252105333884531,0.4223126913886619,0.4191350670367101,0.41602310848936624,0.4133384460467143,0.41062726642961744,0.4080889961543856,0.4053953016720244,0.40301045156447846,0.4004480463621209,0.3977064815838877,0.39535251738612426,0.39282752906719764,0.39042119944089415,0.38790231977293255,0.38552055324813644,0.3830381711518107,0.380841262959813,0.378744111571059,0.376627764027198,0.3748522610569723,0.3728479361465304,0.37095537757173647,0.368737538240183,0.3668495191717355,0.3649681337095404,0.362822233815652,0.36104033232056476,0.3590629981946087,0.35717169687593825,0.35527720163817034,0.353337296453103,0.35163835422204176,0.34992609354595006,0.348209102217554,0.3466524583595124,0.34477786572772784,0.34308885776964326,0.34145900087227643,0.33978014158520786,0.3382308726052414,0.3369369541606129,0.33540512114750215,0.33382972292920043,0.33229037331738037,0.33069125743504163,0.3292000399558797,0.32769624560294375,0.3263144477958079,0.32500391138660867,0.32377012710652237,0.32232747751400836,0.3211271060970268,0.3199087739071095,0.3184915412835814,0.3174087906806265,0.31624424034877585,0.3150927711212565,0.3137799012871175,0.3124536854775717,0.31124189574863376,0.310075692587664,0.30881400531902664,0.3075954573284806,0.3064609689598882,0.3053421606844779,0.30420252178987445,0.30316484138972094,0.302105956462502,0.30092325090993466,0.29994875729890386,0.29893670923531734,0.2979477295345464,0.2969922226342858,0.2959864943439716,0.29512870131088204,0.29413686447735476,0.2932257878501967,0.29228172868029145,0.2912766751238062,0.290282743737859,0.2893230643631549,0.2884123793509225,0.2875291363612954,0.28668145112743043,0.2858242993837218,0.2849760335386183,0.28407170575619245,0.28327067711613346,0.28246768557615975,0.28171828527653353,0.2808711853980672,0.2801157288012986,0.2792410021298234,0.2785481187987043,0.2777137973674602,0.27697924229922416,0.276229301791228,0.2754490451750069,0.274602847778283,0.273905780305505,0.2731276867477255,0.27245542584148147,0.27171768843116634,0.27100632027043103,0.27033969993627854,0.2696108603304748,0.26891989989795684,0.26827989652083073,0.2676637548984176,0.26699872321488355,0.26638338122610433,0.2657756020785239,0.2651334574041877,0.2644600983350143,0.2638681995284736,0.26324242103318374,0.2625821760137504,0.26193521785647456,0.2613961527279064,0.2607390080152304,0.2601378038535773,0.25956921846611747,0.25898287485390953,0.2583809507735364,0.25781366052724664,0.25727139344883476,0.25668778857268215,0.25613882474668126,0.2556167692557535,0.2551545254182104,0.2546671723714455,0.25414072125290965,0.25364302959786206,0.25306479274334,0.25261500613468574,0.25216912301080935,0.25169800899870465,0.2511669592189397,0.2507011907395427,0.250231808753475,0.24981382030295157,0.24931691709736067,0.24886116293385038,0.24834912771306192,0.2478123751264255,0.24730101278069366,0.24686170655000417,0.24639884806185627,0.2459451313845815,0.24551535340579536,0.24506894638124893,0.24459949654199242,0.24421010415516056,0.24380788556182897,0.24331550246887224,0.2428761950158346,0.2424581002826831,0.24198329052159145,0.241548808852687,0.24116865011878597,0.2407647778160734,0.24035759912636115,0.23995382918400515,0.23960306440553128,0.23916948166725602,0.23882276131416832,0.2384818439204688,0.23810090751738897,0.23765283155718336,0.23725337827503584,0.23679452817815216,0.23642203278993892,0.2360496396612603,0.23564818649494976,0.23526156512171628,0.23489944519514647,0.23452157967196585,0.2341163005072366,0.23376223830232862,0.23342277205211426,0.23308679896014856,0.2327185948265445,0.2324163488527806,0.2320845252103257,0.23172742734873342,0.23136284159340798,0.2310351564209881,0.23070882013960198,0.23031292181375368,0.2299821842802484,0.22962682414773175,0.2292701866446439,0.2289208740080013,0.22853441579964448,0.2281962802298105,0.2278846638002964,0.22756063977382948,0.22724054621865933,0.22694458380319313,0.22654639646488858,0.22624047737192338,0.22597555505684283,0.2257077434244373,0.2254137659948521,0.22511311888441854,0.22482186147496638,0.22445862852405385,0.22415702031728568,0.22385756719559244,0.22350493124787843,0.22321300093339316,0.222875300174162,0.22257339948343977,0.22229248114382943,0.2220332594748537,0.2217123144789128,0.22140233796993386,0.22113121354306145,0.22081566516761827,0.2205139327007561,0.2202058909743214,0.21992350062432092,0.21966420977987805,0.21942865079496904,0.2191665248323811,0.2188860860559432,0.21862352371596125,0.2183503589114524,0.21810921622010077,0.21782071428370603,0.21757726384151568,0.21731188660138465,0.21705443080990167,0.21676049124943841,0.2165440785289572,0.2163250488600458,0.21605680686422252,0.21579596434284826,0.21553047022384889,0.2152760389722787,0.21502380252808495,0.2147827186278977,0.21454921110863034,0.21431390866174396,0.2140714680170941,0.21384692217242354,0.2135677940324325,0.21331067772150655,0.213102376838231,0.212865575961868,0.21260653274156682,0.2123668611950514,0.21216997456814626,0.2118834547327225,0.2116095616321194,0.21138577074909806,0.21107604723788279,0.21081790524484637,0.2105943974973663,0.21036182020791358,0.2101194281287154,0.20992133803378868,0.20967397863423654,0.20945580844264505,0.20918117713763176,0.20896560454232782,0.20872407781015517,0.20848563940274578,0.20826138626176988,0.20802357692462337,0.20779439002808062,0.20751928352136095,0.20725389160420454,0.20703329151872443,0.20683680316581474,0.2066164007918466,0.20640141139983118,0.20617795354877594,0.20594705678349837,0.20571825932657856,0.20544828513566887,0.20525023084959446,0.20504119186861003,0.20484937666121164,0.2046421281707192,0.20442312186457803,0.20423882034743598,0.2040375745039804,0.2038345909709932,0.2036103328509819,0.20339216111421846,0.20313298455656847,0.20295395589444234,0.2027148789841734,0.20249312668160627,0.20227893486759235,0.20211407524412237,0.20187267650754492,0.20169003501307925,0.20148726191986396,0.20126956652069708,0.2010677590752822,0.20079496917016337,0.20058750284482527,0.2003911435547404,0.20018416356415508,0.199989027432416,0.19974974424902578,0.19956011645437913,0.19936604841189157,0.19914256501496028,0.19886754542022794,0.1986632676714088,0.19844943676557225,0.19826754783412304,0.19809323496932146,0.19785804854898287,0.19768224911664944,0.19749810198541964,0.19724079474520934,0.19705001354090018,0.19684770166432872,0.19662917682597603,0.1964024221850191,0.19619655596569202,0.1959701700649641,0.19578434900985756,0.1956381731982174,0.19543198098431197,0.19520562117934026,0.19501911078797673,0.19478553202390833,0.1945641887947241,0.19434355666842046,0.19415135222746366,0.1939856244155196,0.19382653392811772,0.19364521627322773,0.1934822711124585,0.1933131942968567,0.19312577184018873,0.1929190831012055,0.19271895116866705,0.192541227170234,0.1923023423355639,0.1921399359550895,0.19197865469552003,0.19180667597140283,0.19162246850483994,0.19140605610058659,0.1912360233045322,0.1910704278711635,0.1908773890243366,0.19068967357459818,0.19051990820314754,0.19031837807190907,0.1901536968606654,0.18999116870862737,0.18982977900929396,0.18966361521669858,0.18947913087964777,0.1892892231722106,0.18912194559164572,0.18896111583974848,0.18876442397022417,0.18857322742303578,0.18838376302075216,0.188171998256159,0.18801884622033688,0.18785099789900925,0.18766276796603723,0.18750233621164586,0.18732697392803918,0.18716588501300507,0.18698960298334055,0.1868381540962957,0.18666740793718137,0.1864927331902401,0.18629537342748456,0.18609564334016757,0.1859395132523269,0.1857550442307433,0.18557065638445966,0.18541192937489193,0.18523024551382702,0.1850256858501538,0.18484731619378098,0.1846888886061854,0.18445489916711888,0.18427763764566596,0.18412115101560947,0.18391225421133872,0.18376832926177067,0.18357223731188588,0.1833624822815736,0.18324876150792094,0.18313248189708026,0.18297718110533318,0.18283004786246004,0.18265407257904695,0.18250192297142095,0.18229777591745147,0.18212060435665034,0.1820147111986223,0.1818429146439458,0.18169022141394292,0.18153147379269083,0.1813822407042891,0.18117356575637766,0.18099293968285615,0.18079294151011316,0.18064065575039537,0.18049784410104494,0.18038035135892747,0.1802417391291274,0.18005075092899642,0.1798635250373046,0.17970206306547973,0.1795277970683825,0.17933435316295504,0.17919097198642192,0.17899227752107166,0.1788313948048466,0.17862297404190766,0.1784831029159062,0.17835792884448162,0.17819858239733094,0.17800733357549717,0.1778171056230918,0.1776444547233065,0.17749300447964034,0.1773215088067871,0.17718928634077546,0.17703415203927725,0.1768545846005779,0.17668895238299157,0.1765554922863866,0.17641878573730038,0.17624733013408847,0.17610718021996938,0.17593029285919853,0.17575451426469813,0.17561262595743574,0.17547581062662673,0.17531242197862834,0.17518303830797563,0.17504497477864375,0.17490085490753915,0.17474684716364253,0.17458751654668883,0.1744517253132393,0.17429869654011101,0.17413372836039331,0.17398400107376474,0.17380327270438295,0.1736843086311383,0.17353830449971672,0.17337814449435604,0.1732135338156722,0.1730380465830041,0.1729469622886777,0.17281090264529667,0.172637278785622,0.1724839459124757,0.17233715087183324,0.17218261017942457,0.17207238288084803,0.17191902511161458,0.17178388668685035,0.1716132116942286,0.17146082503695537,0.17128470367615972,0.17114492651726057,0.17101195223258012,0.17084196641741348,0.1706451859113303,0.17052071483187636,0.17036493385326368,0.17018644794003487,0.170046187457783,0.16992202027985387,0.16978942342710784,0.16966522988531083,0.16954942718406785,0.16940167383775015,0.16921496573052006,0.16908901012410996,0.16893964051636057,0.1688129664079951,0.1686776430438033,0.16854312595846402,0.16839033658071895,0.1682668211194413,0.16811775400128284,0.16800376815439333,0.16784135871571323,0.16766989728338752,0.16752561232970015,0.16742285006615798,0.16730341295968992,0.1671856308976599,0.1670598884035443,0.16695054656590677,0.16680416232827883,0.16669206638165868,0.16653108117789828,0.16641182298443083,0.1662395735116244,0.16611337515703517,0.16599423664512883,0.16580665769104705,0.16565917988599746,0.16548265820019767,0.1653507213859944,0.1652316559614008,0.1651215405072984,0.16496744942246053,0.16481076823838856,0.1646810650046661,0.16455595300935347,0.16441933784522159,0.164276295739353,0.1641166433704129,0.16396634400137022,0.1638312066503193,0.16369790500003376,0.163554157333643,0.1633931062903417,0.16323210924808074,0.16313223251928446,0.16301523853023409,0.16286859415498384,0.1627207311365192,0.16260876921091716,0.16247106466985178,0.16235761712432978,0.16221774081788629,0.16204953648483802,0.16192898622882074,0.16178876909473294,0.16165742319353055,0.16152843941911327,0.16140083208434297,0.16126539504630638,0.1611472615823677,0.161002157507136,0.16088013499005682,0.1607566131894327,0.16060583533948886,0.16048159558302258,0.16036203340726066,0.16022956251357184,0.16014228619390206,0.1600404020774845,0.15993184233522695,0.1598236731164592,0.15966786867023572,0.159552842397065,0.1594157565825946,0.15932482196004552,0.15920519432781255,0.15909110838561794,0.15895002050526788,0.15881918460578456,0.15867653983892224,0.15851668335881555,0.15841534951523661,0.15829447418590398,0.158160503706347,0.15803188353835748,0.15792025237852192,0.1578079673771184,0.15766728216455364,0.15752370726454307,0.1574014030026648,0.1572709692117364,0.15715909272302278,0.15705131567284697,0.15692640760497542,0.1567980948924028,0.15666278007663237,0.15654714164313097,0.15641355725039535,0.1562417915396386,0.15613627297741928,0.1559824583038551,0.15586432047031612,0.15577238929000428,0.15564126694485772,0.15552078756262022,0.1553945169982594,0.15526473965700804,0.1550996434169719,0.15498238578770676,0.15487390761446865,0.1547629591156178,0.15459621890179187,0.15446767392308258,0.15436527268655126,0.15423355246133996,0.15412853169195798,0.15403026219138297,0.15390872424780663,0.1538083741503421,0.15370604392368792,0.15358310900443808,0.15349511387862527,0.15337099849792546,0.15325478387992572,0.15315400393829187,0.1530712168827836,0.15291341243754203,0.15282544283248453,0.15270534662232962,0.15259120426221515,0.15247522007254413,0.15237088692413925,0.15223383818742056,0.15211574048614046,0.15198188445013072,0.15185406555055375,0.1517323650640104,0.15161731543959087,0.15150526089005312,0.1513722722997408,0.1512241557552018,0.15110701838661397,0.1510162860461359,0.15089655724818685,0.15081148205114764,0.15070292149394898,0.15060049909630815,0.1504825540026045,0.15036296070940994,0.15023853783707394,0.15012359294936278,0.15000052456196336,0.14986919117376585,0.1497573091356639,0.1496400563276391,0.1495286311344054,0.14940675909672443,0.1492981779521472,0.14918031184735292,0.14906790454865923,0.14891023582577287,0.14879421530092463,0.1486805384713098,0.1485899683033583,0.14847188879549517,0.1483687016762831,0.14826060880372816,0.14813372087311805,0.14803517293212393,0.147908223466186,0.14778058325469826,0.14767354159519014,0.1475771149296245,0.14746362867670193,0.1473850907502457,0.1472629358688194,0.14716438841870358,0.1470393196498615,0.1469257592497422,0.14683056001841108,0.14670614493607853,0.14662171229558027,0.14653875780147438,0.14641228647369486,0.14627654041638627,0.146171548132714,0.14605206262191317,0.1459478921422085,0.14583680743723484,0.14571670480260798,0.14558585112979275,0.1454795487425439,0.14536909336547751,0.1452597096477544,0.1451656374394485,0.14507594845985125,0.14497442231867,0.14484813774259875,0.14471225074225022,0.1446269835836762,0.14449257303813517,0.14440379380170235,0.1442937000674983,0.1442105431534648,0.1441166711737907,0.1439925859022349,0.14389704454801164,0.14375897926600126,0.14366687305016954,0.14354429519458436,0.14343838130980588,0.1433553624807906,0.14324828250846322,0.14316075395108113,0.14304865147367157,0.1429404886944663,0.1428400753275655,0.14271695776803903,0.14262280590600082,0.14248326810807055,0.14238828601761772,0.14228215359873134,0.14219405280708275,0.14211344534091733,0.14200687987502736,0.14190562238694568,0.14181233383483052,0.14169032694433853,0.14160596377667176,0.14149899949335837,0.14138680618888796,0.14129481414926978,0.14119847450649736,0.14110131123021502,0.1409914911226739,0.14089554759974052,0.14078929978509752,0.140732210520026,0.14063902665323086,0.14052596339618312,0.14040991801609637,0.1402998874495687,0.14018673867446596,0.14007476156917958,0.1399616333010441,0.13985471892705886,0.1397571841625773,0.1396629194272622,0.13953539235640855,0.13941565982113893,0.13934003613565282,0.1392759475666756,0.13919216036445173,0.13911521508647368,0.1390276410402401,0.13894292914227044,0.13883670015988153,0.13874319429401202,0.1386396196486814,0.1385413099075788,0.13843961637551683,0.13832212812935474,0.13823075647140565,0.13813798041572983,0.13804669243821216,0.13794337993196787,0.13786146392877868,0.13776791434009855,0.13768345491001363,0.1375708524380156,0.13744462313293745,0.13738047501447115,0.13730002598476346,0.13719965873166695,0.1371190641263737,0.13700164668347678,0.13690263021487573,0.13679203875179716,0.13671174155687965,0.13663144236729236,0.13654842545227672,0.13645701913200553,0.136369531336777,0.13627071622223988,0.13618291834257196,0.13607441287325123,0.1359863313168208,0.13589514039310108,0.1358137861522082,0.13571878357950834,0.13563546280132313,0.13553759301980145,0.1354451513922073],\"type\":\"scatter\"},{\"line\":{\"color\":\"#FC4C02\",\"width\":2},\"name\":\"Validation\",\"x\":[0,1,2,3,4,5,6,7,8,9,10,11,12,13,14,15,16,17,18,19,20,21,22,23,24,25,26,27,28,29,30,31,32,33,34,35,36,37,38,39,40,41,42,43,44,45,46,47,48,49,50,51,52,53,54,55,56,57,58,59,60,61,62,63,64,65,66,67,68,69,70,71,72,73,74,75,76,77,78,79,80,81,82,83,84,85,86,87,88,89,90,91,92,93,94,95,96,97,98,99,100,101,102,103,104,105,106,107,108,109,110,111,112,113,114,115,116,117,118,119,120,121,122,123,124,125,126,127,128,129,130,131,132,133,134,135,136,137,138,139,140,141,142,143,144,145,146,147,148,149,150,151,152,153,154,155,156,157,158,159,160,161,162,163,164,165,166,167,168,169,170,171,172,173,174,175,176,177,178,179,180,181,182,183,184,185,186,187,188,189,190,191,192,193,194,195,196,197,198,199,200,201,202,203,204,205,206,207,208,209,210,211,212,213,214,215,216,217,218,219,220,221,222,223,224,225,226,227,228,229,230,231,232,233,234,235,236,237,238,239,240,241,242,243,244,245,246,247,248,249,250,251,252,253,254,255,256,257,258,259,260,261,262,263,264,265,266,267,268,269,270,271,272,273,274,275,276,277,278,279,280,281,282,283,284,285,286,287,288,289,290,291,292,293,294,295,296,297,298,299,300,301,302,303,304,305,306,307,308,309,310,311,312,313,314,315,316,317,318,319,320,321,322,323,324,325,326,327,328,329,330,331,332,333,334,335,336,337,338,339,340,341,342,343,344,345,346,347,348,349,350,351,352,353,354,355,356,357,358,359,360,361,362,363,364,365,366,367,368,369,370,371,372,373,374,375,376,377,378,379,380,381,382,383,384,385,386,387,388,389,390,391,392,393,394,395,396,397,398,399,400,401,402,403,404,405,406,407,408,409,410,411,412,413,414,415,416,417,418,419,420,421,422,423,424,425,426,427,428,429,430,431,432,433,434,435,436,437,438,439,440,441,442,443,444,445,446,447,448,449,450,451,452,453,454,455,456,457,458,459,460,461,462,463,464,465,466,467,468,469,470,471,472,473,474,475,476,477,478,479,480,481,482,483,484,485,486,487,488,489,490,491,492,493,494,495,496,497,498,499,500,501,502,503,504,505,506,507,508,509,510,511,512,513,514,515,516,517,518,519,520,521,522,523,524,525,526,527,528,529,530,531,532,533,534,535,536,537,538,539,540,541,542,543,544,545,546,547,548,549,550,551,552,553,554,555,556,557,558,559,560,561,562,563,564,565,566,567,568,569,570,571,572,573,574,575,576,577,578,579,580,581,582,583,584,585,586,587,588,589,590,591,592,593,594,595,596,597,598,599,600,601,602,603,604,605,606,607,608,609,610,611,612,613,614,615,616,617,618,619,620,621,622,623,624,625,626,627,628,629,630,631,632,633,634,635,636,637,638,639,640,641,642,643,644,645,646,647,648,649,650,651,652,653,654,655,656,657,658,659,660,661,662,663,664,665,666,667,668,669,670,671,672,673,674,675,676,677,678,679,680,681,682,683,684,685,686,687,688,689,690,691,692,693,694,695,696,697,698,699,700,701,702,703,704,705,706,707,708,709,710,711,712,713,714,715,716,717,718,719,720,721,722,723,724,725,726,727,728,729,730,731,732,733,734,735,736,737,738,739,740,741,742,743,744,745,746,747,748,749,750,751,752,753,754,755,756,757,758,759,760,761,762,763,764,765,766,767,768,769,770,771,772,773,774,775,776,777,778,779,780,781,782,783,784,785,786,787,788,789,790,791,792,793,794,795,796,797,798,799,800,801,802,803,804,805,806,807,808,809,810,811,812,813,814,815,816,817,818,819,820,821,822,823,824,825,826,827,828,829,830,831,832,833,834,835,836,837,838,839,840,841,842,843,844,845,846,847,848,849,850,851,852,853,854,855,856,857,858,859,860,861,862,863,864,865,866,867,868,869,870,871,872,873,874,875,876,877,878,879,880,881,882,883,884,885,886,887,888,889,890,891],\"y\":[1.898572583327958,1.8472524610800356,1.7985568825122067,1.7583812707152506,1.722890014042085,1.688574941472951,1.6474701867737063,1.6080993783633124,1.5739726418607682,1.5411377480682853,1.5134266236856904,1.4804450754890768,1.450163274422911,1.4189485724787922,1.3893562748385717,1.3616915088327115,1.3351200252843127,1.3156987568773255,1.2945622531087686,1.2693606226051315,1.2490879145407474,1.2275075645957114,1.2071399948064179,1.187789863818948,1.1663022367065599,1.1492691785455873,1.1318205165951747,1.1137028977708656,1.0943070445417653,1.0791888980720412,1.0612102781664388,1.0463068862925684,1.0305668246853037,1.0147116121616475,1.0020207272209414,0.9870828650899934,0.971606365450886,0.9572455809710714,0.9420590283547692,0.9310326905499978,0.9191852025663234,0.9048018457201279,0.8922349927487481,0.8807398103785792,0.8687202946757248,0.8577447023269619,0.8465580650246308,0.8354468066208627,0.8247430844415484,0.8134193626854346,0.8027343854428799,0.7924319978328053,0.7824648418972335,0.7724834846364875,0.7628479499959351,0.7528682889889303,0.7437000069649012,0.7353920280202835,0.7272294986284543,0.7180026279194502,0.7100242167078554,0.703240579452784,0.6948455074118378,0.6874407562509776,0.6798987952369807,0.6736786721975857,0.665514520108765,0.6579068591543036,0.6515894424904878,0.6448289740200401,0.6384940183666243,0.6326160412057533,0.6261560623051954,0.6205103875093634,0.6141494445504388,0.6085777161000828,0.6021094193641715,0.5968051294211774,0.5912700365437124,0.5858283208063066,0.5804156945815726,0.575054350336184,0.5697882844546505,0.5645133391541238,0.5599507556151551,0.5553641253949829,0.5508190361682214,0.546281219425622,0.5415482502826118,0.5367622916841694,0.5319994017008907,0.5282544758856544,0.5238563999269483,0.5204245979551362,0.5166404580953842,0.5126142086300972,0.5088237140007263,0.5052597245552473,0.5015526985242869,0.4972660546785216,0.4935211771444827,0.4904324648566308,0.48699040811375993,0.4831138136846593,0.479833462294929,0.4765159210965158,0.4729515091090266,0.4693865772148378,0.46637005577934837,0.46307804870068,0.45998508886438827,0.4568317525625281,0.45362187595049386,0.4505355245150213,0.44783231356578884,0.44488500281401966,0.44187941259675384,0.439358948638818,0.43680897079168457,0.43440817725374026,0.43182754949710384,0.4295674692435791,0.42715722939513606,0.4246067030636219,0.42240709412095323,0.42009183112022314,0.4179329262256727,0.4155072396000226,0.4132050220082249,0.41082838536593813,0.4087821057665189,0.4068125525640695,0.4049371565900242,0.40331346706831106,0.40148735396820023,0.39974802484930305,0.3977014789254641,0.39600689608247414,0.3943023255918787,0.3922538008613434,0.3906456644682087,0.38884464462024165,0.38702891903676045,0.3853037671317911,0.38349396059757174,0.38201416668115834,0.38041461539522226,0.3788638292999543,0.377392602735887,0.3757083966421413,0.37416596310268246,0.3726678269975006,0.37114623488854676,0.3698067807466685,0.3686388131768379,0.3673562463303642,0.3658859573139954,0.3645147946319739,0.3630624309249025,0.3617907457883678,0.3604110122553745,0.3591206974491989,0.3579709891651399,0.3568771334981,0.3555832441287141,0.3545393401878776,0.35348357684448817,0.35216596910131137,0.3512688860196101,0.35026629495706174,0.3492708643231827,0.3481122666199806,0.34691251856273886,0.345837624534446,0.34485578936585637,0.3437374157557526,0.34260354287275,0.34169223601058446,0.3407177757157894,0.33972633255918366,0.33887093494798926,0.33792462834709647,0.336834251636859,0.33601218584413717,0.33513656037992723,0.33436880860348045,0.33358102550366875,0.3327160257092742,0.3320048816003106,0.33112344017970236,0.3303306726365792,0.32955303913339873,0.32874644263391684,0.3279431750759414,0.32715786717959283,0.3263924353547895,0.32567611598636176,0.3249190372787294,0.3242052904780466,0.3235028060004327,0.3227770600417369,0.32211583123894394,0.3214662178476808,0.320838650991428,0.32008768752964145,0.3194843807984792,0.3187990181077118,0.3182800889584305,0.3175786567941996,0.31698510707693384,0.31642803513769263,0.31579647378286263,0.31511729240334313,0.3145352796655296,0.3138440193298166,0.31327315996276467,0.3126183993189803,0.31208445908818505,0.31155877378760044,0.31100727246026943,0.310463106093578,0.3099815224866656,0.30954567805681893,0.30897642227681016,0.30851198935098123,0.30805759405190136,0.307557321984413,0.30701510431858514,0.30656393548699157,0.306027232550458,0.3054803428689577,0.3049692336009629,0.304577554531459,0.30401717814292556,0.30352592365447295,0.3030595816211181,0.30258512618107825,0.302097183693193,0.3016445411370835,0.3012651613825624,0.3007950793426263,0.30042049203200105,0.3000255860447391,0.2996767751836257,0.29932527498619926,0.2989457712946372,0.29855135222784823,0.2981433388239972,0.2978081096968216,0.2974634785594451,0.297095371971001,0.2966800381788855,0.2963488400410506,0.2959786548468181,0.2957123563268003,0.29532115168858897,0.29498337687747983,0.2945729498875801,0.29411923562083375,0.2937450840801994,0.2934462079965027,0.2931317208188246,0.2927780572953211,0.2924461550169789,0.29212531253328994,0.2918068224516905,0.2915452775451858,0.2912557636667716,0.29089831649120934,0.2906329324084741,0.29027985748542406,0.28989120176081146,0.28962284938588617,0.28941525823831504,0.2891223368254908,0.28883614921385886,0.2885457275110823,0.28830950128468574,0.2880358379158913,0.2878123270235605,0.2875901355403444,0.28733571599217034,0.28707300302003647,0.2868145072717944,0.2865428086296849,0.28631745777008283,0.286041750998841,0.2857168692784393,0.28549751099091025,0.28519908203734223,0.28498281571721795,0.2846710235169893,0.2844544636229537,0.2842729948092114,0.2840513654604993,0.28377826830556074,0.28359379665212675,0.28335614979424484,0.2831257101561948,0.28284879194372403,0.2826249385235269,0.28236671750474307,0.2820687587236389,0.28186651738472634,0.2816928470565153,0.28145123791334015,0.2812730958467685,0.28105707541695174,0.28086583831870976,0.2806394895013099,0.2804362067332482,0.28023157364468265,0.28005874568515354,0.2798478547605474,0.2796697617838378,0.2795204834112725,0.2793680653385235,0.27919860138941266,0.27902056672880426,0.2788508591369226,0.27867396913280695,0.2784513821634799,0.2782902657508917,0.27810586945610977,0.2778868535129954,0.2777035177459471,0.2775372162553618,0.277332161800558,0.2771788755864717,0.27697091363288884,0.27676612785511845,0.276606360779173,0.2764433868484489,0.2762186230501414,0.276072811809089,0.27593744925277713,0.27580240565921044,0.2756663068663125,0.2754732097263031,0.2752878017344223,0.27513032386893344,0.2749568632311901,0.2748195925410727,0.27460272858789914,0.2744956119889,0.27438760644821075,0.2742870220391952,0.27416627783102854,0.27403524467329404,0.2739116902844106,0.2737912272118826,0.2736470180694185,0.27355811944890596,0.27342454371995273,0.27324559423615097,0.2730964222189319,0.2729801498501517,0.2728366882448407,0.2726712021768033,0.2725779602363876,0.2724929833884069,0.2723566028785326,0.27225751819286875,0.2721403917244418,0.2720346861428926,0.27190325297966633,0.2718038655278416,0.2716489910233134,0.2715643650177348,0.27145970001363523,0.27134379601934333,0.27121524343513315,0.2710403619335325,0.27090700280164265,0.27077766579168067,0.27069458859852596,0.2706019932713582,0.27048501705220446,0.2703123164678793,0.2701889924442285,0.27001455582325784,0.26990526697117245,0.2698145247605764,0.26972473764918053,0.26960319570561986,0.26947793623609445,0.26936871261399303,0.26929097990603745,0.2692059948665356,0.26910663203345575,0.2690792890586319,0.2689778918847723,0.268873561255237,0.26877912623887995,0.26861084320918877,0.2685210928954557,0.2684457418609471,0.2683785010352056,0.26826004008464427,0.2681418982523543,0.2680453460837938,0.2679571056170356,0.26782812781193804,0.2677137964742925,0.26764804097350087,0.2675682986975589,0.26748022348113976,0.26734817610461137,0.26728466197743955,0.26720068008644726,0.26713339104027684,0.26700375807774984,0.2669429956293979,0.26685889990893585,0.2667699226858885,0.2666791183589661,0.2666114799738304,0.26657147832032096,0.26649076787711934,0.2663783315076977,0.2663045178740961,0.26627069759665417,0.26623685526275104,0.266168397266702,0.26610927462401146,0.26602131937549245,0.26593343374635525,0.2658117232775006,0.26574671510429415,0.2656755622181008,0.26559544546959946,0.26555785994645936,0.265530619496143,0.2654184839118344,0.2653857393816523,0.26535792004148473,0.2652916365162478,0.26518642496930966,0.2651191598762732,0.2649970384052652,0.2649389486285857,0.2648710678297412,0.26474419786116254,0.2646572865960503,0.2646065403677107,0.2645630306679005,0.26441821993401143,0.2643015193778551,0.26418752691437,0.26413304178991726,0.26407694660069475,0.2640094812083579,0.26397332411805846,0.26393403227097145,0.2638036500124364,0.26377420073762803,0.2636538381465938,0.26359953209667863,0.26354196751811787,0.2634573397710358,0.26341809890557893,0.26331419783163734,0.2632075621161652,0.2631231189437541,0.26303390068313964,0.2629736712506195,0.26289611334335267,0.2629067695937202,0.26288181035371494,0.2628334765604308,0.2628100825715389,0.26279664077432147,0.26271016046644957,0.26267373739701433,0.2625867612744778,0.2625576503915431,0.26247025747477676,0.2624624542213769,0.26238987577997214,0.26232133585251904,0.2622948253036704,0.26226647700586864,0.2622336649835661,0.2622021129605743,0.2621475116401582,0.2620795242887124,0.26203284634052343,0.26202533265034356,0.2620380015312817,0.26200755947733556,0.26193863513918997,0.2619035689153514,0.2618133284572448,0.26175709086539406,0.26171989682878893,0.26167291156530464,0.26159311833121174,0.2615705909590788,0.26151376447107355,0.26142914745037416,0.2613842872945034,0.26129982545503944,0.26129716965346694,0.26119159563502214,0.26114783190967356,0.26110447489265376,0.2610820265961568,0.2609717197086628,0.26092187860546284,0.26088958734775086,0.26086761375690215,0.26084318012321445,0.2608163699092119,0.2607797066679545,0.26072043307611026,0.2606623167739742,0.260643267931004,0.2605926264758553,0.26054916791716987,0.2605333149261316,0.2605207266154249,0.2605072900737579,0.26047133246509996,0.2604511928998121,0.26041964922651756,0.2603803072760176,0.26037196224778775,0.26031769716592507,0.2603061043543699,0.26021197771014865,0.26017263150413233,0.2601248523939181,0.2600878912331125,0.25998606828946935,0.2599743204100493,0.2599383673353337,0.25985089459013644,0.2597377851970051,0.25966428539014746,0.25965460082924635,0.25961293804789204,0.2595829577858252,0.2595352082896343,0.2594601263326378,0.25947109819697545,0.2593951420661929,0.25935178535190645,0.25932186098681304,0.25928344202149695,0.2592491154385964,0.2592297312195883,0.2591744564008261,0.25910267413440674,0.25900635718298487,0.25899312437591504,0.25898163448541583,0.2589357660421488,0.25886600243120067,0.25877144154107634,0.2587742502357142,0.2587197742529473,0.2587201856930468,0.2586581442640366,0.2586581417555017,0.25862966019172534,0.25860165585366146,0.2585893782189559,0.25853026597284917,0.2584488855454568,0.2584363922115687,0.2584115858498572,0.25833192717703457,0.25830980673835996,0.25826842232860214,0.25820873122578336,0.2581716699595629,0.25814045032986455,0.258104443876504,0.2580431883511711,0.25800423322999133,0.25796741274341656,0.2578914506287839,0.2578829139018814,0.25786198135584754,0.257865773268139,0.2578244373687719,0.2577652645009724,0.25777268132277903,0.2577170369327839,0.2577015290303573,0.25770778551709556,0.25768044644045235,0.2576624162042692,0.25768575697193424,0.25766234571370583,0.25762355549331334,0.2575886008220173,0.25758574233949355,0.2575767117149955,0.2574946848943314,0.25750552095588375,0.2574460193158609,0.2574186519443865,0.2573703642362249,0.25737677398263553,0.25733027652856816,0.2573067126158155,0.2572734290991339,0.25722730124866455,0.25720837034420263,0.2571676998419117,0.2571655926208791,0.2571288321464569,0.2570955870611795,0.25707228929395265,0.2570729743913823,0.25705032650680376,0.2570451024305816,0.25702857386613037,0.25694849819716664,0.25695137535042817,0.256954060839239,0.2569306155425266,0.2569026378664825,0.25684147696714255,0.2568336645242735,0.25678594672622745,0.25673440791595153,0.25673395050172093,0.25671688773871343,0.25667310824969447,0.25664555127290195,0.2566073171984943,0.25659536515455383,0.2565847599320106,0.2565668941815365,0.2565045971987406,0.2564621657857876,0.2564305643019316,0.2564122997104406,0.25639350166122876,0.2563093142401483,0.25637093269626327,0.25633954314432533,0.2563538679246774,0.2563386046587305,0.2563009236350684,0.2563402292959774,0.2563121404866827,0.25633998188055646,0.2563274097754664,0.25625310948613544,0.256196507758353,0.25618022740900287,0.2561535357442304,0.2561011235802766,0.25609926797113924,0.256122300288176,0.25611415724500125,0.2561443669040363,0.2561526407060777,0.25614311557492797,0.25612107387083505,0.25612050730386354,0.25611297762326907,0.25614551849414247,0.2561213694905819,0.25612174120781933,0.25610478512799495,0.25608206732292244,0.25603717773486523,0.256003375707213,0.25598465479141036,0.2559337576783576,0.2559744364223609,0.25595511325979076,0.2559630319822112,0.2559357712087232,0.2559399020715399,0.25593129922152125,0.25593025190491375,0.25591357203103343,0.2558838220016586,0.2558688190689177,0.25585881361910623,0.25586984699835474,0.2558968542187113,0.2559595697624745,0.25593847643225287,0.25587556815958656,0.2558327307683625,0.25583431693216097,0.2558227142499261,0.2558256848212187,0.25584401411905405,0.25584468004859523,0.255889945604269,0.2558874666897649,0.25589614584946324,0.2558725617039143,0.25589703841403244,0.25588901911245887,0.2558837893945875,0.2558567610271005,0.25584149628161007,0.2558283430255197,0.25580064003475567,0.25580534765104057,0.25577311354569066,0.2557332056104677,0.25573459912004315,0.2557282330552207,0.2556992603081329,0.2556823274654399,0.2556658950305935,0.2556217476755083,0.2556096922062302,0.2555856113511232,0.25557130155672764,0.25552311484480084,0.25550088892184386,0.2554984266911663,0.255493701259305,0.25546565166164764,0.2554384816567914,0.25544620615344255,0.2554327681213588,0.2554401624134739,0.25545539939800904,0.255419083256539,0.25542318073660925,0.25541077484877717,0.25541563695723773,0.25539325588023504,0.2554195739879687,0.2553740050360304,0.2553679428809602,0.2554085572836688,0.25539170302441855,0.25535424823141384,0.2553474356416618,0.25534631321462725,0.25528765867028924,0.2552434021283335,0.255235050896865,0.25528136656252637,0.2552499872143267,0.2552741400275287,0.25521939107856956,0.25523151506717756,0.2552466860884208,0.2552433746857289,0.25523835312949666,0.2551843958395181,0.2551323435296435,0.255139859852876,0.2551631193694685,0.25517642610520114,0.25516692878558167,0.2551839671312812,0.25518499655369253,0.25514430158352974,0.2551405158096081,0.25513752318590716,0.25514631855181164,0.2550876880756343,0.2551015860027764,0.25505716011223833,0.2550438740333889,0.255026890727592,0.2550295445793575,0.25497513361515933,0.25496050143082444,0.25497560483910653,0.25500621082261826,0.2549791036468377,0.25499627022623567,0.25492925322749777,0.2549223553212474,0.25494511691921956,0.2549506158797509,0.2549372654880002,0.2549482444824451,0.25495009313638645,0.25494605959350786,0.2549232374427329,0.2549049756075463,0.2548902386252387,0.25491550927823475,0.25490614539389406,0.2548791810012445,0.25486738177646967,0.2548495372940592,0.2548701843953915,0.2548291664908331,0.2548049914122804,0.2547788123793599,0.25477736837851306,0.25477312827069937,0.25472077930706544,0.2547117237389922,0.25469439283796447,0.25465550280566696,0.2546838705456061,0.254680914937638,0.2547198978060317,0.25470563974375215,0.2546871601662595,0.2546733206214236,0.25469128083818426,0.2546546975266177,0.2546277767901549,0.25462015088356393,0.2546015380858416,0.2546228880993853,0.2546330382677246,0.2546468773097518,0.25461831773907545,0.25462913740814214,0.2546047273879514,0.2546530183051527,0.2546592180835136,0.2546697060999695,0.25463513795142717,0.2546386120206477,0.25463192451860794,0.2546748317631958,0.2546850953106184,0.25470019320561005,0.2547098541608443,0.25471698915010793,0.2546676405971217,0.25467671888831633,0.2546888457749594,0.2546692591021488,0.25464062539609383,0.2546227180851253,0.25463570286229903,0.2545915262504004,0.25455945832686333,0.25459097588963314,0.2545571260621625,0.2545281577157567,0.25452009157434524,0.25451115762742127,0.25450855697063257,0.2544735910994433,0.25447564844964027,0.2544185839896905,0.25443412739696053,0.25446073574759764,0.2544578998497403,0.2544482243278415,0.2544351818395524,0.25445399057797086,0.2544509895247855,0.2544612230540961,0.2544380409524648,0.25450268424667466,0.2544929309321432,0.254500393808747,0.2544690668598252,0.2544574698345733,0.254437477595256,0.25442461695504875,0.2544124461739101,0.25442206877237716,0.2543984059460447,0.25440864899069937,0.25437980128628906,0.2543767333703385,0.25439203848018394,0.25444659844384676,0.2544667027432878,0.2544693014595107,0.2544957197264144,0.25448602349594424,0.2544967002165568,0.2544982664664717,0.254490285029015,0.25447641706754376,0.2544523340394717,0.2544290841901347,0.25447347240585655,0.2544766181661215,0.2544804259137392,0.25450244238852954,0.25450070344391035,0.2545320901817805,0.2545206959482467,0.25450268184780783,0.25447653130462633],\"type\":\"scatter\"}],                        {\"template\":{\"data\":{\"barpolar\":[{\"marker\":{\"line\":{\"color\":\"white\",\"width\":0.5},\"pattern\":{\"fillmode\":\"overlay\",\"size\":10,\"solidity\":0.2}},\"type\":\"barpolar\"}],\"bar\":[{\"error_x\":{\"color\":\"#2a3f5f\"},\"error_y\":{\"color\":\"#2a3f5f\"},\"marker\":{\"line\":{\"color\":\"white\",\"width\":0.5},\"pattern\":{\"fillmode\":\"overlay\",\"size\":10,\"solidity\":0.2}},\"type\":\"bar\"}],\"carpet\":[{\"aaxis\":{\"endlinecolor\":\"#2a3f5f\",\"gridcolor\":\"#C8D4E3\",\"linecolor\":\"#C8D4E3\",\"minorgridcolor\":\"#C8D4E3\",\"startlinecolor\":\"#2a3f5f\"},\"baxis\":{\"endlinecolor\":\"#2a3f5f\",\"gridcolor\":\"#C8D4E3\",\"linecolor\":\"#C8D4E3\",\"minorgridcolor\":\"#C8D4E3\",\"startlinecolor\":\"#2a3f5f\"},\"type\":\"carpet\"}],\"choropleth\":[{\"colorbar\":{\"outlinewidth\":0,\"ticks\":\"\"},\"type\":\"choropleth\"}],\"contourcarpet\":[{\"colorbar\":{\"outlinewidth\":0,\"ticks\":\"\"},\"type\":\"contourcarpet\"}],\"contour\":[{\"colorbar\":{\"outlinewidth\":0,\"ticks\":\"\"},\"colorscale\":[[0.0,\"#0d0887\"],[0.1111111111111111,\"#46039f\"],[0.2222222222222222,\"#7201a8\"],[0.3333333333333333,\"#9c179e\"],[0.4444444444444444,\"#bd3786\"],[0.5555555555555556,\"#d8576b\"],[0.6666666666666666,\"#ed7953\"],[0.7777777777777778,\"#fb9f3a\"],[0.8888888888888888,\"#fdca26\"],[1.0,\"#f0f921\"]],\"type\":\"contour\"}],\"heatmapgl\":[{\"colorbar\":{\"outlinewidth\":0,\"ticks\":\"\"},\"colorscale\":[[0.0,\"#0d0887\"],[0.1111111111111111,\"#46039f\"],[0.2222222222222222,\"#7201a8\"],[0.3333333333333333,\"#9c179e\"],[0.4444444444444444,\"#bd3786\"],[0.5555555555555556,\"#d8576b\"],[0.6666666666666666,\"#ed7953\"],[0.7777777777777778,\"#fb9f3a\"],[0.8888888888888888,\"#fdca26\"],[1.0,\"#f0f921\"]],\"type\":\"heatmapgl\"}],\"heatmap\":[{\"colorbar\":{\"outlinewidth\":0,\"ticks\":\"\"},\"colorscale\":[[0.0,\"#0d0887\"],[0.1111111111111111,\"#46039f\"],[0.2222222222222222,\"#7201a8\"],[0.3333333333333333,\"#9c179e\"],[0.4444444444444444,\"#bd3786\"],[0.5555555555555556,\"#d8576b\"],[0.6666666666666666,\"#ed7953\"],[0.7777777777777778,\"#fb9f3a\"],[0.8888888888888888,\"#fdca26\"],[1.0,\"#f0f921\"]],\"type\":\"heatmap\"}],\"histogram2dcontour\":[{\"colorbar\":{\"outlinewidth\":0,\"ticks\":\"\"},\"colorscale\":[[0.0,\"#0d0887\"],[0.1111111111111111,\"#46039f\"],[0.2222222222222222,\"#7201a8\"],[0.3333333333333333,\"#9c179e\"],[0.4444444444444444,\"#bd3786\"],[0.5555555555555556,\"#d8576b\"],[0.6666666666666666,\"#ed7953\"],[0.7777777777777778,\"#fb9f3a\"],[0.8888888888888888,\"#fdca26\"],[1.0,\"#f0f921\"]],\"type\":\"histogram2dcontour\"}],\"histogram2d\":[{\"colorbar\":{\"outlinewidth\":0,\"ticks\":\"\"},\"colorscale\":[[0.0,\"#0d0887\"],[0.1111111111111111,\"#46039f\"],[0.2222222222222222,\"#7201a8\"],[0.3333333333333333,\"#9c179e\"],[0.4444444444444444,\"#bd3786\"],[0.5555555555555556,\"#d8576b\"],[0.6666666666666666,\"#ed7953\"],[0.7777777777777778,\"#fb9f3a\"],[0.8888888888888888,\"#fdca26\"],[1.0,\"#f0f921\"]],\"type\":\"histogram2d\"}],\"histogram\":[{\"marker\":{\"pattern\":{\"fillmode\":\"overlay\",\"size\":10,\"solidity\":0.2}},\"type\":\"histogram\"}],\"mesh3d\":[{\"colorbar\":{\"outlinewidth\":0,\"ticks\":\"\"},\"type\":\"mesh3d\"}],\"parcoords\":[{\"line\":{\"colorbar\":{\"outlinewidth\":0,\"ticks\":\"\"}},\"type\":\"parcoords\"}],\"pie\":[{\"automargin\":true,\"type\":\"pie\"}],\"scatter3d\":[{\"line\":{\"colorbar\":{\"outlinewidth\":0,\"ticks\":\"\"}},\"marker\":{\"colorbar\":{\"outlinewidth\":0,\"ticks\":\"\"}},\"type\":\"scatter3d\"}],\"scattercarpet\":[{\"marker\":{\"colorbar\":{\"outlinewidth\":0,\"ticks\":\"\"}},\"type\":\"scattercarpet\"}],\"scattergeo\":[{\"marker\":{\"colorbar\":{\"outlinewidth\":0,\"ticks\":\"\"}},\"type\":\"scattergeo\"}],\"scattergl\":[{\"marker\":{\"colorbar\":{\"outlinewidth\":0,\"ticks\":\"\"}},\"type\":\"scattergl\"}],\"scattermapbox\":[{\"marker\":{\"colorbar\":{\"outlinewidth\":0,\"ticks\":\"\"}},\"type\":\"scattermapbox\"}],\"scatterpolargl\":[{\"marker\":{\"colorbar\":{\"outlinewidth\":0,\"ticks\":\"\"}},\"type\":\"scatterpolargl\"}],\"scatterpolar\":[{\"marker\":{\"colorbar\":{\"outlinewidth\":0,\"ticks\":\"\"}},\"type\":\"scatterpolar\"}],\"scatter\":[{\"fillpattern\":{\"fillmode\":\"overlay\",\"size\":10,\"solidity\":0.2},\"type\":\"scatter\"}],\"scatterternary\":[{\"marker\":{\"colorbar\":{\"outlinewidth\":0,\"ticks\":\"\"}},\"type\":\"scatterternary\"}],\"surface\":[{\"colorbar\":{\"outlinewidth\":0,\"ticks\":\"\"},\"colorscale\":[[0.0,\"#0d0887\"],[0.1111111111111111,\"#46039f\"],[0.2222222222222222,\"#7201a8\"],[0.3333333333333333,\"#9c179e\"],[0.4444444444444444,\"#bd3786\"],[0.5555555555555556,\"#d8576b\"],[0.6666666666666666,\"#ed7953\"],[0.7777777777777778,\"#fb9f3a\"],[0.8888888888888888,\"#fdca26\"],[1.0,\"#f0f921\"]],\"type\":\"surface\"}],\"table\":[{\"cells\":{\"fill\":{\"color\":\"#EBF0F8\"},\"line\":{\"color\":\"white\"}},\"header\":{\"fill\":{\"color\":\"#C8D4E3\"},\"line\":{\"color\":\"white\"}},\"type\":\"table\"}]},\"layout\":{\"annotationdefaults\":{\"arrowcolor\":\"#2a3f5f\",\"arrowhead\":0,\"arrowwidth\":1},\"autotypenumbers\":\"strict\",\"coloraxis\":{\"colorbar\":{\"outlinewidth\":0,\"ticks\":\"\"}},\"colorscale\":{\"diverging\":[[0,\"#8e0152\"],[0.1,\"#c51b7d\"],[0.2,\"#de77ae\"],[0.3,\"#f1b6da\"],[0.4,\"#fde0ef\"],[0.5,\"#f7f7f7\"],[0.6,\"#e6f5d0\"],[0.7,\"#b8e186\"],[0.8,\"#7fbc41\"],[0.9,\"#4d9221\"],[1,\"#276419\"]],\"sequential\":[[0.0,\"#0d0887\"],[0.1111111111111111,\"#46039f\"],[0.2222222222222222,\"#7201a8\"],[0.3333333333333333,\"#9c179e\"],[0.4444444444444444,\"#bd3786\"],[0.5555555555555556,\"#d8576b\"],[0.6666666666666666,\"#ed7953\"],[0.7777777777777778,\"#fb9f3a\"],[0.8888888888888888,\"#fdca26\"],[1.0,\"#f0f921\"]],\"sequentialminus\":[[0.0,\"#0d0887\"],[0.1111111111111111,\"#46039f\"],[0.2222222222222222,\"#7201a8\"],[0.3333333333333333,\"#9c179e\"],[0.4444444444444444,\"#bd3786\"],[0.5555555555555556,\"#d8576b\"],[0.6666666666666666,\"#ed7953\"],[0.7777777777777778,\"#fb9f3a\"],[0.8888888888888888,\"#fdca26\"],[1.0,\"#f0f921\"]]},\"colorway\":[\"#636efa\",\"#EF553B\",\"#00cc96\",\"#ab63fa\",\"#FFA15A\",\"#19d3f3\",\"#FF6692\",\"#B6E880\",\"#FF97FF\",\"#FECB52\"],\"font\":{\"color\":\"#2a3f5f\"},\"geo\":{\"bgcolor\":\"white\",\"lakecolor\":\"white\",\"landcolor\":\"white\",\"showlakes\":true,\"showland\":true,\"subunitcolor\":\"#C8D4E3\"},\"hoverlabel\":{\"align\":\"left\"},\"hovermode\":\"closest\",\"mapbox\":{\"style\":\"light\"},\"paper_bgcolor\":\"white\",\"plot_bgcolor\":\"white\",\"polar\":{\"angularaxis\":{\"gridcolor\":\"#EBF0F8\",\"linecolor\":\"#EBF0F8\",\"ticks\":\"\"},\"bgcolor\":\"white\",\"radialaxis\":{\"gridcolor\":\"#EBF0F8\",\"linecolor\":\"#EBF0F8\",\"ticks\":\"\"}},\"scene\":{\"xaxis\":{\"backgroundcolor\":\"white\",\"gridcolor\":\"#DFE8F3\",\"gridwidth\":2,\"linecolor\":\"#EBF0F8\",\"showbackground\":true,\"ticks\":\"\",\"zerolinecolor\":\"#EBF0F8\"},\"yaxis\":{\"backgroundcolor\":\"white\",\"gridcolor\":\"#DFE8F3\",\"gridwidth\":2,\"linecolor\":\"#EBF0F8\",\"showbackground\":true,\"ticks\":\"\",\"zerolinecolor\":\"#EBF0F8\"},\"zaxis\":{\"backgroundcolor\":\"white\",\"gridcolor\":\"#DFE8F3\",\"gridwidth\":2,\"linecolor\":\"#EBF0F8\",\"showbackground\":true,\"ticks\":\"\",\"zerolinecolor\":\"#EBF0F8\"}},\"shapedefaults\":{\"line\":{\"color\":\"#2a3f5f\"}},\"ternary\":{\"aaxis\":{\"gridcolor\":\"#DFE8F3\",\"linecolor\":\"#A2B1C6\",\"ticks\":\"\"},\"baxis\":{\"gridcolor\":\"#DFE8F3\",\"linecolor\":\"#A2B1C6\",\"ticks\":\"\"},\"bgcolor\":\"white\",\"caxis\":{\"gridcolor\":\"#DFE8F3\",\"linecolor\":\"#A2B1C6\",\"ticks\":\"\"}},\"title\":{\"x\":0.05},\"xaxis\":{\"automargin\":true,\"gridcolor\":\"#EBF0F8\",\"linecolor\":\"#EBF0F8\",\"ticks\":\"\",\"title\":{\"standoff\":15},\"zerolinecolor\":\"#EBF0F8\",\"zerolinewidth\":2},\"yaxis\":{\"automargin\":true,\"gridcolor\":\"#EBF0F8\",\"linecolor\":\"#EBF0F8\",\"ticks\":\"\",\"title\":{\"standoff\":15},\"zerolinecolor\":\"#EBF0F8\",\"zerolinewidth\":2}}},\"title\":{\"text\":\"\\u003cb\\u003eTraining Metrics: MLOGLOSS\\u003c\\u002fb\\u003e\"},\"width\":800,\"height\":400},                        {\"responsive\": true}                    ).then(function(){\n",
       "                            \n",
       "var gd = document.getElementById('6fb0769f-7214-45d8-bda9-7cb5016bf846');\n",
       "var x = new MutationObserver(function (mutations, observer) {{\n",
       "        var display = window.getComputedStyle(gd).display;\n",
       "        if (!display || display === 'none') {{\n",
       "            console.log([gd, 'removed!']);\n",
       "            Plotly.purge(gd);\n",
       "            observer.disconnect();\n",
       "        }}\n",
       "}});\n",
       "\n",
       "// Listen for the removal of the full notebook cells\n",
       "var notebookContainer = gd.closest('#notebook-container');\n",
       "if (notebookContainer) {{\n",
       "    x.observe(notebookContainer, {childList: true});\n",
       "}}\n",
       "\n",
       "// Listen for the clearing of the current output cell\n",
       "var outputEl = gd.closest('.output');\n",
       "if (outputEl) {{\n",
       "    x.observe(outputEl, {childList: true});\n",
       "}}\n",
       "\n",
       "                        })                };                });            </script>        </div>"
      ]
     },
     "metadata": {},
     "output_type": "display_data"
    },
    {
     "data": {
      "text/html": [
       "<div>                            <div id=\"142c5b5d-ac66-4f06-9378-3fac7cb19c5c\" class=\"plotly-graph-div\" style=\"height:500px; width:500px;\"></div>            <script type=\"text/javascript\">                require([\"plotly\"], function(Plotly) {                    window.PLOTLYENV=window.PLOTLYENV || {};                                    if (document.getElementById(\"142c5b5d-ac66-4f06-9378-3fac7cb19c5c\")) {                    Plotly.newPlot(                        \"142c5b5d-ac66-4f06-9378-3fac7cb19c5c\",                        [{\"marker\":{\"color\":\"#53808D\"},\"name\":\"Importance\",\"orientation\":\"h\",\"x\":[0.018167275182743248,0.018187742607866944,0.020105263885913303,0.021287848864689752,0.021542636663386298,0.022947749019775258,0.025380073219306836,0.026494075196632903,0.028774849019830174,0.03648096128261597,0.048532641658393716,0.09158731253630346,0.13465152885182455,0.14048499332588982,0.16671432779688242],\"y\":[\"remainder__SCC\",\"cat__CALC_sometimes\",\"num__TUE\",\"num__CH2O\",\"num__Age\",\"cat__CAEC_frequently\",\"cat__CALC_no\",\"remainder__FAVC\",\"remainder__FamiliyHistory\",\"cat__CAEC_no\",\"num__FCVC\",\"num__Weight\",\"cat__Gender_male\",\"cat__Gender_female\",\"num__risk_bmi\"],\"type\":\"bar\"}],                        {\"template\":{\"data\":{\"barpolar\":[{\"marker\":{\"line\":{\"color\":\"white\",\"width\":0.5},\"pattern\":{\"fillmode\":\"overlay\",\"size\":10,\"solidity\":0.2}},\"type\":\"barpolar\"}],\"bar\":[{\"error_x\":{\"color\":\"#2a3f5f\"},\"error_y\":{\"color\":\"#2a3f5f\"},\"marker\":{\"line\":{\"color\":\"white\",\"width\":0.5},\"pattern\":{\"fillmode\":\"overlay\",\"size\":10,\"solidity\":0.2}},\"type\":\"bar\"}],\"carpet\":[{\"aaxis\":{\"endlinecolor\":\"#2a3f5f\",\"gridcolor\":\"#C8D4E3\",\"linecolor\":\"#C8D4E3\",\"minorgridcolor\":\"#C8D4E3\",\"startlinecolor\":\"#2a3f5f\"},\"baxis\":{\"endlinecolor\":\"#2a3f5f\",\"gridcolor\":\"#C8D4E3\",\"linecolor\":\"#C8D4E3\",\"minorgridcolor\":\"#C8D4E3\",\"startlinecolor\":\"#2a3f5f\"},\"type\":\"carpet\"}],\"choropleth\":[{\"colorbar\":{\"outlinewidth\":0,\"ticks\":\"\"},\"type\":\"choropleth\"}],\"contourcarpet\":[{\"colorbar\":{\"outlinewidth\":0,\"ticks\":\"\"},\"type\":\"contourcarpet\"}],\"contour\":[{\"colorbar\":{\"outlinewidth\":0,\"ticks\":\"\"},\"colorscale\":[[0.0,\"#0d0887\"],[0.1111111111111111,\"#46039f\"],[0.2222222222222222,\"#7201a8\"],[0.3333333333333333,\"#9c179e\"],[0.4444444444444444,\"#bd3786\"],[0.5555555555555556,\"#d8576b\"],[0.6666666666666666,\"#ed7953\"],[0.7777777777777778,\"#fb9f3a\"],[0.8888888888888888,\"#fdca26\"],[1.0,\"#f0f921\"]],\"type\":\"contour\"}],\"heatmapgl\":[{\"colorbar\":{\"outlinewidth\":0,\"ticks\":\"\"},\"colorscale\":[[0.0,\"#0d0887\"],[0.1111111111111111,\"#46039f\"],[0.2222222222222222,\"#7201a8\"],[0.3333333333333333,\"#9c179e\"],[0.4444444444444444,\"#bd3786\"],[0.5555555555555556,\"#d8576b\"],[0.6666666666666666,\"#ed7953\"],[0.7777777777777778,\"#fb9f3a\"],[0.8888888888888888,\"#fdca26\"],[1.0,\"#f0f921\"]],\"type\":\"heatmapgl\"}],\"heatmap\":[{\"colorbar\":{\"outlinewidth\":0,\"ticks\":\"\"},\"colorscale\":[[0.0,\"#0d0887\"],[0.1111111111111111,\"#46039f\"],[0.2222222222222222,\"#7201a8\"],[0.3333333333333333,\"#9c179e\"],[0.4444444444444444,\"#bd3786\"],[0.5555555555555556,\"#d8576b\"],[0.6666666666666666,\"#ed7953\"],[0.7777777777777778,\"#fb9f3a\"],[0.8888888888888888,\"#fdca26\"],[1.0,\"#f0f921\"]],\"type\":\"heatmap\"}],\"histogram2dcontour\":[{\"colorbar\":{\"outlinewidth\":0,\"ticks\":\"\"},\"colorscale\":[[0.0,\"#0d0887\"],[0.1111111111111111,\"#46039f\"],[0.2222222222222222,\"#7201a8\"],[0.3333333333333333,\"#9c179e\"],[0.4444444444444444,\"#bd3786\"],[0.5555555555555556,\"#d8576b\"],[0.6666666666666666,\"#ed7953\"],[0.7777777777777778,\"#fb9f3a\"],[0.8888888888888888,\"#fdca26\"],[1.0,\"#f0f921\"]],\"type\":\"histogram2dcontour\"}],\"histogram2d\":[{\"colorbar\":{\"outlinewidth\":0,\"ticks\":\"\"},\"colorscale\":[[0.0,\"#0d0887\"],[0.1111111111111111,\"#46039f\"],[0.2222222222222222,\"#7201a8\"],[0.3333333333333333,\"#9c179e\"],[0.4444444444444444,\"#bd3786\"],[0.5555555555555556,\"#d8576b\"],[0.6666666666666666,\"#ed7953\"],[0.7777777777777778,\"#fb9f3a\"],[0.8888888888888888,\"#fdca26\"],[1.0,\"#f0f921\"]],\"type\":\"histogram2d\"}],\"histogram\":[{\"marker\":{\"pattern\":{\"fillmode\":\"overlay\",\"size\":10,\"solidity\":0.2}},\"type\":\"histogram\"}],\"mesh3d\":[{\"colorbar\":{\"outlinewidth\":0,\"ticks\":\"\"},\"type\":\"mesh3d\"}],\"parcoords\":[{\"line\":{\"colorbar\":{\"outlinewidth\":0,\"ticks\":\"\"}},\"type\":\"parcoords\"}],\"pie\":[{\"automargin\":true,\"type\":\"pie\"}],\"scatter3d\":[{\"line\":{\"colorbar\":{\"outlinewidth\":0,\"ticks\":\"\"}},\"marker\":{\"colorbar\":{\"outlinewidth\":0,\"ticks\":\"\"}},\"type\":\"scatter3d\"}],\"scattercarpet\":[{\"marker\":{\"colorbar\":{\"outlinewidth\":0,\"ticks\":\"\"}},\"type\":\"scattercarpet\"}],\"scattergeo\":[{\"marker\":{\"colorbar\":{\"outlinewidth\":0,\"ticks\":\"\"}},\"type\":\"scattergeo\"}],\"scattergl\":[{\"marker\":{\"colorbar\":{\"outlinewidth\":0,\"ticks\":\"\"}},\"type\":\"scattergl\"}],\"scattermapbox\":[{\"marker\":{\"colorbar\":{\"outlinewidth\":0,\"ticks\":\"\"}},\"type\":\"scattermapbox\"}],\"scatterpolargl\":[{\"marker\":{\"colorbar\":{\"outlinewidth\":0,\"ticks\":\"\"}},\"type\":\"scatterpolargl\"}],\"scatterpolar\":[{\"marker\":{\"colorbar\":{\"outlinewidth\":0,\"ticks\":\"\"}},\"type\":\"scatterpolar\"}],\"scatter\":[{\"fillpattern\":{\"fillmode\":\"overlay\",\"size\":10,\"solidity\":0.2},\"type\":\"scatter\"}],\"scatterternary\":[{\"marker\":{\"colorbar\":{\"outlinewidth\":0,\"ticks\":\"\"}},\"type\":\"scatterternary\"}],\"surface\":[{\"colorbar\":{\"outlinewidth\":0,\"ticks\":\"\"},\"colorscale\":[[0.0,\"#0d0887\"],[0.1111111111111111,\"#46039f\"],[0.2222222222222222,\"#7201a8\"],[0.3333333333333333,\"#9c179e\"],[0.4444444444444444,\"#bd3786\"],[0.5555555555555556,\"#d8576b\"],[0.6666666666666666,\"#ed7953\"],[0.7777777777777778,\"#fb9f3a\"],[0.8888888888888888,\"#fdca26\"],[1.0,\"#f0f921\"]],\"type\":\"surface\"}],\"table\":[{\"cells\":{\"fill\":{\"color\":\"#EBF0F8\"},\"line\":{\"color\":\"white\"}},\"header\":{\"fill\":{\"color\":\"#C8D4E3\"},\"line\":{\"color\":\"white\"}},\"type\":\"table\"}]},\"layout\":{\"annotationdefaults\":{\"arrowcolor\":\"#2a3f5f\",\"arrowhead\":0,\"arrowwidth\":1},\"autotypenumbers\":\"strict\",\"coloraxis\":{\"colorbar\":{\"outlinewidth\":0,\"ticks\":\"\"}},\"colorscale\":{\"diverging\":[[0,\"#8e0152\"],[0.1,\"#c51b7d\"],[0.2,\"#de77ae\"],[0.3,\"#f1b6da\"],[0.4,\"#fde0ef\"],[0.5,\"#f7f7f7\"],[0.6,\"#e6f5d0\"],[0.7,\"#b8e186\"],[0.8,\"#7fbc41\"],[0.9,\"#4d9221\"],[1,\"#276419\"]],\"sequential\":[[0.0,\"#0d0887\"],[0.1111111111111111,\"#46039f\"],[0.2222222222222222,\"#7201a8\"],[0.3333333333333333,\"#9c179e\"],[0.4444444444444444,\"#bd3786\"],[0.5555555555555556,\"#d8576b\"],[0.6666666666666666,\"#ed7953\"],[0.7777777777777778,\"#fb9f3a\"],[0.8888888888888888,\"#fdca26\"],[1.0,\"#f0f921\"]],\"sequentialminus\":[[0.0,\"#0d0887\"],[0.1111111111111111,\"#46039f\"],[0.2222222222222222,\"#7201a8\"],[0.3333333333333333,\"#9c179e\"],[0.4444444444444444,\"#bd3786\"],[0.5555555555555556,\"#d8576b\"],[0.6666666666666666,\"#ed7953\"],[0.7777777777777778,\"#fb9f3a\"],[0.8888888888888888,\"#fdca26\"],[1.0,\"#f0f921\"]]},\"colorway\":[\"#636efa\",\"#EF553B\",\"#00cc96\",\"#ab63fa\",\"#FFA15A\",\"#19d3f3\",\"#FF6692\",\"#B6E880\",\"#FF97FF\",\"#FECB52\"],\"font\":{\"color\":\"#2a3f5f\"},\"geo\":{\"bgcolor\":\"white\",\"lakecolor\":\"white\",\"landcolor\":\"white\",\"showlakes\":true,\"showland\":true,\"subunitcolor\":\"#C8D4E3\"},\"hoverlabel\":{\"align\":\"left\"},\"hovermode\":\"closest\",\"mapbox\":{\"style\":\"light\"},\"paper_bgcolor\":\"white\",\"plot_bgcolor\":\"white\",\"polar\":{\"angularaxis\":{\"gridcolor\":\"#EBF0F8\",\"linecolor\":\"#EBF0F8\",\"ticks\":\"\"},\"bgcolor\":\"white\",\"radialaxis\":{\"gridcolor\":\"#EBF0F8\",\"linecolor\":\"#EBF0F8\",\"ticks\":\"\"}},\"scene\":{\"xaxis\":{\"backgroundcolor\":\"white\",\"gridcolor\":\"#DFE8F3\",\"gridwidth\":2,\"linecolor\":\"#EBF0F8\",\"showbackground\":true,\"ticks\":\"\",\"zerolinecolor\":\"#EBF0F8\"},\"yaxis\":{\"backgroundcolor\":\"white\",\"gridcolor\":\"#DFE8F3\",\"gridwidth\":2,\"linecolor\":\"#EBF0F8\",\"showbackground\":true,\"ticks\":\"\",\"zerolinecolor\":\"#EBF0F8\"},\"zaxis\":{\"backgroundcolor\":\"white\",\"gridcolor\":\"#DFE8F3\",\"gridwidth\":2,\"linecolor\":\"#EBF0F8\",\"showbackground\":true,\"ticks\":\"\",\"zerolinecolor\":\"#EBF0F8\"}},\"shapedefaults\":{\"line\":{\"color\":\"#2a3f5f\"}},\"ternary\":{\"aaxis\":{\"gridcolor\":\"#DFE8F3\",\"linecolor\":\"#A2B1C6\",\"ticks\":\"\"},\"baxis\":{\"gridcolor\":\"#DFE8F3\",\"linecolor\":\"#A2B1C6\",\"ticks\":\"\"},\"bgcolor\":\"white\",\"caxis\":{\"gridcolor\":\"#DFE8F3\",\"linecolor\":\"#A2B1C6\",\"ticks\":\"\"}},\"title\":{\"x\":0.05},\"xaxis\":{\"automargin\":true,\"gridcolor\":\"#EBF0F8\",\"linecolor\":\"#EBF0F8\",\"ticks\":\"\",\"title\":{\"standoff\":15},\"zerolinecolor\":\"#EBF0F8\",\"zerolinewidth\":2},\"yaxis\":{\"automargin\":true,\"gridcolor\":\"#EBF0F8\",\"linecolor\":\"#EBF0F8\",\"ticks\":\"\",\"title\":{\"standoff\":15},\"zerolinecolor\":\"#EBF0F8\",\"zerolinewidth\":2}}},\"yaxis\":{\"type\":\"category\",\"tickmode\":\"linear\"},\"title\":{\"text\":\"\\u003cb\\u003eFeature Importance for the xgb model\\u003c\\u002fb\\u003e\\u003cbr\\u003eCalculated using feature gain\"},\"width\":500,\"height\":500},                        {\"responsive\": true}                    ).then(function(){\n",
       "                            \n",
       "var gd = document.getElementById('142c5b5d-ac66-4f06-9378-3fac7cb19c5c');\n",
       "var x = new MutationObserver(function (mutations, observer) {{\n",
       "        var display = window.getComputedStyle(gd).display;\n",
       "        if (!display || display === 'none') {{\n",
       "            console.log([gd, 'removed!']);\n",
       "            Plotly.purge(gd);\n",
       "            observer.disconnect();\n",
       "        }}\n",
       "}});\n",
       "\n",
       "// Listen for the removal of the full notebook cells\n",
       "var notebookContainer = gd.closest('#notebook-container');\n",
       "if (notebookContainer) {{\n",
       "    x.observe(notebookContainer, {childList: true});\n",
       "}}\n",
       "\n",
       "// Listen for the clearing of the current output cell\n",
       "var outputEl = gd.closest('.output');\n",
       "if (outputEl) {{\n",
       "    x.observe(outputEl, {childList: true});\n",
       "}}\n",
       "\n",
       "                        })                };                });            </script>        </div>"
      ]
     },
     "metadata": {},
     "output_type": "display_data"
    },
    {
     "name": "stdout",
     "output_type": "stream",
     "text": [
      "Accuracy Score:0.9131100897351718\n"
     ]
    }
   ],
   "source": [
    "xgb_best = {\n",
    "#     'n_estimators': 892,\n",
    "    'learning_rate'   : 0.022194625824361554,\n",
    "    'max_depth'       : 5,\n",
    "    'min_child_weight': 2,\n",
    "    'gamma'           : 0.27910232830136383,\n",
    "    'subsample'       : 0.620977387472603, \n",
    "    'colsample_bytree': 0.5305141740933788,\n",
    "    'lambda'          : 0.2903510894985498, \n",
    "    'alpha'           : 0.22248261712836614,\n",
    "    'objective'       :'multi:softprob',\n",
    "    'tree_method'     :'auto',\n",
    "    'eval_metric'     :'mlogloss',\n",
    "    'random_state'    : RANDOM,\n",
    "}\n",
    "\n",
    "xgb_params = {\n",
    "    'n_estimators'          : 892,\n",
    "    'early_stopping_rounds' :75,\n",
    "}\n",
    "# train params\n",
    "xgb_params.update(xgb_best)\n",
    "\n",
    "\n",
    "if EVALUATE:\n",
    "    # train\n",
    "    xgb_model = XGBClassifier(**xgb_params)\n",
    "    xgb_model.fit(X_train, y_train,  eval_set =[(X_train,y_train),(X_test,y_test)],verbose=0)\n",
    "\n",
    "    # plot training metrics\n",
    "    plot_training_metrics(xgb_model, 'xgb', 'mlogloss')\n",
    "\n",
    "    # test on train data \n",
    "    y_pred = xgb_model.predict(X_test)\n",
    "\n",
    "    # plot feature importance\n",
    "    plot_feature_importance(xgb_model,'xgb','gain',True,15)\n",
    "\n",
    "    # accuracy\n",
    "    acc = accuracy_score(y_test,y_pred)\n",
    "    print(f\"Accuracy Score:{acc}\")\n",
    "    \n",
    "    # export predictions for lazy prediction\n",
    "    y_pred_on_train = xgb_model.predict(X_train)\n",
    "    submit_predictions(X_train_ids, y_pred_on_train, decode=False,filename='xgb.csv')\n",
    "    \n",
    "    # clear some memmory\n",
    "    gc.collect()\n",
    "    \n",
    "    # accuracy: 91.31%, epochs:888"
   ]
  },
  {
   "cell_type": "markdown",
   "id": "422b7682",
   "metadata": {
    "papermill": {
     "duration": 0.014733,
     "end_time": "2024-02-17T19:20:51.075906",
     "exception": false,
     "start_time": "2024-02-17T19:20:51.061173",
     "status": "completed"
    },
    "tags": []
   },
   "source": [
    "#### XGBoost Submssion"
   ]
  },
  {
   "cell_type": "code",
   "execution_count": 23,
   "id": "7dcab551",
   "metadata": {
    "execution": {
     "iopub.execute_input": "2024-02-17T19:20:51.112045Z",
     "iopub.status.busy": "2024-02-17T19:20:51.111294Z",
     "iopub.status.idle": "2024-02-17T19:20:51.119918Z",
     "shell.execute_reply": "2024-02-17T19:20:51.118983Z"
    },
    "papermill": {
     "duration": 0.029409,
     "end_time": "2024-02-17T19:20:51.121963",
     "exception": false,
     "start_time": "2024-02-17T19:20:51.092554",
     "status": "completed"
    },
    "tags": []
   },
   "outputs": [],
   "source": [
    "if XGB:\n",
    "    xgb_best = {\n",
    "        'learning_rate'   : 0.022194625824361554,\n",
    "        'max_depth'       : 5,\n",
    "        'min_child_weight': 2,\n",
    "        'gamma'           : 0.27910232830136383,\n",
    "        'subsample'       : 0.620977387472603, \n",
    "        'colsample_bytree': 0.5305141740933788,\n",
    "        'lambda'          : 0.2903510894985498, \n",
    "        'alpha'           : 0.22248261712836614,\n",
    "        'objective'       :'multi:softprob',\n",
    "        'tree_method'     :'auto',\n",
    "        'eval_metric'     :'mlogloss',\n",
    "        'random_state'    : RANDOM,\n",
    "    }\n",
    "\n",
    "    xgb_params = {\n",
    "        'n_estimators'          : 892,\n",
    "    }    \n",
    "    \n",
    "    # train params\n",
    "    xgb_params.update(xgb_best)\n",
    "\n",
    "    # train the model on all available data\n",
    "    xgb_model = XGBClassifier(**xgb_params)\n",
    "    xgb_model.fit(X,y,verbose=0)\n",
    "\n",
    "    # predict on the test set\n",
    "    y_pred = xgb_model.predict(X_submit)\n",
    "    \n",
    "    # export predictions for lazy evaluation\n",
    "    submit_predictions(X_submit_ids, y_pred, decode=True,filename='submission.csv')\n",
    "    print(\"XGB Model Submitted\")\n"
   ]
  },
  {
   "cell_type": "markdown",
   "id": "6c584052",
   "metadata": {
    "papermill": {
     "duration": 0.014592,
     "end_time": "2024-02-17T19:20:51.151457",
     "exception": false,
     "start_time": "2024-02-17T19:20:51.136865",
     "status": "completed"
    },
    "tags": []
   },
   "source": [
    "### Light GBM\n",
    "#### LGBM Hyperparameter Tuning"
   ]
  },
  {
   "cell_type": "code",
   "execution_count": 24,
   "id": "4041443f",
   "metadata": {
    "execution": {
     "iopub.execute_input": "2024-02-17T19:20:51.183080Z",
     "iopub.status.busy": "2024-02-17T19:20:51.182358Z",
     "iopub.status.idle": "2024-02-17T19:20:51.195251Z",
     "shell.execute_reply": "2024-02-17T19:20:51.194508Z"
    },
    "papermill": {
     "duration": 0.031827,
     "end_time": "2024-02-17T19:20:51.197842",
     "exception": false,
     "start_time": "2024-02-17T19:20:51.166015",
     "status": "completed"
    },
    "tags": []
   },
   "outputs": [],
   "source": [
    "def objective(trial):\n",
    "    #LGB params to tune\n",
    "    params = {\n",
    "        'objective'           : 'multiclass',\n",
    "        'boosting_type'       : 'gbdt',\n",
    "        'random_state'        : RANDOM,\n",
    "        'metric'              : \"multi_logloss\",\n",
    "        'num_class'           : 7,\n",
    "        \"verbosity\"           : -1,\n",
    "        'n_jobs'              : -1,\n",
    "        'n_estimators'        :trial.suggest_int('n_estimators',100,1000),\n",
    "        'learning_rate'       : trial.suggest_loguniform('learning_rate', 0.01, 0.3),  \n",
    "        'max_depth'           : trial.suggest_int('max_depth',3, 20),\n",
    "        'min_child_samples'   : trial.suggest_int('min_child_samples',10,60),\n",
    "        'num_leaves'          : trial.suggest_int('num_leaves', 30, 100), \n",
    "        'subsample'           : trial.suggest_float('subsample', 0.3, 0.9), \n",
    "        'colsample_bytree'    : trial.suggest_float('colsample_bytree', 0.3, 0.9), \n",
    "        'lambda_l1'           : trial.suggest_float('reg_lambda', 0, 3),\n",
    "        'lambda_l2'           : trial.suggest_float('reg_alpha', 0, 3),\n",
    "    }\n",
    "\n",
    "    # model\n",
    "    lgb = LGBMClassifier(**params)\n",
    "\n",
    "    # use stratified kfold to evalute each set of model weights\n",
    "    skf= StratifiedKFold(n_splits=3, shuffle=True, random_state=RANDOM)\n",
    "\n",
    "    # Calculate the auc for each set of model weights\n",
    "    acc = cross_val_score(lgb, X_train, y_train, cv=skf, scoring='accuracy').mean()\n",
    "    \n",
    "    return acc\n",
    "\n",
    "if LGB and TUNE:\n",
    "    # Optimize Hyperparameters\n",
    "    # =====================================================================================================\n",
    "    # create the study and run the optimization\n",
    "    study = optuna.create_study(study_name = 'lgb-optimization',direction='maximize', sampler=optuna.samplers.TPESampler(seed=RANDOM))\n",
    "    study.optimize(objective, n_trials=200)\n",
    "\n",
    "    # get the best weights from the optimization\n",
    "    lgb_best = study.best_params\n",
    "    print(study.best_value)\n",
    "    print(lgb_best)\n",
    "\n",
    "    # clear some memmory\n",
    "    gc.collect()\n",
    "    \n",
    "    # plot optimization\n",
    "    plot_param_importances(study).show()\n",
    "    plot_optimization_history(study).show()"
   ]
  },
  {
   "cell_type": "markdown",
   "id": "3253bc55",
   "metadata": {
    "papermill": {
     "duration": 0.014374,
     "end_time": "2024-02-17T19:20:51.231036",
     "exception": false,
     "start_time": "2024-02-17T19:20:51.216662",
     "status": "completed"
    },
    "tags": []
   },
   "source": [
    "#### LightGBM Evaluation"
   ]
  },
  {
   "cell_type": "code",
   "execution_count": 25,
   "id": "8eda554c",
   "metadata": {
    "execution": {
     "iopub.execute_input": "2024-02-17T19:20:51.262856Z",
     "iopub.status.busy": "2024-02-17T19:20:51.261989Z",
     "iopub.status.idle": "2024-02-17T19:21:50.701948Z",
     "shell.execute_reply": "2024-02-17T19:21:50.700995Z"
    },
    "papermill": {
     "duration": 59.458946,
     "end_time": "2024-02-17T19:21:50.704642",
     "exception": false,
     "start_time": "2024-02-17T19:20:51.245696",
     "status": "completed"
    },
    "tags": []
   },
   "outputs": [
    {
     "data": {
      "text/html": [
       "<div>                            <div id=\"65d9dff9-f933-4660-b7d8-cf16618c2fd4\" class=\"plotly-graph-div\" style=\"height:400px; width:800px;\"></div>            <script type=\"text/javascript\">                require([\"plotly\"], function(Plotly) {                    window.PLOTLYENV=window.PLOTLYENV || {};                                    if (document.getElementById(\"65d9dff9-f933-4660-b7d8-cf16618c2fd4\")) {                    Plotly.newPlot(                        \"65d9dff9-f933-4660-b7d8-cf16618c2fd4\",                        [{\"line\":{\"color\":\"#53808D\",\"width\":2},\"name\":\"Training\",\"x\":[0,1,2,3,4,5,6,7,8,9,10,11,12,13,14,15,16,17,18,19,20,21,22,23,24,25,26,27,28,29,30,31,32,33,34,35,36,37,38,39,40,41,42,43,44,45,46,47,48,49,50,51,52,53,54,55,56,57,58,59,60,61,62,63,64,65,66,67,68,69,70,71,72,73,74,75,76,77,78,79,80,81,82,83,84,85,86,87,88,89,90,91,92,93,94,95,96,97,98,99,100,101,102,103,104,105,106,107,108,109,110,111,112,113,114,115,116,117,118,119,120,121,122,123,124,125,126,127,128,129,130,131,132,133,134,135,136,137,138,139,140,141,142,143,144,145,146,147,148,149,150,151,152,153,154,155,156,157,158,159,160,161,162,163,164,165,166,167,168,169,170,171,172,173,174,175,176,177,178,179,180,181,182,183,184,185,186,187,188,189,190,191,192,193,194,195,196,197,198,199,200,201,202,203,204,205,206,207,208,209,210,211,212,213,214,215,216,217,218,219,220,221,222,223,224,225,226,227,228,229,230,231,232,233,234,235,236,237,238,239,240,241,242,243,244,245,246,247,248,249,250,251,252,253,254,255,256,257,258,259,260,261,262,263,264,265,266,267,268,269,270,271,272,273,274,275,276,277,278,279,280,281,282,283,284,285,286,287,288,289,290,291,292,293,294,295,296,297,298,299,300,301,302,303,304,305,306,307,308,309,310,311,312,313,314,315,316,317,318,319,320,321,322,323,324,325,326,327,328,329,330,331,332,333,334,335,336,337,338,339,340,341,342,343,344,345,346,347,348,349,350,351,352,353,354,355,356,357,358,359,360,361,362,363,364,365,366,367,368,369,370,371,372,373,374,375,376,377,378,379,380,381,382,383,384,385,386,387,388,389,390,391,392,393,394,395,396,397,398,399,400,401,402,403,404,405,406,407,408,409,410,411,412,413,414,415,416,417,418,419,420,421,422,423,424,425,426,427,428,429,430,431,432,433,434,435,436,437,438,439,440,441,442,443,444,445,446,447,448,449,450,451,452,453,454,455,456,457,458,459,460,461,462,463,464,465,466,467,468,469,470,471,472,473,474,475,476,477,478,479,480,481,482,483,484,485,486,487,488,489,490,491,492,493,494,495,496,497,498,499,500,501,502,503,504,505,506,507,508,509,510,511,512,513,514,515,516,517,518,519,520,521,522,523,524,525,526,527,528,529,530,531,532,533,534,535,536,537,538,539,540,541,542,543,544,545,546,547,548,549,550,551,552,553,554,555,556,557,558,559,560,561,562,563,564,565,566,567,568,569,570,571,572,573,574,575,576,577,578,579,580,581,582,583,584,585,586,587,588,589,590,591,592,593,594,595,596,597,598,599,600,601,602,603,604,605,606,607,608,609,610,611,612,613,614,615,616,617,618,619,620,621,622,623,624,625,626,627,628,629,630,631,632,633,634,635,636,637,638,639,640,641,642,643,644,645,646,647,648,649,650,651,652,653,654,655,656,657,658,659,660,661,662,663,664,665,666,667,668,669,670,671,672,673,674,675,676,677,678,679,680,681,682,683,684,685,686,687,688,689,690,691,692,693,694,695,696,697,698,699,700,701,702,703,704,705,706,707,708,709,710,711,712,713,714,715,716,717,718,719,720,721,722,723,724,725,726,727,728,729,730,731,732,733,734,735,736,737,738,739,740,741,742,743,744,745,746,747,748,749,750,751,752,753,754,755,756,757,758,759,760,761,762,763,764,765,766,767,768,769,770,771,772,773,774,775,776,777,778,779,780,781,782,783,784,785,786,787,788,789,790,791,792,793,794,795,796,797,798,799,800,801,802,803,804,805,806,807,808,809,810,811,812,813,814,815,816,817,818,819,820,821,822,823,824,825,826,827,828,829,830,831,832,833,834,835,836,837,838,839,840,841,842,843,844,845,846,847,848,849,850,851,852,853,854,855,856,857,858,859,860,861,862,863,864,865,866,867,868,869,870,871,872,873,874,875,876,877,878,879,880,881,882,883,884,885,886,887,888,889,890,891,892,893,894,895,896,897,898,899,900,901,902,903,904,905,906,907,908,909,910,911,912,913,914,915,916,917,918,919,920,921,922,923,924,925,926,927,928,929,930,931,932,933,934,935,936,937,938,939,940,941,942,943,944,945,946,947,948,949,950,951,952,953,954,955,956,957,958,959,960,961,962,963,964,965,966,967,968],\"y\":[1.8868419109936063,1.846048888919227,1.8071100074348456,1.772647024979452,1.7356021598678777,1.7034082026465407,1.6718424195703376,1.643293045121769,1.612946959300483,1.5856462460795633,1.5551566933289116,1.5324097252979143,1.5107050550237866,1.4828936690311012,1.4584240831464035,1.4294041605055412,1.4104746108140322,1.3901847135028425,1.367605900460089,1.3467996572457082,1.3308732901940274,1.308633663186379,1.2873728123886459,1.26579902346267,1.2471905623695967,1.231660157693774,1.2146847367343834,1.1998805485224677,1.183390908437194,1.1658595896434407,1.1501796810108775,1.1308008245011003,1.1170217465772547,1.1004704492520003,1.0839612826261646,1.070170479018036,1.0564600021813235,1.0433384491442865,1.0292593429025338,1.0161149010815311,1.0023692535990134,0.9893478728331528,0.9767296480645414,0.9637574053735984,0.9523562085460722,0.9402710008054246,0.9276066622827852,0.9172955820379288,0.9060322806893065,0.8940743956696624,0.8814888364950311,0.8701554569104828,0.860223096133953,0.8492400633882943,0.8404765358830529,0.829477418983984,0.8211511865630116,0.812034320834492,0.8027480061995932,0.7935967267378081,0.7845190437920482,0.7752004765612032,0.767469548069841,0.759912915472313,0.7521674065333427,0.7432949006939064,0.7352110934101204,0.7278935371234657,0.7201947865130779,0.71259245270099,0.7044526100086839,0.6972492323119314,0.6895904318543371,0.6831699685222582,0.6774177016999209,0.6726948109117725,0.6668081936330648,0.6601226358884579,0.6542455460153433,0.6487164628445506,0.6433526335652875,0.6382826945360716,0.6327282501327481,0.6265383734164784,0.621825224550997,0.6158261667534377,0.6115941078956116,0.6068092114539212,0.6015395111273361,0.5962509166139679,0.5910545503212368,0.5870228936879885,0.5829923588928867,0.5774561732420492,0.5715745782407676,0.5672335824620479,0.5620190304590873,0.5575466433949041,0.5535316907767227,0.5494424370687035,0.5460438486639946,0.5415281384456345,0.5377705136666971,0.5327884061681482,0.5288918597932587,0.524760762650321,0.5202424968075346,0.5166345636884058,0.5123639720687505,0.5084243660361776,0.5041448719055355,0.5003800769358637,0.4970379924174706,0.49423345670246954,0.4900637023011622,0.48615617703281666,0.4831618984087964,0.48000957589367726,0.47736056734698096,0.4740287387583992,0.47100178636324597,0.4677637198568681,0.4650186265271022,0.4615673772276346,0.4584075874566391,0.4553123776346033,0.4525949582371418,0.44951308024752196,0.4461691854595676,0.44338393422633066,0.44130185934405164,0.4386754575864842,0.43551967547388076,0.4328151184281812,0.43009345289449064,0.42812001770628133,0.4259319410266633,0.423197836025398,0.4201951613374803,0.4176644717575619,0.4153323416401909,0.4131366757794922,0.41084421015503814,0.40835705224033664,0.40618489529007085,0.4042904979781958,0.4024915879669191,0.4002437497336979,0.39783412954151387,0.39631188367807174,0.3941428633123334,0.3916218127558437,0.3894702808854538,0.387401156385947,0.3850797204446974,0.38319173748394164,0.381098523333836,0.3790863714071142,0.3771346388491155,0.3750764714164595,0.37366751168034784,0.37138590232400776,0.36944333717141997,0.3678305937204038,0.36576573996810624,0.36418275592905613,0.3628636029179224,0.3614924731380547,0.35982635982115657,0.3583532770237996,0.35676890552666307,0.3553915048868768,0.35382479167207004,0.35226674117574724,0.3507041456156263,0.3492826545284321,0.3476987779172175,0.34614511098864603,0.34464162434080675,0.3432253190884307,0.34155000039468675,0.33985471980512905,0.3385585303299426,0.3370027956033209,0.33588972343640916,0.33453411114892173,0.3334955306367545,0.33231055846386076,0.330726810476936,0.3294453388780836,0.3283955375066174,0.326932046203659,0.32549862421420545,0.32427758481561286,0.3232283819012332,0.32203101415727003,0.3205277451128126,0.31915944578636074,0.3179127799454337,0.3168327572205612,0.31565232623269457,0.3143486506187546,0.31308881993971105,0.3118819439369974,0.31099183687174015,0.3097719924700646,0.308486085988237,0.3073816006035412,0.30642091359211004,0.30548165480605477,0.3043515392302297,0.303332898648411,0.3020129233547579,0.30090446196405174,0.2998259902242963,0.2989272135935052,0.2978009805977847,0.29694013984176754,0.29609080985505876,0.29514500140690547,0.2942692113863111,0.29349144782359676,0.2926497738258,0.2916879643763796,0.29084230721375304,0.2897834067991624,0.2888793126078256,0.28797760098454805,0.28707514965671105,0.28622785311582793,0.2853023227915634,0.2845665517997354,0.28376518941365414,0.2830987857652272,0.2824167853691153,0.2815078532038388,0.28073424969407224,0.27993719412620255,0.279160126662086,0.2784530228620564,0.27761300502512,0.27685369957136663,0.27607132346919405,0.275229018358806,0.27446768933816496,0.27365778975096716,0.2728246576470265,0.2720909916811883,0.27127462171590516,0.270678049768921,0.26993374726624797,0.2693011498550652,0.2686009592029484,0.26791480259052436,0.26733405500025764,0.26670613471504295,0.26595845935915624,0.2652698242223359,0.2646822642815681,0.2640089137448301,0.2632410641542105,0.26258350069468694,0.2620286081442021,0.26141558798772113,0.2607607796257431,0.26000080878828274,0.2594557218572055,0.25883941561286716,0.2582936890821403,0.25784039658799524,0.2572608640343381,0.25677989885538166,0.2561482544502316,0.2555408724850597,0.2549395663785221,0.25438453290301943,0.25386176469006183,0.25348938712232766,0.2530125775374185,0.2525005611219403,0.2520185510499861,0.2514694238012677,0.2509316857386733,0.25030963157091,0.24971416724297144,0.24923741939393265,0.2486575747927161,0.24807000212997424,0.24748805681399116,0.24686829522572534,0.2463977150601174,0.24596417414563845,0.24546722228394116,0.24507646918598572,0.2446220776488773,0.24411278081395987,0.24353675220391358,0.2431165674502893,0.24263726391343132,0.24219023923911318,0.24166197939077674,0.24132016890285204,0.240784271854951,0.24046822635005125,0.24007265005557224,0.23973580820455156,0.2393462904512228,0.23889262940171185,0.23845717117901574,0.2380211561172348,0.2375498916936083,0.23714176750261867,0.23669447579750005,0.2362358503532247,0.2358116342648556,0.23529324772626123,0.23480729781488036,0.23439774516534598,0.23394388718014014,0.23351801201619124,0.23309280801564375,0.2327331872932065,0.23226789839435455,0.2318272862972393,0.2313992650470369,0.23115870923282916,0.23080576975512979,0.23031071113185597,0.22990621199309716,0.22956249320947925,0.2292473815303534,0.2288012007884026,0.22841669922173274,0.2280082949683271,0.2276885186169497,0.22721457543219148,0.22686529198446403,0.22648993917334845,0.22617367898697968,0.2258787533019923,0.22549905917831145,0.2251850420159018,0.22481360085355806,0.22441741617815292,0.224141777598483,0.22381911817697034,0.22342699624049184,0.22304172339597092,0.22275335861926424,0.2223877507663461,0.22196906592057972,0.22163674833762623,0.22124303018287467,0.22086050950348415,0.2204818539639848,0.2201962664026729,0.2198219800204993,0.21952009160989036,0.21916896993137197,0.21880553153360624,0.2184388623298397,0.2181249088007659,0.21780960045034514,0.21751854761660458,0.2172561319272299,0.21698533784235335,0.21660523274157933,0.216271786652047,0.21591494982467885,0.21555205054509335,0.2152863142820492,0.2148947400438045,0.2145929099012323,0.2142542631556977,0.21399522295968051,0.2137690398709568,0.21346495576774902,0.21311426817277887,0.21276328436822226,0.21250719955601535,0.2122282688784533,0.21194991504254534,0.2116517670186929,0.2113225639286208,0.211030829086485,0.21079335452500128,0.21055362930743157,0.21018178614079286,0.2097940740436926,0.2095202295476829,0.20921471603745218,0.20895199126044417,0.2086739112917312,0.20840417817540877,0.20804758393390446,0.20777212354481403,0.20753342190022972,0.20724940222832183,0.2069504497977445,0.20670851046857242,0.20633984350345633,0.20602228162743308,0.20574414746383501,0.20544310964149218,0.2051575491309463,0.20494345455902702,0.20467956224068928,0.20439853360685256,0.20410943208513796,0.2038673325333677,0.2036494364294978,0.20338441271682509,0.20309880878467979,0.20285449953745083,0.2025834549883147,0.2023215236640126,0.2020024755089518,0.20175755497522288,0.2014838661607573,0.20126371727091358,0.2009944561068549,0.20079827549102547,0.20053371794242303,0.20027583948709016,0.20006057708963756,0.1998389414992237,0.19966576930578891,0.19945294932133162,0.19924476523979878,0.19898930769179612,0.19870076876400516,0.19852622520981275,0.1983045175512916,0.1980309304403352,0.1978062773820278,0.19757136589471877,0.1973534683202724,0.19713726154800443,0.19691227255781077,0.19671111924998239,0.19646235376509855,0.19623032248959568,0.19606794188876517,0.19580588739700738,0.19554343860446516,0.1952975818900826,0.19505817132350312,0.19481838805849408,0.19458020659457995,0.194343024493883,0.1941453526997973,0.19389491196094574,0.19371421919734882,0.19342308652053544,0.19319732035294646,0.19301067051932863,0.19282197901174108,0.1926137124536453,0.192374435190715,0.19221276125548137,0.19201660776610643,0.19177885818609633,0.19154695792824505,0.19128992535559872,0.19109411971679763,0.19093333246519337,0.1907246360014858,0.19050400106665702,0.19028634533034364,0.19007204434364836,0.18987755884554813,0.18965006745977792,0.18941651836355125,0.18920590043302118,0.18898611044421967,0.18881105271610288,0.1885995080449516,0.18842315745102745,0.188213199723317,0.18797177659947975,0.18777938188563884,0.18755946131288434,0.18738995646591028,0.18716220780924406,0.1869720422963139,0.18676719848497927,0.18661764087168972,0.1864653919349032,0.18632452511742678,0.18613715629961122,0.18591998490005215,0.18569286063390078,0.18553102291398743,0.18539660426051088,0.18518197993228097,0.18498447057160416,0.1847728299570636,0.18456966673745834,0.18438569947311817,0.18422725274868382,0.18402325938891653,0.1838226250941278,0.18363516705443936,0.18349959981301328,0.1833553199644702,0.18317264427901783,0.18300134599215112,0.18280513230486956,0.18265842269304233,0.18247944427780463,0.18232901975107746,0.18219653054575485,0.18199737431882543,0.1818161719369705,0.18164007242043004,0.18147007227902162,0.18130637829810684,0.18115480113806867,0.18096602807351797,0.18079118304389816,0.18059528090832924,0.18044568906703948,0.1802157619442621,0.18004196513731338,0.1799003758288163,0.17974468169704114,0.17958678265443084,0.17944031259591378,0.17925339590676076,0.17902786721915856,0.17885164034229803,0.17866847610022082,0.17848897712409187,0.17831985351818788,0.1781914274513239,0.1780239730803818,0.17789753624899618,0.17768852257571854,0.17753448593080212,0.17730855615875524,0.1771374088139265,0.17696647419933775,0.17683410319975743,0.1766753758303415,0.17649372894502174,0.17632290897883815,0.17619922956681355,0.17601469134231731,0.17589612650551548,0.17572178147259113,0.17554478572011226,0.17543417434057015,0.1752782092218472,0.175155860325377,0.17503535673554263,0.1748827232730443,0.174723358281804,0.17459267698779207,0.17447610475089737,0.1743312792534288,0.17424092485109144,0.17409829043741049,0.17393718305362466,0.17380182963854898,0.17364238451110162,0.17349827242325924,0.17335017300430192,0.17322955761441722,0.1730677532966358,0.1729031958305732,0.17267916981052453,0.17249886551080673,0.17235361157172827,0.17223777846572316,0.17205100923090796,0.17193993156815843,0.17179134501850257,0.17164029773422795,0.17146404390617428,0.1713282895114472,0.1711799189012898,0.17101791262660276,0.17085624119879705,0.17069327903114342,0.1705005818053549,0.17036820540397532,0.17022392637567224,0.17006103520240623,0.16991403943912756,0.16977419341860725,0.1696463425179739,0.16951780577488093,0.16941002720744225,0.16921998519878736,0.1691077349124035,0.16897054753750493,0.1688351016840442,0.16865910470130666,0.16853547066167357,0.16842053656144387,0.16828028863935468,0.16813760897560512,0.16801966688378356,0.16789210468018562,0.16775836515409068,0.167584983990473,0.16740774543008713,0.16725231472635174,0.16712969041011688,0.16698815830157007,0.16687620581611096,0.16676422919513312,0.16667862219004312,0.166514564098826,0.1663584057075334,0.1662252515136789,0.16612994662050773,0.16601260115145874,0.1658954977744909,0.16576851984048666,0.16561414152566864,0.1655167082559628,0.16540419562135533,0.1652766758681403,0.1651643744382439,0.165066714111792,0.16496055891424752,0.1648175001157864,0.16466155133626256,0.16455238091161747,0.16438461510119165,0.16424475046720008,0.16411945020720714,0.16396927229734723,0.1638664721303649,0.1637296753089505,0.16357840848132735,0.1634635710072344,0.1633513844929642,0.1632383301327988,0.16311909178577624,0.1629748800438448,0.16284616602141064,0.16278503487829993,0.16265720975600667,0.1625293236002793,0.16238809055020118,0.16226528384000014,0.16212031183873923,0.1620176180596596,0.16189202547671794,0.16175398268440894,0.1616338746896197,0.16153246472684965,0.16140434097378217,0.16129290087393683,0.16117427461304676,0.1610582910082964,0.16093713039633845,0.16082123820637445,0.16068273219095006,0.1605475577195399,0.16041588114196584,0.16029029356578536,0.16019292434060087,0.16008356289360473,0.15998391055182667,0.1598657089628257,0.15974678708867532,0.15966164904603797,0.15955878092601775,0.15945241660161752,0.15931996284793318,0.15921507883591476,0.15914092451683573,0.15903617389000418,0.15894901804922,0.15881540597310428,0.15868333370604995,0.15855233565182267,0.1584529209417015,0.1583438649085946,0.1582277535331489,0.1581191350659357,0.15799967499701306,0.15786255589761186,0.15775108121911657,0.15763206166083044,0.15753661246004558,0.1574409633260649,0.15731624724289756,0.15721829704229884,0.15709360074469528,0.15697264033614275,0.15686311680282713,0.15673742445012145,0.156636235056531,0.1565108409644439,0.15639110912859644,0.15629157248713266,0.15614312040108597,0.15600765572231837,0.15590092515150078,0.15577183144560877,0.15569095189872026,0.1556067349553147,0.15547437378420004,0.15537720632030863,0.155261798027369,0.15514215212432594,0.15504812435143814,0.15494701136956532,0.1548747483169704,0.15475622895584198,0.15463571711776822,0.15451850238131368,0.15437776638652312,0.15427184914090067,0.15415748770191315,0.15401755831172378,0.15393119707481603,0.1538218498654967,0.15371333873972837,0.15361591229094054,0.15349999634860348,0.15340986312322866,0.15327439300428494,0.15316313784369262,0.1530537553371545,0.15299197542101436,0.1528932543849961,0.15279312338191242,0.15269840892421724,0.15257443970426587,0.15246627427543946,0.1523393622647485,0.15226098117844308,0.15220067471856227,0.15210601859207315,0.15201237752836327,0.15193914567592878,0.15182968866138752,0.15175110585847035,0.1516564117018264,0.15154697960699748,0.15144340120998903,0.15132684766148047,0.15124378285576376,0.1511177226813933,0.15102199667935517,0.15091181625587988,0.1507979287871951,0.15069014882914275,0.15057428337517315,0.150446770078898,0.15034174547413334,0.15021311887584568,0.15012863743116014,0.15004200479178043,0.14996097120254875,0.1498571404334269,0.1497631543996152,0.14966204952839407,0.14957847658449147,0.149498071034106,0.14939813016836404,0.14931729865776358,0.1492160734218323,0.14908466832272943,0.14901052258172762,0.14889029749524774,0.14880145135904382,0.1487193096622481,0.14863624063395625,0.14852455457446853,0.14844343472089028,0.1483515724438815,0.14823933962762043,0.14814596665860744,0.1480322992482839,0.14793228012158585,0.14786107442431937,0.14776507259732358,0.14766712452531627,0.1475714509167075,0.14746224066034044,0.14735717366865222,0.1472547050708118,0.14715947458528075,0.14705733530582812,0.14697015252349055,0.14689789237734455,0.14678748891649016,0.14667294508440176,0.14656055992903183,0.1464568397309407,0.14636209001854758,0.14629272722168038,0.1461944577220504,0.14611507255366504,0.14601844387592752,0.1459399889896822,0.14585890317449493,0.14577453552051453,0.14570320843063697,0.14559433580115544,0.1455140786522864,0.14543607611703846,0.1453696638786087,0.14525571497672898,0.14518513686967013,0.14510988127518326,0.14500289330121316,0.14488791605818693,0.14480750887611227,0.14469955316490266,0.14460171167229827,0.14451392437801822,0.1444280827063415,0.1443632925566852,0.14427590733153353,0.14420024022987946,0.14412082928589637,0.1440454943919849,0.1439513632079215,0.14384606801018016,0.14378317720321407,0.1436808806984249,0.14359296395215954,0.14347935638763037,0.1433875355730801,0.14327744585696472,0.14321631892970912,0.14311283168873623,0.14304677466963622,0.1429922709105933,0.14289662476029208,0.14282029544823346,0.14272645695137087,0.14263422660170622,0.1425408447113413,0.14246804999954982,0.14236271642145404,0.14229068645833778,0.14219582466472147,0.1421193625174143,0.14205639853007387,0.14195761598842757,0.14187121218110293,0.14177963351971867,0.1417140789295599,0.14164765852004269,0.14156049380949287,0.14147508170750947,0.14139070175290983,0.14132759437519832,0.1412354985364855,0.14113513403119896,0.1410683734599402,0.14096878658577627,0.1408824298814602,0.1407911841241386,0.1407131183198186,0.1406682423029691,0.14056781118566097,0.1404885655428078,0.14041634554960772,0.14034425564192235,0.1402738735047169,0.14021043906268973,0.14013916542182112,0.1400475981310564,0.13996776311776438,0.1398918192419131,0.1398026081230697,0.1397540570708266,0.13970805730760397,0.13963513396085195,0.1395810464153464,0.1395189214950345,0.1394432774975679,0.13937055311665641,0.139294075784817,0.1392005832136057,0.13912162028294583,0.13905540526425442,0.13897803065135633,0.13890028742155536,0.13880419283714318,0.13873023423917286,0.13868023181193617,0.1386040441366384,0.1385305205999867,0.13843738408643402,0.13837422417337122,0.13829831308619953,0.13819435392541954,0.13811929395594386,0.13804524008768276,0.13797887791979516,0.1379080270890337,0.1378225220653953,0.1377374145731649,0.13766045478501737,0.137595035696446,0.13753950102957138,0.13748116732269597,0.13739607354537886,0.13733765295798028,0.13725451142448006,0.13716666311888162,0.1370864877720933,0.137015200464432,0.13695196347742267,0.136880313455526,0.13678615186915172,0.13670710879780293,0.1366372019164825,0.13658045206881916,0.13652601270236894,0.13647364098286982,0.13638685016873997,0.13633202809203404,0.1362697630962117,0.13619313117884427,0.1361239319191175,0.13605013121252177,0.13596167724886415,0.1358717760414795,0.13578475764226933,0.13570748268121707,0.135601433024241,0.1355285263160392,0.13545410581463932,0.13536973978612377,0.13527906921764768,0.13519962172759253,0.1351433985558586,0.13505210616098956,0.1349682345166043,0.1349034320138007,0.1348684990623774,0.13478781799123507,0.13471581981402264,0.13464426122800274,0.13456939190579356,0.13451373383252077,0.13446194368665298,0.1343831570941894,0.13430680473533987,0.13426644367279852,0.13420596854714,0.1341332988221598,0.1340553816204466,0.13399181662992973,0.13391605934825396,0.13384362015919296,0.13378495221869946,0.13372828553703195,0.1336741654204073,0.1336168664908607,0.13355317655033677,0.1334787251460212,0.13340730712788107,0.1333387935810821,0.1332715457040525,0.13322192471477265,0.13315789682678153,0.1331068530702024],\"type\":\"scatter\"},{\"line\":{\"color\":\"#FC4C02\",\"width\":2},\"name\":\"Validation\",\"x\":[0,1,2,3,4,5,6,7,8,9,10,11,12,13,14,15,16,17,18,19,20,21,22,23,24,25,26,27,28,29,30,31,32,33,34,35,36,37,38,39,40,41,42,43,44,45,46,47,48,49,50,51,52,53,54,55,56,57,58,59,60,61,62,63,64,65,66,67,68,69,70,71,72,73,74,75,76,77,78,79,80,81,82,83,84,85,86,87,88,89,90,91,92,93,94,95,96,97,98,99,100,101,102,103,104,105,106,107,108,109,110,111,112,113,114,115,116,117,118,119,120,121,122,123,124,125,126,127,128,129,130,131,132,133,134,135,136,137,138,139,140,141,142,143,144,145,146,147,148,149,150,151,152,153,154,155,156,157,158,159,160,161,162,163,164,165,166,167,168,169,170,171,172,173,174,175,176,177,178,179,180,181,182,183,184,185,186,187,188,189,190,191,192,193,194,195,196,197,198,199,200,201,202,203,204,205,206,207,208,209,210,211,212,213,214,215,216,217,218,219,220,221,222,223,224,225,226,227,228,229,230,231,232,233,234,235,236,237,238,239,240,241,242,243,244,245,246,247,248,249,250,251,252,253,254,255,256,257,258,259,260,261,262,263,264,265,266,267,268,269,270,271,272,273,274,275,276,277,278,279,280,281,282,283,284,285,286,287,288,289,290,291,292,293,294,295,296,297,298,299,300,301,302,303,304,305,306,307,308,309,310,311,312,313,314,315,316,317,318,319,320,321,322,323,324,325,326,327,328,329,330,331,332,333,334,335,336,337,338,339,340,341,342,343,344,345,346,347,348,349,350,351,352,353,354,355,356,357,358,359,360,361,362,363,364,365,366,367,368,369,370,371,372,373,374,375,376,377,378,379,380,381,382,383,384,385,386,387,388,389,390,391,392,393,394,395,396,397,398,399,400,401,402,403,404,405,406,407,408,409,410,411,412,413,414,415,416,417,418,419,420,421,422,423,424,425,426,427,428,429,430,431,432,433,434,435,436,437,438,439,440,441,442,443,444,445,446,447,448,449,450,451,452,453,454,455,456,457,458,459,460,461,462,463,464,465,466,467,468,469,470,471,472,473,474,475,476,477,478,479,480,481,482,483,484,485,486,487,488,489,490,491,492,493,494,495,496,497,498,499,500,501,502,503,504,505,506,507,508,509,510,511,512,513,514,515,516,517,518,519,520,521,522,523,524,525,526,527,528,529,530,531,532,533,534,535,536,537,538,539,540,541,542,543,544,545,546,547,548,549,550,551,552,553,554,555,556,557,558,559,560,561,562,563,564,565,566,567,568,569,570,571,572,573,574,575,576,577,578,579,580,581,582,583,584,585,586,587,588,589,590,591,592,593,594,595,596,597,598,599,600,601,602,603,604,605,606,607,608,609,610,611,612,613,614,615,616,617,618,619,620,621,622,623,624,625,626,627,628,629,630,631,632,633,634,635,636,637,638,639,640,641,642,643,644,645,646,647,648,649,650,651,652,653,654,655,656,657,658,659,660,661,662,663,664,665,666,667,668,669,670,671,672,673,674,675,676,677,678,679,680,681,682,683,684,685,686,687,688,689,690,691,692,693,694,695,696,697,698,699,700,701,702,703,704,705,706,707,708,709,710,711,712,713,714,715,716,717,718,719,720,721,722,723,724,725,726,727,728,729,730,731,732,733,734,735,736,737,738,739,740,741,742,743,744,745,746,747,748,749,750,751,752,753,754,755,756,757,758,759,760,761,762,763,764,765,766,767,768,769,770,771,772,773,774,775,776,777,778,779,780,781,782,783,784,785,786,787,788,789,790,791,792,793,794,795,796,797,798,799,800,801,802,803,804,805,806,807,808,809,810,811,812,813,814,815,816,817,818,819,820,821,822,823,824,825,826,827,828,829,830,831,832,833,834,835,836,837,838,839,840,841,842,843,844,845,846,847,848,849,850,851,852,853,854,855,856,857,858,859,860,861,862,863,864,865,866,867,868,869,870,871,872,873,874,875,876,877,878,879,880,881,882,883,884,885,886,887,888,889,890,891,892,893,894,895,896,897,898,899,900,901,902,903,904,905,906,907,908,909,910,911,912,913,914,915,916,917,918,919,920,921,922,923,924,925,926,927,928,929,930,931,932,933,934,935,936,937,938,939,940,941,942,943,944,945,946,947,948,949,950,951,952,953,954,955,956,957,958,959,960,961,962,963,964,965,966,967,968],\"y\":[1.8875126560549096,1.8473596164848165,1.8095628580676861,1.7758808365473309,1.7393837231127094,1.7077367707347915,1.6765346773674268,1.6488026738883466,1.6187032750519825,1.5921420020567418,1.56205193460828,1.5398728740573453,1.5188824773567267,1.4912517825292801,1.467399739945025,1.4385268818777952,1.4200393890263312,1.4000528825011958,1.3778350400280481,1.3576379589881375,1.3419089874291836,1.3199364786784555,1.2989448749414407,1.2778211217816995,1.2595880124989183,1.244533865036247,1.2278983465947335,1.2133795718666054,1.197097609531926,1.1799720209780025,1.1646668415423398,1.1454817635730037,1.1321470233530957,1.115880930602906,1.0998410058885109,1.0863889770324398,1.07294997582545,1.0599959777245143,1.0460233119779685,1.0332766231077894,1.019759832460491,1.0070006963127973,0.994563111136721,0.9819317298626299,0.9708357086104161,0.9590012733274192,0.9466380796853567,0.9366132688955336,0.925604183821873,0.913738255069994,0.9012635244508681,0.8901070306457272,0.8803530310056846,0.8695560091422777,0.8609618296444098,0.8501633316640833,0.8420175929889302,0.8331317804064311,0.8239495738228022,0.8150587575595456,0.8062471290476404,0.7971369722602213,0.7895187294841413,0.7821800971626602,0.774644646874443,0.7658834313759848,0.7580248967506026,0.750965890234969,0.7434496773435674,0.7360408731338565,0.7280885210230487,0.7210031499268277,0.7134882289528481,0.7073530361603527,0.7018452397530835,0.6974010017098353,0.691736284836961,0.6851520747404126,0.6794034146795904,0.6741163420638504,0.6689738384568404,0.6641524300905508,0.6587713785265725,0.6526994745555718,0.6482129572769352,0.6423271965266604,0.638355990829597,0.6336227558060911,0.6283239216075232,0.6231294696545323,0.6180146975507583,0.6141960850284459,0.6103428443989901,0.6048679959174535,0.5991684656817277,0.5950157410427062,0.5898452526965262,0.5855938665965722,0.5817205851256775,0.5777896802192587,0.5745846628513963,0.5701349239982693,0.566569983378076,0.5615707817388492,0.5577985951920852,0.5538062668959578,0.5493856511804913,0.5459295435015237,0.5417167920470864,0.5378941473213407,0.5336995185938629,0.5301218165643854,0.5269347930589093,0.5242789039324501,0.5202014214722606,0.516394799730931,0.5136272211173178,0.5106246737400614,0.5080855137926057,0.5048551586303313,0.5019748191196997,0.49880859157334545,0.4962280649586173,0.492897390377676,0.48982236279673,0.48682789106085117,0.48429714340528196,0.4813295007432825,0.47800593351536425,0.4752821900399456,0.4732768067646559,0.4707391106176052,0.4677075963620804,0.4651729404345767,0.46256819914745034,0.4606098716411608,0.4585870165483912,0.456001259067656,0.4531028789939167,0.4506364971074736,0.44841078014198626,0.44633281326918217,0.44412680817101163,0.4417120054385639,0.43964868475058816,0.43789343569440414,0.4362337893561579,0.4341200350211252,0.4318437052216004,0.43040665907392955,0.42839036835564426,0.4259607954127248,0.4238663788943863,0.4218845582936357,0.41969998177236795,0.4179094247022678,0.4159761448485016,0.414077912950181,0.4122339980557331,0.4103730883121696,0.40908245333208676,0.40689071404254085,0.4051150861465575,0.40365420860507295,0.4016602821332377,0.40020957701545873,0.39907370070391046,0.39784001440609007,0.3963453085494551,0.3950148164534193,0.3936057502347934,0.39229712748029194,0.3908585276417842,0.3893929703418505,0.38795572046276233,0.3866473974651507,0.38517183156969853,0.38376677154766226,0.3823894568788961,0.38110733888930115,0.3795024942592277,0.3778426336714563,0.3766375913200045,0.3751490746344843,0.37413387730164366,0.3729095832809776,0.37206030916191113,0.37101868593921283,0.3695405893995005,0.3683754806037723,0.36749329932301555,0.3661424212687197,0.3648914074975289,0.36380850403918763,0.36285568680655106,0.3618122077990625,0.3604175450813783,0.3590919654691767,0.3580117421979797,0.3571100157738726,0.3560570758522528,0.35487820453614477,0.35380499386490605,0.35270984375567277,0.3519044898821898,0.3508559003665679,0.34968188230261615,0.3487332802699468,0.347931709138273,0.34713382310431234,0.3461126022746122,0.34526606444563057,0.3440337621724921,0.34304815728621946,0.3421179206798733,0.3413282773783832,0.34028872563563545,0.33951304539126875,0.33882306509118526,0.3379631547853644,0.33720024646228597,0.336586657398879,0.3358987854031373,0.33505248976638446,0.33435126745246824,0.33340092207059524,0.33255345833485705,0.3318116872379361,0.3310806897184779,0.33040225117514305,0.329537850873493,0.32889830967894657,0.3282001158294859,0.32768463135241094,0.32711511580155594,0.3262834868615478,0.32568919949322106,0.3250651418421009,0.3243788784800652,0.3238471953578493,0.3232101087849331,0.322584287429758,0.3219721006740526,0.3212638636971056,0.32071313672119556,0.3200940972215405,0.3194029639725108,0.31880733654762633,0.3180823744516978,0.31760357626496316,0.3170187737630696,0.31649912274971853,0.31598558034597235,0.31543177478356454,0.3149622300429015,0.314476109200187,0.3138958900944939,0.313374970099732,0.31296192052459837,0.3123905108412639,0.3117096057315616,0.31117782552249135,0.31076718036556894,0.3103079413762057,0.30980911074414397,0.30919251594033703,0.30880086396623085,0.30833176727385025,0.30789124751822666,0.30753437901033187,0.3070581150318426,0.30675088083766666,0.3062390204338174,0.30578863673942397,0.3053371065628462,0.30486353665297367,0.3045110117393287,0.30425590467577573,0.303895162405295,0.3034687582392755,0.30312910108376884,0.30270253745712267,0.3022660930455382,0.30182080206018425,0.3013288034452521,0.30100200067235017,0.3005747578349063,0.30007764875425497,0.29958960545749247,0.29912108762199685,0.2987523257055983,0.2984292890811059,0.2981315963707162,0.29785449576085105,0.29749954677957696,0.2971551961548507,0.2966595211283541,0.2963288474836085,0.29600846962438876,0.2957203440289185,0.2953601515208161,0.29508357684404585,0.2946768425232149,0.2944945097509866,0.2942138991523277,0.2940194174501168,0.293790331174826,0.2934521804080432,0.29311124067903627,0.29279988028300813,0.29247431236421506,0.29217287525212954,0.2918897692071071,0.29154813861971507,0.29125307984361387,0.2908840066594374,0.2905475132974118,0.29029173464123403,0.289934183359429,0.28965586237959345,0.2893668629277628,0.28915795534524863,0.28889097393966645,0.2885436663964843,0.28825040190070256,0.2880490699028014,0.28782089237678465,0.28749281840287755,0.2872099939382286,0.28701876568161344,0.2868197456927746,0.2865322715485071,0.28630846056938936,0.28608113819116326,0.28588965677684275,0.2855630946142822,0.2853614601104907,0.285100794322005,0.2849157984642924,0.2847223406483436,0.2844465921545237,0.28426250720791085,0.2840358257824975,0.28375584758476224,0.2835841986526871,0.28336366301781307,0.283134007576166,0.282838212111168,0.2826521397020152,0.2824055388302623,0.2821687399021354,0.2819992773928493,0.28167630894716583,0.28146477185493185,0.2812147722608007,0.2810382133666334,0.2808848064326596,0.2807020047626069,0.2804582669898212,0.2802336362346335,0.27999220192737245,0.2798113309219705,0.27958456084584543,0.27940612309820073,0.2792176855999262,0.27909215706916396,0.27885937247271136,0.27868151470588337,0.2784686353727741,0.2782937708672355,0.278133649076122,0.2778894121752487,0.2776720973206698,0.27745232783372503,0.27731102451379114,0.2771785639857807,0.27697920613285293,0.2767597928170809,0.276557116407376,0.27645662973740226,0.27625362811176674,0.27608800081029206,0.2759186953351258,0.2757262198230739,0.27556356223612655,0.27542349395118737,0.27528301237402564,0.2750936579719242,0.2748067502500457,0.2746737332250027,0.2745070030316063,0.2743407370062807,0.2741559491613839,0.2740133470170031,0.27380877501701334,0.2736523196386083,0.27353638563044474,0.27335105565058726,0.27316722105636504,0.2730722266487613,0.2728970317853829,0.27275898225280215,0.2725789220036086,0.2724118801620618,0.272286934112935,0.2721806981061878,0.27203527909678477,0.27186289987846335,0.2717157814915382,0.27163204913374556,0.2715594588618267,0.2714685827092011,0.2713356348434762,0.27123441112139796,0.2710709203141241,0.2709095698783835,0.2707504828027867,0.2706254707177291,0.2704962148108967,0.2704136742227287,0.2702939512189466,0.27018028001321065,0.2700808116961052,0.2699679071237925,0.2698655179000452,0.26976145035404536,0.26966954908634705,0.2695746613625323,0.2694680080083587,0.2693570597721909,0.2692422438538905,0.2691510823171996,0.2690676714506136,0.2689158422917933,0.2688247247712024,0.26867782390924466,0.2685647758345372,0.2684801811154714,0.26841701496137665,0.26834116125549773,0.2682003230363076,0.26806348512097905,0.2680066287387631,0.2678891236748785,0.26776780023084706,0.2676127401553465,0.26750337148036846,0.2674609725942844,0.267335139944491,0.26718762055017264,0.2671127623347927,0.26698990786220766,0.26692723390687184,0.26680083978742897,0.2667111088333289,0.2666558651831528,0.266578228848258,0.26649444834476166,0.26637624796856596,0.2662731494897811,0.2662381586863378,0.2661543509137656,0.26607067455065025,0.26596916787023694,0.2658918825456019,0.26581290069076785,0.26566820102307653,0.26562015103532305,0.26553937532924304,0.2654228938167712,0.2653301992129422,0.2652147352917844,0.265147944222918,0.2650451707994212,0.2649472681932589,0.26485829168734554,0.2647677629869721,0.26467536406044223,0.26459403542311205,0.26447206345827756,0.26442179695998164,0.26429650068104776,0.2642287173169653,0.2641004937291985,0.264024344206261,0.26391952699702304,0.26385686605618774,0.26380664323469205,0.2637382875191372,0.26366191028919467,0.2636093201452667,0.26351221208020104,0.26344604411065514,0.26338600899559,0.26329440235769286,0.2632155273324212,0.2631602279376198,0.263108782516393,0.26303840052951755,0.26297096174961965,0.2628973633377175,0.26279156074013754,0.26272552225564144,0.26267749826811687,0.26263356885436456,0.2625427552561682,0.2625058823211765,0.2624532365690254,0.2624233674078893,0.2623282611079625,0.2622570023491932,0.2621971097497977,0.2621308779238249,0.2620469424293444,0.26200544402324694,0.261930392340738,0.2618754959718435,0.2618101788983128,0.2617725633132381,0.2617359966873466,0.2616953643112813,0.26166292492919685,0.2615513145824208,0.26147096919993557,0.2614350252697319,0.26139701062220533,0.26135988875881494,0.2613342735479748,0.26129633569250704,0.2611894656842531,0.2611256715888427,0.26104212262187804,0.26096553843234394,0.2609292335402139,0.2608653677001258,0.260829764229797,0.26076023621903544,0.26066529286130813,0.26059496220185063,0.26051984851283405,0.26045011695624676,0.26037899539561216,0.26032021506493463,0.2602840646088563,0.2602237906943187,0.2601796965789433,0.2601478695541529,0.2600874022638146,0.26005195948758464,0.260029061275287,0.25998228690042935,0.25996041453498087,0.2598787642852908,0.25983868517240916,0.25977503064630003,0.2597364453091095,0.2596646790641652,0.2596459255238463,0.25958906476238414,0.2595480806609295,0.2595243619818581,0.2594765295491974,0.2593876938610221,0.2593443655168407,0.25927664517568905,0.25922738256146227,0.25919848172211707,0.2591647838846032,0.2591180278324679,0.25905120703355733,0.2589790835932656,0.25890118597133904,0.25884001688482267,0.2588040759812395,0.25872901341509924,0.25869805892399167,0.2586323469413942,0.25859053569419266,0.2584997502598686,0.2584214843959922,0.2583753172012104,0.258338236053054,0.25829062375116674,0.25825398416090617,0.25820500677437225,0.2581649883398882,0.25811529498239855,0.2580839147278503,0.25803765102362525,0.2580095634281824,0.25797580560035027,0.2579495565201128,0.25791266307637395,0.25784547296073085,0.2577894363625122,0.257716645969163,0.25769106073629466,0.25764984894437276,0.2576135988406765,0.25758910289735415,0.25757056398476225,0.25755557303810434,0.2575057086025005,0.25752120042297666,0.25749098973636836,0.257476395392266,0.25745664406822577,0.2573784362103964,0.25733373791868586,0.2573188704470376,0.2572848855261104,0.25729896548761894,0.2572612779383139,0.25722952847235825,0.25719361621893744,0.25717271901019617,0.2571553929756114,0.2571199521430283,0.2570967883722945,0.2570606669771274,0.25702581772856176,0.2570149283445577,0.2570161085684301,0.2569878171937688,0.25697780626189,0.25697097175979533,0.25694578338278995,0.2569295759157827,0.25694068475068665,0.2568933557712279,0.2568222129265608,0.25678169752927693,0.25674339179442524,0.256711213951022,0.25665346350919216,0.25661836534948407,0.2566241698504164,0.2565991249337929,0.25658010328894676,0.2565598525265397,0.2565227233543589,0.25650979289114617,0.2564709487695128,0.2564645813469845,0.2564499935923711,0.2564332582030234,0.2564041226966554,0.256387208191173,0.2563501437629749,0.2563341099362233,0.25635154550840195,0.2562940306366356,0.25630272048727915,0.25626283277702405,0.2562532433802146,0.25622985964931977,0.2562034890634686,0.25618027149499834,0.2561525946407955,0.2561352083637232,0.2561111029769829,0.25608242376886087,0.2560621681380316,0.25603808025717634,0.25601708472468826,0.25596661410012306,0.2559468684632999,0.25590400970348126,0.2558722734101648,0.25583546571695104,0.25583035368180773,0.2558057266184751,0.2557812458755535,0.25575452058652415,0.25574080991713605,0.2557238821534517,0.25571475811222155,0.255692601467913,0.25566976340175845,0.2556079868647278,0.255570427497108,0.2555703220385201,0.25555593906669866,0.2555257247369368,0.2555165835404975,0.2554925709391288,0.25550833247491256,0.2554773649848426,0.2554671439596647,0.2554383967085233,0.2554388519216822,0.25543021819439066,0.2554142645998864,0.25539531649612607,0.25533241305692694,0.25527887848500513,0.25526788438333925,0.2552360303620085,0.25520996240338295,0.2551924018208931,0.25517446823281625,0.2551824459226773,0.2551768641906385,0.2551500919421305,0.25513323691276857,0.25510167221582036,0.25504530702474293,0.25501682856538577,0.254992695154692,0.2549615180764684,0.25494741444764935,0.25495233389335714,0.25495789470129737,0.2549520384197452,0.25493208756725383,0.25489936453651213,0.25487853131851157,0.25486896675825055,0.2548624232362386,0.2548348882203756,0.2548484831551539,0.2548472553368884,0.2548301002623106,0.2548097830472911,0.25479737737026953,0.25476549110737784,0.25476952175908574,0.2547520713592188,0.25473407422664124,0.2547194320079155,0.25467729112081877,0.254633416983648,0.254630312482162,0.25462445678312273,0.2546056658715818,0.2545909430365325,0.2545719250596399,0.2545601047377389,0.2545447099743515,0.254522124521933,0.25450256472122296,0.254476213053144,0.25445367481215386,0.2544315028221657,0.25440902932180404,0.25439769819404395,0.2543774015561512,0.2543780336912439,0.2543600155884671,0.25435519588013616,0.2543448914139679,0.2543242369453021,0.25429875002910324,0.2542796209619779,0.25428762153133055,0.25428455260951777,0.25428592224634794,0.2542823513773868,0.25429000630472776,0.2542573490824889,0.2542463206088938,0.2542373717807163,0.2542175688444666,0.25420862512981063,0.2541917131619351,0.2541730508897098,0.2541660303319912,0.25416347878910134,0.2541460214076321,0.25414791266355735,0.25411338790285437,0.25409634471140735,0.25408846143546304,0.25407708963175896,0.2540562263988019,0.2540482453624667,0.25406407139822845,0.2540584982853448,0.25405203212485433,0.2540437959662053,0.2540268824267224,0.2539951877060189,0.2539941017283905,0.25398256101609107,0.25397548457863667,0.2539648693358067,0.25395710427230406,0.25395755427424593,0.2539434275505922,0.2539417399914285,0.25392239020020607,0.2538953122019059,0.2538845168509113,0.2538803929073479,0.25386797255994126,0.2538524928643413,0.2538560949229693,0.2538578580612047,0.253856575801753,0.2538396300428746,0.2538484875075515,0.2538518942445399,0.25383908556012263,0.2538482463259975,0.2538419314831492,0.2538259329941316,0.25381082604969313,0.2537927310848063,0.253792600257759,0.25378783204489846,0.2537627975104363,0.25375791956690985,0.253772421771875,0.2537546315983523,0.2537505453613227,0.25374007854634384,0.2537217362232394,0.25369702123580223,0.25366716822066687,0.2536519079126259,0.2536396612360305,0.25366164333779206,0.253661239527323,0.2536494764592351,0.25363033701212195,0.25359614946865056,0.25360721633099664,0.253604878522465,0.2536197540920388,0.25364872450085546,0.2536354094632148,0.253619658848408,0.253605170734475,0.25359417534521445,0.2535963017841415,0.25358428763947544,0.25358951335357555,0.25358671347471934,0.25357999795463426,0.25357093566783323,0.2535554367819523,0.25353516784953706,0.253538969033615,0.25353210288972383,0.25352149447910777,0.25350513701366356,0.2535083491717256,0.25351864572117194,0.2535145432347835,0.2535108220202982,0.2535109467705957,0.2535049542212731,0.2534930971450464,0.25348679339704966,0.2534957371525295,0.2534906715414519,0.2534920021215008,0.2534994344401058,0.25350148072614914,0.2534880667915267,0.25345560871467837,0.2534603387343965,0.2534397821190354,0.2534367844848511,0.25341500950099655,0.2534247349450526,0.2534312026029346,0.25340861651491486,0.25341376732036697,0.2533954435839359,0.253404350269243,0.25340987875260657,0.2533990810269464,0.25338197195531775,0.25337349011441723,0.2533631769506724,0.2533536531522216,0.25332693468744233,0.253322736585134,0.2533076151452942,0.2533085867389859,0.2532926781151931,0.2532793085383676,0.2532719457778878,0.2532692354146382,0.25327173629950656,0.2532611837157875,0.2532866988659086,0.25326921667281055,0.25326843569596025,0.25325822996577035,0.25326164588930655,0.253275966482127,0.25326458069424496,0.25326152594969836,0.2532770497285815,0.2532835490452548,0.2532822221092629,0.2532850095107522,0.2532702782694125,0.2532768686072476,0.2532853763593231,0.2532905245004844,0.25327877624379436,0.25327674416316254,0.25327416807835396,0.2532680265672644,0.25326158562195294,0.2532506545153374,0.25323968673849334,0.25323861009271187,0.2532426891617283,0.25324273086961774,0.2532482806112564,0.2532545996578039,0.2532420699504282,0.2532321201588027,0.253236160876762,0.2532229364581436,0.2532151937884886,0.253211033837511,0.2531913363463909,0.2531833380134083,0.2531867757492909,0.2531795846055335,0.2531865853481712,0.2531785185007282,0.2531902219372169,0.253197367080718,0.25317674144799285,0.2531914756302237,0.25320108435714256,0.25319793332466956,0.25320680705591203,0.2532082752509714,0.25319939122815016,0.2531807742874321,0.253196589690781,0.25316870009810083,0.25318800036979994,0.2531959643342392,0.25319531652147864,0.25317942930566484,0.2531785351609287,0.253185091444795,0.25318103333469777,0.2531824012248495,0.2531894970199563,0.2531922152123872,0.25319630334396437,0.2531794652447124,0.2531827522309134,0.25317119435571017,0.2531708035195078,0.25316562347003263,0.25315079115680045,0.25316304679581597,0.2531672057942017,0.2531674946086794,0.25317489080171585,0.2531748455578105,0.25319208664660275,0.2531805191902853,0.253186431408328,0.2531914232895692,0.2531876614871041,0.25319897797804575,0.2531960140109423,0.25319475636950134],\"type\":\"scatter\"}],                        {\"template\":{\"data\":{\"barpolar\":[{\"marker\":{\"line\":{\"color\":\"white\",\"width\":0.5},\"pattern\":{\"fillmode\":\"overlay\",\"size\":10,\"solidity\":0.2}},\"type\":\"barpolar\"}],\"bar\":[{\"error_x\":{\"color\":\"#2a3f5f\"},\"error_y\":{\"color\":\"#2a3f5f\"},\"marker\":{\"line\":{\"color\":\"white\",\"width\":0.5},\"pattern\":{\"fillmode\":\"overlay\",\"size\":10,\"solidity\":0.2}},\"type\":\"bar\"}],\"carpet\":[{\"aaxis\":{\"endlinecolor\":\"#2a3f5f\",\"gridcolor\":\"#C8D4E3\",\"linecolor\":\"#C8D4E3\",\"minorgridcolor\":\"#C8D4E3\",\"startlinecolor\":\"#2a3f5f\"},\"baxis\":{\"endlinecolor\":\"#2a3f5f\",\"gridcolor\":\"#C8D4E3\",\"linecolor\":\"#C8D4E3\",\"minorgridcolor\":\"#C8D4E3\",\"startlinecolor\":\"#2a3f5f\"},\"type\":\"carpet\"}],\"choropleth\":[{\"colorbar\":{\"outlinewidth\":0,\"ticks\":\"\"},\"type\":\"choropleth\"}],\"contourcarpet\":[{\"colorbar\":{\"outlinewidth\":0,\"ticks\":\"\"},\"type\":\"contourcarpet\"}],\"contour\":[{\"colorbar\":{\"outlinewidth\":0,\"ticks\":\"\"},\"colorscale\":[[0.0,\"#0d0887\"],[0.1111111111111111,\"#46039f\"],[0.2222222222222222,\"#7201a8\"],[0.3333333333333333,\"#9c179e\"],[0.4444444444444444,\"#bd3786\"],[0.5555555555555556,\"#d8576b\"],[0.6666666666666666,\"#ed7953\"],[0.7777777777777778,\"#fb9f3a\"],[0.8888888888888888,\"#fdca26\"],[1.0,\"#f0f921\"]],\"type\":\"contour\"}],\"heatmapgl\":[{\"colorbar\":{\"outlinewidth\":0,\"ticks\":\"\"},\"colorscale\":[[0.0,\"#0d0887\"],[0.1111111111111111,\"#46039f\"],[0.2222222222222222,\"#7201a8\"],[0.3333333333333333,\"#9c179e\"],[0.4444444444444444,\"#bd3786\"],[0.5555555555555556,\"#d8576b\"],[0.6666666666666666,\"#ed7953\"],[0.7777777777777778,\"#fb9f3a\"],[0.8888888888888888,\"#fdca26\"],[1.0,\"#f0f921\"]],\"type\":\"heatmapgl\"}],\"heatmap\":[{\"colorbar\":{\"outlinewidth\":0,\"ticks\":\"\"},\"colorscale\":[[0.0,\"#0d0887\"],[0.1111111111111111,\"#46039f\"],[0.2222222222222222,\"#7201a8\"],[0.3333333333333333,\"#9c179e\"],[0.4444444444444444,\"#bd3786\"],[0.5555555555555556,\"#d8576b\"],[0.6666666666666666,\"#ed7953\"],[0.7777777777777778,\"#fb9f3a\"],[0.8888888888888888,\"#fdca26\"],[1.0,\"#f0f921\"]],\"type\":\"heatmap\"}],\"histogram2dcontour\":[{\"colorbar\":{\"outlinewidth\":0,\"ticks\":\"\"},\"colorscale\":[[0.0,\"#0d0887\"],[0.1111111111111111,\"#46039f\"],[0.2222222222222222,\"#7201a8\"],[0.3333333333333333,\"#9c179e\"],[0.4444444444444444,\"#bd3786\"],[0.5555555555555556,\"#d8576b\"],[0.6666666666666666,\"#ed7953\"],[0.7777777777777778,\"#fb9f3a\"],[0.8888888888888888,\"#fdca26\"],[1.0,\"#f0f921\"]],\"type\":\"histogram2dcontour\"}],\"histogram2d\":[{\"colorbar\":{\"outlinewidth\":0,\"ticks\":\"\"},\"colorscale\":[[0.0,\"#0d0887\"],[0.1111111111111111,\"#46039f\"],[0.2222222222222222,\"#7201a8\"],[0.3333333333333333,\"#9c179e\"],[0.4444444444444444,\"#bd3786\"],[0.5555555555555556,\"#d8576b\"],[0.6666666666666666,\"#ed7953\"],[0.7777777777777778,\"#fb9f3a\"],[0.8888888888888888,\"#fdca26\"],[1.0,\"#f0f921\"]],\"type\":\"histogram2d\"}],\"histogram\":[{\"marker\":{\"pattern\":{\"fillmode\":\"overlay\",\"size\":10,\"solidity\":0.2}},\"type\":\"histogram\"}],\"mesh3d\":[{\"colorbar\":{\"outlinewidth\":0,\"ticks\":\"\"},\"type\":\"mesh3d\"}],\"parcoords\":[{\"line\":{\"colorbar\":{\"outlinewidth\":0,\"ticks\":\"\"}},\"type\":\"parcoords\"}],\"pie\":[{\"automargin\":true,\"type\":\"pie\"}],\"scatter3d\":[{\"line\":{\"colorbar\":{\"outlinewidth\":0,\"ticks\":\"\"}},\"marker\":{\"colorbar\":{\"outlinewidth\":0,\"ticks\":\"\"}},\"type\":\"scatter3d\"}],\"scattercarpet\":[{\"marker\":{\"colorbar\":{\"outlinewidth\":0,\"ticks\":\"\"}},\"type\":\"scattercarpet\"}],\"scattergeo\":[{\"marker\":{\"colorbar\":{\"outlinewidth\":0,\"ticks\":\"\"}},\"type\":\"scattergeo\"}],\"scattergl\":[{\"marker\":{\"colorbar\":{\"outlinewidth\":0,\"ticks\":\"\"}},\"type\":\"scattergl\"}],\"scattermapbox\":[{\"marker\":{\"colorbar\":{\"outlinewidth\":0,\"ticks\":\"\"}},\"type\":\"scattermapbox\"}],\"scatterpolargl\":[{\"marker\":{\"colorbar\":{\"outlinewidth\":0,\"ticks\":\"\"}},\"type\":\"scatterpolargl\"}],\"scatterpolar\":[{\"marker\":{\"colorbar\":{\"outlinewidth\":0,\"ticks\":\"\"}},\"type\":\"scatterpolar\"}],\"scatter\":[{\"fillpattern\":{\"fillmode\":\"overlay\",\"size\":10,\"solidity\":0.2},\"type\":\"scatter\"}],\"scatterternary\":[{\"marker\":{\"colorbar\":{\"outlinewidth\":0,\"ticks\":\"\"}},\"type\":\"scatterternary\"}],\"surface\":[{\"colorbar\":{\"outlinewidth\":0,\"ticks\":\"\"},\"colorscale\":[[0.0,\"#0d0887\"],[0.1111111111111111,\"#46039f\"],[0.2222222222222222,\"#7201a8\"],[0.3333333333333333,\"#9c179e\"],[0.4444444444444444,\"#bd3786\"],[0.5555555555555556,\"#d8576b\"],[0.6666666666666666,\"#ed7953\"],[0.7777777777777778,\"#fb9f3a\"],[0.8888888888888888,\"#fdca26\"],[1.0,\"#f0f921\"]],\"type\":\"surface\"}],\"table\":[{\"cells\":{\"fill\":{\"color\":\"#EBF0F8\"},\"line\":{\"color\":\"white\"}},\"header\":{\"fill\":{\"color\":\"#C8D4E3\"},\"line\":{\"color\":\"white\"}},\"type\":\"table\"}]},\"layout\":{\"annotationdefaults\":{\"arrowcolor\":\"#2a3f5f\",\"arrowhead\":0,\"arrowwidth\":1},\"autotypenumbers\":\"strict\",\"coloraxis\":{\"colorbar\":{\"outlinewidth\":0,\"ticks\":\"\"}},\"colorscale\":{\"diverging\":[[0,\"#8e0152\"],[0.1,\"#c51b7d\"],[0.2,\"#de77ae\"],[0.3,\"#f1b6da\"],[0.4,\"#fde0ef\"],[0.5,\"#f7f7f7\"],[0.6,\"#e6f5d0\"],[0.7,\"#b8e186\"],[0.8,\"#7fbc41\"],[0.9,\"#4d9221\"],[1,\"#276419\"]],\"sequential\":[[0.0,\"#0d0887\"],[0.1111111111111111,\"#46039f\"],[0.2222222222222222,\"#7201a8\"],[0.3333333333333333,\"#9c179e\"],[0.4444444444444444,\"#bd3786\"],[0.5555555555555556,\"#d8576b\"],[0.6666666666666666,\"#ed7953\"],[0.7777777777777778,\"#fb9f3a\"],[0.8888888888888888,\"#fdca26\"],[1.0,\"#f0f921\"]],\"sequentialminus\":[[0.0,\"#0d0887\"],[0.1111111111111111,\"#46039f\"],[0.2222222222222222,\"#7201a8\"],[0.3333333333333333,\"#9c179e\"],[0.4444444444444444,\"#bd3786\"],[0.5555555555555556,\"#d8576b\"],[0.6666666666666666,\"#ed7953\"],[0.7777777777777778,\"#fb9f3a\"],[0.8888888888888888,\"#fdca26\"],[1.0,\"#f0f921\"]]},\"colorway\":[\"#636efa\",\"#EF553B\",\"#00cc96\",\"#ab63fa\",\"#FFA15A\",\"#19d3f3\",\"#FF6692\",\"#B6E880\",\"#FF97FF\",\"#FECB52\"],\"font\":{\"color\":\"#2a3f5f\"},\"geo\":{\"bgcolor\":\"white\",\"lakecolor\":\"white\",\"landcolor\":\"white\",\"showlakes\":true,\"showland\":true,\"subunitcolor\":\"#C8D4E3\"},\"hoverlabel\":{\"align\":\"left\"},\"hovermode\":\"closest\",\"mapbox\":{\"style\":\"light\"},\"paper_bgcolor\":\"white\",\"plot_bgcolor\":\"white\",\"polar\":{\"angularaxis\":{\"gridcolor\":\"#EBF0F8\",\"linecolor\":\"#EBF0F8\",\"ticks\":\"\"},\"bgcolor\":\"white\",\"radialaxis\":{\"gridcolor\":\"#EBF0F8\",\"linecolor\":\"#EBF0F8\",\"ticks\":\"\"}},\"scene\":{\"xaxis\":{\"backgroundcolor\":\"white\",\"gridcolor\":\"#DFE8F3\",\"gridwidth\":2,\"linecolor\":\"#EBF0F8\",\"showbackground\":true,\"ticks\":\"\",\"zerolinecolor\":\"#EBF0F8\"},\"yaxis\":{\"backgroundcolor\":\"white\",\"gridcolor\":\"#DFE8F3\",\"gridwidth\":2,\"linecolor\":\"#EBF0F8\",\"showbackground\":true,\"ticks\":\"\",\"zerolinecolor\":\"#EBF0F8\"},\"zaxis\":{\"backgroundcolor\":\"white\",\"gridcolor\":\"#DFE8F3\",\"gridwidth\":2,\"linecolor\":\"#EBF0F8\",\"showbackground\":true,\"ticks\":\"\",\"zerolinecolor\":\"#EBF0F8\"}},\"shapedefaults\":{\"line\":{\"color\":\"#2a3f5f\"}},\"ternary\":{\"aaxis\":{\"gridcolor\":\"#DFE8F3\",\"linecolor\":\"#A2B1C6\",\"ticks\":\"\"},\"baxis\":{\"gridcolor\":\"#DFE8F3\",\"linecolor\":\"#A2B1C6\",\"ticks\":\"\"},\"bgcolor\":\"white\",\"caxis\":{\"gridcolor\":\"#DFE8F3\",\"linecolor\":\"#A2B1C6\",\"ticks\":\"\"}},\"title\":{\"x\":0.05},\"xaxis\":{\"automargin\":true,\"gridcolor\":\"#EBF0F8\",\"linecolor\":\"#EBF0F8\",\"ticks\":\"\",\"title\":{\"standoff\":15},\"zerolinecolor\":\"#EBF0F8\",\"zerolinewidth\":2},\"yaxis\":{\"automargin\":true,\"gridcolor\":\"#EBF0F8\",\"linecolor\":\"#EBF0F8\",\"ticks\":\"\",\"title\":{\"standoff\":15},\"zerolinecolor\":\"#EBF0F8\",\"zerolinewidth\":2}}},\"title\":{\"text\":\"\\u003cb\\u003eTraining Metrics: MULTI_LOGLOSS\\u003c\\u002fb\\u003e\"},\"width\":800,\"height\":400},                        {\"responsive\": true}                    ).then(function(){\n",
       "                            \n",
       "var gd = document.getElementById('65d9dff9-f933-4660-b7d8-cf16618c2fd4');\n",
       "var x = new MutationObserver(function (mutations, observer) {{\n",
       "        var display = window.getComputedStyle(gd).display;\n",
       "        if (!display || display === 'none') {{\n",
       "            console.log([gd, 'removed!']);\n",
       "            Plotly.purge(gd);\n",
       "            observer.disconnect();\n",
       "        }}\n",
       "}});\n",
       "\n",
       "// Listen for the removal of the full notebook cells\n",
       "var notebookContainer = gd.closest('#notebook-container');\n",
       "if (notebookContainer) {{\n",
       "    x.observe(notebookContainer, {childList: true});\n",
       "}}\n",
       "\n",
       "// Listen for the clearing of the current output cell\n",
       "var outputEl = gd.closest('.output');\n",
       "if (outputEl) {{\n",
       "    x.observe(outputEl, {childList: true});\n",
       "}}\n",
       "\n",
       "                        })                };                });            </script>        </div>"
      ]
     },
     "metadata": {},
     "output_type": "display_data"
    },
    {
     "data": {
      "text/html": [
       "<div>                            <div id=\"4d87d2f8-eefa-439b-b96b-d0c9411b346a\" class=\"plotly-graph-div\" style=\"height:500px; width:500px;\"></div>            <script type=\"text/javascript\">                require([\"plotly\"], function(Plotly) {                    window.PLOTLYENV=window.PLOTLYENV || {};                                    if (document.getElementById(\"4d87d2f8-eefa-439b-b96b-d0c9411b346a\")) {                    Plotly.newPlot(                        \"4d87d2f8-eefa-439b-b96b-d0c9411b346a\",                        [{\"marker\":{\"color\":\"#53808D\"},\"name\":\"Importance\",\"orientation\":\"h\",\"x\":[0.006222788944833338,0.00709179596239252,0.007519749167019655,0.007611453425154041,0.04272108368231898,0.04549841264296039,0.05451599802617502,0.056791137001794785,0.058651423381092326,0.061677663899527065,0.08835923614719844,0.11879631610894466,0.12556933060258432,0.12913269606152045,0.14093634414424644],\"y\":[\"cat__MTRANS_automobile\",\"remainder__FamiliyHistory\",\"cat__Gender_male\",\"num__risk_lifestyle\",\"num__NCP\",\"num__FCVC\",\"num__TUE\",\"num__CH2O\",\"num__FAF\",\"num__risk_activity\",\"num__risk_consumption\",\"num__Age\",\"num__Weight\",\"num__risk_bmi\",\"num__Height\"],\"type\":\"bar\"}],                        {\"template\":{\"data\":{\"barpolar\":[{\"marker\":{\"line\":{\"color\":\"white\",\"width\":0.5},\"pattern\":{\"fillmode\":\"overlay\",\"size\":10,\"solidity\":0.2}},\"type\":\"barpolar\"}],\"bar\":[{\"error_x\":{\"color\":\"#2a3f5f\"},\"error_y\":{\"color\":\"#2a3f5f\"},\"marker\":{\"line\":{\"color\":\"white\",\"width\":0.5},\"pattern\":{\"fillmode\":\"overlay\",\"size\":10,\"solidity\":0.2}},\"type\":\"bar\"}],\"carpet\":[{\"aaxis\":{\"endlinecolor\":\"#2a3f5f\",\"gridcolor\":\"#C8D4E3\",\"linecolor\":\"#C8D4E3\",\"minorgridcolor\":\"#C8D4E3\",\"startlinecolor\":\"#2a3f5f\"},\"baxis\":{\"endlinecolor\":\"#2a3f5f\",\"gridcolor\":\"#C8D4E3\",\"linecolor\":\"#C8D4E3\",\"minorgridcolor\":\"#C8D4E3\",\"startlinecolor\":\"#2a3f5f\"},\"type\":\"carpet\"}],\"choropleth\":[{\"colorbar\":{\"outlinewidth\":0,\"ticks\":\"\"},\"type\":\"choropleth\"}],\"contourcarpet\":[{\"colorbar\":{\"outlinewidth\":0,\"ticks\":\"\"},\"type\":\"contourcarpet\"}],\"contour\":[{\"colorbar\":{\"outlinewidth\":0,\"ticks\":\"\"},\"colorscale\":[[0.0,\"#0d0887\"],[0.1111111111111111,\"#46039f\"],[0.2222222222222222,\"#7201a8\"],[0.3333333333333333,\"#9c179e\"],[0.4444444444444444,\"#bd3786\"],[0.5555555555555556,\"#d8576b\"],[0.6666666666666666,\"#ed7953\"],[0.7777777777777778,\"#fb9f3a\"],[0.8888888888888888,\"#fdca26\"],[1.0,\"#f0f921\"]],\"type\":\"contour\"}],\"heatmapgl\":[{\"colorbar\":{\"outlinewidth\":0,\"ticks\":\"\"},\"colorscale\":[[0.0,\"#0d0887\"],[0.1111111111111111,\"#46039f\"],[0.2222222222222222,\"#7201a8\"],[0.3333333333333333,\"#9c179e\"],[0.4444444444444444,\"#bd3786\"],[0.5555555555555556,\"#d8576b\"],[0.6666666666666666,\"#ed7953\"],[0.7777777777777778,\"#fb9f3a\"],[0.8888888888888888,\"#fdca26\"],[1.0,\"#f0f921\"]],\"type\":\"heatmapgl\"}],\"heatmap\":[{\"colorbar\":{\"outlinewidth\":0,\"ticks\":\"\"},\"colorscale\":[[0.0,\"#0d0887\"],[0.1111111111111111,\"#46039f\"],[0.2222222222222222,\"#7201a8\"],[0.3333333333333333,\"#9c179e\"],[0.4444444444444444,\"#bd3786\"],[0.5555555555555556,\"#d8576b\"],[0.6666666666666666,\"#ed7953\"],[0.7777777777777778,\"#fb9f3a\"],[0.8888888888888888,\"#fdca26\"],[1.0,\"#f0f921\"]],\"type\":\"heatmap\"}],\"histogram2dcontour\":[{\"colorbar\":{\"outlinewidth\":0,\"ticks\":\"\"},\"colorscale\":[[0.0,\"#0d0887\"],[0.1111111111111111,\"#46039f\"],[0.2222222222222222,\"#7201a8\"],[0.3333333333333333,\"#9c179e\"],[0.4444444444444444,\"#bd3786\"],[0.5555555555555556,\"#d8576b\"],[0.6666666666666666,\"#ed7953\"],[0.7777777777777778,\"#fb9f3a\"],[0.8888888888888888,\"#fdca26\"],[1.0,\"#f0f921\"]],\"type\":\"histogram2dcontour\"}],\"histogram2d\":[{\"colorbar\":{\"outlinewidth\":0,\"ticks\":\"\"},\"colorscale\":[[0.0,\"#0d0887\"],[0.1111111111111111,\"#46039f\"],[0.2222222222222222,\"#7201a8\"],[0.3333333333333333,\"#9c179e\"],[0.4444444444444444,\"#bd3786\"],[0.5555555555555556,\"#d8576b\"],[0.6666666666666666,\"#ed7953\"],[0.7777777777777778,\"#fb9f3a\"],[0.8888888888888888,\"#fdca26\"],[1.0,\"#f0f921\"]],\"type\":\"histogram2d\"}],\"histogram\":[{\"marker\":{\"pattern\":{\"fillmode\":\"overlay\",\"size\":10,\"solidity\":0.2}},\"type\":\"histogram\"}],\"mesh3d\":[{\"colorbar\":{\"outlinewidth\":0,\"ticks\":\"\"},\"type\":\"mesh3d\"}],\"parcoords\":[{\"line\":{\"colorbar\":{\"outlinewidth\":0,\"ticks\":\"\"}},\"type\":\"parcoords\"}],\"pie\":[{\"automargin\":true,\"type\":\"pie\"}],\"scatter3d\":[{\"line\":{\"colorbar\":{\"outlinewidth\":0,\"ticks\":\"\"}},\"marker\":{\"colorbar\":{\"outlinewidth\":0,\"ticks\":\"\"}},\"type\":\"scatter3d\"}],\"scattercarpet\":[{\"marker\":{\"colorbar\":{\"outlinewidth\":0,\"ticks\":\"\"}},\"type\":\"scattercarpet\"}],\"scattergeo\":[{\"marker\":{\"colorbar\":{\"outlinewidth\":0,\"ticks\":\"\"}},\"type\":\"scattergeo\"}],\"scattergl\":[{\"marker\":{\"colorbar\":{\"outlinewidth\":0,\"ticks\":\"\"}},\"type\":\"scattergl\"}],\"scattermapbox\":[{\"marker\":{\"colorbar\":{\"outlinewidth\":0,\"ticks\":\"\"}},\"type\":\"scattermapbox\"}],\"scatterpolargl\":[{\"marker\":{\"colorbar\":{\"outlinewidth\":0,\"ticks\":\"\"}},\"type\":\"scatterpolargl\"}],\"scatterpolar\":[{\"marker\":{\"colorbar\":{\"outlinewidth\":0,\"ticks\":\"\"}},\"type\":\"scatterpolar\"}],\"scatter\":[{\"fillpattern\":{\"fillmode\":\"overlay\",\"size\":10,\"solidity\":0.2},\"type\":\"scatter\"}],\"scatterternary\":[{\"marker\":{\"colorbar\":{\"outlinewidth\":0,\"ticks\":\"\"}},\"type\":\"scatterternary\"}],\"surface\":[{\"colorbar\":{\"outlinewidth\":0,\"ticks\":\"\"},\"colorscale\":[[0.0,\"#0d0887\"],[0.1111111111111111,\"#46039f\"],[0.2222222222222222,\"#7201a8\"],[0.3333333333333333,\"#9c179e\"],[0.4444444444444444,\"#bd3786\"],[0.5555555555555556,\"#d8576b\"],[0.6666666666666666,\"#ed7953\"],[0.7777777777777778,\"#fb9f3a\"],[0.8888888888888888,\"#fdca26\"],[1.0,\"#f0f921\"]],\"type\":\"surface\"}],\"table\":[{\"cells\":{\"fill\":{\"color\":\"#EBF0F8\"},\"line\":{\"color\":\"white\"}},\"header\":{\"fill\":{\"color\":\"#C8D4E3\"},\"line\":{\"color\":\"white\"}},\"type\":\"table\"}]},\"layout\":{\"annotationdefaults\":{\"arrowcolor\":\"#2a3f5f\",\"arrowhead\":0,\"arrowwidth\":1},\"autotypenumbers\":\"strict\",\"coloraxis\":{\"colorbar\":{\"outlinewidth\":0,\"ticks\":\"\"}},\"colorscale\":{\"diverging\":[[0,\"#8e0152\"],[0.1,\"#c51b7d\"],[0.2,\"#de77ae\"],[0.3,\"#f1b6da\"],[0.4,\"#fde0ef\"],[0.5,\"#f7f7f7\"],[0.6,\"#e6f5d0\"],[0.7,\"#b8e186\"],[0.8,\"#7fbc41\"],[0.9,\"#4d9221\"],[1,\"#276419\"]],\"sequential\":[[0.0,\"#0d0887\"],[0.1111111111111111,\"#46039f\"],[0.2222222222222222,\"#7201a8\"],[0.3333333333333333,\"#9c179e\"],[0.4444444444444444,\"#bd3786\"],[0.5555555555555556,\"#d8576b\"],[0.6666666666666666,\"#ed7953\"],[0.7777777777777778,\"#fb9f3a\"],[0.8888888888888888,\"#fdca26\"],[1.0,\"#f0f921\"]],\"sequentialminus\":[[0.0,\"#0d0887\"],[0.1111111111111111,\"#46039f\"],[0.2222222222222222,\"#7201a8\"],[0.3333333333333333,\"#9c179e\"],[0.4444444444444444,\"#bd3786\"],[0.5555555555555556,\"#d8576b\"],[0.6666666666666666,\"#ed7953\"],[0.7777777777777778,\"#fb9f3a\"],[0.8888888888888888,\"#fdca26\"],[1.0,\"#f0f921\"]]},\"colorway\":[\"#636efa\",\"#EF553B\",\"#00cc96\",\"#ab63fa\",\"#FFA15A\",\"#19d3f3\",\"#FF6692\",\"#B6E880\",\"#FF97FF\",\"#FECB52\"],\"font\":{\"color\":\"#2a3f5f\"},\"geo\":{\"bgcolor\":\"white\",\"lakecolor\":\"white\",\"landcolor\":\"white\",\"showlakes\":true,\"showland\":true,\"subunitcolor\":\"#C8D4E3\"},\"hoverlabel\":{\"align\":\"left\"},\"hovermode\":\"closest\",\"mapbox\":{\"style\":\"light\"},\"paper_bgcolor\":\"white\",\"plot_bgcolor\":\"white\",\"polar\":{\"angularaxis\":{\"gridcolor\":\"#EBF0F8\",\"linecolor\":\"#EBF0F8\",\"ticks\":\"\"},\"bgcolor\":\"white\",\"radialaxis\":{\"gridcolor\":\"#EBF0F8\",\"linecolor\":\"#EBF0F8\",\"ticks\":\"\"}},\"scene\":{\"xaxis\":{\"backgroundcolor\":\"white\",\"gridcolor\":\"#DFE8F3\",\"gridwidth\":2,\"linecolor\":\"#EBF0F8\",\"showbackground\":true,\"ticks\":\"\",\"zerolinecolor\":\"#EBF0F8\"},\"yaxis\":{\"backgroundcolor\":\"white\",\"gridcolor\":\"#DFE8F3\",\"gridwidth\":2,\"linecolor\":\"#EBF0F8\",\"showbackground\":true,\"ticks\":\"\",\"zerolinecolor\":\"#EBF0F8\"},\"zaxis\":{\"backgroundcolor\":\"white\",\"gridcolor\":\"#DFE8F3\",\"gridwidth\":2,\"linecolor\":\"#EBF0F8\",\"showbackground\":true,\"ticks\":\"\",\"zerolinecolor\":\"#EBF0F8\"}},\"shapedefaults\":{\"line\":{\"color\":\"#2a3f5f\"}},\"ternary\":{\"aaxis\":{\"gridcolor\":\"#DFE8F3\",\"linecolor\":\"#A2B1C6\",\"ticks\":\"\"},\"baxis\":{\"gridcolor\":\"#DFE8F3\",\"linecolor\":\"#A2B1C6\",\"ticks\":\"\"},\"bgcolor\":\"white\",\"caxis\":{\"gridcolor\":\"#DFE8F3\",\"linecolor\":\"#A2B1C6\",\"ticks\":\"\"}},\"title\":{\"x\":0.05},\"xaxis\":{\"automargin\":true,\"gridcolor\":\"#EBF0F8\",\"linecolor\":\"#EBF0F8\",\"ticks\":\"\",\"title\":{\"standoff\":15},\"zerolinecolor\":\"#EBF0F8\",\"zerolinewidth\":2},\"yaxis\":{\"automargin\":true,\"gridcolor\":\"#EBF0F8\",\"linecolor\":\"#EBF0F8\",\"ticks\":\"\",\"title\":{\"standoff\":15},\"zerolinecolor\":\"#EBF0F8\",\"zerolinewidth\":2}}},\"yaxis\":{\"type\":\"category\",\"tickmode\":\"linear\"},\"title\":{\"text\":\"\\u003cb\\u003eFeature Importance for the lgb model\\u003c\\u002fb\\u003e\\u003cbr\\u003eCalculated using feature weight\"},\"width\":500,\"height\":500},                        {\"responsive\": true}                    ).then(function(){\n",
       "                            \n",
       "var gd = document.getElementById('4d87d2f8-eefa-439b-b96b-d0c9411b346a');\n",
       "var x = new MutationObserver(function (mutations, observer) {{\n",
       "        var display = window.getComputedStyle(gd).display;\n",
       "        if (!display || display === 'none') {{\n",
       "            console.log([gd, 'removed!']);\n",
       "            Plotly.purge(gd);\n",
       "            observer.disconnect();\n",
       "        }}\n",
       "}});\n",
       "\n",
       "// Listen for the removal of the full notebook cells\n",
       "var notebookContainer = gd.closest('#notebook-container');\n",
       "if (notebookContainer) {{\n",
       "    x.observe(notebookContainer, {childList: true});\n",
       "}}\n",
       "\n",
       "// Listen for the clearing of the current output cell\n",
       "var outputEl = gd.closest('.output');\n",
       "if (outputEl) {{\n",
       "    x.observe(outputEl, {childList: true});\n",
       "}}\n",
       "\n",
       "                        })                };                });            </script>        </div>"
      ]
     },
     "metadata": {},
     "output_type": "display_data"
    },
    {
     "name": "stdout",
     "output_type": "stream",
     "text": [
      "Accuracy Score:0.9100459619172685\n"
     ]
    }
   ],
   "source": [
    "# lgb_best = {\n",
    "#     'learning_rate'     : 0.014, \n",
    "#     'max_depth'         : -1, \n",
    "#     'min_child_samples' : 20, \n",
    "#     'num_leaves'        : 31, \n",
    "#     'subsample'         : 0.55, \n",
    "#     'colsample_bytree'  : 0.50, \n",
    "#     'lambda_l2'         : 0.9230,  \n",
    "#     'lambda_l1'         : 0,  \n",
    "#     'bagging_freq'      : 4,\n",
    "#     \"objective\"         : \"multiclass\",\n",
    "#     \"metric\"            : \"multi_logloss\",\n",
    "#     \"num_class\"         : 7,\n",
    "#     \"verbosity\"         : -1,\n",
    "#     \"boosting_type\"     : \"gbdt\",\n",
    "#     \"random_state\"      : RANDOM,\n",
    "# }\n",
    "\n",
    "lgb_best = {\n",
    "#     'n_estimators': 969, \n",
    "    'learning_rate'     : 0.01183503431690636, \n",
    "    'max_depth'         : 19,\n",
    "    'min_child_samples' : 49, \n",
    "    'num_leaves'        : 60, \n",
    "    'subsample'         : 0.6552328150821255,\n",
    "    'colsample_bytree'  : 0.33380901796097023, \n",
    "    'reg_lambda'        : 0.0916412992420405,\n",
    "    'reg_alpha'         : 2.3817819457451836,\n",
    "    \"objective\"         : \"multiclass\",\n",
    "    \"metric\"            : \"multi_logloss\",\n",
    "    \"num_class\"         : 7,\n",
    "    \"verbosity\"         : -1,\n",
    "    \"boosting_type\"     : \"gbdt\",\n",
    "    \"random_state\"      : RANDOM,\n",
    "}\n",
    "\n",
    "lgb_params = {\n",
    "    'n_estimators'          : 969,\n",
    "    'early_stopping_rounds' :75\n",
    "}\n",
    "lgb_params.update(lgb_best)\n",
    "\n",
    "if EVALUATE:\n",
    "    lgb_model = LGBMClassifier(**lgb_params)\n",
    "    lgb_model.fit(X_train, y_train,  eval_set =[(X_train,y_train),(X_test,y_test)])\n",
    "\n",
    "    # plot training metrics\n",
    "    plot_training_metrics(lgb_model, 'lgb', 'multi_logloss')\n",
    "\n",
    "    # test on train data \n",
    "    y_pred = lgb_model.predict(X_test)\n",
    "\n",
    "    # plot feature importance\n",
    "    plot_feature_importance(lgb_model,'lgb','weight',True, 15)\n",
    "\n",
    "    # accuracy\n",
    "    acc = accuracy_score(y_test,y_pred)\n",
    "    print(f\"Accuracy Score:{acc}\")\n",
    "    \n",
    "    # export predictions for lazy evaluation\n",
    "    y_pred_on_train = lgb_model.predict(X_train)\n",
    "    submit_predictions(X_train_ids, y_pred_on_train, decode=False,filename='lgb.csv')\n",
    "\n",
    "    # clear some memmory\n",
    "    gc.collect()\n",
    "    \n",
    "    # Accuracy: 91.00%, epochs = 962\n"
   ]
  },
  {
   "cell_type": "markdown",
   "id": "90cd48b4",
   "metadata": {
    "papermill": {
     "duration": 0.015112,
     "end_time": "2024-02-17T19:21:50.735469",
     "exception": false,
     "start_time": "2024-02-17T19:21:50.720357",
     "status": "completed"
    },
    "tags": []
   },
   "source": [
    "#### LightGBM Submssion"
   ]
  },
  {
   "cell_type": "code",
   "execution_count": 26,
   "id": "f5224101",
   "metadata": {
    "execution": {
     "iopub.execute_input": "2024-02-17T19:21:50.767616Z",
     "iopub.status.busy": "2024-02-17T19:21:50.767235Z",
     "iopub.status.idle": "2024-02-17T19:21:50.774136Z",
     "shell.execute_reply": "2024-02-17T19:21:50.773181Z"
    },
    "papermill": {
     "duration": 0.025195,
     "end_time": "2024-02-17T19:21:50.775967",
     "exception": false,
     "start_time": "2024-02-17T19:21:50.750772",
     "status": "completed"
    },
    "tags": []
   },
   "outputs": [],
   "source": [
    "if LGB:\n",
    "    lgb_best = {\n",
    "    'learning_rate'     : 0.01183503431690636, \n",
    "    'max_depth'         : 19,\n",
    "    'min_child_samples' : 49, \n",
    "    'num_leaves'        : 60, \n",
    "    'subsample'         : 0.6552328150821255,\n",
    "    'colsample_bytree'  : 0.33380901796097023, \n",
    "    'reg_lambda'        : 0.0916412992420405,\n",
    "    'reg_alpha'         : 2.3817819457451836,\n",
    "    \"objective\"         : \"multiclass\",\n",
    "    \"metric\"            : \"multi_logloss\",\n",
    "    \"num_class\"         : 7,\n",
    "    \"verbosity\"         : -1,\n",
    "    \"boosting_type\"     : \"gbdt\",\n",
    "    \"random_state\"      : RANDOM,\n",
    "    }\n",
    "    \n",
    "    lgb_params = {\n",
    "        'n_estimators': 969,\n",
    "    }\n",
    "    lgb_params.update(lgb_best)\n",
    "\n",
    "\n",
    "    # train the model on all available data\n",
    "    lgb_model = LGBMClassifier(**lgb_params)\n",
    "    lgb_model.fit(X,y)\n",
    "\n",
    "    # predict on the test set\n",
    "    y_pred = lgb_model.predict(X_submit)\n",
    "    \n",
    "    # export predictions for lazy evaluation\n",
    "    submit_predictions(X_submit_ids, y_pred, decode=True,filename='submission.csv')\n",
    "    print(\"LGBM Model Submitted\")\n"
   ]
  },
  {
   "cell_type": "markdown",
   "id": "d4176374",
   "metadata": {
    "papermill": {
     "duration": 0.015002,
     "end_time": "2024-02-17T19:21:50.806554",
     "exception": false,
     "start_time": "2024-02-17T19:21:50.791552",
     "status": "completed"
    },
    "tags": []
   },
   "source": [
    "### Catboost\n",
    "#### Catboost Hyperparameter Tuning"
   ]
  },
  {
   "cell_type": "code",
   "execution_count": 27,
   "id": "3378d749",
   "metadata": {
    "execution": {
     "iopub.execute_input": "2024-02-17T19:21:50.839154Z",
     "iopub.status.busy": "2024-02-17T19:21:50.838423Z",
     "iopub.status.idle": "2024-02-17T19:21:50.847651Z",
     "shell.execute_reply": "2024-02-17T19:21:50.846916Z"
    },
    "papermill": {
     "duration": 0.028076,
     "end_time": "2024-02-17T19:21:50.849896",
     "exception": false,
     "start_time": "2024-02-17T19:21:50.821820",
     "status": "completed"
    },
    "tags": []
   },
   "outputs": [],
   "source": [
    "def objective(trial):\n",
    "    #Catboost params to tune\n",
    "    params = {\n",
    "        'loss_function'       : 'MultiClass',\n",
    "        'verbose'             : 0 ,\n",
    "        'random_seed'         : RANDOM,\n",
    "        'n_estimators'        : trial.suggest_int('iterations', 100, 1000),\n",
    "        'learning_rate'       : trial.suggest_loguniform('learning_rate', 0.01, 0.3),  \n",
    "        'depth'               : trial.suggest_int('depth',3, 12),\n",
    "        'min_data_in_leaf'    : trial.suggest_int('min_data_in_leaf',5,20),\n",
    "        'l2_leaf_reg'         : trial.suggest_int('l2_leaf_reg', 2, 10), \n",
    "        'bagging_temperature' : trial.suggest_int('bagging_temperature', 2, 10), \n",
    "        'random_strength'     : trial.suggest_float('random_strength', 0.2, 0.9), \n",
    "        'colsample_bylevel'   : trial.suggest_float('colsample_bylevel', 0.3, 0.9),\n",
    "        'border_count'        : trial.suggest_int('border_count', 32, 255),\n",
    "    }\n",
    "    # model\n",
    "    cat = CatBoostClassifier(**params)\n",
    "\n",
    "    # use stratified kfold to evalute each set of model weights\n",
    "    skf= StratifiedKFold(n_splits=3, shuffle=True, random_state=RANDOM)\n",
    "\n",
    "    # Calculate the auc for each set of model weights\n",
    "    acc = cross_val_score(cat, X_train, y_train, cv=skf, scoring='accuracy').mean()\n",
    "    \n",
    "    return acc\n",
    "\n",
    "if CAT and TUNE:\n",
    "    # Optimize Hyperparameters\n",
    "    # =====================================================================================================\n",
    "    # create the study and run the optimization\n",
    "    study = optuna.create_study(direction='maximize', sampler=optuna.samplers.TPESampler(seed=RANDOM))\n",
    "    study.optimize(objective, n_trials=150)\n",
    "\n",
    "    # get the best weights from the optimization\n",
    "    cat_best = study.best_params\n",
    "    print(study.best_value)\n",
    "    print(cat_best)\n",
    "    gc.collect()\n",
    "    \n",
    "    # plot optimization\n",
    "    plot_param_importances(study).show()\n",
    "    plot_optimization_history(study).show()"
   ]
  },
  {
   "cell_type": "markdown",
   "id": "b7cdf5ef",
   "metadata": {
    "papermill": {
     "duration": 0.015499,
     "end_time": "2024-02-17T19:21:50.881044",
     "exception": false,
     "start_time": "2024-02-17T19:21:50.865545",
     "status": "completed"
    },
    "tags": []
   },
   "source": [
    "#### Catboost Evaluation"
   ]
  },
  {
   "cell_type": "code",
   "execution_count": 28,
   "id": "c01339df",
   "metadata": {
    "execution": {
     "iopub.execute_input": "2024-02-17T19:21:50.915475Z",
     "iopub.status.busy": "2024-02-17T19:21:50.914512Z",
     "iopub.status.idle": "2024-02-17T19:22:03.170365Z",
     "shell.execute_reply": "2024-02-17T19:22:03.169215Z"
    },
    "papermill": {
     "duration": 12.275488,
     "end_time": "2024-02-17T19:22:03.172866",
     "exception": false,
     "start_time": "2024-02-17T19:21:50.897378",
     "status": "completed"
    },
    "tags": []
   },
   "outputs": [
    {
     "data": {
      "text/html": [
       "<div>                            <div id=\"dc827b11-c319-4107-84c0-f9600124cf15\" class=\"plotly-graph-div\" style=\"height:400px; width:800px;\"></div>            <script type=\"text/javascript\">                require([\"plotly\"], function(Plotly) {                    window.PLOTLYENV=window.PLOTLYENV || {};                                    if (document.getElementById(\"dc827b11-c319-4107-84c0-f9600124cf15\")) {                    Plotly.newPlot(                        \"dc827b11-c319-4107-84c0-f9600124cf15\",                        [{\"line\":{\"color\":\"#53808D\",\"width\":2},\"name\":\"Training\",\"x\":[0,1,2,3,4,5,6,7,8,9,10,11,12,13,14,15,16,17,18,19,20,21,22,23,24,25,26,27,28,29,30,31,32,33,34,35,36,37,38,39,40,41,42,43,44,45,46,47,48,49,50,51,52,53,54,55,56,57,58,59,60,61,62,63,64,65,66,67,68,69,70,71,72,73,74,75,76,77,78,79,80,81,82,83,84,85,86,87,88,89,90,91,92,93,94,95,96,97,98,99,100,101,102,103,104,105,106,107,108,109,110,111,112,113,114,115,116,117,118,119,120,121,122,123,124,125,126,127,128,129,130,131,132,133,134,135,136,137,138,139,140,141,142,143,144,145,146,147,148,149,150,151,152,153,154,155,156,157,158,159,160,161,162,163,164,165,166,167,168,169,170,171,172,173,174,175,176,177,178,179,180,181,182,183,184,185,186,187,188,189,190,191,192,193,194,195,196,197,198,199,200,201,202,203,204,205,206,207,208,209,210,211,212,213,214,215,216,217,218,219,220,221,222,223,224,225,226,227,228,229,230,231,232,233,234,235,236,237,238,239,240,241,242,243,244,245,246,247,248,249,250,251,252,253,254,255,256,257,258,259,260,261,262,263,264,265,266,267,268,269,270,271,272,273,274,275,276,277,278,279,280,281,282,283,284,285,286,287,288,289,290,291,292,293,294,295,296,297,298,299,300,301,302,303,304,305,306,307,308,309,310,311,312,313,314,315,316,317,318,319,320,321,322,323,324,325,326,327,328,329,330,331,332,333,334,335,336,337,338,339,340,341,342,343,344,345,346,347,348,349,350,351,352,353,354,355,356,357,358,359,360,361,362,363,364,365,366,367,368,369,370,371,372,373,374,375,376,377,378,379,380,381,382,383,384,385,386,387,388,389,390,391,392,393,394,395,396,397,398,399,400,401,402,403,404,405,406,407,408,409,410,411,412,413,414,415,416,417,418,419,420,421,422,423,424,425,426,427,428,429,430,431,432,433,434,435,436,437,438,439,440,441,442,443,444,445,446,447,448,449,450,451,452,453,454,455,456,457,458,459,460,461,462,463,464,465,466,467,468,469,470,471,472,473,474,475,476,477,478,479,480,481,482,483,484,485,486,487,488,489,490,491,492,493,494,495,496,497,498,499,500,501,502,503,504,505,506,507,508,509,510,511,512,513,514,515,516,517,518,519,520,521,522,523,524,525,526,527,528,529,530,531,532,533,534,535,536,537,538,539,540,541,542,543,544,545,546,547,548,549,550,551,552,553,554,555,556,557,558,559,560,561,562,563,564,565,566,567,568,569,570,571,572,573,574,575,576,577,578,579,580,581,582,583,584,585,586,587,588,589,590,591,592,593,594,595,596,597,598,599,600,601,602,603,604,605,606,607,608,609,610,611,612,613,614,615,616,617,618,619,620,621,622,623,624,625,626,627,628,629,630,631,632,633,634,635,636,637,638,639],\"y\":[1.268436677970595,1.0252365189907744,0.877853772679199,0.7708153027469801,0.6975771009282064,0.6335368406724055,0.5852953461412687,0.5459232207576827,0.5188611957390523,0.49445269390422913,0.4694725489322869,0.45380306847621804,0.43904116217409783,0.42404252794359276,0.41321621207595066,0.4044031112429684,0.3957565420075204,0.3904054994308016,0.383833262040153,0.37772272675874075,0.37149106560108314,0.3658041747184306,0.3624602220523768,0.35850427466212464,0.35420212630419656,0.3513667727873085,0.3482387847481816,0.3445826253325868,0.3415691189073717,0.33817824279078773,0.3354260315220088,0.3335677421894562,0.332572757475058,0.33059591968178764,0.328784728249003,0.3265908641995747,0.3243416397522404,0.3219476830833389,0.319672347664947,0.3182429459220118,0.31590326704369315,0.3147693932679543,0.3134316783785139,0.31178496187843247,0.31095599297545934,0.30970971044344936,0.3089889169237875,0.3076102380910505,0.30645550458915144,0.30531373343307844,0.3035733709312423,0.30284931032580586,0.30218375026871225,0.3016272712578368,0.3007027905839047,0.29905291128817674,0.29808892580221147,0.2971009646870929,0.2962204843298121,0.2952355997205293,0.29429143410549224,0.2934737449485373,0.292637248354299,0.29197711992812614,0.2912979404246158,0.29078967865700517,0.2902921265606371,0.28956315667890203,0.2888200382265867,0.28796134569105863,0.28741648529940905,0.28627368391486546,0.28564668549691324,0.28498618427672545,0.2843093563152521,0.28401826288514587,0.2831807714323385,0.2822718559488231,0.28153940084331164,0.28079368201191846,0.2803633046932818,0.2795367339892901,0.2791912839135132,0.27823715650814534,0.27735844544782984,0.27692418559211934,0.27599444353870967,0.27547596191463813,0.27504258537674053,0.2746389714297206,0.27417667849261823,0.2736168466612617,0.27284611946661785,0.2725044092734477,0.2720607713115781,0.2714894619800383,0.2713073132141926,0.2705429505223451,0.26982840635138544,0.26894053148671787,0.2683573853139375,0.26772879381602055,0.2672718626325491,0.26645012827260545,0.26585213856157475,0.26545003764251807,0.2650106636491803,0.26455807704225376,0.26399690433213213,0.2634765751983282,0.26301679080502266,0.26266473287423187,0.2622321963916681,0.2615068193173891,0.26128337419284586,0.26079100628323154,0.26053322293287157,0.26023113169354306,0.2598684836587097,0.2592378841257765,0.2589139287800469,0.25864127103379597,0.2578293578508881,0.25751355888935656,0.2572034990754641,0.2568186156889719,0.256538209894414,0.2563993911232346,0.2558418798499522,0.25541090670366134,0.25481547685889555,0.2545418484951521,0.2543117241692109,0.25384025791780146,0.25312880376675295,0.25273860252594427,0.25233606503511585,0.2521233472539854,0.25138452281501844,0.25106947950727154,0.25069796155958884,0.2505024836677513,0.25009440066817185,0.24992702658479773,0.24965548963510772,0.24887159073307322,0.24849375124844894,0.2483183950455982,0.24808382097316284,0.24783345738551457,0.24761773785473082,0.24721653659624995,0.24683475841703115,0.24653030174333074,0.2461806652656342,0.24580820653197358,0.24548111196916836,0.24528798029026155,0.24485905396164642,0.24434773149743272,0.24396072770771055,0.243782025657741,0.2435196005883188,0.24326855632724906,0.24286553738139943,0.2424532371761466,0.24213463944370192,0.24181451757343037,0.24169111588108827,0.24131250461279175,0.24108329637381967,0.2407252603836794,0.24057230265767077,0.24036602243164001,0.23984566794393972,0.23954227146728704,0.2391791351596565,0.23877790982139435,0.23840509210967029,0.23825034010416607,0.23800576594804007,0.23774365597328145,0.23727728946223486,0.2370190370254382,0.2367510167893465,0.23644523904906403,0.23621225380204525,0.23605405651795888,0.23584336661408478,0.23553144225540762,0.23518340220225847,0.23490467732555975,0.23471734245341255,0.23451171107976979,0.23425424695708,0.23406512915105687,0.23389764281948652,0.23377461530769514,0.2336541160804963,0.23344168961445036,0.23322235527459614,0.23310644021641053,0.23284803617392028,0.23258038498545133,0.23228495551815875,0.2319040292363186,0.23177020941465343,0.23154528090091553,0.23129410323050117,0.230943267242049,0.23078101512080126,0.2306282919504812,0.23039027747051363,0.23023515475019782,0.22996318732421037,0.22971867879174854,0.22956976918246944,0.22938674682408508,0.22924039863569473,0.22896904042209934,0.22878235682130604,0.22856191067422527,0.2280474856055165,0.22780302777658762,0.22759494548237277,0.227276305231894,0.22712119434630768,0.2268178948573424,0.2266677188165172,0.22647987058651659,0.22636836981391875,0.2260647416029887,0.22584305205311714,0.22561939482395024,0.2253684023433819,0.22509731685897624,0.22464286503019307,0.22449173720429938,0.2243338641616785,0.2241109460494955,0.22402122698579172,0.22374697971531085,0.22349621997961835,0.22323548017095926,0.2230651435374212,0.2228180353570013,0.22255727516748794,0.22235440451636992,0.2221747219571635,0.22189479210556778,0.2217768746997787,0.2215087168618966,0.22135431995945679,0.22109842187736098,0.22094732917254,0.2208075366042744,0.22055911239354647,0.22026732804898544,0.22008133300106195,0.219940288773678,0.2197870894177802,0.2196245089482643,0.21944967075854455,0.21926938217201505,0.21918627732877724,0.21884504206438796,0.21859663216914194,0.21846816678178252,0.21815326199207022,0.21791928064724975,0.21756781234533465,0.21725368764343286,0.21667901606049056,0.21655463595144248,0.21637555983178633,0.21618697467051454,0.21611376879152747,0.21599011902829787,0.21579959654500458,0.21556691484719906,0.2153250530680173,0.2151759728266878,0.2149904465982958,0.21487395264664338,0.2146779294709571,0.21449819771174022,0.21425753956793886,0.21398031553999694,0.2138855958446456,0.21365114020959045,0.21351207159751331,0.21342408672169796,0.2133009449575192,0.21312248091955296,0.21293220827150125,0.21261274614090506,0.21249776784947658,0.21218378858424372,0.21202859761042772,0.2118212271041094,0.21168566332820804,0.21145047063831804,0.211307168062357,0.21107080583058155,0.2109465183068929,0.21082310526669926,0.21061225792751545,0.2103548236406271,0.21028734237293975,0.21016611603630975,0.20992225058300656,0.20979321223319072,0.20961194003841035,0.20951091672640512,0.2093950821691404,0.20931342503424089,0.20914715633772296,0.2088468186248277,0.2087559374282088,0.20856300672847028,0.2084536816349426,0.2082893960910777,0.20807364347637142,0.2077695986871339,0.2075802901762353,0.20732550050251186,0.20726506872460684,0.2072028666388269,0.20701385666268438,0.20666103173700495,0.20652212930322206,0.20642619407176818,0.20628784293273372,0.20606744588542514,0.20591189528433895,0.2057645779839402,0.2055496464838961,0.20542330494713468,0.2052770750153068,0.2051741652392756,0.20507569082966146,0.2048081114839242,0.20463469434599177,0.20447843142370153,0.204283198996731,0.20408405421541223,0.20395190210732767,0.20382780015069082,0.2037247808029884,0.20354320828975056,0.20344242185167388,0.20336934647551935,0.20321210461653133,0.20311740905735695,0.20294499086603857,0.20277612914869378,0.20249056563746823,0.2023217224666318,0.20229500301618208,0.202153604991993,0.20203605277421643,0.20184962177778207,0.20169706968534434,0.2016275908957064,0.2014258799337829,0.20120166424370084,0.20112588651067165,0.20095096011587707,0.2008662969582184,0.2007055947274558,0.20054065974293564,0.20039297803384068,0.20020046226282828,0.20007889906208326,0.19997327363151454,0.19987829127552048,0.19957539922907078,0.19944329756804308,0.1993214413670723,0.1990796011381522,0.19899647132910148,0.19871032874976782,0.19856260299448686,0.19830352785818234,0.19820706241296776,0.19804472904037015,0.19791819426507856,0.19755837566626958,0.19733695309161503,0.197160615077304,0.19701032817873526,0.19691661123660215,0.19686215445333838,0.1967268016306137,0.1966044434950749,0.19649861513821737,0.19638665650008286,0.19622229779160544,0.19607893920772695,0.19588625966470144,0.19574436068405407,0.19562113803373246,0.19554357024493876,0.19530101298033695,0.1952033263168162,0.1950378724242004,0.19488172649432456,0.1947590228502187,0.1946636263688797,0.19456380030272805,0.19451366203080336,0.19442232829103556,0.1943123986168389,0.1942227893181449,0.19413668324981753,0.19401921424026247,0.19381121236954196,0.19358615218850658,0.1934667721733796,0.19330228537522262,0.19323079674793928,0.19310231542811518,0.19291508466215052,0.19283140148645742,0.19273013582458617,0.19255297427324525,0.1924618277362527,0.1923628528893101,0.1922571422924116,0.19210906184383053,0.19206156553013837,0.19189724711672743,0.1918364216035145,0.1917769757513499,0.19158899104822014,0.191417923975185,0.1912855438598513,0.19120274240214363,0.19101933095902857,0.19085908798355147,0.1906896861903372,0.19055305828412253,0.19038010479041997,0.1902690322321839,0.19018968264563027,0.19012338367150922,0.1900362709732799,0.18984443927754344,0.18967907087237632,0.1895175847940719,0.18939845027273347,0.18922690430388706,0.1891204148827429,0.18901609373150055,0.1888486020548826,0.18873595434262455,0.18862211703524032,0.1884860000058978,0.18837160049944432,0.1882614736235349,0.18817541659251386,0.1879979048648838,0.1879572773753967,0.1878842453243132,0.18783118447441355,0.1876900031794223,0.18759304157442722,0.1874672196012052,0.18740529180680743,0.18722642675721007,0.18711413886954525,0.18704746496998495,0.1869532695006025,0.18687056095569882,0.18673656501017816,0.18652243280901276,0.18644783895776293,0.1863290639614184,0.18623047354694783,0.18617035726475578,0.18603263353519459,0.1859628964935757,0.18586951944971322,0.18570145816881928,0.18565381734727254,0.1855015529188811,0.18513758146696885,0.1849184406747946,0.18476091478350776,0.18468553625003734,0.184533212719361,0.18441302077207153,0.18424931464870478,0.18411829509859537,0.18404083133618723,0.18398257745484065,0.18386399496200118,0.18376234206105296,0.18359878027868345,0.18355203478710677,0.1834726553220886,0.18339198128767237,0.18323767825947562,0.18313838495359727,0.18288670777892038,0.18282148437637388,0.18262021663563538,0.1825043632639132,0.182409260347367,0.1822093198294003,0.1821333520231055,0.18201472590280382,0.18191060840562595,0.18177780516951617,0.18168385557152264,0.181564985059846,0.18146620603822913,0.1812841120498865,0.18116404515897314,0.180988087621843,0.18095020318715518,0.18080733557707487,0.18070227629711838,0.1805258064870276,0.1804478380184796,0.18028778249175587,0.18011047609191053,0.18001263486143587,0.17995709785381792,0.1798357235942417,0.179714987945753,0.17963891218166056,0.1795221449908147,0.17948142326271055,0.1793524465260146,0.1792849617505459,0.1791027225212433,0.17895372208988505,0.1788245659044072,0.17875204703383862,0.1786293910987447,0.178526040955026,0.17842126424479746,0.1783346751401234,0.17823716839974604,0.17813390489798003,0.17805035933693786,0.1779627980873489,0.17785754882225957,0.1777092477231847,0.1775758925143905,0.17736218015131816,0.1772874197178603,0.17717209515829652,0.17706161128067394,0.17700058633010446,0.17690865324805807,0.17683234061544065,0.17670104475524634,0.17659747508779286,0.17652855016625366,0.17647262809728562,0.17634909209731786,0.17627097409113282,0.17622986535908608,0.17609459843943503,0.17602644511668544,0.17599710845867822,0.1759172174794239,0.1758721728240727,0.17580578262397553,0.17563776078412627,0.175518785681192,0.17546296200551004,0.1752755296324442,0.1752471835858212,0.175088182603647,0.1750088656716492,0.1748638408157741,0.17478768436302652,0.17464071757818234,0.17448802507788103,0.17443680393596564,0.17433633317434513,0.17425606390804052,0.1741812438592599,0.17396031870527426,0.17390630058868276,0.17386505452561232,0.1738141810583949,0.17373412276260825,0.17368751615198444,0.17360297978201614,0.17350654223961165,0.17346223367685193,0.1733598685577972,0.17321157611829038,0.1731901453652254,0.17304598477469477,0.17294896575030896,0.17285715062106863,0.17277435658052906,0.17270310225878593,0.17264244806685553,0.17256251308851858,0.17248876936759416,0.1724378008515365,0.17233415922500414,0.1722509649758424,0.17206229022770264,0.1719572166660786,0.17185409190163822,0.1718083620965248,0.17171577220831893,0.17164839960867365,0.17150342631108453,0.17139567612039933,0.17135559588436072,0.1713068771113169,0.1712335341682743,0.17118545729487425,0.1711179192669204,0.1710335802123201,0.17090620843913848,0.1707995682582801,0.17064172753846504,0.1705851718317111,0.17050883568554306,0.17043648138585113,0.17025466950546492,0.1701683287311054,0.17008117886174076,0.16990536227897426,0.16982332545064927,0.16975206355727887,0.16964164559763287,0.16944837777990698,0.16939586921547403,0.16928673342885114,0.1691783656138407],\"type\":\"scatter\"},{\"line\":{\"color\":\"#FC4C02\",\"width\":2},\"name\":\"Validation\",\"x\":[0,1,2,3,4,5,6,7,8,9,10,11,12,13,14,15,16,17,18,19,20,21,22,23,24,25,26,27,28,29,30,31,32,33,34,35,36,37,38,39,40,41,42,43,44,45,46,47,48,49,50,51,52,53,54,55,56,57,58,59,60,61,62,63,64,65,66,67,68,69,70,71,72,73,74,75,76,77,78,79,80,81,82,83,84,85,86,87,88,89,90,91,92,93,94,95,96,97,98,99,100,101,102,103,104,105,106,107,108,109,110,111,112,113,114,115,116,117,118,119,120,121,122,123,124,125,126,127,128,129,130,131,132,133,134,135,136,137,138,139,140,141,142,143,144,145,146,147,148,149,150,151,152,153,154,155,156,157,158,159,160,161,162,163,164,165,166,167,168,169,170,171,172,173,174,175,176,177,178,179,180,181,182,183,184,185,186,187,188,189,190,191,192,193,194,195,196,197,198,199,200,201,202,203,204,205,206,207,208,209,210,211,212,213,214,215,216,217,218,219,220,221,222,223,224,225,226,227,228,229,230,231,232,233,234,235,236,237,238,239,240,241,242,243,244,245,246,247,248,249,250,251,252,253,254,255,256,257,258,259,260,261,262,263,264,265,266,267,268,269,270,271,272,273,274,275,276,277,278,279,280,281,282,283,284,285,286,287,288,289,290,291,292,293,294,295,296,297,298,299,300,301,302,303,304,305,306,307,308,309,310,311,312,313,314,315,316,317,318,319,320,321,322,323,324,325,326,327,328,329,330,331,332,333,334,335,336,337,338,339,340,341,342,343,344,345,346,347,348,349,350,351,352,353,354,355,356,357,358,359,360,361,362,363,364,365,366,367,368,369,370,371,372,373,374,375,376,377,378,379,380,381,382,383,384,385,386,387,388,389,390,391,392,393,394,395,396,397,398,399,400,401,402,403,404,405,406,407,408,409,410,411,412,413,414,415,416,417,418,419,420,421,422,423,424,425,426,427,428,429,430,431,432,433,434,435,436,437,438,439,440,441,442,443,444,445,446,447,448,449,450,451,452,453,454,455,456,457,458,459,460,461,462,463,464,465,466,467,468,469,470,471,472,473,474,475,476,477,478,479,480,481,482,483,484,485,486,487,488,489,490,491,492,493,494,495,496,497,498,499,500,501,502,503,504,505,506,507,508,509,510,511,512,513,514,515,516,517,518,519,520,521,522,523,524,525,526,527,528,529,530,531,532,533,534,535,536,537,538,539,540,541,542,543,544,545,546,547,548,549,550,551,552,553,554,555,556,557,558,559,560,561,562,563,564,565,566,567,568,569,570,571,572,573,574,575,576,577,578,579,580,581,582,583,584,585,586,587,588,589,590,591,592,593,594,595,596,597,598,599,600,601,602,603,604,605,606,607,608,609,610,611,612,613,614,615,616,617,618,619,620,621,622,623,624,625,626,627,628,629,630,631,632,633,634,635,636,637,638,639],\"y\":[1.2676453403008037,1.0260500371928338,0.8773938783219108,0.7716564416573503,0.7005894250381601,0.6389150411582867,0.5907591499614901,0.5503451053642217,0.5245174907420307,0.5004410518108147,0.4750093274866102,0.46075156667489503,0.4466189001442666,0.43138358288910755,0.4202136527999288,0.41156484601549354,0.40289590066061104,0.39773537200728726,0.39219678525042084,0.3870973026261948,0.38087206146544467,0.37623975911659213,0.37311839166338956,0.36938925762129443,0.3650920162400931,0.36222308572123335,0.35938056748046654,0.35630968431699056,0.3536873664287568,0.3505374961630942,0.34829731973533967,0.3467366018575889,0.34598588289854637,0.344451152389659,0.3428554879093786,0.3412505727586875,0.3396828617171073,0.3381293688510279,0.33610730960946583,0.3353935896219385,0.33322976921491987,0.3324522430003165,0.3313201830308409,0.33026238449779405,0.3293758587285121,0.32854921339422005,0.3279885791650229,0.32708460868299877,0.32640970358460364,0.3258036626777037,0.32511584809497224,0.3244353261158153,0.32385787468651767,0.32335926541152743,0.3223582794671561,0.32097236985346905,0.32010869759147015,0.3192532365224335,0.3184458846447981,0.31784706604230395,0.3174635419964168,0.3168894205417994,0.3163031725844907,0.3158413267477534,0.3153797095482105,0.31481988707663905,0.3145969750036907,0.3141623847208098,0.31362162126884147,0.3129993678304564,0.3127328602360889,0.31219087043148225,0.3114730437705849,0.3112262440336285,0.3107931382315433,0.3105676355232997,0.31031341001730367,0.30937074286587823,0.3089896684962494,0.3084243296072162,0.3081438726026462,0.30748728440592066,0.3075345656920387,0.30680524959364974,0.30622053596980076,0.3056582127362772,0.3051770776625228,0.30490573953749683,0.30475495025739174,0.30432640262202576,0.3038860436068114,0.30326791994422375,0.3024475352815848,0.30210482633672286,0.3015137580124834,0.30128195208789216,0.3011726247065521,0.3008645899557616,0.30068164840697476,0.30032830028487617,0.30006278751556514,0.29988218593061317,0.2996460852013961,0.29898174926580895,0.2986000251525809,0.2982812352500091,0.29788672224222323,0.29765893697360923,0.2971695531998329,0.29720791145866793,0.29682161622843695,0.2965342219181281,0.29624047848242535,0.2955088224258195,0.2952128921411452,0.2949765845989243,0.2947173430800281,0.2946692290378432,0.29449660306296127,0.294219194725273,0.2942169608152781,0.29392888796693667,0.293024759132426,0.2928018475543772,0.29258640726476093,0.29232005439731096,0.2921730747916525,0.29209841313078144,0.291698726086511,0.29152952116150577,0.2914373723752401,0.2914101080974285,0.29134309812811254,0.2912595489981852,0.2908571190147966,0.29074101811543535,0.2906195422684386,0.29051814888619965,0.2899142513402051,0.2897290798055341,0.28946056410320303,0.2893978513393948,0.2888577004847542,0.28873594735448166,0.28855252934691555,0.28772432378592,0.2873133772536129,0.28727142379025805,0.2871145400221333,0.2870957046899753,0.28716954879010287,0.28711243502105566,0.2869183609517147,0.2868672540371732,0.2868456157739579,0.286662463393319,0.2864547202967958,0.2862954796394895,0.28609026247884933,0.2856321801076782,0.2852313839235854,0.2851550621876637,0.28509718709787973,0.28493672585038443,0.2847644810905382,0.28451581782694385,0.2844301018464389,0.28431175220770294,0.2842156240886043,0.28424243063342736,0.2841258179337318,0.28411923518131094,0.2841240734819416,0.28404826080627293,0.2839464418204311,0.2839014311754558,0.2839329370902122,0.28361786421865,0.2836575274583867,0.2835843307088382,0.2834617513059087,0.28343516166916577,0.283268394178363,0.28321067444993786,0.28320455527243904,0.28314867419622425,0.28291458099891026,0.2827956723359817,0.28271398765873296,0.28257400980497005,0.2824181157927447,0.2822245131393352,0.2821808869918468,0.2819866092778171,0.2820200071604087,0.28212054340064535,0.2821179978555665,0.2821193060221527,0.28204527656650547,0.28185576811910645,0.2818397349204797,0.28174410741938666,0.2816207351484502,0.28142767696907295,0.28127739710326866,0.2812625548221686,0.2812367148151858,0.28112520552139647,0.2811253006028656,0.280956239629698,0.2807695012007072,0.28079735258037575,0.2806399014740102,0.2805877574283542,0.28025878079632716,0.28023995089359244,0.28021328349214697,0.28016677031975207,0.2802292759212011,0.27996392942834475,0.27978882988878756,0.2798577678773729,0.2795170976946622,0.27926478858815224,0.27910704695592786,0.2789441482908004,0.2787932498329733,0.27864001969784674,0.278740288952194,0.2786560143419472,0.2785777131664987,0.2787472714525948,0.2787371792571383,0.27849417828748696,0.2782452536627089,0.27822022334277485,0.27811772740960283,0.2779047993092241,0.2778350162129707,0.2776275784412156,0.2775362291619041,0.27735251336228617,0.27733381341912944,0.2771144787777463,0.27705621337101743,0.2769513660421976,0.276798349792669,0.276711762347494,0.2765685005146104,0.2764620080709391,0.2764953729593105,0.2762966407106331,0.276305676338248,0.27611274512801776,0.27610848548188394,0.2760544470397758,0.27604503851312706,0.2760641231386663,0.27598236559133954,0.275918414580726,0.2758736319545319,0.2758241117141831,0.27579910845400996,0.27570764068759995,0.27568324060937643,0.2754534621324896,0.27506046770840414,0.2748128186668953,0.27460777260154073,0.2744412715653258,0.27417123424180007,0.2740463253769501,0.2740871813983334,0.2740940343154452,0.2740164850798644,0.2740283152972274,0.27400075218677594,0.2739901105027159,0.27395492129765137,0.2739714476000326,0.2737865554144731,0.2737516056287718,0.2736339850333972,0.27357831076072403,0.27355570013161995,0.2734493106870167,0.27344856422782826,0.2733012395071493,0.27326095506625747,0.2731961882989916,0.2730680368014926,0.2730421190208298,0.27294841279013043,0.27284765551482465,0.2728012334756235,0.2728196192916619,0.2728913052150209,0.2725161244038112,0.27248285876577194,0.27233428775161617,0.2722709180828917,0.272082868042846,0.2720597079392221,0.2720072618047736,0.271909954170136,0.2719849566339897,0.2720218257336189,0.27183534615351534,0.2718542610414435,0.27176887869291366,0.27167591434651756,0.2716556882857164,0.27161225552566215,0.2715752799140081,0.27154941135569666,0.2715373879113905,0.2713713598318264,0.27132230356475306,0.2713297790351063,0.27130254315247854,0.271173582147613,0.27118422710838286,0.27126313712399147,0.27116435345801976,0.2711148948786449,0.27107820385706777,0.2710244450833332,0.27104925096692994,0.2709876864363323,0.2710024402024528,0.2710444608007368,0.2710064206099325,0.27104188972006943,0.27102497195721564,0.27086460099665993,0.27074693119151316,0.2706292503127159,0.27073919948771,0.2708162419713672,0.27092965549532244,0.270876851727576,0.27067149420947806,0.2706650964444152,0.2706032147199498,0.2705524271468796,0.27040341672799706,0.2703753210315142,0.2702516762629469,0.2702508188258333,0.27012469170000586,0.2701236024412439,0.27003919901172396,0.2699907816602935,0.27002954960934716,0.2700590346029413,0.26999662530508384,0.26998530542170773,0.2698359033494285,0.26983984629781865,0.26972712149417966,0.2697226811469927,0.2695699826904418,0.26944879951182543,0.26948886679897716,0.2694725172856739,0.26952389508757724,0.2694587597252626,0.26928475724519196,0.2692361150232176,0.2692150873077276,0.26914992850881375,0.26901277308180055,0.26886508218237687,0.2689076334164407,0.26887810526440525,0.268851500591168,0.26874211656538627,0.2687755153071685,0.26878533553360107,0.26874378021961276,0.2687020164811693,0.26841855210150417,0.26826988174028965,0.26807612688515137,0.26812764307401693,0.2680903329222726,0.2680140349352353,0.26774144513626147,0.2677158197771305,0.26757060569564683,0.26749330758380696,0.2674049035017912,0.26738144917426065,0.267319448000329,0.2673232603012701,0.2673300201480936,0.26739689502637826,0.2673670171288467,0.26744798059214364,0.26746137424305894,0.26746118622447035,0.2673849413516907,0.26737404137994425,0.26733990593356755,0.2672424009979159,0.2672911152025541,0.2671744705616583,0.267077208777086,0.26701405264193634,0.26693185500165223,0.2669325346087382,0.2669189440522255,0.2668728566755504,0.2668748755355805,0.26681275522751224,0.26675974401634356,0.2667837582999193,0.2666671078867932,0.26667183669869204,0.2666525098742618,0.2666292969159835,0.26659130760965954,0.2665707257519275,0.26660158903376835,0.26662674445216605,0.26646839884631546,0.2665263556069381,0.26648964244817136,0.26642794929006774,0.26644508294095864,0.26651487874890406,0.2664638090771198,0.2664775045378664,0.26647065243948,0.26647290676810587,0.2664190147105318,0.26631211679210415,0.2663329739698684,0.2663367621690363,0.2664373359318474,0.2663287366985415,0.26630260101577224,0.2664072067059722,0.2663301565801535,0.26641176040294157,0.2663936770798142,0.26635623466355735,0.26627477361043816,0.2663260211899512,0.2662936555365438,0.2663002604970888,0.2662246413990517,0.2661704405969166,0.2661760090190359,0.26605627778602,0.26610541170537344,0.2659997110163159,0.2658672888000253,0.2659375809857842,0.2658941542568678,0.2658651932425943,0.2657527806336973,0.26574263983752305,0.2657546764282999,0.26572225295411744,0.26561197104032175,0.2656422208529865,0.265590293565608,0.2656607134349243,0.2656932123858717,0.2656809775685699,0.2656436696570899,0.2656843760668962,0.26563468937428936,0.2655759502227369,0.2654471617989032,0.2654470403762065,0.2654694461962834,0.2654222285688439,0.2654855990134238,0.26557961544108144,0.26560399161355197,0.26563903014976953,0.26564472522803406,0.26565041726476935,0.26566598809526304,0.265697374814941,0.26564283576194864,0.2655606469475541,0.26552116435444423,0.2654803438565134,0.26546231315285707,0.26550531028906554,0.26543978360455683,0.2654454807326802,0.265372915212119,0.26532949009780726,0.2652875879407452,0.2651848111882296,0.2651925777093627,0.2651691360560927,0.26511776901721035,0.26505425435160634,0.2649437079314486,0.2650473340669875,0.26506600602646746,0.26496792122590207,0.2649318367745345,0.2650703554805745,0.26504789998951267,0.26506727663468205,0.26508645320594554,0.26500154251486774,0.2649621410862835,0.26487279010805925,0.26483698018473495,0.2648281220442447,0.26484258300027075,0.26488963616493016,0.2648663897491837,0.2648908503838994,0.2649020436466078,0.26487515146321505,0.2647714021495143,0.26473662020959693,0.2647107261298725,0.26469521709826105,0.2646530829236202,0.26470501882528424,0.26471741520625186,0.26473552588758964,0.2646420768593371,0.2646012021063186,0.26457081453789094,0.26451149794026896,0.26446199345049887,0.26439393588044574,0.2644017725695301,0.2643426128372672,0.2642357145214107,0.26431645174907137,0.26432727359796343,0.2643109585465507,0.26423237053843196,0.2643037127428432,0.2643153087380663,0.2643086004715364,0.26435985489802566,0.2644354147059217,0.2643101936669497,0.2643422155055827,0.26428155120923735,0.264248831322521,0.2642885553864831,0.2642409558028453,0.2642414585691909,0.26424824206317593,0.2642290969399828,0.26417780440247435,0.2641544334237492,0.2641362374677037,0.26417068166403596,0.2641385408572397,0.2641342897519267,0.26412016937538907,0.26419204433656657,0.26418440512751185,0.264198273351729,0.26426715086541613,0.26422858579053243,0.26419436733773316,0.2642091761213204,0.26432080284143944,0.2643235725513878,0.2643107420981022,0.26433883172363465,0.2643920380685604,0.2643526320195793,0.26437085019432366,0.26440263732647096,0.264400280279776,0.26437189405718753,0.2643668536942373,0.26446431382841695,0.26443317488544754,0.2643802213056599,0.26433341516271114,0.2643219205767329,0.2642854504935178,0.264307518640067,0.2643093285023409,0.2643575638885816,0.26440977743256106,0.2643941989066858,0.2643923257942535,0.26434436685260054,0.26435800712573915,0.26438662847811184,0.2644016765544009,0.2644827073841741,0.26450482618737153,0.2644284104746034,0.264441868927603,0.2643845467786146,0.2643546800255582,0.26434800639387757,0.2643611628731551,0.26434122388838777,0.26431385971152405,0.2643299491180465,0.2643907207702795,0.2644708764451447,0.2644505777727141,0.2645346462454951,0.2644895760130071,0.26446236572352366,0.2644907134452647,0.26446638671547423,0.2644554758396529,0.264455096333482,0.26442462454991417,0.2643795259543703,0.2644654025931133,0.26443761174695196,0.264397092791801,0.264465971383044,0.26445836288659447,0.26446208792491716,0.2644064255656065,0.26443241720819854,0.26443794448646535,0.26437954696374755,0.2644324899582349,0.2644449246406918,0.2644260398171419,0.2644171960945363,0.2645097263472287,0.26458977941155337,0.264549210683825,0.264571112476172],\"type\":\"scatter\"}],                        {\"template\":{\"data\":{\"barpolar\":[{\"marker\":{\"line\":{\"color\":\"white\",\"width\":0.5},\"pattern\":{\"fillmode\":\"overlay\",\"size\":10,\"solidity\":0.2}},\"type\":\"barpolar\"}],\"bar\":[{\"error_x\":{\"color\":\"#2a3f5f\"},\"error_y\":{\"color\":\"#2a3f5f\"},\"marker\":{\"line\":{\"color\":\"white\",\"width\":0.5},\"pattern\":{\"fillmode\":\"overlay\",\"size\":10,\"solidity\":0.2}},\"type\":\"bar\"}],\"carpet\":[{\"aaxis\":{\"endlinecolor\":\"#2a3f5f\",\"gridcolor\":\"#C8D4E3\",\"linecolor\":\"#C8D4E3\",\"minorgridcolor\":\"#C8D4E3\",\"startlinecolor\":\"#2a3f5f\"},\"baxis\":{\"endlinecolor\":\"#2a3f5f\",\"gridcolor\":\"#C8D4E3\",\"linecolor\":\"#C8D4E3\",\"minorgridcolor\":\"#C8D4E3\",\"startlinecolor\":\"#2a3f5f\"},\"type\":\"carpet\"}],\"choropleth\":[{\"colorbar\":{\"outlinewidth\":0,\"ticks\":\"\"},\"type\":\"choropleth\"}],\"contourcarpet\":[{\"colorbar\":{\"outlinewidth\":0,\"ticks\":\"\"},\"type\":\"contourcarpet\"}],\"contour\":[{\"colorbar\":{\"outlinewidth\":0,\"ticks\":\"\"},\"colorscale\":[[0.0,\"#0d0887\"],[0.1111111111111111,\"#46039f\"],[0.2222222222222222,\"#7201a8\"],[0.3333333333333333,\"#9c179e\"],[0.4444444444444444,\"#bd3786\"],[0.5555555555555556,\"#d8576b\"],[0.6666666666666666,\"#ed7953\"],[0.7777777777777778,\"#fb9f3a\"],[0.8888888888888888,\"#fdca26\"],[1.0,\"#f0f921\"]],\"type\":\"contour\"}],\"heatmapgl\":[{\"colorbar\":{\"outlinewidth\":0,\"ticks\":\"\"},\"colorscale\":[[0.0,\"#0d0887\"],[0.1111111111111111,\"#46039f\"],[0.2222222222222222,\"#7201a8\"],[0.3333333333333333,\"#9c179e\"],[0.4444444444444444,\"#bd3786\"],[0.5555555555555556,\"#d8576b\"],[0.6666666666666666,\"#ed7953\"],[0.7777777777777778,\"#fb9f3a\"],[0.8888888888888888,\"#fdca26\"],[1.0,\"#f0f921\"]],\"type\":\"heatmapgl\"}],\"heatmap\":[{\"colorbar\":{\"outlinewidth\":0,\"ticks\":\"\"},\"colorscale\":[[0.0,\"#0d0887\"],[0.1111111111111111,\"#46039f\"],[0.2222222222222222,\"#7201a8\"],[0.3333333333333333,\"#9c179e\"],[0.4444444444444444,\"#bd3786\"],[0.5555555555555556,\"#d8576b\"],[0.6666666666666666,\"#ed7953\"],[0.7777777777777778,\"#fb9f3a\"],[0.8888888888888888,\"#fdca26\"],[1.0,\"#f0f921\"]],\"type\":\"heatmap\"}],\"histogram2dcontour\":[{\"colorbar\":{\"outlinewidth\":0,\"ticks\":\"\"},\"colorscale\":[[0.0,\"#0d0887\"],[0.1111111111111111,\"#46039f\"],[0.2222222222222222,\"#7201a8\"],[0.3333333333333333,\"#9c179e\"],[0.4444444444444444,\"#bd3786\"],[0.5555555555555556,\"#d8576b\"],[0.6666666666666666,\"#ed7953\"],[0.7777777777777778,\"#fb9f3a\"],[0.8888888888888888,\"#fdca26\"],[1.0,\"#f0f921\"]],\"type\":\"histogram2dcontour\"}],\"histogram2d\":[{\"colorbar\":{\"outlinewidth\":0,\"ticks\":\"\"},\"colorscale\":[[0.0,\"#0d0887\"],[0.1111111111111111,\"#46039f\"],[0.2222222222222222,\"#7201a8\"],[0.3333333333333333,\"#9c179e\"],[0.4444444444444444,\"#bd3786\"],[0.5555555555555556,\"#d8576b\"],[0.6666666666666666,\"#ed7953\"],[0.7777777777777778,\"#fb9f3a\"],[0.8888888888888888,\"#fdca26\"],[1.0,\"#f0f921\"]],\"type\":\"histogram2d\"}],\"histogram\":[{\"marker\":{\"pattern\":{\"fillmode\":\"overlay\",\"size\":10,\"solidity\":0.2}},\"type\":\"histogram\"}],\"mesh3d\":[{\"colorbar\":{\"outlinewidth\":0,\"ticks\":\"\"},\"type\":\"mesh3d\"}],\"parcoords\":[{\"line\":{\"colorbar\":{\"outlinewidth\":0,\"ticks\":\"\"}},\"type\":\"parcoords\"}],\"pie\":[{\"automargin\":true,\"type\":\"pie\"}],\"scatter3d\":[{\"line\":{\"colorbar\":{\"outlinewidth\":0,\"ticks\":\"\"}},\"marker\":{\"colorbar\":{\"outlinewidth\":0,\"ticks\":\"\"}},\"type\":\"scatter3d\"}],\"scattercarpet\":[{\"marker\":{\"colorbar\":{\"outlinewidth\":0,\"ticks\":\"\"}},\"type\":\"scattercarpet\"}],\"scattergeo\":[{\"marker\":{\"colorbar\":{\"outlinewidth\":0,\"ticks\":\"\"}},\"type\":\"scattergeo\"}],\"scattergl\":[{\"marker\":{\"colorbar\":{\"outlinewidth\":0,\"ticks\":\"\"}},\"type\":\"scattergl\"}],\"scattermapbox\":[{\"marker\":{\"colorbar\":{\"outlinewidth\":0,\"ticks\":\"\"}},\"type\":\"scattermapbox\"}],\"scatterpolargl\":[{\"marker\":{\"colorbar\":{\"outlinewidth\":0,\"ticks\":\"\"}},\"type\":\"scatterpolargl\"}],\"scatterpolar\":[{\"marker\":{\"colorbar\":{\"outlinewidth\":0,\"ticks\":\"\"}},\"type\":\"scatterpolar\"}],\"scatter\":[{\"fillpattern\":{\"fillmode\":\"overlay\",\"size\":10,\"solidity\":0.2},\"type\":\"scatter\"}],\"scatterternary\":[{\"marker\":{\"colorbar\":{\"outlinewidth\":0,\"ticks\":\"\"}},\"type\":\"scatterternary\"}],\"surface\":[{\"colorbar\":{\"outlinewidth\":0,\"ticks\":\"\"},\"colorscale\":[[0.0,\"#0d0887\"],[0.1111111111111111,\"#46039f\"],[0.2222222222222222,\"#7201a8\"],[0.3333333333333333,\"#9c179e\"],[0.4444444444444444,\"#bd3786\"],[0.5555555555555556,\"#d8576b\"],[0.6666666666666666,\"#ed7953\"],[0.7777777777777778,\"#fb9f3a\"],[0.8888888888888888,\"#fdca26\"],[1.0,\"#f0f921\"]],\"type\":\"surface\"}],\"table\":[{\"cells\":{\"fill\":{\"color\":\"#EBF0F8\"},\"line\":{\"color\":\"white\"}},\"header\":{\"fill\":{\"color\":\"#C8D4E3\"},\"line\":{\"color\":\"white\"}},\"type\":\"table\"}]},\"layout\":{\"annotationdefaults\":{\"arrowcolor\":\"#2a3f5f\",\"arrowhead\":0,\"arrowwidth\":1},\"autotypenumbers\":\"strict\",\"coloraxis\":{\"colorbar\":{\"outlinewidth\":0,\"ticks\":\"\"}},\"colorscale\":{\"diverging\":[[0,\"#8e0152\"],[0.1,\"#c51b7d\"],[0.2,\"#de77ae\"],[0.3,\"#f1b6da\"],[0.4,\"#fde0ef\"],[0.5,\"#f7f7f7\"],[0.6,\"#e6f5d0\"],[0.7,\"#b8e186\"],[0.8,\"#7fbc41\"],[0.9,\"#4d9221\"],[1,\"#276419\"]],\"sequential\":[[0.0,\"#0d0887\"],[0.1111111111111111,\"#46039f\"],[0.2222222222222222,\"#7201a8\"],[0.3333333333333333,\"#9c179e\"],[0.4444444444444444,\"#bd3786\"],[0.5555555555555556,\"#d8576b\"],[0.6666666666666666,\"#ed7953\"],[0.7777777777777778,\"#fb9f3a\"],[0.8888888888888888,\"#fdca26\"],[1.0,\"#f0f921\"]],\"sequentialminus\":[[0.0,\"#0d0887\"],[0.1111111111111111,\"#46039f\"],[0.2222222222222222,\"#7201a8\"],[0.3333333333333333,\"#9c179e\"],[0.4444444444444444,\"#bd3786\"],[0.5555555555555556,\"#d8576b\"],[0.6666666666666666,\"#ed7953\"],[0.7777777777777778,\"#fb9f3a\"],[0.8888888888888888,\"#fdca26\"],[1.0,\"#f0f921\"]]},\"colorway\":[\"#636efa\",\"#EF553B\",\"#00cc96\",\"#ab63fa\",\"#FFA15A\",\"#19d3f3\",\"#FF6692\",\"#B6E880\",\"#FF97FF\",\"#FECB52\"],\"font\":{\"color\":\"#2a3f5f\"},\"geo\":{\"bgcolor\":\"white\",\"lakecolor\":\"white\",\"landcolor\":\"white\",\"showlakes\":true,\"showland\":true,\"subunitcolor\":\"#C8D4E3\"},\"hoverlabel\":{\"align\":\"left\"},\"hovermode\":\"closest\",\"mapbox\":{\"style\":\"light\"},\"paper_bgcolor\":\"white\",\"plot_bgcolor\":\"white\",\"polar\":{\"angularaxis\":{\"gridcolor\":\"#EBF0F8\",\"linecolor\":\"#EBF0F8\",\"ticks\":\"\"},\"bgcolor\":\"white\",\"radialaxis\":{\"gridcolor\":\"#EBF0F8\",\"linecolor\":\"#EBF0F8\",\"ticks\":\"\"}},\"scene\":{\"xaxis\":{\"backgroundcolor\":\"white\",\"gridcolor\":\"#DFE8F3\",\"gridwidth\":2,\"linecolor\":\"#EBF0F8\",\"showbackground\":true,\"ticks\":\"\",\"zerolinecolor\":\"#EBF0F8\"},\"yaxis\":{\"backgroundcolor\":\"white\",\"gridcolor\":\"#DFE8F3\",\"gridwidth\":2,\"linecolor\":\"#EBF0F8\",\"showbackground\":true,\"ticks\":\"\",\"zerolinecolor\":\"#EBF0F8\"},\"zaxis\":{\"backgroundcolor\":\"white\",\"gridcolor\":\"#DFE8F3\",\"gridwidth\":2,\"linecolor\":\"#EBF0F8\",\"showbackground\":true,\"ticks\":\"\",\"zerolinecolor\":\"#EBF0F8\"}},\"shapedefaults\":{\"line\":{\"color\":\"#2a3f5f\"}},\"ternary\":{\"aaxis\":{\"gridcolor\":\"#DFE8F3\",\"linecolor\":\"#A2B1C6\",\"ticks\":\"\"},\"baxis\":{\"gridcolor\":\"#DFE8F3\",\"linecolor\":\"#A2B1C6\",\"ticks\":\"\"},\"bgcolor\":\"white\",\"caxis\":{\"gridcolor\":\"#DFE8F3\",\"linecolor\":\"#A2B1C6\",\"ticks\":\"\"}},\"title\":{\"x\":0.05},\"xaxis\":{\"automargin\":true,\"gridcolor\":\"#EBF0F8\",\"linecolor\":\"#EBF0F8\",\"ticks\":\"\",\"title\":{\"standoff\":15},\"zerolinecolor\":\"#EBF0F8\",\"zerolinewidth\":2},\"yaxis\":{\"automargin\":true,\"gridcolor\":\"#EBF0F8\",\"linecolor\":\"#EBF0F8\",\"ticks\":\"\",\"title\":{\"standoff\":15},\"zerolinecolor\":\"#EBF0F8\",\"zerolinewidth\":2}}},\"title\":{\"text\":\"\\u003cb\\u003eTraining Metrics: MULTICLASS\\u003c\\u002fb\\u003e\"},\"width\":800,\"height\":400},                        {\"responsive\": true}                    ).then(function(){\n",
       "                            \n",
       "var gd = document.getElementById('dc827b11-c319-4107-84c0-f9600124cf15');\n",
       "var x = new MutationObserver(function (mutations, observer) {{\n",
       "        var display = window.getComputedStyle(gd).display;\n",
       "        if (!display || display === 'none') {{\n",
       "            console.log([gd, 'removed!']);\n",
       "            Plotly.purge(gd);\n",
       "            observer.disconnect();\n",
       "        }}\n",
       "}});\n",
       "\n",
       "// Listen for the removal of the full notebook cells\n",
       "var notebookContainer = gd.closest('#notebook-container');\n",
       "if (notebookContainer) {{\n",
       "    x.observe(notebookContainer, {childList: true});\n",
       "}}\n",
       "\n",
       "// Listen for the clearing of the current output cell\n",
       "var outputEl = gd.closest('.output');\n",
       "if (outputEl) {{\n",
       "    x.observe(outputEl, {childList: true});\n",
       "}}\n",
       "\n",
       "                        })                };                });            </script>        </div>"
      ]
     },
     "metadata": {},
     "output_type": "display_data"
    },
    {
     "name": "stdout",
     "output_type": "stream",
     "text": [
      "Accuracy Score:0.912015758371635\n"
     ]
    },
    {
     "data": {
      "text/html": [
       "<div>                            <div id=\"91438438-9616-46a1-abcf-5c7fd80d4aa6\" class=\"plotly-graph-div\" style=\"height:500px; width:500px;\"></div>            <script type=\"text/javascript\">                require([\"plotly\"], function(Plotly) {                    window.PLOTLYENV=window.PLOTLYENV || {};                                    if (document.getElementById(\"91438438-9616-46a1-abcf-5c7fd80d4aa6\")) {                    Plotly.newPlot(                        \"91438438-9616-46a1-abcf-5c7fd80d4aa6\",                        [{\"marker\":{\"color\":\"#53808D\"},\"name\":\"Importance\",\"orientation\":\"h\",\"x\":[0.009752644779691802,0.012424165532652747,0.017530294982134428,0.01875837222254325,0.01963550768766763,0.021814597200020963,0.024751907599934227,0.03154579756478181,0.04016601594358082,0.04561927119378181,0.055606366685951106,0.06206583989996348,0.10179186928375934,0.154323144019329,0.33307794536046126],\"y\":[\"num__risk_lifestyle\",\"remainder__FamiliyHistory\",\"num__risk_activity\",\"num__FAF\",\"num__risk_consumption\",\"num__NCP\",\"num__CH2O\",\"num__TUE\",\"num__Height\",\"cat__Gender_male\",\"num__Age\",\"num__FCVC\",\"cat__Gender_female\",\"num__Weight\",\"num__risk_bmi\"],\"type\":\"bar\"}],                        {\"template\":{\"data\":{\"barpolar\":[{\"marker\":{\"line\":{\"color\":\"white\",\"width\":0.5},\"pattern\":{\"fillmode\":\"overlay\",\"size\":10,\"solidity\":0.2}},\"type\":\"barpolar\"}],\"bar\":[{\"error_x\":{\"color\":\"#2a3f5f\"},\"error_y\":{\"color\":\"#2a3f5f\"},\"marker\":{\"line\":{\"color\":\"white\",\"width\":0.5},\"pattern\":{\"fillmode\":\"overlay\",\"size\":10,\"solidity\":0.2}},\"type\":\"bar\"}],\"carpet\":[{\"aaxis\":{\"endlinecolor\":\"#2a3f5f\",\"gridcolor\":\"#C8D4E3\",\"linecolor\":\"#C8D4E3\",\"minorgridcolor\":\"#C8D4E3\",\"startlinecolor\":\"#2a3f5f\"},\"baxis\":{\"endlinecolor\":\"#2a3f5f\",\"gridcolor\":\"#C8D4E3\",\"linecolor\":\"#C8D4E3\",\"minorgridcolor\":\"#C8D4E3\",\"startlinecolor\":\"#2a3f5f\"},\"type\":\"carpet\"}],\"choropleth\":[{\"colorbar\":{\"outlinewidth\":0,\"ticks\":\"\"},\"type\":\"choropleth\"}],\"contourcarpet\":[{\"colorbar\":{\"outlinewidth\":0,\"ticks\":\"\"},\"type\":\"contourcarpet\"}],\"contour\":[{\"colorbar\":{\"outlinewidth\":0,\"ticks\":\"\"},\"colorscale\":[[0.0,\"#0d0887\"],[0.1111111111111111,\"#46039f\"],[0.2222222222222222,\"#7201a8\"],[0.3333333333333333,\"#9c179e\"],[0.4444444444444444,\"#bd3786\"],[0.5555555555555556,\"#d8576b\"],[0.6666666666666666,\"#ed7953\"],[0.7777777777777778,\"#fb9f3a\"],[0.8888888888888888,\"#fdca26\"],[1.0,\"#f0f921\"]],\"type\":\"contour\"}],\"heatmapgl\":[{\"colorbar\":{\"outlinewidth\":0,\"ticks\":\"\"},\"colorscale\":[[0.0,\"#0d0887\"],[0.1111111111111111,\"#46039f\"],[0.2222222222222222,\"#7201a8\"],[0.3333333333333333,\"#9c179e\"],[0.4444444444444444,\"#bd3786\"],[0.5555555555555556,\"#d8576b\"],[0.6666666666666666,\"#ed7953\"],[0.7777777777777778,\"#fb9f3a\"],[0.8888888888888888,\"#fdca26\"],[1.0,\"#f0f921\"]],\"type\":\"heatmapgl\"}],\"heatmap\":[{\"colorbar\":{\"outlinewidth\":0,\"ticks\":\"\"},\"colorscale\":[[0.0,\"#0d0887\"],[0.1111111111111111,\"#46039f\"],[0.2222222222222222,\"#7201a8\"],[0.3333333333333333,\"#9c179e\"],[0.4444444444444444,\"#bd3786\"],[0.5555555555555556,\"#d8576b\"],[0.6666666666666666,\"#ed7953\"],[0.7777777777777778,\"#fb9f3a\"],[0.8888888888888888,\"#fdca26\"],[1.0,\"#f0f921\"]],\"type\":\"heatmap\"}],\"histogram2dcontour\":[{\"colorbar\":{\"outlinewidth\":0,\"ticks\":\"\"},\"colorscale\":[[0.0,\"#0d0887\"],[0.1111111111111111,\"#46039f\"],[0.2222222222222222,\"#7201a8\"],[0.3333333333333333,\"#9c179e\"],[0.4444444444444444,\"#bd3786\"],[0.5555555555555556,\"#d8576b\"],[0.6666666666666666,\"#ed7953\"],[0.7777777777777778,\"#fb9f3a\"],[0.8888888888888888,\"#fdca26\"],[1.0,\"#f0f921\"]],\"type\":\"histogram2dcontour\"}],\"histogram2d\":[{\"colorbar\":{\"outlinewidth\":0,\"ticks\":\"\"},\"colorscale\":[[0.0,\"#0d0887\"],[0.1111111111111111,\"#46039f\"],[0.2222222222222222,\"#7201a8\"],[0.3333333333333333,\"#9c179e\"],[0.4444444444444444,\"#bd3786\"],[0.5555555555555556,\"#d8576b\"],[0.6666666666666666,\"#ed7953\"],[0.7777777777777778,\"#fb9f3a\"],[0.8888888888888888,\"#fdca26\"],[1.0,\"#f0f921\"]],\"type\":\"histogram2d\"}],\"histogram\":[{\"marker\":{\"pattern\":{\"fillmode\":\"overlay\",\"size\":10,\"solidity\":0.2}},\"type\":\"histogram\"}],\"mesh3d\":[{\"colorbar\":{\"outlinewidth\":0,\"ticks\":\"\"},\"type\":\"mesh3d\"}],\"parcoords\":[{\"line\":{\"colorbar\":{\"outlinewidth\":0,\"ticks\":\"\"}},\"type\":\"parcoords\"}],\"pie\":[{\"automargin\":true,\"type\":\"pie\"}],\"scatter3d\":[{\"line\":{\"colorbar\":{\"outlinewidth\":0,\"ticks\":\"\"}},\"marker\":{\"colorbar\":{\"outlinewidth\":0,\"ticks\":\"\"}},\"type\":\"scatter3d\"}],\"scattercarpet\":[{\"marker\":{\"colorbar\":{\"outlinewidth\":0,\"ticks\":\"\"}},\"type\":\"scattercarpet\"}],\"scattergeo\":[{\"marker\":{\"colorbar\":{\"outlinewidth\":0,\"ticks\":\"\"}},\"type\":\"scattergeo\"}],\"scattergl\":[{\"marker\":{\"colorbar\":{\"outlinewidth\":0,\"ticks\":\"\"}},\"type\":\"scattergl\"}],\"scattermapbox\":[{\"marker\":{\"colorbar\":{\"outlinewidth\":0,\"ticks\":\"\"}},\"type\":\"scattermapbox\"}],\"scatterpolargl\":[{\"marker\":{\"colorbar\":{\"outlinewidth\":0,\"ticks\":\"\"}},\"type\":\"scatterpolargl\"}],\"scatterpolar\":[{\"marker\":{\"colorbar\":{\"outlinewidth\":0,\"ticks\":\"\"}},\"type\":\"scatterpolar\"}],\"scatter\":[{\"fillpattern\":{\"fillmode\":\"overlay\",\"size\":10,\"solidity\":0.2},\"type\":\"scatter\"}],\"scatterternary\":[{\"marker\":{\"colorbar\":{\"outlinewidth\":0,\"ticks\":\"\"}},\"type\":\"scatterternary\"}],\"surface\":[{\"colorbar\":{\"outlinewidth\":0,\"ticks\":\"\"},\"colorscale\":[[0.0,\"#0d0887\"],[0.1111111111111111,\"#46039f\"],[0.2222222222222222,\"#7201a8\"],[0.3333333333333333,\"#9c179e\"],[0.4444444444444444,\"#bd3786\"],[0.5555555555555556,\"#d8576b\"],[0.6666666666666666,\"#ed7953\"],[0.7777777777777778,\"#fb9f3a\"],[0.8888888888888888,\"#fdca26\"],[1.0,\"#f0f921\"]],\"type\":\"surface\"}],\"table\":[{\"cells\":{\"fill\":{\"color\":\"#EBF0F8\"},\"line\":{\"color\":\"white\"}},\"header\":{\"fill\":{\"color\":\"#C8D4E3\"},\"line\":{\"color\":\"white\"}},\"type\":\"table\"}]},\"layout\":{\"annotationdefaults\":{\"arrowcolor\":\"#2a3f5f\",\"arrowhead\":0,\"arrowwidth\":1},\"autotypenumbers\":\"strict\",\"coloraxis\":{\"colorbar\":{\"outlinewidth\":0,\"ticks\":\"\"}},\"colorscale\":{\"diverging\":[[0,\"#8e0152\"],[0.1,\"#c51b7d\"],[0.2,\"#de77ae\"],[0.3,\"#f1b6da\"],[0.4,\"#fde0ef\"],[0.5,\"#f7f7f7\"],[0.6,\"#e6f5d0\"],[0.7,\"#b8e186\"],[0.8,\"#7fbc41\"],[0.9,\"#4d9221\"],[1,\"#276419\"]],\"sequential\":[[0.0,\"#0d0887\"],[0.1111111111111111,\"#46039f\"],[0.2222222222222222,\"#7201a8\"],[0.3333333333333333,\"#9c179e\"],[0.4444444444444444,\"#bd3786\"],[0.5555555555555556,\"#d8576b\"],[0.6666666666666666,\"#ed7953\"],[0.7777777777777778,\"#fb9f3a\"],[0.8888888888888888,\"#fdca26\"],[1.0,\"#f0f921\"]],\"sequentialminus\":[[0.0,\"#0d0887\"],[0.1111111111111111,\"#46039f\"],[0.2222222222222222,\"#7201a8\"],[0.3333333333333333,\"#9c179e\"],[0.4444444444444444,\"#bd3786\"],[0.5555555555555556,\"#d8576b\"],[0.6666666666666666,\"#ed7953\"],[0.7777777777777778,\"#fb9f3a\"],[0.8888888888888888,\"#fdca26\"],[1.0,\"#f0f921\"]]},\"colorway\":[\"#636efa\",\"#EF553B\",\"#00cc96\",\"#ab63fa\",\"#FFA15A\",\"#19d3f3\",\"#FF6692\",\"#B6E880\",\"#FF97FF\",\"#FECB52\"],\"font\":{\"color\":\"#2a3f5f\"},\"geo\":{\"bgcolor\":\"white\",\"lakecolor\":\"white\",\"landcolor\":\"white\",\"showlakes\":true,\"showland\":true,\"subunitcolor\":\"#C8D4E3\"},\"hoverlabel\":{\"align\":\"left\"},\"hovermode\":\"closest\",\"mapbox\":{\"style\":\"light\"},\"paper_bgcolor\":\"white\",\"plot_bgcolor\":\"white\",\"polar\":{\"angularaxis\":{\"gridcolor\":\"#EBF0F8\",\"linecolor\":\"#EBF0F8\",\"ticks\":\"\"},\"bgcolor\":\"white\",\"radialaxis\":{\"gridcolor\":\"#EBF0F8\",\"linecolor\":\"#EBF0F8\",\"ticks\":\"\"}},\"scene\":{\"xaxis\":{\"backgroundcolor\":\"white\",\"gridcolor\":\"#DFE8F3\",\"gridwidth\":2,\"linecolor\":\"#EBF0F8\",\"showbackground\":true,\"ticks\":\"\",\"zerolinecolor\":\"#EBF0F8\"},\"yaxis\":{\"backgroundcolor\":\"white\",\"gridcolor\":\"#DFE8F3\",\"gridwidth\":2,\"linecolor\":\"#EBF0F8\",\"showbackground\":true,\"ticks\":\"\",\"zerolinecolor\":\"#EBF0F8\"},\"zaxis\":{\"backgroundcolor\":\"white\",\"gridcolor\":\"#DFE8F3\",\"gridwidth\":2,\"linecolor\":\"#EBF0F8\",\"showbackground\":true,\"ticks\":\"\",\"zerolinecolor\":\"#EBF0F8\"}},\"shapedefaults\":{\"line\":{\"color\":\"#2a3f5f\"}},\"ternary\":{\"aaxis\":{\"gridcolor\":\"#DFE8F3\",\"linecolor\":\"#A2B1C6\",\"ticks\":\"\"},\"baxis\":{\"gridcolor\":\"#DFE8F3\",\"linecolor\":\"#A2B1C6\",\"ticks\":\"\"},\"bgcolor\":\"white\",\"caxis\":{\"gridcolor\":\"#DFE8F3\",\"linecolor\":\"#A2B1C6\",\"ticks\":\"\"}},\"title\":{\"x\":0.05},\"xaxis\":{\"automargin\":true,\"gridcolor\":\"#EBF0F8\",\"linecolor\":\"#EBF0F8\",\"ticks\":\"\",\"title\":{\"standoff\":15},\"zerolinecolor\":\"#EBF0F8\",\"zerolinewidth\":2},\"yaxis\":{\"automargin\":true,\"gridcolor\":\"#EBF0F8\",\"linecolor\":\"#EBF0F8\",\"ticks\":\"\",\"title\":{\"standoff\":15},\"zerolinecolor\":\"#EBF0F8\",\"zerolinewidth\":2}}},\"yaxis\":{\"type\":\"category\",\"tickmode\":\"linear\"},\"title\":{\"text\":\"\\u003cb\\u003eFeature Importance for the cat model\\u003c\\u002fb\\u003e\\u003cbr\\u003eCalculated using feature weight\"},\"width\":500,\"height\":500},                        {\"responsive\": true}                    ).then(function(){\n",
       "                            \n",
       "var gd = document.getElementById('91438438-9616-46a1-abcf-5c7fd80d4aa6');\n",
       "var x = new MutationObserver(function (mutations, observer) {{\n",
       "        var display = window.getComputedStyle(gd).display;\n",
       "        if (!display || display === 'none') {{\n",
       "            console.log([gd, 'removed!']);\n",
       "            Plotly.purge(gd);\n",
       "            observer.disconnect();\n",
       "        }}\n",
       "}});\n",
       "\n",
       "// Listen for the removal of the full notebook cells\n",
       "var notebookContainer = gd.closest('#notebook-container');\n",
       "if (notebookContainer) {{\n",
       "    x.observe(notebookContainer, {childList: true});\n",
       "}}\n",
       "\n",
       "// Listen for the clearing of the current output cell\n",
       "var outputEl = gd.closest('.output');\n",
       "if (outputEl) {{\n",
       "    x.observe(outputEl, {childList: true});\n",
       "}}\n",
       "\n",
       "                        })                };                });            </script>        </div>"
      ]
     },
     "metadata": {},
     "output_type": "display_data"
    }
   ],
   "source": [
    "# Cat Evaluation\n",
    "\n",
    "cat_best = {\n",
    "    'learning_rate'      : 0.20178944678915414,\n",
    "    'depth'              : 5, \n",
    "    'min_data_in_leaf'   : 10, \n",
    "    'l2_leaf_reg'        : 8, \n",
    "    'bagging_temperature': 2, \n",
    "    'random_strength'    : 0.5505115932357647, \n",
    "    'colsample_bylevel'  : 0.8000128297809009, \n",
    "    'border_count'       : 221,\n",
    "    'random_seed'        : RANDOM,\n",
    "    'verbose'            : 0\n",
    "}\n",
    "\n",
    "cat_params = {\n",
    "    'n_estimators'          : 900,\n",
    "    'early_stopping_rounds' : 75\n",
    "}\n",
    "cat_params.update(cat_best)\n",
    "\n",
    "if EVALUATE:\n",
    "    cat_model = CatBoostClassifier(**cat_params)\n",
    "    cat_model.fit(X_train, y_train,  eval_set =[(X_train,y_train),(X_test,y_test)])\n",
    "\n",
    "    # plot training metrics\n",
    "    plot_training_metrics(cat_model, 'cat', 'MultiClass')\n",
    "\n",
    "    # test on train data \n",
    "    y_pred = cat_model.predict(X_test)\n",
    "\n",
    "    # accuracy\n",
    "    acc = accuracy_score(y_test,y_pred)\n",
    "    print(f\"Accuracy Score:{acc}\")\n",
    "\n",
    "    # plot feature importance\n",
    "    plot_feature_importance(cat_model,'cat','weight',True,15)\n",
    "    \n",
    "    # export predictions for lazy evaluation\n",
    "    y_pred_on_train = cat_model.predict(X_train)\n",
    "    y_pred_on_train = [p[0] for p in y_pred_on_train]\n",
    "    submit_predictions(X_train_ids, y_pred_on_train, decode=False,filename='cat.csv')\n",
    "\n",
    "    # clear some memmory\n",
    "    gc.collect()\n",
    "    \n",
    "    # Accuracy: 91.20% Epochs = 639"
   ]
  },
  {
   "cell_type": "markdown",
   "id": "2542faa0",
   "metadata": {
    "papermill": {
     "duration": 0.016843,
     "end_time": "2024-02-17T19:22:03.207254",
     "exception": false,
     "start_time": "2024-02-17T19:22:03.190411",
     "status": "completed"
    },
    "tags": []
   },
   "source": [
    "#### Catboost Submission"
   ]
  },
  {
   "cell_type": "code",
   "execution_count": 29,
   "id": "880e89a5",
   "metadata": {
    "execution": {
     "iopub.execute_input": "2024-02-17T19:22:03.242849Z",
     "iopub.status.busy": "2024-02-17T19:22:03.242112Z",
     "iopub.status.idle": "2024-02-17T19:22:03.249523Z",
     "shell.execute_reply": "2024-02-17T19:22:03.248493Z"
    },
    "papermill": {
     "duration": 0.027371,
     "end_time": "2024-02-17T19:22:03.251647",
     "exception": false,
     "start_time": "2024-02-17T19:22:03.224276",
     "status": "completed"
    },
    "tags": []
   },
   "outputs": [],
   "source": [
    "# submmit single cat model\n",
    "if CAT:\n",
    "    cat_best = {\n",
    "        'learning_rate'      : 0.20178944678915414,\n",
    "        'depth'              : 5, \n",
    "        'min_data_in_leaf'   : 10, \n",
    "        'l2_leaf_reg'        : 8, \n",
    "        'bagging_temperature': 2, \n",
    "        'random_strength'    : 0.5505115932357647, \n",
    "        'colsample_bylevel'  : 0.8000128297809009, \n",
    "        'border_count'       : 221,\n",
    "        'random_seed'        : RANDOM,\n",
    "        'verbose'            : 0\n",
    "    }\n",
    "\n",
    "    cat_params = {\n",
    "        'n_estimators': 639,\n",
    "    }\n",
    "    cat_params.update(cat_best)\n",
    "\n",
    "    # train the model on all available data\n",
    "    cat_model = CatBoostClassifier(**cat_params)\n",
    "    cat_model.fit(X,y,verbose=0)\n",
    "\n",
    "    # predict on the test set\n",
    "    y_pred = cat_model.predict(X_submit)\n",
    "    y_pred = [p[0] for p in y_pred]\n",
    "    \n",
    "    # export predictions for lazy evaluation\n",
    "    submit_predictions(X_submit_ids, y_pred, decode=True,filename='submission.csv')\n",
    "    print(\"Catboost Model Submitted\")"
   ]
  },
  {
   "cell_type": "markdown",
   "id": "dbe713ae",
   "metadata": {
    "papermill": {
     "duration": 0.016903,
     "end_time": "2024-02-17T19:22:03.285919",
     "exception": false,
     "start_time": "2024-02-17T19:22:03.269016",
     "status": "completed"
    },
    "tags": []
   },
   "source": [
    "## Ensemble Methods"
   ]
  },
  {
   "cell_type": "code",
   "execution_count": 30,
   "id": "5f5efef9",
   "metadata": {
    "execution": {
     "iopub.execute_input": "2024-02-17T19:22:03.321075Z",
     "iopub.status.busy": "2024-02-17T19:22:03.320042Z",
     "iopub.status.idle": "2024-02-17T19:22:03.334146Z",
     "shell.execute_reply": "2024-02-17T19:22:03.333191Z"
    },
    "papermill": {
     "duration": 0.034561,
     "end_time": "2024-02-17T19:22:03.336951",
     "exception": false,
     "start_time": "2024-02-17T19:22:03.302390",
     "status": "completed"
    },
    "tags": []
   },
   "outputs": [],
   "source": [
    "def get_voting_ensemble_models(models, vote_type, weights=None):\n",
    "    \"\"\"Create a dictionary of individual models + a voting ensemble model\"\"\"\n",
    "    d = dict()\n",
    "    for model in models:\n",
    "        d[model[0]] = model[1]\n",
    "    \n",
    "    # add the ensembles\n",
    "    if vote_type == 'soft':\n",
    "        d['ensemble_soft'] =  VotingClassifier(estimators=models, voting='soft', weights=weights,verbose=False)\n",
    "    else:\n",
    "        d['ensemble_hard'] =  VotingClassifier(estimators=models, voting='hard', verbose=False)\n",
    "    return d  \n",
    "\n",
    "\n",
    "def get_stacked_ensemble_models(base_learners, meta_learner, method='predict'):\n",
    "    \"\"\"Create a dictionary of individual models + a meta learner for a stacked ensemble evaluation\n",
    "    method: predict or predict_proba\n",
    "    \"\"\"\n",
    "    \n",
    "    # stack the ensemble\n",
    "    ensemble_stacked = StackingClassifier(\n",
    "        estimators=base_learners, \n",
    "        final_estimator=meta_learner, \n",
    "        stack_method=method\n",
    "    )\n",
    "    \n",
    "    # return the models in a dict\n",
    "    d=dict()\n",
    "    for learner in base_learners:\n",
    "        d[learner[0]] =  learner[1]\n",
    "    d['ensemble_stacked'] = ensemble_stacked\n",
    "    \n",
    "    return d\n",
    "\n",
    "\n",
    "def evaluate_model(model, eval_metric, n_splits, n_repeats, random, X, y):\n",
    "    \"\"\" Use repeated stratified kfold to evaluate model performance\"\"\"\n",
    "    # define the cv\n",
    "    cv = RepeatedStratifiedKFold(n_splits=n_splits, n_repeats=n_repeats, random_state=random)\n",
    "    scores = cross_val_score(model, X, y, scoring=eval_metric, cv=cv, n_jobs=-1)\n",
    "    return scores, cv\n",
    "\n",
    "\n",
    "def evaluate_ensemble(models, eval_metric, n_splits, n_repeats, random, X, y):\n",
    "    \"\"\"Use repeated stratified kfold process to evaluate model performance for multiple models and ensembles\"\"\"\n",
    "    print(\"Repeated Stratified Kfold Training\")\n",
    "    print(\"=\"*100)\n",
    "    results = dict()\n",
    "    for model_name, model in models.items():\n",
    "        scores, cv = evaluate_model(model, eval_metric, n_splits, n_repeats, random, X, y)\n",
    "        results[model_name] = scores\n",
    "        print(f\"=> {model_name} (average {eval_metric}) = {round(np.mean(scores),4)} \")\n",
    "\n",
    "    # show boxplots of the results\n",
    "    print(\"=\"*100)\n",
    "    plot_evalmetric_boxplots(results,eval_metric)\n",
    "    \n",
    "    return results,cv\n",
    "\n",
    "\n",
    "def plot_evalmetric_boxplots(results, metric):\n",
    "    \"\"\"Plot boxplots of model results for the eval-metric\"\"\"\n",
    "    \n",
    "    fig = go.Figure()\n",
    "    for model,metrics in results.items():\n",
    "        color = colors['orange'] if ('ensemble' in model) or ('stacked' in model) else colors['sage']\n",
    "        fig.add_trace(\n",
    "            go.Box(y=metrics,name=model,boxpoints='all',jitter=0.3,marker=dict(color=color))\n",
    "        )\n",
    "    fig.update_layout(template='plotly_white',title=f'<b>Training Results:</b> {metric}',height=500,width=500,showlegend=False)\n",
    "    fig.show()"
   ]
  },
  {
   "cell_type": "markdown",
   "id": "e7121b44",
   "metadata": {
    "papermill": {
     "duration": 0.016333,
     "end_time": "2024-02-17T19:22:03.370085",
     "exception": false,
     "start_time": "2024-02-17T19:22:03.353752",
     "status": "completed"
    },
    "tags": []
   },
   "source": [
    "### Meta Learner Evaluation using Lazy Predict Classifer "
   ]
  },
  {
   "cell_type": "code",
   "execution_count": 31,
   "id": "2de2edc6",
   "metadata": {
    "execution": {
     "iopub.execute_input": "2024-02-17T19:22:03.408512Z",
     "iopub.status.busy": "2024-02-17T19:22:03.407744Z",
     "iopub.status.idle": "2024-02-17T19:22:03.415470Z",
     "shell.execute_reply": "2024-02-17T19:22:03.414470Z"
    },
    "papermill": {
     "duration": 0.02835,
     "end_time": "2024-02-17T19:22:03.417755",
     "exception": false,
     "start_time": "2024-02-17T19:22:03.389405",
     "status": "completed"
    },
    "tags": []
   },
   "outputs": [],
   "source": [
    "if LAZY_PREDICT_EVAL:\n",
    "\n",
    "    import lazypredict\n",
    "    from lazypredict.Supervised import LazyClassifier\n",
    "    \n",
    "    \n",
    "    # get the invidual model predictions\n",
    "    for i,file in enumerate(['xgb','lgb','cat']):\n",
    "        df_tmp = (\n",
    "             pd.read_csv(f'/kaggle/working/{file}.csv')\n",
    "            .rename(columns={'Target':file})\n",
    "            .set_index('id')\n",
    "        )\n",
    "        if i==0:\n",
    "            X_train_meta = df_tmp.copy()\n",
    "        else:\n",
    "            X_train_meta = X_train_meta.join(df_tmp)\n",
    "\n",
    "\n",
    "    # split train data into train/test for lazy predict\n",
    "    X_train_lazy, X_test_lazy, y_train_lazy, y_test_lazy = train_test_split(X_train_meta, y_train, test_size=0.20, random_state=RANDOM,stratify=y_train)\n",
    "\n",
    "    # lazy predict classifer \n",
    "    clf = LazyClassifier(\n",
    "        verbose=0, \n",
    "        ignore_warnings=True, \n",
    "        predictions=True, \n",
    "        custom_metric=None,\n",
    "        random_state = RANDOM\n",
    "    )\n",
    "    models, predictions = clf.fit(X_train_lazy,X_test_lazy, y_train_lazy, y_test_lazy)\n",
    "    \n",
    "    # garbage collect\n",
    "    gc.collect()\n",
    "    \n",
    "    # display the evaluation results\n",
    "    models"
   ]
  },
  {
   "cell_type": "markdown",
   "id": "63fde5cc",
   "metadata": {
    "papermill": {
     "duration": 0.016246,
     "end_time": "2024-02-17T19:22:03.451115",
     "exception": false,
     "start_time": "2024-02-17T19:22:03.434869",
     "status": "completed"
    },
    "tags": []
   },
   "source": [
    "### Stacked Ensemble"
   ]
  },
  {
   "cell_type": "code",
   "execution_count": 32,
   "id": "2ef27bb3",
   "metadata": {
    "execution": {
     "iopub.execute_input": "2024-02-17T19:22:03.486542Z",
     "iopub.status.busy": "2024-02-17T19:22:03.485550Z",
     "iopub.status.idle": "2024-02-17T19:22:03.492433Z",
     "shell.execute_reply": "2024-02-17T19:22:03.491650Z"
    },
    "papermill": {
     "duration": 0.026977,
     "end_time": "2024-02-17T19:22:03.494374",
     "exception": false,
     "start_time": "2024-02-17T19:22:03.467397",
     "status": "completed"
    },
    "tags": []
   },
   "outputs": [],
   "source": [
    "if STACK and EVALUATE:\n",
    "    \n",
    "    # update parameters for evaluation\n",
    "    lgb_params = {'n_estimators' : 969}\n",
    "    lgb_params.update(lgb_best)\n",
    "    \n",
    "    cat_params = {'n_estimators': 639}\n",
    "    cat_params.update(cat_best)\n",
    "    \n",
    "    xgb_params = {'n_estimators': 892}\n",
    "    xgb_params.update(xgb_best)\n",
    "\n",
    "    # define individual models\n",
    "    xgb = XGBClassifier(**xgb_params)\n",
    "    lgb = LGBMClassifier(**lgb_params)\n",
    "    cat = CatBoostClassifier(**cat_params)\n",
    "\n",
    "    # list of models to evaluate individually and in an ensemble\n",
    "    base_learners = [('lgb',lgb),('xgb', xgb),('cat',cat)]\n",
    "\n",
    "    # define the meta-learner\n",
    "    meta_learner = GaussianNB() # 0.897\n",
    "#     meta_learner = BaggingClassifier()\n",
    "\n",
    "    # define the individual models and the ensemble\n",
    "    models = get_stacked_ensemble_models(base_learners,meta_learner,'predict')\n",
    "\n",
    "    # train the ensemble\n",
    "    results,cv = evaluate_ensemble(models, 'accuracy', 3,1, RANDOM, X_test,y_test)\n",
    "    \n",
    "# Evaluation Accuracy\n",
    "# lgb: 0.9003\n",
    "# xgb: 0.8938\n",
    "# cat: 0.8935\n",
    "# stacked: 0.8921\n",
    "# stackeded Guassian 0.897\n",
    "# stacked RandomForest 0.8973"
   ]
  },
  {
   "cell_type": "markdown",
   "id": "d33b94f3",
   "metadata": {
    "papermill": {
     "duration": 0.0162,
     "end_time": "2024-02-17T19:22:03.527041",
     "exception": false,
     "start_time": "2024-02-17T19:22:03.510841",
     "status": "completed"
    },
    "tags": []
   },
   "source": [
    "### Voting Ensemble\n",
    "#### Hypertune Ensemble Weights"
   ]
  },
  {
   "cell_type": "code",
   "execution_count": 33,
   "id": "9edf3509",
   "metadata": {
    "execution": {
     "iopub.execute_input": "2024-02-17T19:22:03.561668Z",
     "iopub.status.busy": "2024-02-17T19:22:03.560696Z",
     "iopub.status.idle": "2024-02-17T23:37:44.499243Z",
     "shell.execute_reply": "2024-02-17T23:37:44.497992Z"
    },
    "papermill": {
     "duration": 15340.958476,
     "end_time": "2024-02-17T23:37:44.501745",
     "exception": false,
     "start_time": "2024-02-17T19:22:03.543269",
     "status": "completed"
    },
    "tags": []
   },
   "outputs": [
    {
     "name": "stderr",
     "output_type": "stream",
     "text": [
      "[I 2024-02-17 19:22:03,568] A new study created in memory with name: no-name-68f4d065-777b-4f07-aa59-dab1ff011df5\n",
      "[I 2024-02-17 19:25:28,230] Trial 0 finished with value: 0.9140731013350843 and parameters: {'weight_xgb': 0.860181763035389, 'weight_lgb': 0.4214868518163295, 'weight_cat': 0.7218093193282473}. Best is trial 0 with value: 0.9140731013350843.\n",
      "[I 2024-02-17 19:28:51,928] Trial 1 finished with value: 0.9140293280805428 and parameters: {'weight_xgb': 0.08369714218386581, 'weight_lgb': 0.6471399977819167, 'weight_cat': 0.6827128618161462}. Best is trial 0 with value: 0.9140731013350843.\n",
      "[I 2024-02-17 19:32:17,653] Trial 2 finished with value: 0.9141168745896259 and parameters: {'weight_xgb': 0.6449022020436397, 'weight_lgb': 0.5218525461899723, 'weight_cat': 0.920379409767174}. Best is trial 2 with value: 0.9141168745896259.\n",
      "[I 2024-02-17 19:35:42,577] Trial 3 finished with value: 0.9141606478441672 and parameters: {'weight_xgb': 0.29077438030024005, 'weight_lgb': 0.14214362823237148, 'weight_cat': 0.41032305371258415}. Best is trial 3 with value: 0.9141606478441672.\n",
      "[I 2024-02-17 19:39:07,984] Trial 4 finished with value: 0.9144232873714161 and parameters: {'weight_xgb': 0.38479138653642575, 'weight_lgb': 0.26825326717831544, 'weight_cat': 0.4302775904788937}. Best is trial 4 with value: 0.9144232873714161.\n",
      "[I 2024-02-17 19:42:32,868] Trial 5 finished with value: 0.9145108338804991 and parameters: {'weight_xgb': 0.34775793739498173, 'weight_lgb': 0.5607767368056248, 'weight_cat': 0.49309016080345425}. Best is trial 5 with value: 0.9145108338804991.\n",
      "[I 2024-02-17 19:45:57,616] Trial 6 finished with value: 0.9142919676077916 and parameters: {'weight_xgb': 0.2433903995077652, 'weight_lgb': 0.8539687379043599, 'weight_cat': 0.12674290292656087}. Best is trial 5 with value: 0.9145108338804991.\n",
      "[I 2024-02-17 19:49:21,612] Trial 7 finished with value: 0.9145983803895819 and parameters: {'weight_xgb': 0.18610040064505884, 'weight_lgb': 0.9225174755344138, 'weight_cat': 0.6790444512564096}. Best is trial 7 with value: 0.9145983803895819.\n",
      "[I 2024-02-17 19:52:45,725] Trial 8 finished with value: 0.9142481943532502 and parameters: {'weight_xgb': 0.9648023996288844, 'weight_lgb': 0.5321557848499178, 'weight_cat': 0.8826930283032337}. Best is trial 7 with value: 0.9145983803895819.\n",
      "[I 2024-02-17 19:56:09,442] Trial 9 finished with value: 0.9130663164806303 and parameters: {'weight_xgb': 0.39037259858058637, 'weight_lgb': 0.1760011187745224, 'weight_cat': 0.8713132321326211}. Best is trial 7 with value: 0.9145983803895819.\n",
      "[I 2024-02-17 19:59:33,132] Trial 10 finished with value: 0.9144232873714161 and parameters: {'weight_xgb': 0.06675066636549058, 'weight_lgb': 0.9894196234946928, 'weight_cat': 0.14033516029215443}. Best is trial 7 with value: 0.9145983803895819.\n",
      "[I 2024-02-17 20:02:58,405] Trial 11 finished with value: 0.9144670606259574 and parameters: {'weight_xgb': 0.5356956794442169, 'weight_lgb': 0.7447381810802777, 'weight_cat': 0.5916785854329227}. Best is trial 7 with value: 0.9145983803895819.\n",
      "[I 2024-02-17 20:06:22,887] Trial 12 finished with value: 0.9142044210987087 and parameters: {'weight_xgb': 0.1909438303783828, 'weight_lgb': 0.9775012380626543, 'weight_cat': 0.29386136183419154}. Best is trial 7 with value: 0.9145983803895819.\n",
      "[I 2024-02-17 20:09:47,844] Trial 13 finished with value: 0.9143795141168746 and parameters: {'weight_xgb': 0.5939286174943104, 'weight_lgb': 0.36288905510368635, 'weight_cat': 0.5644509014656929}. Best is trial 7 with value: 0.9145983803895819.\n",
      "[I 2024-02-17 20:13:13,285] Trial 14 finished with value: 0.9142481943532502 and parameters: {'weight_xgb': 0.3932951695474406, 'weight_lgb': 0.7199120283104385, 'weight_cat': 0.2962044923646524}. Best is trial 7 with value: 0.9145983803895819.\n",
      "[I 2024-02-17 20:16:38,026] Trial 15 finished with value: 0.9144232873714161 and parameters: {'weight_xgb': 0.7288084768332742, 'weight_lgb': 0.8426025018732034, 'weight_cat': 0.7321153137192529}. Best is trial 7 with value: 0.9145983803895819.\n",
      "[I 2024-02-17 20:20:02,138] Trial 16 finished with value: 0.9144232873714161 and parameters: {'weight_xgb': 0.02208812906948021, 'weight_lgb': 0.02333750373692478, 'weight_cat': 0.009743888327509498}. Best is trial 7 with value: 0.9145983803895819.\n",
      "[I 2024-02-17 20:23:26,712] Trial 17 finished with value: 0.9144670606259576 and parameters: {'weight_xgb': 0.17587180112860806, 'weight_lgb': 0.6158752978467565, 'weight_cat': 0.50115407912516}. Best is trial 7 with value: 0.9145983803895819.\n",
      "[I 2024-02-17 20:26:50,817] Trial 18 finished with value: 0.9145108338804989 and parameters: {'weight_xgb': 0.45568656980906386, 'weight_lgb': 0.829251674575783, 'weight_cat': 0.9877766792462046}. Best is trial 7 with value: 0.9145983803895819.\n",
      "[I 2024-02-17 20:30:14,670] Trial 19 finished with value: 0.9143795141168746 and parameters: {'weight_xgb': 0.2955062989988698, 'weight_lgb': 0.384233248128837, 'weight_cat': 0.6387749932376903}. Best is trial 7 with value: 0.9145983803895819.\n",
      "[I 2024-02-17 20:33:38,129] Trial 20 finished with value: 0.9141168745896259 and parameters: {'weight_xgb': 0.1330806326742346, 'weight_lgb': 0.6421598615446481, 'weight_cat': 0.7879942273870117}. Best is trial 7 with value: 0.9145983803895819.\n",
      "[I 2024-02-17 20:37:01,923] Trial 21 finished with value: 0.9145546071350404 and parameters: {'weight_xgb': 0.45489488736068434, 'weight_lgb': 0.827406586124664, 'weight_cat': 0.9905509811875158}. Best is trial 7 with value: 0.9145983803895819.\n",
      "[I 2024-02-17 20:40:27,160] Trial 22 finished with value: 0.9143357408623332 and parameters: {'weight_xgb': 0.4951396611927274, 'weight_lgb': 0.9003554389081642, 'weight_cat': 0.8294711759646162}. Best is trial 7 with value: 0.9145983803895819.\n",
      "[I 2024-02-17 20:43:52,134] Trial 23 finished with value: 0.9145108338804989 and parameters: {'weight_xgb': 0.3257143225558949, 'weight_lgb': 0.7511724906515911, 'weight_cat': 0.37184190377861537}. Best is trial 7 with value: 0.9145983803895819.\n",
      "[I 2024-02-17 20:47:16,426] Trial 24 finished with value: 0.9141606478441672 and parameters: {'weight_xgb': 0.6768183360114692, 'weight_lgb': 0.9142253960948451, 'weight_cat': 0.5462432554070187}. Best is trial 7 with value: 0.9145983803895819.\n",
      "[I 2024-02-17 20:50:40,464] Trial 25 finished with value: 0.9141606478441672 and parameters: {'weight_xgb': 0.21747915804778623, 'weight_lgb': 0.7788737870290563, 'weight_cat': 0.9806633612639254}. Best is trial 7 with value: 0.9145983803895819.\n",
      "[I 2024-02-17 20:54:04,758] Trial 26 finished with value: 0.9144670606259574 and parameters: {'weight_xgb': 0.44165729565257933, 'weight_lgb': 0.5920805030391616, 'weight_cat': 0.470111958079224}. Best is trial 7 with value: 0.9145983803895819.\n",
      "[I 2024-02-17 20:57:27,661] Trial 27 finished with value: 0.9142919676077916 and parameters: {'weight_xgb': 0.5537073799693868, 'weight_lgb': 0.45459895863007066, 'weight_cat': 0.7669717018804346}. Best is trial 7 with value: 0.9145983803895819.\n",
      "[I 2024-02-17 21:00:51,559] Trial 28 finished with value: 0.9142919676077916 and parameters: {'weight_xgb': 0.3356660003664287, 'weight_lgb': 0.6825411485794868, 'weight_cat': 0.6490462973103582}. Best is trial 7 with value: 0.9145983803895819.\n",
      "[I 2024-02-17 21:04:15,647] Trial 29 finished with value: 0.9144670606259576 and parameters: {'weight_xgb': 0.8199002408937918, 'weight_lgb': 0.9163572052667583, 'weight_cat': 0.31800823525596067}. Best is trial 7 with value: 0.9145983803895819.\n",
      "[I 2024-02-17 21:07:40,708] Trial 30 finished with value: 0.9143795141168746 and parameters: {'weight_xgb': 0.2508991801016346, 'weight_lgb': 0.5712105940334588, 'weight_cat': 0.6974936611635609}. Best is trial 7 with value: 0.9145983803895819.\n",
      "[I 2024-02-17 21:11:05,386] Trial 31 finished with value: 0.9144232873714161 and parameters: {'weight_xgb': 0.4317982678728009, 'weight_lgb': 0.8148086536449851, 'weight_cat': 0.9914250054326927}. Best is trial 7 with value: 0.9145983803895819.\n",
      "[I 2024-02-17 21:14:28,185] Trial 32 finished with value: 0.914335740862333 and parameters: {'weight_xgb': 0.4728423365557921, 'weight_lgb': 0.8644270974726532, 'weight_cat': 0.9407310913164828}. Best is trial 7 with value: 0.9145983803895819.\n",
      "[I 2024-02-17 21:17:52,462] Trial 33 finished with value: 0.9142481943532502 and parameters: {'weight_xgb': 0.1448798698729344, 'weight_lgb': 0.9509614688477918, 'weight_cat': 0.8192585852711459}. Best is trial 7 with value: 0.9145983803895819.\n",
      "[I 2024-02-17 21:21:18,654] Trial 34 finished with value: 0.9141606478441672 and parameters: {'weight_xgb': 0.6045466578216265, 'weight_lgb': 0.7953103089869361, 'weight_cat': 0.8682235207666902}. Best is trial 7 with value: 0.9145983803895819.\n",
      "[I 2024-02-17 21:24:42,805] Trial 35 finished with value: 0.9143357408623332 and parameters: {'weight_xgb': 0.321885638654705, 'weight_lgb': 0.6788684947653669, 'weight_cat': 0.9415524513072949}. Best is trial 7 with value: 0.9145983803895819.\n",
      "[I 2024-02-17 21:28:07,670] Trial 36 finished with value: 0.9143795141168747 and parameters: {'weight_xgb': 0.5266273290310456, 'weight_lgb': 0.480062655743213, 'weight_cat': 0.6301711169621778}. Best is trial 7 with value: 0.9145983803895819.\n",
      "[I 2024-02-17 21:31:32,351] Trial 37 finished with value: 0.9135478222805865 and parameters: {'weight_xgb': 0.38805682886797094, 'weight_lgb': 0.29976015332208916, 'weight_cat': 0.8988500504722352}. Best is trial 7 with value: 0.9145983803895819.\n",
      "[I 2024-02-17 21:34:56,739] Trial 38 finished with value: 0.9145546071350404 and parameters: {'weight_xgb': 0.11138015472841799, 'weight_lgb': 0.7022171788449862, 'weight_cat': 0.5034033333765546}. Best is trial 7 with value: 0.9145983803895819.\n",
      "[I 2024-02-17 21:38:21,381] Trial 39 finished with value: 0.9139417815714598 and parameters: {'weight_xgb': 0.00023987459128747834, 'weight_lgb': 0.5236235215717433, 'weight_cat': 0.40148273841836035}. Best is trial 7 with value: 0.9145983803895819.\n",
      "[I 2024-02-17 21:41:46,448] Trial 40 finished with value: 0.9141606478441672 and parameters: {'weight_xgb': 0.08561999204969503, 'weight_lgb': 0.5645782244771163, 'weight_cat': 0.516540130528345}. Best is trial 7 with value: 0.9145983803895819.\n",
      "[I 2024-02-17 21:45:11,537] Trial 41 finished with value: 0.9144232873714161 and parameters: {'weight_xgb': 0.08782571127939758, 'weight_lgb': 0.7121287857130681, 'weight_cat': 0.4638546371908965}. Best is trial 7 with value: 0.9145983803895819.\n",
      "[I 2024-02-17 21:48:36,057] Trial 42 finished with value: 0.9146859268986649 and parameters: {'weight_xgb': 0.43664111825354074, 'weight_lgb': 0.8401502512871221, 'weight_cat': 0.18692007741156386}. Best is trial 42 with value: 0.9146859268986649.\n",
      "[I 2024-02-17 21:52:00,584] Trial 43 finished with value: 0.9143795141168746 and parameters: {'weight_xgb': 0.35755067570133703, 'weight_lgb': 0.8670842407203653, 'weight_cat': 0.21010700311473043}. Best is trial 42 with value: 0.9146859268986649.\n",
      "[I 2024-02-17 21:55:25,860] Trial 44 finished with value: 0.9142044210987086 and parameters: {'weight_xgb': 0.2872357376860039, 'weight_lgb': 0.994398543245425, 'weight_cat': 0.234264030797446}. Best is trial 42 with value: 0.9146859268986649.\n",
      "[I 2024-02-17 21:58:50,226] Trial 45 finished with value: 0.9141168745896259 and parameters: {'weight_xgb': 0.22260932644180792, 'weight_lgb': 0.777219491442227, 'weight_cat': 0.008809521302498652}. Best is trial 42 with value: 0.9146859268986649.\n",
      "[I 2024-02-17 22:02:16,752] Trial 46 finished with value: 0.9142044210987087 and parameters: {'weight_xgb': 0.9964092317939677, 'weight_lgb': 0.6534511835431722, 'weight_cat': 0.08020254380135183}. Best is trial 42 with value: 0.9146859268986649.\n",
      "[I 2024-02-17 22:05:42,890] Trial 47 finished with value: 0.9144232873714161 and parameters: {'weight_xgb': 0.15203983230515072, 'weight_lgb': 0.9430882498611121, 'weight_cat': 0.1931165866218953}. Best is trial 42 with value: 0.9146859268986649.\n",
      "[I 2024-02-17 22:09:06,884] Trial 48 finished with value: 0.9144670606259574 and parameters: {'weight_xgb': 0.26504613946527567, 'weight_lgb': 0.7390259994428329, 'weight_cat': 0.5900963927229285}. Best is trial 42 with value: 0.9146859268986649.\n",
      "[I 2024-02-17 22:12:30,281] Trial 49 finished with value: 0.9142919676077916 and parameters: {'weight_xgb': 0.41636554481016913, 'weight_lgb': 0.8644511385422069, 'weight_cat': 0.7371949828760916}. Best is trial 42 with value: 0.9146859268986649.\n",
      "[I 2024-02-17 22:15:57,634] Trial 50 finished with value: 0.9144232873714161 and parameters: {'weight_xgb': 0.11952208098566608, 'weight_lgb': 0.697300194023951, 'weight_cat': 0.3703090923329212}. Best is trial 42 with value: 0.9146859268986649.\n",
      "[I 2024-02-17 22:19:21,588] Trial 51 finished with value: 0.914335740862333 and parameters: {'weight_xgb': 0.47150967233491753, 'weight_lgb': 0.8236107249831065, 'weight_cat': 0.8408736613384331}. Best is trial 42 with value: 0.9146859268986649.\n",
      "[I 2024-02-17 22:22:45,467] Trial 52 finished with value: 0.9143795141168746 and parameters: {'weight_xgb': 0.5703955041311288, 'weight_lgb': 0.8266845376282862, 'weight_cat': 0.08498427672127107}. Best is trial 42 with value: 0.9146859268986649.\n",
      "[I 2024-02-17 22:26:09,785] Trial 53 finished with value: 0.9142044210987086 and parameters: {'weight_xgb': 0.051866887824386865, 'weight_lgb': 0.8870360139769459, 'weight_cat': 0.4442422850364134}. Best is trial 42 with value: 0.9146859268986649.\n",
      "[I 2024-02-17 22:29:33,151] Trial 54 finished with value: 0.9145108338804991 and parameters: {'weight_xgb': 0.5170504675564865, 'weight_lgb': 0.7679691279820259, 'weight_cat': 0.9674750040601968}. Best is trial 42 with value: 0.9146859268986649.\n",
      "[I 2024-02-17 22:32:57,036] Trial 55 finished with value: 0.9143795141168747 and parameters: {'weight_xgb': 0.5284655447841113, 'weight_lgb': 0.7483983944525152, 'weight_cat': 0.3330804979546342}. Best is trial 42 with value: 0.9146859268986649.\n",
      "[I 2024-02-17 22:36:20,736] Trial 56 finished with value: 0.9143357408623332 and parameters: {'weight_xgb': 0.6963937453329667, 'weight_lgb': 0.626581202028073, 'weight_cat': 0.9204725763144092}. Best is trial 42 with value: 0.9146859268986649.\n",
      "[I 2024-02-17 22:39:45,948] Trial 57 finished with value: 0.9145108338804989 and parameters: {'weight_xgb': 0.19176125894374924, 'weight_lgb': 0.7802743284151457, 'weight_cat': 0.2512205506758203}. Best is trial 42 with value: 0.9146859268986649.\n",
      "[I 2024-02-17 22:43:10,306] Trial 58 finished with value: 0.9144670606259576 and parameters: {'weight_xgb': 0.6127366888383861, 'weight_lgb': 0.9499669634837632, 'weight_cat': 0.6783126266189783}. Best is trial 42 with value: 0.9146859268986649.\n",
      "[I 2024-02-17 22:46:34,388] Trial 59 finished with value: 0.9144232873714161 and parameters: {'weight_xgb': 0.3634897993574854, 'weight_lgb': 0.6546545035148374, 'weight_cat': 0.5306484715340475}. Best is trial 42 with value: 0.9146859268986649.\n",
      "[I 2024-02-17 22:49:59,011] Trial 60 finished with value: 0.9142481943532502 and parameters: {'weight_xgb': 0.7737705824265413, 'weight_lgb': 0.39609637154639715, 'weight_cat': 0.5736560464118674}. Best is trial 42 with value: 0.9146859268986649.\n",
      "[I 2024-02-17 22:53:23,029] Trial 61 finished with value: 0.9145108338804989 and parameters: {'weight_xgb': 0.4408800232340879, 'weight_lgb': 0.8310633863093204, 'weight_cat': 0.9979870974094631}. Best is trial 42 with value: 0.9146859268986649.\n",
      "[I 2024-02-17 22:56:46,752] Trial 62 finished with value: 0.9143357408623332 and parameters: {'weight_xgb': 0.4941863060482267, 'weight_lgb': 0.9089950454383317, 'weight_cat': 0.9490423909722561}. Best is trial 42 with value: 0.9146859268986649.\n",
      "[I 2024-02-17 23:00:10,866] Trial 63 finished with value: 0.9143795141168746 and parameters: {'weight_xgb': 0.463565134838252, 'weight_lgb': 0.7692193914900664, 'weight_cat': 0.8810110888676469}. Best is trial 42 with value: 0.9146859268986649.\n",
      "[I 2024-02-17 23:03:35,833] Trial 64 finished with value: 0.9143795141168746 and parameters: {'weight_xgb': 0.4134784326073003, 'weight_lgb': 0.7146004366431966, 'weight_cat': 0.7930615042522079}. Best is trial 42 with value: 0.9146859268986649.\n",
      "[I 2024-02-17 23:06:59,766] Trial 65 finished with value: 0.9143795141168746 and parameters: {'weight_xgb': 0.9119791890705534, 'weight_lgb': 0.804851007022704, 'weight_cat': 0.976497044012461}. Best is trial 42 with value: 0.9146859268986649.\n",
      "[I 2024-02-17 23:10:25,321] Trial 66 finished with value: 0.9144670606259576 and parameters: {'weight_xgb': 0.5091424534046544, 'weight_lgb': 0.87264625025444, 'weight_cat': 0.9589545629403395}. Best is trial 42 with value: 0.9146859268986649.\n",
      "[I 2024-02-17 23:13:50,197] Trial 67 finished with value: 0.9129349967170058 and parameters: {'weight_xgb': 0.6451722241382751, 'weight_lgb': 0.02435548726778458, 'weight_cat': 0.9143509900708326}. Best is trial 42 with value: 0.9146859268986649.\n",
      "[I 2024-02-17 23:17:14,992] Trial 68 finished with value: 0.9144232873714161 and parameters: {'weight_xgb': 0.5748764130650889, 'weight_lgb': 0.9252194228265471, 'weight_cat': 0.852538682937183}. Best is trial 42 with value: 0.9146859268986649.\n",
      "[I 2024-02-17 23:20:39,152] Trial 69 finished with value: 0.9143795141168746 and parameters: {'weight_xgb': 0.3029889124261322, 'weight_lgb': 0.8443876223312148, 'weight_cat': 0.7757241821239448}. Best is trial 42 with value: 0.9146859268986649.\n",
      "[I 2024-02-17 23:24:03,668] Trial 70 finished with value: 0.9142919676077916 and parameters: {'weight_xgb': 0.37168513875531584, 'weight_lgb': 0.5803045589080327, 'weight_cat': 0.6117742075876424}. Best is trial 42 with value: 0.9146859268986649.\n",
      "[I 2024-02-17 23:27:27,621] Trial 71 finished with value: 0.9147297001532064 and parameters: {'weight_xgb': 0.3389241860914952, 'weight_lgb': 0.7549990329461979, 'weight_cat': 0.15981969566470866}. Best is trial 71 with value: 0.9147297001532064.\n",
      "[I 2024-02-17 23:30:53,198] Trial 72 finished with value: 0.9147734734077478 and parameters: {'weight_xgb': 0.3930038946768216, 'weight_lgb': 0.756791749346699, 'weight_cat': 0.15572117465716945}. Best is trial 72 with value: 0.9147734734077478.\n",
      "[I 2024-02-17 23:34:18,807] Trial 73 finished with value: 0.9147297001532064 and parameters: {'weight_xgb': 0.3402871386205941, 'weight_lgb': 0.7286351271498415, 'weight_cat': 0.15662603831727973}. Best is trial 72 with value: 0.9147734734077478.\n",
      "[I 2024-02-17 23:37:44,347] Trial 74 finished with value: 0.9146421536441234 and parameters: {'weight_xgb': 0.34898397253950014, 'weight_lgb': 0.7293022215544738, 'weight_cat': 0.1638930230835829}. Best is trial 72 with value: 0.9147734734077478.\n"
     ]
    },
    {
     "name": "stdout",
     "output_type": "stream",
     "text": [
      "{'weight_xgb': 0.3930038946768216, 'weight_lgb': 0.756791749346699, 'weight_cat': 0.15572117465716945}\n"
     ]
    }
   ],
   "source": [
    "def objective(trial):\n",
    "    weights = [\n",
    "        trial.suggest_float('weight_xgb', 0, 1),  \n",
    "        trial.suggest_float('weight_lgb', 0, 1),\n",
    "        trial.suggest_float('weight_cat', 0, 1)\n",
    "    ]\n",
    "    # set up the ensemble\n",
    "    ensemble = VotingClassifier(\n",
    "        estimators=[\n",
    "            ('xgb', xgb),\n",
    "            ('lgb', lgb),\n",
    "            ('cb', cat)\n",
    "        ], voting='soft', weights=weights)\n",
    "    \n",
    "    # use stratified kfold to evalute each set of model weights\n",
    "    skf= StratifiedKFold(n_splits=3, shuffle=True, random_state=RANDOM)\n",
    "\n",
    "    # Calculate the auc for each set of model weights\n",
    "    acc = cross_val_score(ensemble, X, y, cv=skf, scoring='accuracy').mean()\n",
    "\n",
    "    return acc\n",
    "TUNE = True\n",
    "if VOTE and TUNE:\n",
    "    # Optimize Soft Voting Model Weights\n",
    "    # ===============================================================================================\n",
    "    # update parameters for evaluation\n",
    "    lgb_params = {'n_estimators' : 969}\n",
    "    lgb_params.update(lgb_best)\n",
    "\n",
    "    cat_params = {'n_estimators': 639}\n",
    "    cat_params.update(cat_best)\n",
    "\n",
    "    xgb_params = {'n_estimators': 892}\n",
    "    xgb_params.update(xgb_best)\n",
    "\n",
    "    # define individual models\n",
    "    xgb = XGBClassifier(**xgb_params)\n",
    "    lgb = LGBMClassifier(**lgb_params)\n",
    "    cat = CatBoostClassifier(**cat_params)\n",
    "\n",
    "\n",
    "    # create the study and run the optimization\n",
    "    study = optuna.create_study(direction='maximize', sampler=optuna.samplers.TPESampler(seed=RANDOM))\n",
    "    study.optimize(objective, n_trials=75)\n",
    "\n",
    "\n",
    "    # get the best weights from the optimization\n",
    "    optimal_weights = study.best_params\n",
    "    print(optimal_weights)\n",
    "    gc.collect()"
   ]
  },
  {
   "cell_type": "markdown",
   "id": "9a4952cf",
   "metadata": {
    "papermill": {
     "duration": 0.020881,
     "end_time": "2024-02-17T23:37:44.544705",
     "exception": false,
     "start_time": "2024-02-17T23:37:44.523824",
     "status": "completed"
    },
    "tags": []
   },
   "source": [
    "#### Evaluate Voting Ensemble"
   ]
  },
  {
   "cell_type": "code",
   "execution_count": 34,
   "id": "5edf1971",
   "metadata": {
    "execution": {
     "iopub.execute_input": "2024-02-17T23:37:44.588943Z",
     "iopub.status.busy": "2024-02-17T23:37:44.588314Z",
     "iopub.status.idle": "2024-02-17T23:54:41.137408Z",
     "shell.execute_reply": "2024-02-17T23:54:41.136264Z"
    },
    "papermill": {
     "duration": 1016.598792,
     "end_time": "2024-02-17T23:54:41.164624",
     "exception": false,
     "start_time": "2024-02-17T23:37:44.565832",
     "status": "completed"
    },
    "tags": []
   },
   "outputs": [
    {
     "name": "stdout",
     "output_type": "stream",
     "text": [
      "Repeated Stratified Kfold Training\n",
      "====================================================================================================\n",
      "=> lgb (average accuracy) = 0.914 \n",
      "=> xgb (average accuracy) = 0.9143 \n",
      "=> cat (average accuracy) = 0.908 \n",
      "=> ensemble_soft (average accuracy) = 0.9136 \n",
      "====================================================================================================\n"
     ]
    },
    {
     "data": {
      "text/html": [
       "<div>                            <div id=\"26590302-145d-4347-92b0-808129f26f47\" class=\"plotly-graph-div\" style=\"height:500px; width:500px;\"></div>            <script type=\"text/javascript\">                require([\"plotly\"], function(Plotly) {                    window.PLOTLYENV=window.PLOTLYENV || {};                                    if (document.getElementById(\"26590302-145d-4347-92b0-808129f26f47\")) {                    Plotly.newPlot(                        \"26590302-145d-4347-92b0-808129f26f47\",                        [{\"boxpoints\":\"all\",\"jitter\":0.3,\"marker\":{\"color\":\"#53808D\"},\"name\":\"lgb\",\"y\":[0.9184175968483257,0.9118516086671044,0.9113591595535128,0.9103742613263296,0.9164478003939593,0.9167760998030203,0.9108667104399212,0.9174326986211425,0.912672357189757],\"type\":\"box\"},{\"boxpoints\":\"all\",\"jitter\":0.3,\"marker\":{\"color\":\"#53808D\"},\"name\":\"xgb\",\"y\":[0.9180892974392646,0.9143138542350624,0.9102101116217991,0.9115233092580434,0.9154629021667761,0.9179251477347341,0.9133289560078792,0.9164478003939593,0.9116874589625739],\"type\":\"box\"},{\"boxpoints\":\"all\",\"jitter\":0.3,\"marker\":{\"color\":\"#53808D\"},\"name\":\"cat\",\"y\":[0.9133289560078792,0.9102101116217991,0.9033158240315168,0.9039724228496389,0.9090610636900853,0.9118516086671044,0.9059422193040052,0.9085686145764937,0.9061063690085358],\"type\":\"box\"},{\"boxpoints\":\"all\",\"jitter\":0.3,\"marker\":{\"color\":\"#FC4C02\"},\"name\":\"ensemble_soft\",\"y\":[0.9182534471437951,0.9139855548260013,0.9079120157583717,0.9087327642810243,0.9166119500984898,0.9166119500984898,0.9116874589625739,0.9174326986211425,0.9115233092580434],\"type\":\"box\"}],                        {\"template\":{\"data\":{\"barpolar\":[{\"marker\":{\"line\":{\"color\":\"white\",\"width\":0.5},\"pattern\":{\"fillmode\":\"overlay\",\"size\":10,\"solidity\":0.2}},\"type\":\"barpolar\"}],\"bar\":[{\"error_x\":{\"color\":\"#2a3f5f\"},\"error_y\":{\"color\":\"#2a3f5f\"},\"marker\":{\"line\":{\"color\":\"white\",\"width\":0.5},\"pattern\":{\"fillmode\":\"overlay\",\"size\":10,\"solidity\":0.2}},\"type\":\"bar\"}],\"carpet\":[{\"aaxis\":{\"endlinecolor\":\"#2a3f5f\",\"gridcolor\":\"#C8D4E3\",\"linecolor\":\"#C8D4E3\",\"minorgridcolor\":\"#C8D4E3\",\"startlinecolor\":\"#2a3f5f\"},\"baxis\":{\"endlinecolor\":\"#2a3f5f\",\"gridcolor\":\"#C8D4E3\",\"linecolor\":\"#C8D4E3\",\"minorgridcolor\":\"#C8D4E3\",\"startlinecolor\":\"#2a3f5f\"},\"type\":\"carpet\"}],\"choropleth\":[{\"colorbar\":{\"outlinewidth\":0,\"ticks\":\"\"},\"type\":\"choropleth\"}],\"contourcarpet\":[{\"colorbar\":{\"outlinewidth\":0,\"ticks\":\"\"},\"type\":\"contourcarpet\"}],\"contour\":[{\"colorbar\":{\"outlinewidth\":0,\"ticks\":\"\"},\"colorscale\":[[0.0,\"#0d0887\"],[0.1111111111111111,\"#46039f\"],[0.2222222222222222,\"#7201a8\"],[0.3333333333333333,\"#9c179e\"],[0.4444444444444444,\"#bd3786\"],[0.5555555555555556,\"#d8576b\"],[0.6666666666666666,\"#ed7953\"],[0.7777777777777778,\"#fb9f3a\"],[0.8888888888888888,\"#fdca26\"],[1.0,\"#f0f921\"]],\"type\":\"contour\"}],\"heatmapgl\":[{\"colorbar\":{\"outlinewidth\":0,\"ticks\":\"\"},\"colorscale\":[[0.0,\"#0d0887\"],[0.1111111111111111,\"#46039f\"],[0.2222222222222222,\"#7201a8\"],[0.3333333333333333,\"#9c179e\"],[0.4444444444444444,\"#bd3786\"],[0.5555555555555556,\"#d8576b\"],[0.6666666666666666,\"#ed7953\"],[0.7777777777777778,\"#fb9f3a\"],[0.8888888888888888,\"#fdca26\"],[1.0,\"#f0f921\"]],\"type\":\"heatmapgl\"}],\"heatmap\":[{\"colorbar\":{\"outlinewidth\":0,\"ticks\":\"\"},\"colorscale\":[[0.0,\"#0d0887\"],[0.1111111111111111,\"#46039f\"],[0.2222222222222222,\"#7201a8\"],[0.3333333333333333,\"#9c179e\"],[0.4444444444444444,\"#bd3786\"],[0.5555555555555556,\"#d8576b\"],[0.6666666666666666,\"#ed7953\"],[0.7777777777777778,\"#fb9f3a\"],[0.8888888888888888,\"#fdca26\"],[1.0,\"#f0f921\"]],\"type\":\"heatmap\"}],\"histogram2dcontour\":[{\"colorbar\":{\"outlinewidth\":0,\"ticks\":\"\"},\"colorscale\":[[0.0,\"#0d0887\"],[0.1111111111111111,\"#46039f\"],[0.2222222222222222,\"#7201a8\"],[0.3333333333333333,\"#9c179e\"],[0.4444444444444444,\"#bd3786\"],[0.5555555555555556,\"#d8576b\"],[0.6666666666666666,\"#ed7953\"],[0.7777777777777778,\"#fb9f3a\"],[0.8888888888888888,\"#fdca26\"],[1.0,\"#f0f921\"]],\"type\":\"histogram2dcontour\"}],\"histogram2d\":[{\"colorbar\":{\"outlinewidth\":0,\"ticks\":\"\"},\"colorscale\":[[0.0,\"#0d0887\"],[0.1111111111111111,\"#46039f\"],[0.2222222222222222,\"#7201a8\"],[0.3333333333333333,\"#9c179e\"],[0.4444444444444444,\"#bd3786\"],[0.5555555555555556,\"#d8576b\"],[0.6666666666666666,\"#ed7953\"],[0.7777777777777778,\"#fb9f3a\"],[0.8888888888888888,\"#fdca26\"],[1.0,\"#f0f921\"]],\"type\":\"histogram2d\"}],\"histogram\":[{\"marker\":{\"pattern\":{\"fillmode\":\"overlay\",\"size\":10,\"solidity\":0.2}},\"type\":\"histogram\"}],\"mesh3d\":[{\"colorbar\":{\"outlinewidth\":0,\"ticks\":\"\"},\"type\":\"mesh3d\"}],\"parcoords\":[{\"line\":{\"colorbar\":{\"outlinewidth\":0,\"ticks\":\"\"}},\"type\":\"parcoords\"}],\"pie\":[{\"automargin\":true,\"type\":\"pie\"}],\"scatter3d\":[{\"line\":{\"colorbar\":{\"outlinewidth\":0,\"ticks\":\"\"}},\"marker\":{\"colorbar\":{\"outlinewidth\":0,\"ticks\":\"\"}},\"type\":\"scatter3d\"}],\"scattercarpet\":[{\"marker\":{\"colorbar\":{\"outlinewidth\":0,\"ticks\":\"\"}},\"type\":\"scattercarpet\"}],\"scattergeo\":[{\"marker\":{\"colorbar\":{\"outlinewidth\":0,\"ticks\":\"\"}},\"type\":\"scattergeo\"}],\"scattergl\":[{\"marker\":{\"colorbar\":{\"outlinewidth\":0,\"ticks\":\"\"}},\"type\":\"scattergl\"}],\"scattermapbox\":[{\"marker\":{\"colorbar\":{\"outlinewidth\":0,\"ticks\":\"\"}},\"type\":\"scattermapbox\"}],\"scatterpolargl\":[{\"marker\":{\"colorbar\":{\"outlinewidth\":0,\"ticks\":\"\"}},\"type\":\"scatterpolargl\"}],\"scatterpolar\":[{\"marker\":{\"colorbar\":{\"outlinewidth\":0,\"ticks\":\"\"}},\"type\":\"scatterpolar\"}],\"scatter\":[{\"fillpattern\":{\"fillmode\":\"overlay\",\"size\":10,\"solidity\":0.2},\"type\":\"scatter\"}],\"scatterternary\":[{\"marker\":{\"colorbar\":{\"outlinewidth\":0,\"ticks\":\"\"}},\"type\":\"scatterternary\"}],\"surface\":[{\"colorbar\":{\"outlinewidth\":0,\"ticks\":\"\"},\"colorscale\":[[0.0,\"#0d0887\"],[0.1111111111111111,\"#46039f\"],[0.2222222222222222,\"#7201a8\"],[0.3333333333333333,\"#9c179e\"],[0.4444444444444444,\"#bd3786\"],[0.5555555555555556,\"#d8576b\"],[0.6666666666666666,\"#ed7953\"],[0.7777777777777778,\"#fb9f3a\"],[0.8888888888888888,\"#fdca26\"],[1.0,\"#f0f921\"]],\"type\":\"surface\"}],\"table\":[{\"cells\":{\"fill\":{\"color\":\"#EBF0F8\"},\"line\":{\"color\":\"white\"}},\"header\":{\"fill\":{\"color\":\"#C8D4E3\"},\"line\":{\"color\":\"white\"}},\"type\":\"table\"}]},\"layout\":{\"annotationdefaults\":{\"arrowcolor\":\"#2a3f5f\",\"arrowhead\":0,\"arrowwidth\":1},\"autotypenumbers\":\"strict\",\"coloraxis\":{\"colorbar\":{\"outlinewidth\":0,\"ticks\":\"\"}},\"colorscale\":{\"diverging\":[[0,\"#8e0152\"],[0.1,\"#c51b7d\"],[0.2,\"#de77ae\"],[0.3,\"#f1b6da\"],[0.4,\"#fde0ef\"],[0.5,\"#f7f7f7\"],[0.6,\"#e6f5d0\"],[0.7,\"#b8e186\"],[0.8,\"#7fbc41\"],[0.9,\"#4d9221\"],[1,\"#276419\"]],\"sequential\":[[0.0,\"#0d0887\"],[0.1111111111111111,\"#46039f\"],[0.2222222222222222,\"#7201a8\"],[0.3333333333333333,\"#9c179e\"],[0.4444444444444444,\"#bd3786\"],[0.5555555555555556,\"#d8576b\"],[0.6666666666666666,\"#ed7953\"],[0.7777777777777778,\"#fb9f3a\"],[0.8888888888888888,\"#fdca26\"],[1.0,\"#f0f921\"]],\"sequentialminus\":[[0.0,\"#0d0887\"],[0.1111111111111111,\"#46039f\"],[0.2222222222222222,\"#7201a8\"],[0.3333333333333333,\"#9c179e\"],[0.4444444444444444,\"#bd3786\"],[0.5555555555555556,\"#d8576b\"],[0.6666666666666666,\"#ed7953\"],[0.7777777777777778,\"#fb9f3a\"],[0.8888888888888888,\"#fdca26\"],[1.0,\"#f0f921\"]]},\"colorway\":[\"#636efa\",\"#EF553B\",\"#00cc96\",\"#ab63fa\",\"#FFA15A\",\"#19d3f3\",\"#FF6692\",\"#B6E880\",\"#FF97FF\",\"#FECB52\"],\"font\":{\"color\":\"#2a3f5f\"},\"geo\":{\"bgcolor\":\"white\",\"lakecolor\":\"white\",\"landcolor\":\"white\",\"showlakes\":true,\"showland\":true,\"subunitcolor\":\"#C8D4E3\"},\"hoverlabel\":{\"align\":\"left\"},\"hovermode\":\"closest\",\"mapbox\":{\"style\":\"light\"},\"paper_bgcolor\":\"white\",\"plot_bgcolor\":\"white\",\"polar\":{\"angularaxis\":{\"gridcolor\":\"#EBF0F8\",\"linecolor\":\"#EBF0F8\",\"ticks\":\"\"},\"bgcolor\":\"white\",\"radialaxis\":{\"gridcolor\":\"#EBF0F8\",\"linecolor\":\"#EBF0F8\",\"ticks\":\"\"}},\"scene\":{\"xaxis\":{\"backgroundcolor\":\"white\",\"gridcolor\":\"#DFE8F3\",\"gridwidth\":2,\"linecolor\":\"#EBF0F8\",\"showbackground\":true,\"ticks\":\"\",\"zerolinecolor\":\"#EBF0F8\"},\"yaxis\":{\"backgroundcolor\":\"white\",\"gridcolor\":\"#DFE8F3\",\"gridwidth\":2,\"linecolor\":\"#EBF0F8\",\"showbackground\":true,\"ticks\":\"\",\"zerolinecolor\":\"#EBF0F8\"},\"zaxis\":{\"backgroundcolor\":\"white\",\"gridcolor\":\"#DFE8F3\",\"gridwidth\":2,\"linecolor\":\"#EBF0F8\",\"showbackground\":true,\"ticks\":\"\",\"zerolinecolor\":\"#EBF0F8\"}},\"shapedefaults\":{\"line\":{\"color\":\"#2a3f5f\"}},\"ternary\":{\"aaxis\":{\"gridcolor\":\"#DFE8F3\",\"linecolor\":\"#A2B1C6\",\"ticks\":\"\"},\"baxis\":{\"gridcolor\":\"#DFE8F3\",\"linecolor\":\"#A2B1C6\",\"ticks\":\"\"},\"bgcolor\":\"white\",\"caxis\":{\"gridcolor\":\"#DFE8F3\",\"linecolor\":\"#A2B1C6\",\"ticks\":\"\"}},\"title\":{\"x\":0.05},\"xaxis\":{\"automargin\":true,\"gridcolor\":\"#EBF0F8\",\"linecolor\":\"#EBF0F8\",\"ticks\":\"\",\"title\":{\"standoff\":15},\"zerolinecolor\":\"#EBF0F8\",\"zerolinewidth\":2},\"yaxis\":{\"automargin\":true,\"gridcolor\":\"#EBF0F8\",\"linecolor\":\"#EBF0F8\",\"ticks\":\"\",\"title\":{\"standoff\":15},\"zerolinecolor\":\"#EBF0F8\",\"zerolinewidth\":2}}},\"title\":{\"text\":\"\\u003cb\\u003eTraining Results:\\u003c\\u002fb\\u003e accuracy\"},\"height\":500,\"width\":500,\"showlegend\":false},                        {\"responsive\": true}                    ).then(function(){\n",
       "                            \n",
       "var gd = document.getElementById('26590302-145d-4347-92b0-808129f26f47');\n",
       "var x = new MutationObserver(function (mutations, observer) {{\n",
       "        var display = window.getComputedStyle(gd).display;\n",
       "        if (!display || display === 'none') {{\n",
       "            console.log([gd, 'removed!']);\n",
       "            Plotly.purge(gd);\n",
       "            observer.disconnect();\n",
       "        }}\n",
       "}});\n",
       "\n",
       "// Listen for the removal of the full notebook cells\n",
       "var notebookContainer = gd.closest('#notebook-container');\n",
       "if (notebookContainer) {{\n",
       "    x.observe(notebookContainer, {childList: true});\n",
       "}}\n",
       "\n",
       "// Listen for the clearing of the current output cell\n",
       "var outputEl = gd.closest('.output');\n",
       "if (outputEl) {{\n",
       "    x.observe(outputEl, {childList: true});\n",
       "}}\n",
       "\n",
       "                        })                };                });            </script>        </div>"
      ]
     },
     "metadata": {},
     "output_type": "display_data"
    }
   ],
   "source": [
    "# voting evaluation\n",
    "if VOTE and EVALUATE:\n",
    "    \n",
    "    # update parameters for evaluation\n",
    "    lgb_params = {'n_estimators' : 969}\n",
    "    lgb_params.update(lgb_best)\n",
    "    \n",
    "    cat_params = {'n_estimators': 639}\n",
    "    cat_params.update(cat_best)\n",
    "    \n",
    "    xgb_params = {'n_estimators': 892}\n",
    "    xgb_params.update(xgb_best)\n",
    "\n",
    "    # define individual models\n",
    "    xgb = XGBClassifier(**xgb_params)\n",
    "    lgb = LGBMClassifier(**lgb_params)\n",
    "    cat = CatBoostClassifier(**cat_params)\n",
    "\n",
    "\n",
    "    # define the individual models and the ensemble\n",
    "    if VOTE_TYPE == 'soft':\n",
    "        models_lst = [('lgb',lgb),('xgb', xgb),('cat',cat)]\n",
    "        optimal_weights = [0.8906033870764647,0.702778860161278, 0.7097786284390253] \n",
    "        models = get_voting_ensemble_models(models_lst,'soft', optimal_weights) \n",
    "    else:\n",
    "        models_lst = [('lgb',lgb),('xgb', xgb)] # cat doesn't work with hard voting\n",
    "        optimal_weights = [0.8906033870764647,0.702778860161278]  # can't be uniform with two models...\n",
    "        models = get_voting_ensemble_models(models_lst,'hard', optimal_weights) \n",
    "        \n",
    "\n",
    "    # train the ensemble\n",
    "    results,cv = evaluate_ensemble(models, 'accuracy', 3,3, RANDOM, X_train,y_train)\n",
    "\n",
    "    # Accuracy\n",
    "    # 0.9137 (indiv model optimization)\n"
   ]
  },
  {
   "cell_type": "markdown",
   "id": "eb8c5fde",
   "metadata": {
    "papermill": {
     "duration": 0.02409,
     "end_time": "2024-02-17T23:54:41.212250",
     "exception": false,
     "start_time": "2024-02-17T23:54:41.188160",
     "status": "completed"
    },
    "tags": []
   },
   "source": [
    "## Submissions"
   ]
  },
  {
   "cell_type": "code",
   "execution_count": 35,
   "id": "58cca00d",
   "metadata": {
    "execution": {
     "iopub.execute_input": "2024-02-17T23:54:41.262961Z",
     "iopub.status.busy": "2024-02-17T23:54:41.261797Z",
     "iopub.status.idle": "2024-02-17T23:54:41.270534Z",
     "shell.execute_reply": "2024-02-17T23:54:41.269556Z"
    },
    "papermill": {
     "duration": 0.037,
     "end_time": "2024-02-17T23:54:41.272908",
     "exception": false,
     "start_time": "2024-02-17T23:54:41.235908",
     "status": "completed"
    },
    "tags": []
   },
   "outputs": [],
   "source": [
    "if STACK:\n",
    "    # update parameters for evaluation\n",
    "    lgb_params = {'n_estimators' : 969}\n",
    "    lgb_params.update(lgb_best)\n",
    "    \n",
    "    cat_params = {'n_estimators': 639}\n",
    "    cat_params.update(cat_best)\n",
    "    \n",
    "    xgb_params = {'n_estimators': 892}\n",
    "    xgb_params.update(xgb_best)\n",
    "    \n",
    "    \n",
    "    # define individual models with their optimized parameters\n",
    "    xgb = XGBClassifier(**xgb_params)\n",
    "    lgb = LGBMClassifier(**lgb_params)\n",
    "    cat = CatBoostClassifier(**cat_params)\n",
    "\n",
    "    # base learners\n",
    "    base_learners = [('lgb',lgb),('xgb', xgb), ('cat', cat)]\n",
    "\n",
    "    # meta learner\n",
    "    meta_learner = GaussianNB()\n",
    "\n",
    "    # stacked ensemble\n",
    "    ensemble_stacked = StackingClassifier(\n",
    "        estimators=base_learners, \n",
    "        final_estimator=meta_learner, \n",
    "        stack_method='predict', \n",
    "        passthrough=False,\n",
    "        n_jobs = -1\n",
    "    )\n",
    "    # fit the model on all available data\n",
    "    ensemble_stacked.fit(X,y)\n",
    "\n",
    "    # predict on the submission dataset,decode the classes and save the csv\n",
    "    y_pred = ensemble_stacked.predict(X_submit)\n",
    "    \n",
    "    # submission\n",
    "    submit_predictions(X_submit_ids, y_pred, decode=True,filename='submission.csv')\n",
    "    print(\"Stacked Ensembled Submitted\")\n",
    "\n",
    "    gc.collect()"
   ]
  },
  {
   "cell_type": "code",
   "execution_count": 36,
   "id": "a8e4883c",
   "metadata": {
    "execution": {
     "iopub.execute_input": "2024-02-17T23:54:41.324440Z",
     "iopub.status.busy": "2024-02-17T23:54:41.323908Z",
     "iopub.status.idle": "2024-02-17T23:56:31.475779Z",
     "shell.execute_reply": "2024-02-17T23:56:31.474737Z"
    },
    "papermill": {
     "duration": 110.203099,
     "end_time": "2024-02-17T23:56:31.501104",
     "exception": false,
     "start_time": "2024-02-17T23:54:41.298005",
     "status": "completed"
    },
    "tags": []
   },
   "outputs": [
    {
     "name": "stdout",
     "output_type": "stream",
     "text": [
      "Voting Ensembled Submitted\n"
     ]
    }
   ],
   "source": [
    "if VOTE:\n",
    "    # update parameters for evaluation\n",
    "    lgb_params = {'n_estimators' : 969}\n",
    "    lgb_params.update(lgb_best)\n",
    "    \n",
    "    cat_params = {'n_estimators': 639}\n",
    "    cat_params.update(cat_best)\n",
    "    \n",
    "    xgb_params = {'n_estimators': 892}\n",
    "    xgb_params.update(xgb_best)\n",
    "    \n",
    "    # define individual models\n",
    "    xgb = XGBClassifier(**xgb_params)\n",
    "    lgb = LGBMClassifier(**lgb_params)\n",
    "    cat = CatBoostClassifier(**cat_params)\n",
    "\n",
    "    # list of models to evaluate individually and in an ensemble\n",
    "    models_lst = [('lgbm', lgb), ('xgb', xgb),('cat',cat)]\n",
    "    optimal_weights = [0.8906033870764647,0.702778860161278, 0.7097786284390253] \n",
    "\n",
    "    # Soft voting ensemble\n",
    "    ensemble = VotingClassifier(estimators=models_lst, voting=VOTE_TYPE, weights=optimal_weights,verbose=False)\n",
    "    ensemble.fit(X,y)\n",
    "    \n",
    "    # predict on the submission dataset,decode the classes and save the csv\n",
    "    y_pred = ensemble.predict(X_submit)\n",
    "\n",
    "    # submission\n",
    "    submit_predictions(X_submit_ids, y_pred, decode=True,filename='submission.csv')\n",
    "    print(\"Voting Ensembled Submitted\")\n",
    "\n",
    "    gc.collect()"
   ]
  }
 ],
 "metadata": {
  "kaggle": {
   "accelerator": "none",
   "dataSources": [
    {
     "databundleVersionId": 7609535,
     "sourceId": 68479,
     "sourceType": "competition"
    },
    {
     "datasetId": 4030196,
     "sourceId": 7009925,
     "sourceType": "datasetVersion"
    }
   ],
   "dockerImageVersionId": 30646,
   "isGpuEnabled": false,
   "isInternetEnabled": true,
   "language": "python",
   "sourceType": "notebook"
  },
  "kernelspec": {
   "display_name": "Python 3",
   "language": "python",
   "name": "python3"
  },
  "language_info": {
   "codemirror_mode": {
    "name": "ipython",
    "version": 3
   },
   "file_extension": ".py",
   "mimetype": "text/x-python",
   "name": "python",
   "nbconvert_exporter": "python",
   "pygments_lexer": "ipython3",
   "version": "3.10.13"
  },
  "papermill": {
   "default_parameters": {},
   "duration": 16579.748112,
   "end_time": "2024-02-17T23:56:34.052587",
   "environment_variables": {},
   "exception": null,
   "input_path": "__notebook__.ipynb",
   "output_path": "__notebook__.ipynb",
   "parameters": {},
   "start_time": "2024-02-17T19:20:14.304475",
   "version": "2.5.0"
  }
 },
 "nbformat": 4,
 "nbformat_minor": 5
}
