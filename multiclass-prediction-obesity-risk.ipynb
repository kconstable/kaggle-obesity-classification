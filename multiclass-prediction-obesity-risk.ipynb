{
 "cells": [
  {
   "cell_type": "markdown",
   "id": "b24f2f25",
   "metadata": {
    "papermill": {
     "duration": 0.0119,
     "end_time": "2024-02-11T02:25:20.319811",
     "exception": false,
     "start_time": "2024-02-11T02:25:20.307911",
     "status": "completed"
    },
    "tags": []
   },
   "source": [
    "## Import Libraries and Configure Notebook"
   ]
  },
  {
   "cell_type": "code",
   "execution_count": 1,
   "id": "63a361c7",
   "metadata": {
    "execution": {
     "iopub.execute_input": "2024-02-11T02:25:20.344588Z",
     "iopub.status.busy": "2024-02-11T02:25:20.343860Z",
     "iopub.status.idle": "2024-02-11T02:25:20.351718Z",
     "shell.execute_reply": "2024-02-11T02:25:20.350799Z"
    },
    "papermill": {
     "duration": 0.022795,
     "end_time": "2024-02-11T02:25:20.354156",
     "exception": false,
     "start_time": "2024-02-11T02:25:20.331361",
     "status": "completed"
    },
    "tags": []
   },
   "outputs": [],
   "source": [
    "# %pip install lazypredict "
   ]
  },
  {
   "cell_type": "code",
   "execution_count": 2,
   "id": "cf14028e",
   "metadata": {
    "_cell_guid": "b1076dfc-b9ad-4769-8c92-a6c4dae69d19",
    "_uuid": "8f2839f25d086af736a60e9eeb907d3b93b6e0e5",
    "execution": {
     "iopub.execute_input": "2024-02-11T02:25:20.382479Z",
     "iopub.status.busy": "2024-02-11T02:25:20.381439Z",
     "iopub.status.idle": "2024-02-11T02:25:27.132814Z",
     "shell.execute_reply": "2024-02-11T02:25:27.131551Z"
    },
    "papermill": {
     "duration": 6.77001,
     "end_time": "2024-02-11T02:25:27.135646",
     "exception": false,
     "start_time": "2024-02-11T02:25:20.365636",
     "status": "completed"
    },
    "tags": []
   },
   "outputs": [
    {
     "name": "stdout",
     "output_type": "stream",
     "text": [
      "/kaggle/input/playground-series-s4e2/sample_submission.csv\n",
      "/kaggle/input/playground-series-s4e2/train.csv\n",
      "/kaggle/input/playground-series-s4e2/test.csv\n"
     ]
    }
   ],
   "source": [
    "import gc\n",
    "import numpy as np # linear algebra\n",
    "import pandas as pd # data processing, CSV file I/O (e.g. pd.read_csv)\n",
    "import seaborn as sns\n",
    "import matplotlib.pyplot as plt\n",
    "import plotly.express as px\n",
    "import plotly.graph_objects as go\n",
    "import plotly.express as px\n",
    "import plotly.graph_objects as go\n",
    "\n",
    "\n",
    "from sklearn.preprocessing import OrdinalEncoder, OneHotEncoder,StandardScaler, MinMaxScaler\n",
    "from sklearn.model_selection import train_test_split\n",
    "from sklearn.pipeline import Pipeline\n",
    "from sklearn.compose import ColumnTransformer\n",
    "from sklearn.metrics import accuracy_score\n",
    "# import lazypredict\n",
    "# from lazypredict.Supervised import LazyClassifier\n",
    "\n",
    "from xgboost import XGBClassifier\n",
    "from lightgbm import LGBMClassifier\n",
    "from lightgbm import early_stopping, log_evaluation\n",
    "from catboost import CatBoostClassifier\n",
    "from sklearn.ensemble import VotingClassifier, StackingClassifier\n",
    "from sklearn.model_selection import RepeatedStratifiedKFold, StratifiedKFold, cross_val_score\n",
    "import optuna\n",
    "\n",
    "\n",
    "import warnings\n",
    "warnings.simplefilter(action='ignore', category=FutureWarning)\n",
    "\n",
    "import os\n",
    "for dirname, _, filenames in os.walk('/kaggle/input'):\n",
    "    for filename in filenames:\n",
    "        print(os.path.join(dirname, filename))\n",
    "\n",
    "# You can write up to 20GB to the current directory (/kaggle/working/) that gets preserved as output when you create a version using \"Save & Run All\" \n",
    "# You can also write temporary files to /kaggle/temp/, but they won't be saved outside of the current session\n",
    "\n",
    "# Constants\n",
    "RANDOM = 1992"
   ]
  },
  {
   "cell_type": "code",
   "execution_count": 3,
   "id": "80458791",
   "metadata": {
    "execution": {
     "iopub.execute_input": "2024-02-11T02:25:27.160527Z",
     "iopub.status.busy": "2024-02-11T02:25:27.160102Z",
     "iopub.status.idle": "2024-02-11T02:25:27.175850Z",
     "shell.execute_reply": "2024-02-11T02:25:27.174735Z"
    },
    "papermill": {
     "duration": 0.030968,
     "end_time": "2024-02-11T02:25:27.178321",
     "exception": false,
     "start_time": "2024-02-11T02:25:27.147353",
     "status": "completed"
    },
    "tags": []
   },
   "outputs": [
    {
     "data": {
      "text/html": [
       "<svg  width=\"385\" height=\"55\"><rect x=\"0\" y=\"0\" width=\"55\" height=\"55\" style=\"fill:#53808d;stroke-width:2;stroke:rgb(255,255,255)\"/><rect x=\"55\" y=\"0\" width=\"55\" height=\"55\" style=\"fill:#fc4c02;stroke-width:2;stroke:rgb(255,255,255)\"/><rect x=\"110\" y=\"0\" width=\"55\" height=\"55\" style=\"fill:#1b99d6;stroke-width:2;stroke:rgb(255,255,255)\"/><rect x=\"165\" y=\"0\" width=\"55\" height=\"55\" style=\"fill:#fff57b;stroke-width:2;stroke:rgb(255,255,255)\"/><rect x=\"220\" y=\"0\" width=\"55\" height=\"55\" style=\"fill:#585858;stroke-width:2;stroke:rgb(255,255,255)\"/><rect x=\"275\" y=\"0\" width=\"55\" height=\"55\" style=\"fill:#d5dadd;stroke-width:2;stroke:rgb(255,255,255)\"/><rect x=\"330\" y=\"0\" width=\"55\" height=\"55\" style=\"fill:#e9f2ef;stroke-width:2;stroke:rgb(255,255,255)\"/></svg>"
      ],
      "text/plain": [
       "[(0.3254901960784314, 0.5019607843137255, 0.5529411764705883),\n",
       " (0.9882352941176471, 0.2980392156862745, 0.00784313725490196),\n",
       " (0.10588235294117647, 0.6, 0.8392156862745098),\n",
       " (1.0, 0.9607843137254902, 0.4823529411764706),\n",
       " (0.34509803921568627, 0.34509803921568627, 0.34509803921568627),\n",
       " (0.8352941176470589, 0.8549019607843137, 0.8666666666666667),\n",
       " (0.9137254901960784, 0.9490196078431372, 0.9372549019607843)]"
      ]
     },
     "execution_count": 3,
     "metadata": {},
     "output_type": "execute_result"
    }
   ],
   "source": [
    "# Color Palettes\n",
    "colors = {\n",
    "    \"sage\"     : \"#53808D\",\n",
    "    \"orange\"   : \"#FC4C02\",\n",
    "    \"blue\"     : \"#1B99D6\",\n",
    "    \"yellow\"   : \"#FFF57B\",\n",
    "    \"darkgrey\" : \"#585858\",\n",
    "    \"lightgrey\": \"#D5DADD\",\n",
    "    \"lightsage\": '#E9F2EF'\n",
    "}\n",
    "palette_discete = sns.color_palette([v for k,v in colors.items()])\n",
    "palette_continuous = sns.color_palette(f\"blend:{colors['sage']},{colors['orange']}\", as_cmap=True) \n",
    "\n",
    "# custom theme\n",
    "rc = {\n",
    "    'axes.facecolor':f\"{colors['lightsage']}\",\n",
    "    \"axes.edgecolor\":f\"{colors['sage']}\",\n",
    "    \"text.color\":f\"{colors['sage']}\",\n",
    "    \"axes.labelcolor\":f\"{colors['sage']}\",\n",
    "    \"ytick.color\":f\"{colors['sage']}\",\n",
    "    \"xtick.color\":f\"{colors['sage']}\",\n",
    "}\n",
    "sns.set_style('whitegrid',rc =rc)\n",
    "\n",
    "# set context elements\n",
    "sns.set_context('notebook',rc={'grid.linewidth':'1.1'})\n",
    "\n",
    "# set custom palette\n",
    "sns.set_palette(palette_discete)\n",
    "\n",
    "palette_discete\n",
    "\n"
   ]
  },
  {
   "cell_type": "markdown",
   "id": "43cad10f",
   "metadata": {
    "papermill": {
     "duration": 0.011409,
     "end_time": "2024-02-11T02:25:27.201406",
     "exception": false,
     "start_time": "2024-02-11T02:25:27.189997",
     "status": "completed"
    },
    "tags": []
   },
   "source": [
    "## Data Descriptions\n",
    "\n",
    "The attributes related with eating habits are: \n",
    "+ Frequent consumption of high caloric food (FAVC)\n",
    "+ Frequency of consumption of vegetables (FCVC)\n",
    "+ Number of main meals (NCP)\n",
    "+ Consumption of food between meals (CAEC) => Ordinal  (always, frequently, sometimes, no=never)\n",
    "+ Consumption of water daily (CH20)\n",
    "+ Consumption of alcohol (CALC) => Ordinal (frequently, sometimes, no=never)\n",
    "\n",
    "The attributes related with the physical condition are: \n",
    "+ Calories consumption monitoring (SCC)\n",
    "+ Physical activity frequency (FAF)\n",
    "+ Time using technology devices (TUE)\n",
    "+ Transportation used (MTRANS)\n",
    "\n",
    "variables obtained\n",
    "+ Gender\n",
    "+ Age\n",
    "+ Height\n",
    "+ Weight\n",
    "\n",
    "NObesity values are\n",
    "\n",
    "+ Insufficient_Weight Less than 18.5\n",
    "+ Normal_Weight 18.5 to 24.9\n",
    "+ Overweight 25.0 to 29.9\n",
    "+ Obesity_Type_I 30.0 to 34.9\n",
    "+ Obesity_Type_II 35.0 to 39.9\n",
    "+ Obesity_Type_III Higher than 40"
   ]
  },
  {
   "cell_type": "code",
   "execution_count": 4,
   "id": "e2d6358d",
   "metadata": {
    "execution": {
     "iopub.execute_input": "2024-02-11T02:25:27.229012Z",
     "iopub.status.busy": "2024-02-11T02:25:27.228224Z",
     "iopub.status.idle": "2024-02-11T02:25:27.725590Z",
     "shell.execute_reply": "2024-02-11T02:25:27.724405Z"
    },
    "papermill": {
     "duration": 0.514394,
     "end_time": "2024-02-11T02:25:27.728408",
     "exception": false,
     "start_time": "2024-02-11T02:25:27.214014",
     "status": "completed"
    },
    "tags": []
   },
   "outputs": [
    {
     "data": {
      "text/html": [
       "<div>\n",
       "<style scoped>\n",
       "    .dataframe tbody tr th:only-of-type {\n",
       "        vertical-align: middle;\n",
       "    }\n",
       "\n",
       "    .dataframe tbody tr th {\n",
       "        vertical-align: top;\n",
       "    }\n",
       "\n",
       "    .dataframe thead th {\n",
       "        text-align: right;\n",
       "    }\n",
       "</style>\n",
       "<table border=\"1\" class=\"dataframe\">\n",
       "  <thead>\n",
       "    <tr style=\"text-align: right;\">\n",
       "      <th></th>\n",
       "      <th>id</th>\n",
       "      <th>Gender</th>\n",
       "      <th>Age</th>\n",
       "      <th>Height</th>\n",
       "      <th>Weight</th>\n",
       "      <th>FamiliyHistory</th>\n",
       "      <th>FAVC</th>\n",
       "      <th>FCVC</th>\n",
       "      <th>NCP</th>\n",
       "      <th>CAEC</th>\n",
       "      <th>SMOKE</th>\n",
       "      <th>CH2O</th>\n",
       "      <th>SCC</th>\n",
       "      <th>FAF</th>\n",
       "      <th>TUE</th>\n",
       "      <th>CALC</th>\n",
       "      <th>MTRANS</th>\n",
       "      <th>NObeyesdad</th>\n",
       "    </tr>\n",
       "  </thead>\n",
       "  <tbody>\n",
       "    <tr>\n",
       "      <th>0</th>\n",
       "      <td>0</td>\n",
       "      <td>male</td>\n",
       "      <td>24.443011</td>\n",
       "      <td>1.699998</td>\n",
       "      <td>81.669950</td>\n",
       "      <td>1</td>\n",
       "      <td>1</td>\n",
       "      <td>2.000000</td>\n",
       "      <td>2.983297</td>\n",
       "      <td>sometimes</td>\n",
       "      <td>0</td>\n",
       "      <td>2.763573</td>\n",
       "      <td>0</td>\n",
       "      <td>0.000000</td>\n",
       "      <td>0.976473</td>\n",
       "      <td>sometimes</td>\n",
       "      <td>public_transportation</td>\n",
       "      <td>Overweight_Level_II</td>\n",
       "    </tr>\n",
       "    <tr>\n",
       "      <th>1</th>\n",
       "      <td>1</td>\n",
       "      <td>female</td>\n",
       "      <td>18.000000</td>\n",
       "      <td>1.560000</td>\n",
       "      <td>57.000000</td>\n",
       "      <td>1</td>\n",
       "      <td>1</td>\n",
       "      <td>2.000000</td>\n",
       "      <td>3.000000</td>\n",
       "      <td>frequently</td>\n",
       "      <td>0</td>\n",
       "      <td>2.000000</td>\n",
       "      <td>0</td>\n",
       "      <td>1.000000</td>\n",
       "      <td>1.000000</td>\n",
       "      <td>no</td>\n",
       "      <td>automobile</td>\n",
       "      <td>Normal_Weight</td>\n",
       "    </tr>\n",
       "    <tr>\n",
       "      <th>2</th>\n",
       "      <td>2</td>\n",
       "      <td>female</td>\n",
       "      <td>18.000000</td>\n",
       "      <td>1.711460</td>\n",
       "      <td>50.165754</td>\n",
       "      <td>1</td>\n",
       "      <td>1</td>\n",
       "      <td>1.880534</td>\n",
       "      <td>1.411685</td>\n",
       "      <td>sometimes</td>\n",
       "      <td>0</td>\n",
       "      <td>1.910378</td>\n",
       "      <td>0</td>\n",
       "      <td>0.866045</td>\n",
       "      <td>1.673584</td>\n",
       "      <td>no</td>\n",
       "      <td>public_transportation</td>\n",
       "      <td>Insufficient_Weight</td>\n",
       "    </tr>\n",
       "    <tr>\n",
       "      <th>3</th>\n",
       "      <td>3</td>\n",
       "      <td>female</td>\n",
       "      <td>20.952737</td>\n",
       "      <td>1.710730</td>\n",
       "      <td>131.274851</td>\n",
       "      <td>1</td>\n",
       "      <td>1</td>\n",
       "      <td>3.000000</td>\n",
       "      <td>3.000000</td>\n",
       "      <td>sometimes</td>\n",
       "      <td>0</td>\n",
       "      <td>1.674061</td>\n",
       "      <td>0</td>\n",
       "      <td>1.467863</td>\n",
       "      <td>0.780199</td>\n",
       "      <td>sometimes</td>\n",
       "      <td>public_transportation</td>\n",
       "      <td>Obesity_Type_III</td>\n",
       "    </tr>\n",
       "    <tr>\n",
       "      <th>4</th>\n",
       "      <td>4</td>\n",
       "      <td>male</td>\n",
       "      <td>31.641081</td>\n",
       "      <td>1.914186</td>\n",
       "      <td>93.798055</td>\n",
       "      <td>1</td>\n",
       "      <td>1</td>\n",
       "      <td>2.679664</td>\n",
       "      <td>1.971472</td>\n",
       "      <td>sometimes</td>\n",
       "      <td>0</td>\n",
       "      <td>1.979848</td>\n",
       "      <td>0</td>\n",
       "      <td>1.967973</td>\n",
       "      <td>0.931721</td>\n",
       "      <td>sometimes</td>\n",
       "      <td>public_transportation</td>\n",
       "      <td>Overweight_Level_II</td>\n",
       "    </tr>\n",
       "  </tbody>\n",
       "</table>\n",
       "</div>"
      ],
      "text/plain": [
       "   id  Gender        Age    Height      Weight  FamiliyHistory  FAVC  \\\n",
       "0   0    male  24.443011  1.699998   81.669950               1     1   \n",
       "1   1  female  18.000000  1.560000   57.000000               1     1   \n",
       "2   2  female  18.000000  1.711460   50.165754               1     1   \n",
       "3   3  female  20.952737  1.710730  131.274851               1     1   \n",
       "4   4    male  31.641081  1.914186   93.798055               1     1   \n",
       "\n",
       "       FCVC       NCP        CAEC  SMOKE      CH2O  SCC       FAF       TUE  \\\n",
       "0  2.000000  2.983297   sometimes      0  2.763573    0  0.000000  0.976473   \n",
       "1  2.000000  3.000000  frequently      0  2.000000    0  1.000000  1.000000   \n",
       "2  1.880534  1.411685   sometimes      0  1.910378    0  0.866045  1.673584   \n",
       "3  3.000000  3.000000   sometimes      0  1.674061    0  1.467863  0.780199   \n",
       "4  2.679664  1.971472   sometimes      0  1.979848    0  1.967973  0.931721   \n",
       "\n",
       "        CALC                 MTRANS           NObeyesdad  \n",
       "0  sometimes  public_transportation  Overweight_Level_II  \n",
       "1         no             automobile        Normal_Weight  \n",
       "2         no  public_transportation  Insufficient_Weight  \n",
       "3  sometimes  public_transportation     Obesity_Type_III  \n",
       "4  sometimes  public_transportation  Overweight_Level_II  "
      ]
     },
     "execution_count": 4,
     "metadata": {},
     "output_type": "execute_result"
    }
   ],
   "source": [
    "def get_data():\n",
    "    \"\"\"Read data from the csv, adjust data types\"\"\"\n",
    "    train= pd.read_csv(\"/kaggle/input/playground-series-s4e2/train.csv\")\n",
    "    test = pd.read_csv(\"/kaggle/input/playground-series-s4e2/test.csv\")\n",
    "    \n",
    "    # category features \n",
    "    cols = ['Gender','CAEC','CALC','MTRANS','NObeyesdad']\n",
    "    for col in cols:\n",
    "        if col == 'NObeyesdad':\n",
    "            # test data doesn't have NObeyesdad\n",
    "            train[col] = train[col].apply(lambda x: x.strip()).astype('category')\n",
    "        else:\n",
    "            train[col] = train[col].apply(lambda x: x.lower().strip()).astype('category')\n",
    "            test[col] = test[col].apply(lambda x: x.lower().strip()).astype('category')\n",
    "      \n",
    "            \n",
    "    # bindary features\n",
    "    cols = ['family_history_with_overweight','FAVC','SMOKE','SCC']\n",
    "    for col in cols:\n",
    "        train[col] = train[col].map({'yes':1,'no':0}).astype('uint8')\n",
    "        test[col] = test[col].map({'yes':1,'no':0}).astype('uint8')\n",
    "        \n",
    "    # rename columns\n",
    "    train.rename(columns = {'family_history_with_overweight':'FamiliyHistory'},inplace=True)\n",
    "    test.rename(columns = {'family_history_with_overweight':'FamiliyHistory'},inplace=True)\n",
    "    \n",
    "    return train, test\n",
    "\n",
    "\n",
    "# get the raw data\n",
    "train, test = get_data()\n",
    "gc.collect()\n",
    "train.head()"
   ]
  },
  {
   "cell_type": "code",
   "execution_count": 5,
   "id": "ebb46062",
   "metadata": {
    "execution": {
     "iopub.execute_input": "2024-02-11T02:25:27.754216Z",
     "iopub.status.busy": "2024-02-11T02:25:27.753809Z",
     "iopub.status.idle": "2024-02-11T02:25:27.764241Z",
     "shell.execute_reply": "2024-02-11T02:25:27.763119Z"
    },
    "papermill": {
     "duration": 0.026155,
     "end_time": "2024-02-11T02:25:27.766554",
     "exception": false,
     "start_time": "2024-02-11T02:25:27.740399",
     "status": "completed"
    },
    "tags": []
   },
   "outputs": [],
   "source": [
    "def add_features(df):\n",
    "    \"\"\"Add additional features\"\"\"\n",
    "    def risk_factor(row):\n",
    "        risk = 0\n",
    "        if row.CALC in ('always','frequently'):\n",
    "            # consumption of alcohol\n",
    "            risk +=1 \n",
    "        if row.CAEC in ('always','frequently'):\n",
    "            # consumption between meals\n",
    "            risk += 1 \n",
    "        if row.MTRANS not in ('walking','bike'):\n",
    "            # method of transportation\n",
    "            risk += 1\n",
    "            \n",
    "        # smoking\n",
    "        risk += row.SMOKE\n",
    "        \n",
    "        # number of main meals (median = 3)\n",
    "        risk += row.NCP - 3.0\n",
    "\n",
    "        # consumption of vegtables (median = 2.40 )\n",
    "        risk += 2.40 -row.FCVC\n",
    "  \n",
    "        # consumption of water (median = 2.0)\n",
    "        risk += 2.0 - row.CH2O\n",
    "        \n",
    "        # physical activity (median =1.0)\n",
    "        risk += 1.0 - row.FAF\n",
    "        \n",
    "        # caloric monitoring\n",
    "        risk -= row.SCC\n",
    "        \n",
    "        # consumption of high caloric food\n",
    "        risk += row.FAVC\n",
    "        \n",
    "        # BMI (median = 29)\n",
    "        risk += (row.BMI - 29.0)/10\n",
    "        \n",
    "        return risk\n",
    "\n",
    "    # copy the original\n",
    "    dff = df.copy()\n",
    "    \n",
    "    # body-mass-index\n",
    "    dff['BMI'] = dff['Weight'] / dff['Height']**2\n",
    "    \n",
    "    # calculate the risk-factor\n",
    "    dff['risk_factor'] = dff.apply(lambda x: risk_factor(x),axis=1)\n",
    "    \n",
    "    return dff"
   ]
  },
  {
   "cell_type": "code",
   "execution_count": 6,
   "id": "8d3fcaed",
   "metadata": {
    "execution": {
     "iopub.execute_input": "2024-02-11T02:25:27.793220Z",
     "iopub.status.busy": "2024-02-11T02:25:27.792792Z",
     "iopub.status.idle": "2024-02-11T02:25:27.802408Z",
     "shell.execute_reply": "2024-02-11T02:25:27.801097Z"
    },
    "papermill": {
     "duration": 0.026704,
     "end_time": "2024-02-11T02:25:27.805377",
     "exception": false,
     "start_time": "2024-02-11T02:25:27.778673",
     "status": "completed"
    },
    "tags": []
   },
   "outputs": [],
   "source": [
    "def encode_target_variable(df,direction='encode'):\n",
    "    \"\"\"\n",
    "    Encode the target variable to ordinal integers for classification\n",
    "    Decode the target variable from ordinal integers back to string for submission\n",
    "    \"\"\"\n",
    "    if direction=='encode':\n",
    "        encode = {\n",
    "            'Insufficient_Weight': 0,\n",
    "            'Normal_Weight'      : 1,\n",
    "            'Overweight_Level_I' : 2,\n",
    "            'Overweight_Level_II': 3,\n",
    "            'Obesity_Type_I'     : 4,\n",
    "            'Obesity_Type_II'    : 5,\n",
    "            'Obesity_Type_III'   : 6\n",
    "        }\n",
    "        encoded = df.NObeyesdad.map(encode).to_frame('Target')\n",
    "        dff = pd.concat([df,encoded],axis=1)\n",
    "    else:\n",
    "        decode = {\n",
    "            0:'Insufficient_Weight',\n",
    "            1:'Normal_Weight'      ,\n",
    "            2:'Overweight_Level_I' ,\n",
    "            3:'Overweight_Level_II',\n",
    "            4:'Obesity_Type_I'     ,\n",
    "            5:'Obesity_Type_II'    ,\n",
    "            6:'Obesity_Type_III'   \n",
    "        }\n",
    "        decoded = df.Target.map(decode).to_frame('NObeyesdad')\n",
    "        dff = pd.concat([df,decoded],axis=1).drop(columns=['Target'])\n",
    "    return dff"
   ]
  },
  {
   "cell_type": "code",
   "execution_count": 7,
   "id": "e721fdd3",
   "metadata": {
    "execution": {
     "iopub.execute_input": "2024-02-11T02:25:27.833136Z",
     "iopub.status.busy": "2024-02-11T02:25:27.832708Z",
     "iopub.status.idle": "2024-02-11T02:25:27.843413Z",
     "shell.execute_reply": "2024-02-11T02:25:27.841533Z"
    },
    "papermill": {
     "duration": 0.028584,
     "end_time": "2024-02-11T02:25:27.846021",
     "exception": false,
     "start_time": "2024-02-11T02:25:27.817437",
     "status": "completed"
    },
    "tags": []
   },
   "outputs": [],
   "source": [
    "def describe_train_test(y_train, y_test):\n",
    "    \"\"\"\"\"\"\n",
    "        \n",
    "    tn = pd.DataFrame(y_train.value_counts()).reset_index()\n",
    "    tn['train_pct'] = round((tn['count']/tn['count'].sum())*100,2)\n",
    "    tn.drop(columns=['count'],inplace=True)\n",
    "    \n",
    "    ts = pd.DataFrame(y_test.value_counts()).reset_index()\n",
    "    ts['test_pct'] = round((ts['count']/ts['count'].sum())*100,2)\n",
    "    ts.drop(columns=['count'],inplace=True)\n",
    "    \n",
    "    return tn.merge(ts, on='Target',how='inner').set_index('Target')    "
   ]
  },
  {
   "cell_type": "code",
   "execution_count": 8,
   "id": "1b1c5e95",
   "metadata": {
    "execution": {
     "iopub.execute_input": "2024-02-11T02:25:27.875026Z",
     "iopub.status.busy": "2024-02-11T02:25:27.874513Z",
     "iopub.status.idle": "2024-02-11T02:25:32.409852Z",
     "shell.execute_reply": "2024-02-11T02:25:32.408632Z"
    },
    "papermill": {
     "duration": 4.551967,
     "end_time": "2024-02-11T02:25:32.412231",
     "exception": false,
     "start_time": "2024-02-11T02:25:27.860264",
     "status": "completed"
    },
    "tags": []
   },
   "outputs": [
    {
     "data": {
      "text/html": [
       "<div>\n",
       "<style scoped>\n",
       "    .dataframe tbody tr th:only-of-type {\n",
       "        vertical-align: middle;\n",
       "    }\n",
       "\n",
       "    .dataframe tbody tr th {\n",
       "        vertical-align: top;\n",
       "    }\n",
       "\n",
       "    .dataframe thead th {\n",
       "        text-align: right;\n",
       "    }\n",
       "</style>\n",
       "<table border=\"1\" class=\"dataframe\">\n",
       "  <thead>\n",
       "    <tr style=\"text-align: right;\">\n",
       "      <th></th>\n",
       "      <th>train_pct</th>\n",
       "      <th>test_pct</th>\n",
       "    </tr>\n",
       "    <tr>\n",
       "      <th>Target</th>\n",
       "      <th></th>\n",
       "      <th></th>\n",
       "    </tr>\n",
       "  </thead>\n",
       "  <tbody>\n",
       "    <tr>\n",
       "      <th>6</th>\n",
       "      <td>19.49</td>\n",
       "      <td>19.48</td>\n",
       "    </tr>\n",
       "    <tr>\n",
       "      <th>5</th>\n",
       "      <td>15.64</td>\n",
       "      <td>15.66</td>\n",
       "    </tr>\n",
       "    <tr>\n",
       "      <th>1</th>\n",
       "      <td>14.84</td>\n",
       "      <td>14.86</td>\n",
       "    </tr>\n",
       "    <tr>\n",
       "      <th>4</th>\n",
       "      <td>14.02</td>\n",
       "      <td>14.02</td>\n",
       "    </tr>\n",
       "    <tr>\n",
       "      <th>0</th>\n",
       "      <td>12.15</td>\n",
       "      <td>12.16</td>\n",
       "    </tr>\n",
       "    <tr>\n",
       "      <th>3</th>\n",
       "      <td>12.15</td>\n",
       "      <td>12.14</td>\n",
       "    </tr>\n",
       "    <tr>\n",
       "      <th>2</th>\n",
       "      <td>11.69</td>\n",
       "      <td>11.68</td>\n",
       "    </tr>\n",
       "  </tbody>\n",
       "</table>\n",
       "</div>"
      ],
      "text/plain": [
       "        train_pct  test_pct\n",
       "Target                     \n",
       "6           19.49     19.48\n",
       "5           15.64     15.66\n",
       "1           14.84     14.86\n",
       "4           14.02     14.02\n",
       "0           12.15     12.16\n",
       "3           12.15     12.14\n",
       "2           11.69     11.68"
      ]
     },
     "execution_count": 8,
     "metadata": {},
     "output_type": "execute_result"
    }
   ],
   "source": [
    "# encode the target variable\n",
    "train = encode_target_variable(train,'encode')\n",
    "\n",
    "# add features\n",
    "train = add_features(train)\n",
    "test = add_features(test)\n",
    "\n",
    "# test data is used for submission (does not include the Exited(y) variable)\n",
    "X_submit_ids = test.id  # keep ids for later\n",
    "X_submit = test.drop(columns = ['id'])\n",
    "\n",
    "# train data\n",
    "X = train.drop(columns=['Target','id','NObeyesdad'])\n",
    "y = train.Target\n",
    "\n",
    "# split train data into train/test\n",
    "X_train, X_test, y_train, y_test = train_test_split(X, y, test_size=0.20, random_state=RANDOM,stratify=y)\n",
    "\n",
    "# remove train/test\n",
    "# del train\n",
    "# del test\n",
    "# gc.collect()\n",
    "\n",
    "# describe train/test split\n",
    "describe_train_test(y_train,y_test)"
   ]
  },
  {
   "cell_type": "code",
   "execution_count": 9,
   "id": "5289481a",
   "metadata": {
    "execution": {
     "iopub.execute_input": "2024-02-11T02:25:32.440323Z",
     "iopub.status.busy": "2024-02-11T02:25:32.439208Z",
     "iopub.status.idle": "2024-02-11T02:25:32.445122Z",
     "shell.execute_reply": "2024-02-11T02:25:32.444303Z"
    },
    "papermill": {
     "duration": 0.022479,
     "end_time": "2024-02-11T02:25:32.447270",
     "exception": false,
     "start_time": "2024-02-11T02:25:32.424791",
     "status": "completed"
    },
    "tags": []
   },
   "outputs": [],
   "source": [
    "def convert_to_df (transformed, processor):\n",
    "    \"\"\"Convert from array to dataframe after preprocessing the data\"\"\"\n",
    "    df = pd.DataFrame(transformed)\n",
    "    df.columns = processor.get_feature_names_out()\n",
    "    return df\n",
    "    "
   ]
  },
  {
   "cell_type": "markdown",
   "id": "a751a4f7",
   "metadata": {
    "papermill": {
     "duration": 0.011843,
     "end_time": "2024-02-11T02:25:32.471549",
     "exception": false,
     "start_time": "2024-02-11T02:25:32.459706",
     "status": "completed"
    },
    "tags": []
   },
   "source": [
    "## Pipelines and Transformers\n",
    "https://medium.com/analytics-vidhya/how-to-apply-preprocessing-steps-in-a-pipeline-only-to-specific-features-4e91fe45dfb8"
   ]
  },
  {
   "cell_type": "code",
   "execution_count": 10,
   "id": "924cf239",
   "metadata": {
    "execution": {
     "iopub.execute_input": "2024-02-11T02:25:32.498154Z",
     "iopub.status.busy": "2024-02-11T02:25:32.497474Z",
     "iopub.status.idle": "2024-02-11T02:25:32.811222Z",
     "shell.execute_reply": "2024-02-11T02:25:32.809961Z"
    },
    "papermill": {
     "duration": 0.329825,
     "end_time": "2024-02-11T02:25:32.813699",
     "exception": false,
     "start_time": "2024-02-11T02:25:32.483874",
     "status": "completed"
    },
    "tags": []
   },
   "outputs": [
    {
     "data": {
      "text/plain": [
       "108"
      ]
     },
     "execution_count": 10,
     "metadata": {},
     "output_type": "execute_result"
    }
   ],
   "source": [
    "# numeric transformers\n",
    "numeric_features = ['Age','Height','Weight','FCVC','NCP','CH2O','FAF','TUE','BMI','risk_factor']\n",
    "numeric_transformer = Pipeline(\n",
    "    steps = [('scaler',StandardScaler())]\n",
    ")\n",
    "\n",
    "# categorical encoders\n",
    "category_features =  ['Gender','MTRANS']\n",
    "category_transformer = Pipeline(\n",
    "    steps =[('onehot_encoder',OneHotEncoder())]\n",
    ")\n",
    "\n",
    "# ordinal features\n",
    "ordinal_features = ['CAEC','CALC']\n",
    "ordinal_feature_order = [['always','frequently','sometimes','no'],['always','frequently','sometimes','no']]\n",
    "ordinal_transformer = Pipeline(\n",
    "    steps =[('ordinal_encoder',OrdinalEncoder(categories = ordinal_feature_order))]\n",
    ")\n",
    "\n",
    "# apply the column transforms\n",
    "preprocessor = ColumnTransformer(\n",
    "    transformers = [\n",
    "        ('num', numeric_transformer,numeric_features),\n",
    "        ('cat',category_transformer,category_features),\n",
    "        ('ord',ordinal_transformer,ordinal_features),\n",
    "    ],\n",
    "    remainder = 'passthrough'\n",
    ")\n",
    "\n",
    "# prepare data for classification\n",
    "X_array = preprocessor.fit_transform(X)\n",
    "X_train_array = preprocessor.fit_transform(X_train)\n",
    "X_test_array = preprocessor.fit_transform(X_test)\n",
    "X_submit_array = preprocessor.fit_transform(X_submit)\n",
    "\n",
    "\n",
    "# convert to dataframes\n",
    "X = convert_to_df(X_array,preprocessor)\n",
    "X_train = convert_to_df(X_train_array,preprocessor)\n",
    "X_test =  convert_to_df(X_test_array,preprocessor)\n",
    "X_submit = convert_to_df(X_submit_array,preprocessor)\n",
    "\n",
    "\n",
    "# clear memmory\n",
    "gc.collect()\n"
   ]
  },
  {
   "cell_type": "markdown",
   "id": "e10ec8b1",
   "metadata": {
    "papermill": {
     "duration": 0.012,
     "end_time": "2024-02-11T02:25:32.838269",
     "exception": false,
     "start_time": "2024-02-11T02:25:32.826269",
     "status": "completed"
    },
    "tags": []
   },
   "source": [
    "## Exploratory Data Analysis"
   ]
  },
  {
   "cell_type": "code",
   "execution_count": 11,
   "id": "c88ce715",
   "metadata": {
    "execution": {
     "iopub.execute_input": "2024-02-11T02:25:32.865095Z",
     "iopub.status.busy": "2024-02-11T02:25:32.864411Z",
     "iopub.status.idle": "2024-02-11T02:25:32.874126Z",
     "shell.execute_reply": "2024-02-11T02:25:32.873095Z"
    },
    "papermill": {
     "duration": 0.026138,
     "end_time": "2024-02-11T02:25:32.876673",
     "exception": false,
     "start_time": "2024-02-11T02:25:32.850535",
     "status": "completed"
    },
    "tags": []
   },
   "outputs": [],
   "source": [
    "def plot_correlations(X_train, y_train, y_label, only_vs_target = True):\n",
    "    \"\"\" Plot the correlations between features\"\"\"\n",
    "    \n",
    "    df_y = pd.DataFrame(y_train)\n",
    "    df_y.columns = [y_label]\n",
    "    \n",
    "    # combine with input features\n",
    "    df = pd.concat([X_train,df_y],axis=1)\n",
    "    \n",
    "    # calc the correlations\n",
    "    c = df.corr().round(decimals=2)\n",
    "    \n",
    "    # subset to only show correlations with the target variable\n",
    "    if only_vs_target:\n",
    "        c = pd.DataFrame(c[y_label].sort_values()).T\n",
    "        w = 1200\n",
    "        h = 500\n",
    "        title = \"<b>Correlation of Features to Target</b>\"\n",
    "    else:\n",
    "        w = 1000\n",
    "        h = 1000\n",
    "        title = \"<b>Correlation of Features</b>\"\n",
    "    \n",
    "    # plot the correlation matrix\n",
    "    fig = px.imshow(\n",
    "        c, \n",
    "        text_auto=True, \n",
    "        color_continuous_scale = 'RdYlbu',\n",
    "        title = title,\n",
    "        template = 'plotly_white',\n",
    "        width = w,\n",
    "        height= h,\n",
    "    )\n",
    "    fig.show()"
   ]
  },
  {
   "cell_type": "code",
   "execution_count": 12,
   "id": "3742e801",
   "metadata": {
    "execution": {
     "iopub.execute_input": "2024-02-11T02:25:32.902976Z",
     "iopub.status.busy": "2024-02-11T02:25:32.902567Z",
     "iopub.status.idle": "2024-02-11T02:25:34.697925Z",
     "shell.execute_reply": "2024-02-11T02:25:34.696804Z"
    },
    "papermill": {
     "duration": 1.811806,
     "end_time": "2024-02-11T02:25:34.700915",
     "exception": false,
     "start_time": "2024-02-11T02:25:32.889109",
     "status": "completed"
    },
    "tags": []
   },
   "outputs": [
    {
     "data": {
      "text/html": [
       "        <script type=\"text/javascript\">\n",
       "        window.PlotlyConfig = {MathJaxConfig: 'local'};\n",
       "        if (window.MathJax && window.MathJax.Hub && window.MathJax.Hub.Config) {window.MathJax.Hub.Config({SVG: {font: \"STIX-Web\"}});}\n",
       "        if (typeof require !== 'undefined') {\n",
       "        require.undef(\"plotly\");\n",
       "        requirejs.config({\n",
       "            paths: {\n",
       "                'plotly': ['https://cdn.plot.ly/plotly-2.27.0.min']\n",
       "            }\n",
       "        });\n",
       "        require(['plotly'], function(Plotly) {\n",
       "            window._Plotly = Plotly;\n",
       "        });\n",
       "        }\n",
       "        </script>\n",
       "        "
      ]
     },
     "metadata": {},
     "output_type": "display_data"
    },
    {
     "data": {
      "text/html": [
       "<div>                            <div id=\"712b5890-1c62-4d0d-91f1-bc63470ad910\" class=\"plotly-graph-div\" style=\"height:500px; width:1200px;\"></div>            <script type=\"text/javascript\">                require([\"plotly\"], function(Plotly) {                    window.PLOTLYENV=window.PLOTLYENV || {};                                    if (document.getElementById(\"712b5890-1c62-4d0d-91f1-bc63470ad910\")) {                    Plotly.newPlot(                        \"712b5890-1c62-4d0d-91f1-bc63470ad910\",                        [{\"coloraxis\":\"coloraxis\",\"name\":\"0\",\"texttemplate\":\"%{z}\",\"x\":[\"cat__Gender_male\",\"num__Height\",\"num__Weight\",\"num__FCVC\",\"remainder__FAVC\",\"num__FAF\",\"cat__MTRANS_walking\",\"remainder__SMOKE\",\"remainder__FamiliyHistory\",\"ord__CALC\",\"ord__CAEC\",\"cat__MTRANS_public_transportation\",\"num__Age\",\"remainder__SCC\",\"num__BMI\",\"num__TUE\",\"num__CH2O\",\"num__NCP\",\"cat__MTRANS_automobile\",\"cat__MTRANS_bike\",\"cat__MTRANS_motorbike\",\"cat__Gender_female\",\"num__risk_factor\",\"Target\"],\"y\":[\"Target\"],\"z\":[[-0.01,-0.01,-0.01,-0.01,-0.01,-0.01,-0.01,0.0,0.0,0.0,0.0,-0.0,0.0,-0.0,-0.0,-0.0,0.0,0.0,0.0,0.01,0.01,0.01,0.01,1.0]],\"type\":\"heatmap\",\"xaxis\":\"x\",\"yaxis\":\"y\",\"hovertemplate\":\"x: %{x}\\u003cbr\\u003ey: %{y}\\u003cbr\\u003ecolor: %{z}\\u003cextra\\u003e\\u003c\\u002fextra\\u003e\"}],                        {\"template\":{\"data\":{\"barpolar\":[{\"marker\":{\"line\":{\"color\":\"white\",\"width\":0.5},\"pattern\":{\"fillmode\":\"overlay\",\"size\":10,\"solidity\":0.2}},\"type\":\"barpolar\"}],\"bar\":[{\"error_x\":{\"color\":\"#2a3f5f\"},\"error_y\":{\"color\":\"#2a3f5f\"},\"marker\":{\"line\":{\"color\":\"white\",\"width\":0.5},\"pattern\":{\"fillmode\":\"overlay\",\"size\":10,\"solidity\":0.2}},\"type\":\"bar\"}],\"carpet\":[{\"aaxis\":{\"endlinecolor\":\"#2a3f5f\",\"gridcolor\":\"#C8D4E3\",\"linecolor\":\"#C8D4E3\",\"minorgridcolor\":\"#C8D4E3\",\"startlinecolor\":\"#2a3f5f\"},\"baxis\":{\"endlinecolor\":\"#2a3f5f\",\"gridcolor\":\"#C8D4E3\",\"linecolor\":\"#C8D4E3\",\"minorgridcolor\":\"#C8D4E3\",\"startlinecolor\":\"#2a3f5f\"},\"type\":\"carpet\"}],\"choropleth\":[{\"colorbar\":{\"outlinewidth\":0,\"ticks\":\"\"},\"type\":\"choropleth\"}],\"contourcarpet\":[{\"colorbar\":{\"outlinewidth\":0,\"ticks\":\"\"},\"type\":\"contourcarpet\"}],\"contour\":[{\"colorbar\":{\"outlinewidth\":0,\"ticks\":\"\"},\"colorscale\":[[0.0,\"#0d0887\"],[0.1111111111111111,\"#46039f\"],[0.2222222222222222,\"#7201a8\"],[0.3333333333333333,\"#9c179e\"],[0.4444444444444444,\"#bd3786\"],[0.5555555555555556,\"#d8576b\"],[0.6666666666666666,\"#ed7953\"],[0.7777777777777778,\"#fb9f3a\"],[0.8888888888888888,\"#fdca26\"],[1.0,\"#f0f921\"]],\"type\":\"contour\"}],\"heatmapgl\":[{\"colorbar\":{\"outlinewidth\":0,\"ticks\":\"\"},\"colorscale\":[[0.0,\"#0d0887\"],[0.1111111111111111,\"#46039f\"],[0.2222222222222222,\"#7201a8\"],[0.3333333333333333,\"#9c179e\"],[0.4444444444444444,\"#bd3786\"],[0.5555555555555556,\"#d8576b\"],[0.6666666666666666,\"#ed7953\"],[0.7777777777777778,\"#fb9f3a\"],[0.8888888888888888,\"#fdca26\"],[1.0,\"#f0f921\"]],\"type\":\"heatmapgl\"}],\"heatmap\":[{\"colorbar\":{\"outlinewidth\":0,\"ticks\":\"\"},\"colorscale\":[[0.0,\"#0d0887\"],[0.1111111111111111,\"#46039f\"],[0.2222222222222222,\"#7201a8\"],[0.3333333333333333,\"#9c179e\"],[0.4444444444444444,\"#bd3786\"],[0.5555555555555556,\"#d8576b\"],[0.6666666666666666,\"#ed7953\"],[0.7777777777777778,\"#fb9f3a\"],[0.8888888888888888,\"#fdca26\"],[1.0,\"#f0f921\"]],\"type\":\"heatmap\"}],\"histogram2dcontour\":[{\"colorbar\":{\"outlinewidth\":0,\"ticks\":\"\"},\"colorscale\":[[0.0,\"#0d0887\"],[0.1111111111111111,\"#46039f\"],[0.2222222222222222,\"#7201a8\"],[0.3333333333333333,\"#9c179e\"],[0.4444444444444444,\"#bd3786\"],[0.5555555555555556,\"#d8576b\"],[0.6666666666666666,\"#ed7953\"],[0.7777777777777778,\"#fb9f3a\"],[0.8888888888888888,\"#fdca26\"],[1.0,\"#f0f921\"]],\"type\":\"histogram2dcontour\"}],\"histogram2d\":[{\"colorbar\":{\"outlinewidth\":0,\"ticks\":\"\"},\"colorscale\":[[0.0,\"#0d0887\"],[0.1111111111111111,\"#46039f\"],[0.2222222222222222,\"#7201a8\"],[0.3333333333333333,\"#9c179e\"],[0.4444444444444444,\"#bd3786\"],[0.5555555555555556,\"#d8576b\"],[0.6666666666666666,\"#ed7953\"],[0.7777777777777778,\"#fb9f3a\"],[0.8888888888888888,\"#fdca26\"],[1.0,\"#f0f921\"]],\"type\":\"histogram2d\"}],\"histogram\":[{\"marker\":{\"pattern\":{\"fillmode\":\"overlay\",\"size\":10,\"solidity\":0.2}},\"type\":\"histogram\"}],\"mesh3d\":[{\"colorbar\":{\"outlinewidth\":0,\"ticks\":\"\"},\"type\":\"mesh3d\"}],\"parcoords\":[{\"line\":{\"colorbar\":{\"outlinewidth\":0,\"ticks\":\"\"}},\"type\":\"parcoords\"}],\"pie\":[{\"automargin\":true,\"type\":\"pie\"}],\"scatter3d\":[{\"line\":{\"colorbar\":{\"outlinewidth\":0,\"ticks\":\"\"}},\"marker\":{\"colorbar\":{\"outlinewidth\":0,\"ticks\":\"\"}},\"type\":\"scatter3d\"}],\"scattercarpet\":[{\"marker\":{\"colorbar\":{\"outlinewidth\":0,\"ticks\":\"\"}},\"type\":\"scattercarpet\"}],\"scattergeo\":[{\"marker\":{\"colorbar\":{\"outlinewidth\":0,\"ticks\":\"\"}},\"type\":\"scattergeo\"}],\"scattergl\":[{\"marker\":{\"colorbar\":{\"outlinewidth\":0,\"ticks\":\"\"}},\"type\":\"scattergl\"}],\"scattermapbox\":[{\"marker\":{\"colorbar\":{\"outlinewidth\":0,\"ticks\":\"\"}},\"type\":\"scattermapbox\"}],\"scatterpolargl\":[{\"marker\":{\"colorbar\":{\"outlinewidth\":0,\"ticks\":\"\"}},\"type\":\"scatterpolargl\"}],\"scatterpolar\":[{\"marker\":{\"colorbar\":{\"outlinewidth\":0,\"ticks\":\"\"}},\"type\":\"scatterpolar\"}],\"scatter\":[{\"fillpattern\":{\"fillmode\":\"overlay\",\"size\":10,\"solidity\":0.2},\"type\":\"scatter\"}],\"scatterternary\":[{\"marker\":{\"colorbar\":{\"outlinewidth\":0,\"ticks\":\"\"}},\"type\":\"scatterternary\"}],\"surface\":[{\"colorbar\":{\"outlinewidth\":0,\"ticks\":\"\"},\"colorscale\":[[0.0,\"#0d0887\"],[0.1111111111111111,\"#46039f\"],[0.2222222222222222,\"#7201a8\"],[0.3333333333333333,\"#9c179e\"],[0.4444444444444444,\"#bd3786\"],[0.5555555555555556,\"#d8576b\"],[0.6666666666666666,\"#ed7953\"],[0.7777777777777778,\"#fb9f3a\"],[0.8888888888888888,\"#fdca26\"],[1.0,\"#f0f921\"]],\"type\":\"surface\"}],\"table\":[{\"cells\":{\"fill\":{\"color\":\"#EBF0F8\"},\"line\":{\"color\":\"white\"}},\"header\":{\"fill\":{\"color\":\"#C8D4E3\"},\"line\":{\"color\":\"white\"}},\"type\":\"table\"}]},\"layout\":{\"annotationdefaults\":{\"arrowcolor\":\"#2a3f5f\",\"arrowhead\":0,\"arrowwidth\":1},\"autotypenumbers\":\"strict\",\"coloraxis\":{\"colorbar\":{\"outlinewidth\":0,\"ticks\":\"\"}},\"colorscale\":{\"diverging\":[[0,\"#8e0152\"],[0.1,\"#c51b7d\"],[0.2,\"#de77ae\"],[0.3,\"#f1b6da\"],[0.4,\"#fde0ef\"],[0.5,\"#f7f7f7\"],[0.6,\"#e6f5d0\"],[0.7,\"#b8e186\"],[0.8,\"#7fbc41\"],[0.9,\"#4d9221\"],[1,\"#276419\"]],\"sequential\":[[0.0,\"#0d0887\"],[0.1111111111111111,\"#46039f\"],[0.2222222222222222,\"#7201a8\"],[0.3333333333333333,\"#9c179e\"],[0.4444444444444444,\"#bd3786\"],[0.5555555555555556,\"#d8576b\"],[0.6666666666666666,\"#ed7953\"],[0.7777777777777778,\"#fb9f3a\"],[0.8888888888888888,\"#fdca26\"],[1.0,\"#f0f921\"]],\"sequentialminus\":[[0.0,\"#0d0887\"],[0.1111111111111111,\"#46039f\"],[0.2222222222222222,\"#7201a8\"],[0.3333333333333333,\"#9c179e\"],[0.4444444444444444,\"#bd3786\"],[0.5555555555555556,\"#d8576b\"],[0.6666666666666666,\"#ed7953\"],[0.7777777777777778,\"#fb9f3a\"],[0.8888888888888888,\"#fdca26\"],[1.0,\"#f0f921\"]]},\"colorway\":[\"#636efa\",\"#EF553B\",\"#00cc96\",\"#ab63fa\",\"#FFA15A\",\"#19d3f3\",\"#FF6692\",\"#B6E880\",\"#FF97FF\",\"#FECB52\"],\"font\":{\"color\":\"#2a3f5f\"},\"geo\":{\"bgcolor\":\"white\",\"lakecolor\":\"white\",\"landcolor\":\"white\",\"showlakes\":true,\"showland\":true,\"subunitcolor\":\"#C8D4E3\"},\"hoverlabel\":{\"align\":\"left\"},\"hovermode\":\"closest\",\"mapbox\":{\"style\":\"light\"},\"paper_bgcolor\":\"white\",\"plot_bgcolor\":\"white\",\"polar\":{\"angularaxis\":{\"gridcolor\":\"#EBF0F8\",\"linecolor\":\"#EBF0F8\",\"ticks\":\"\"},\"bgcolor\":\"white\",\"radialaxis\":{\"gridcolor\":\"#EBF0F8\",\"linecolor\":\"#EBF0F8\",\"ticks\":\"\"}},\"scene\":{\"xaxis\":{\"backgroundcolor\":\"white\",\"gridcolor\":\"#DFE8F3\",\"gridwidth\":2,\"linecolor\":\"#EBF0F8\",\"showbackground\":true,\"ticks\":\"\",\"zerolinecolor\":\"#EBF0F8\"},\"yaxis\":{\"backgroundcolor\":\"white\",\"gridcolor\":\"#DFE8F3\",\"gridwidth\":2,\"linecolor\":\"#EBF0F8\",\"showbackground\":true,\"ticks\":\"\",\"zerolinecolor\":\"#EBF0F8\"},\"zaxis\":{\"backgroundcolor\":\"white\",\"gridcolor\":\"#DFE8F3\",\"gridwidth\":2,\"linecolor\":\"#EBF0F8\",\"showbackground\":true,\"ticks\":\"\",\"zerolinecolor\":\"#EBF0F8\"}},\"shapedefaults\":{\"line\":{\"color\":\"#2a3f5f\"}},\"ternary\":{\"aaxis\":{\"gridcolor\":\"#DFE8F3\",\"linecolor\":\"#A2B1C6\",\"ticks\":\"\"},\"baxis\":{\"gridcolor\":\"#DFE8F3\",\"linecolor\":\"#A2B1C6\",\"ticks\":\"\"},\"bgcolor\":\"white\",\"caxis\":{\"gridcolor\":\"#DFE8F3\",\"linecolor\":\"#A2B1C6\",\"ticks\":\"\"}},\"title\":{\"x\":0.05},\"xaxis\":{\"automargin\":true,\"gridcolor\":\"#EBF0F8\",\"linecolor\":\"#EBF0F8\",\"ticks\":\"\",\"title\":{\"standoff\":15},\"zerolinecolor\":\"#EBF0F8\",\"zerolinewidth\":2},\"yaxis\":{\"automargin\":true,\"gridcolor\":\"#EBF0F8\",\"linecolor\":\"#EBF0F8\",\"ticks\":\"\",\"title\":{\"standoff\":15},\"zerolinecolor\":\"#EBF0F8\",\"zerolinewidth\":2}}},\"xaxis\":{\"anchor\":\"y\",\"domain\":[0.0,1.0],\"scaleanchor\":\"y\",\"constrain\":\"domain\"},\"yaxis\":{\"anchor\":\"x\",\"domain\":[0.0,1.0],\"autorange\":\"reversed\",\"constrain\":\"domain\"},\"coloraxis\":{\"colorscale\":[[0.0,\"rgb(165,0,38)\"],[0.1,\"rgb(215,48,39)\"],[0.2,\"rgb(244,109,67)\"],[0.3,\"rgb(253,174,97)\"],[0.4,\"rgb(254,224,144)\"],[0.5,\"rgb(255,255,191)\"],[0.6,\"rgb(224,243,248)\"],[0.7,\"rgb(171,217,233)\"],[0.8,\"rgb(116,173,209)\"],[0.9,\"rgb(69,117,180)\"],[1.0,\"rgb(49,54,149)\"]]},\"title\":{\"text\":\"\\u003cb\\u003eCorrelation of Features to Target\\u003c\\u002fb\\u003e\"},\"height\":500,\"width\":1200},                        {\"responsive\": true}                    ).then(function(){\n",
       "                            \n",
       "var gd = document.getElementById('712b5890-1c62-4d0d-91f1-bc63470ad910');\n",
       "var x = new MutationObserver(function (mutations, observer) {{\n",
       "        var display = window.getComputedStyle(gd).display;\n",
       "        if (!display || display === 'none') {{\n",
       "            console.log([gd, 'removed!']);\n",
       "            Plotly.purge(gd);\n",
       "            observer.disconnect();\n",
       "        }}\n",
       "}});\n",
       "\n",
       "// Listen for the removal of the full notebook cells\n",
       "var notebookContainer = gd.closest('#notebook-container');\n",
       "if (notebookContainer) {{\n",
       "    x.observe(notebookContainer, {childList: true});\n",
       "}}\n",
       "\n",
       "// Listen for the clearing of the current output cell\n",
       "var outputEl = gd.closest('.output');\n",
       "if (outputEl) {{\n",
       "    x.observe(outputEl, {childList: true});\n",
       "}}\n",
       "\n",
       "                        })                };                });            </script>        </div>"
      ]
     },
     "metadata": {},
     "output_type": "display_data"
    }
   ],
   "source": [
    "plot_correlations(X_train, y_train, 'Target',True)"
   ]
  },
  {
   "cell_type": "markdown",
   "id": "11306675",
   "metadata": {
    "papermill": {
     "duration": 0.012248,
     "end_time": "2024-02-11T02:25:34.726325",
     "exception": false,
     "start_time": "2024-02-11T02:25:34.714077",
     "status": "completed"
    },
    "tags": []
   },
   "source": [
    "## Model Training\n",
    "### Plotting & Evaluation Functions"
   ]
  },
  {
   "cell_type": "code",
   "execution_count": 13,
   "id": "62db08e9",
   "metadata": {
    "execution": {
     "iopub.execute_input": "2024-02-11T02:25:34.754249Z",
     "iopub.status.busy": "2024-02-11T02:25:34.753172Z",
     "iopub.status.idle": "2024-02-11T02:25:34.765410Z",
     "shell.execute_reply": "2024-02-11T02:25:34.764257Z"
    },
    "papermill": {
     "duration": 0.029487,
     "end_time": "2024-02-11T02:25:34.768419",
     "exception": false,
     "start_time": "2024-02-11T02:25:34.738932",
     "status": "completed"
    },
    "tags": []
   },
   "outputs": [],
   "source": [
    "def plot_training_metrics(model, model_type, metric='auc'):\n",
    "    \"\"\"\n",
    "    Plot the evalution metric for train/validation datasets against each epoch\n",
    "    Supports xgb, catboost and light gbm models\n",
    "    \"\"\"\n",
    "    # extract train/validation results from the model\n",
    "    if model_type == 'xgb':\n",
    "        d = model.evals_result_\n",
    "        t = d['validation_0'][metric]\n",
    "        v = d['validation_1'][metric]\n",
    "    elif model_type == \"cat\":\n",
    "        d = model.evals_result_\n",
    "        t = d[\"validation_0\"][str.upper(metric)]\n",
    "        v = d[\"validation_1\"][str.upper(metric)]\n",
    "    elif model_type == 'lgb':\n",
    "        d = model.evals_result_\n",
    "        t = d['training'][metric]\n",
    "        v = d['valid_1'][metric]\n",
    "        \n",
    "    # convert to dataframe\n",
    "    df_eval = pd.DataFrame(list(zip(t, v)), columns=[\"train\", \"val\"])\n",
    "    \n",
    "    # create the plot\n",
    "    fig = go.Figure()\n",
    "    fig.add_trace(\n",
    "        go.Scatter(\n",
    "            x=df_eval.index,\n",
    "            y=df_eval.train,\n",
    "            name=\"Training\",\n",
    "            line=dict(color=colors[\"sage\"], width=2),\n",
    "        )\n",
    "    )\n",
    "    fig.add_trace(\n",
    "        go.Scatter(\n",
    "            x=df_eval.index,\n",
    "            y=df_eval.val,\n",
    "            name=\"Validation\",\n",
    "            line=dict(color=colors[\"orange\"], width=2),\n",
    "        )\n",
    "    )\n",
    "    fig.update_layout(\n",
    "        template=\"plotly_white\",\n",
    "        title=f\"<b>Training Metrics: {metric.upper()}</b>\",\n",
    "        width=800,\n",
    "        height=400,\n",
    "    )\n",
    "    fig.show()"
   ]
  },
  {
   "cell_type": "code",
   "execution_count": 14,
   "id": "900edb3f",
   "metadata": {
    "execution": {
     "iopub.execute_input": "2024-02-11T02:25:34.796356Z",
     "iopub.status.busy": "2024-02-11T02:25:34.795554Z",
     "iopub.status.idle": "2024-02-11T02:25:34.806635Z",
     "shell.execute_reply": "2024-02-11T02:25:34.805384Z"
    },
    "papermill": {
     "duration": 0.027599,
     "end_time": "2024-02-11T02:25:34.809048",
     "exception": false,
     "start_time": "2024-02-11T02:25:34.781449",
     "status": "completed"
    },
    "tags": []
   },
   "outputs": [],
   "source": [
    "def get_feature_importance(model, model_type, importance_type, normalize=True):\n",
    "    \"\"\"\n",
    "    Extract the feature importance from a trained model\n",
    "    model: trained  model\n",
    "    model_type: model name (xgb, lgbm, cat)\n",
    "    importance_type: weight, gain, cover (only applies to xgb)\n",
    "    \"\"\"\n",
    "\n",
    "    # extract feature importance for each cv\n",
    "    if model_type == \"xgb\":\n",
    "        scores = model.get_booster().get_score(importance_type=importance_type)\n",
    "        df = pd.DataFrame(dict(feature=scores.keys(),score=scores.values()))\n",
    "    elif model_type == \"lgb\":\n",
    "        # importance_type is set during model training=> importance_type='gain','split'\n",
    "        names = model.feature_name_\n",
    "        scores = model.feature_importances_\n",
    "        df = pd.DataFrame(dict(feature=names,score=scores))\n",
    "    elif model_type == \"cat\":\n",
    "        # only weight is available. Gain requires that training dataset and is calculated post-training\n",
    "        df = (\n",
    "             model.get_feature_importance(prettified=True)\n",
    "            .rename(columns={'Feature Id':'feature','Importances':'score'})\n",
    "        )\n",
    "    else:\n",
    "        print(f\"Model not recognized:{model_type} (get_feature_importances)\")\n",
    "        df = None\n",
    "    \n",
    "    # normalize the score out of 100%\n",
    "    if normalize:\n",
    "        df['score'] = df[\"score\"] / df[\"score\"].sum()\n",
    "        \n",
    "    # sort\n",
    "    df.sort_values(by=\"score\", ascending=True, inplace=True)\n",
    "    \n",
    "    return df"
   ]
  },
  {
   "cell_type": "code",
   "execution_count": 15,
   "id": "67eb6159",
   "metadata": {
    "execution": {
     "iopub.execute_input": "2024-02-11T02:25:34.836446Z",
     "iopub.status.busy": "2024-02-11T02:25:34.836003Z",
     "iopub.status.idle": "2024-02-11T02:25:34.845552Z",
     "shell.execute_reply": "2024-02-11T02:25:34.844471Z"
    },
    "papermill": {
     "duration": 0.026031,
     "end_time": "2024-02-11T02:25:34.847970",
     "exception": false,
     "start_time": "2024-02-11T02:25:34.821939",
     "status": "completed"
    },
    "tags": []
   },
   "outputs": [],
   "source": [
    "def plot_feature_importance(model, model_type, importance_type, normalize=True, top_n=None):\n",
    "    \"\"\"\n",
    "    Plot a bar chart of feature importance\n",
    "    Params:\n",
    "        df_importance: a dataframe with the output from calc_feature_importance\n",
    "    \"\"\"\n",
    "    # get feature importance\n",
    "    df = get_feature_importance(model, model_type, importance_type, normalize)\n",
    "\n",
    "    # filter by the top-n features & resort\n",
    "    if top_n is not None:\n",
    "        df = df.nlargest(top_n, \"score\")\n",
    "        df.sort_values(by=\"score\", ascending=True, inplace=True)\n",
    "\n",
    "    # create plot\n",
    "    fig = go.Figure()\n",
    "\n",
    "    # create the plot of feature importance\n",
    "    fig.add_trace(\n",
    "        go.Bar(\n",
    "            name=\"Importance\",\n",
    "            x=df.score,\n",
    "            y=df.feature,\n",
    "            orientation=\"h\",\n",
    "            marker=dict(color=colors[\"sage\"]),\n",
    "        )\n",
    "    )\n",
    "    fig.update_layout(\n",
    "        title=f\"<b>Feature Importance for the {model_type} model</b><br>Calculated using feature {importance_type}\",\n",
    "        template=\"plotly_white\",\n",
    "        width=500,\n",
    "        height=500,\n",
    "        yaxis=dict(type=\"category\", tickmode=\"linear\"),\n",
    "    )\n",
    "    fig.show()"
   ]
  },
  {
   "cell_type": "markdown",
   "id": "cd78666e",
   "metadata": {
    "papermill": {
     "duration": 0.012983,
     "end_time": "2024-02-11T02:25:34.874042",
     "exception": false,
     "start_time": "2024-02-11T02:25:34.861059",
     "status": "completed"
    },
    "tags": []
   },
   "source": [
    "### XGBoost\n",
    "#### XGB Hyperparameter Tuning"
   ]
  },
  {
   "cell_type": "code",
   "execution_count": 16,
   "id": "db66931b",
   "metadata": {
    "execution": {
     "iopub.execute_input": "2024-02-11T02:25:34.901091Z",
     "iopub.status.busy": "2024-02-11T02:25:34.900663Z",
     "iopub.status.idle": "2024-02-11T02:25:34.911338Z",
     "shell.execute_reply": "2024-02-11T02:25:34.910130Z"
    },
    "papermill": {
     "duration": 0.026894,
     "end_time": "2024-02-11T02:25:34.913675",
     "exception": false,
     "start_time": "2024-02-11T02:25:34.886781",
     "status": "completed"
    },
    "tags": []
   },
   "outputs": [],
   "source": [
    "def objective(trial):\n",
    "    #XGB params to tune\n",
    "    params = {\n",
    "        'n_estimators'     : 500,\n",
    "        'objective'        : 'multi:softprob',\n",
    "        'tree_method'      :'auto',\n",
    "        'eval_metric'      :'mlogloss',\n",
    "        'random_state'     : RANDOM,\n",
    "        'learning_rate'    : trial.suggest_float('learning_rate', 0.03, 0.1),  \n",
    "        'max_depth'        : trial.suggest_int('max_depth',3, 12),\n",
    "        'min_child_weight' : trial.suggest_int('min_child_weight',3,12),\n",
    "        'gamma'            : trial.suggest_float('gamma', 0, 0.5), \n",
    "        'subsample'        : trial.suggest_float('subsample', 0.5, 0.9), \n",
    "        'colsample_bytree' : trial.suggest_float('colsample_bytree', 0.5, 0.9), \n",
    "        'lambda'           : trial.suggest_float('lambda', 0.5, 0.9),\n",
    "        'alpha'            : trial.suggest_float('alpha', 0.5, 0.9),\n",
    "    }\n",
    "    # model\n",
    "    xgb = XGBClassifier(**params)\n",
    "\n",
    "    # use stratified kfold to evalute each set of model weights\n",
    "    skf= StratifiedKFold(n_splits=3, shuffle=True, random_state=RANDOM)\n",
    "\n",
    "    # Calculate the auc for each set of model weights\n",
    "    acc = abs(cross_val_score(xgb, X_train, y_train, cv=skf, scoring='accuracy').mean())\n",
    "    \n",
    "    return acc\n",
    "\n",
    "\n",
    "# Optimize Hyperparameters\n",
    "# =====================================================================================================\n",
    "# # create the study and run the optimization\n",
    "# study = optuna.create_study(direction='maximize', sampler=optuna.samplers.TPESampler(seed=RANDOM))\n",
    "# study.optimize(objective, n_trials=50)\n",
    "\n",
    "# # get the best weights from the optimization\n",
    "# xgb_best = study.best_params\n",
    "# print(study.best_value)\n",
    "# print(xgb_best)\n",
    "\n",
    "# # clear some memmory\n",
    "# gc.collect()"
   ]
  },
  {
   "cell_type": "code",
   "execution_count": 17,
   "id": "4b26f875",
   "metadata": {
    "execution": {
     "iopub.execute_input": "2024-02-11T02:25:34.940919Z",
     "iopub.status.busy": "2024-02-11T02:25:34.940524Z",
     "iopub.status.idle": "2024-02-11T02:25:39.021004Z",
     "shell.execute_reply": "2024-02-11T02:25:39.019792Z"
    },
    "papermill": {
     "duration": 4.096939,
     "end_time": "2024-02-11T02:25:39.023533",
     "exception": false,
     "start_time": "2024-02-11T02:25:34.926594",
     "status": "completed"
    },
    "tags": []
   },
   "outputs": [
    {
     "data": {
      "text/html": [
       "<div>                            <div id=\"315d6172-e616-45f2-9283-cc4b26672de4\" class=\"plotly-graph-div\" style=\"height:400px; width:800px;\"></div>            <script type=\"text/javascript\">                require([\"plotly\"], function(Plotly) {                    window.PLOTLYENV=window.PLOTLYENV || {};                                    if (document.getElementById(\"315d6172-e616-45f2-9283-cc4b26672de4\")) {                    Plotly.newPlot(                        \"315d6172-e616-45f2-9283-cc4b26672de4\",                        [{\"line\":{\"color\":\"#53808D\",\"width\":2},\"name\":\"Training\",\"x\":[0,1,2,3,4,5,6,7,8,9,10,11,12,13,14,15,16,17,18,19,20,21,22,23,24,25,26,27,28,29,30,31,32,33,34,35,36,37,38,39,40,41,42,43,44,45,46,47,48,49,50,51,52,53,54,55,56,57,58,59,60,61,62,63,64,65,66,67,68,69,70,71,72,73,74,75,76,77,78,79,80,81,82,83,84,85,86,87,88,89,90,91,92,93,94,95,96,97,98,99,100,101,102,103,104,105,106,107,108,109,110,111,112,113,114,115,116,117,118,119,120,121,122,123,124,125,126,127,128,129,130,131,132,133,134,135,136,137,138,139,140,141,142,143,144,145,146,147,148,149,150,151,152,153,154,155,156,157,158,159,160,161,162,163,164,165,166,167,168,169,170,171,172,173,174,175,176,177,178,179,180,181,182,183,184,185,186,187,188,189,190,191,192,193,194,195,196,197,198,199,200,201,202,203,204,205,206,207,208,209],\"y\":[1.8245568280117808,1.7175389131149528,1.622117962447273,1.5433102780101702,1.4678864556307623,1.4000616643955144,1.3434173639719706,1.2909817062672773,1.2367223820585265,1.1903162106295515,1.144595825796341,1.1026090528933985,1.0642763513851408,1.0297626794195744,0.9967509206735727,0.9656140606517922,0.9356740450666681,0.9060487567832868,0.8776292154677845,0.8531978574091162,0.8295780641335142,0.8057594430363352,0.7850852183504994,0.7674793895792993,0.7474530607365018,0.7274816984798224,0.7089736511979953,0.6914965049622218,0.6742573141455865,0.6580829749793069,0.6440835871743708,0.6297362179325012,0.6171748367067879,0.6044969132894007,0.5920953352381619,0.5798409146882749,0.5685162915586062,0.5578263458185321,0.5476702422389966,0.5377760631617015,0.5283334686424335,0.519558611844019,0.5118964069299593,0.503956212012377,0.4963832422552533,0.48867356603915585,0.4812573067737131,0.4745593638037409,0.46796069726909656,0.4613932924831716,0.4552072685328102,0.44956252521717605,0.44376317446881586,0.4384957280449231,0.4332516889646335,0.42840272944910074,0.423447661872181,0.4186818221451381,0.4145500670064577,0.4103796933849978,0.4062620494113146,0.4021043205292996,0.39823997202925504,0.3945432810159271,0.39112111360443064,0.3875956024941383,0.38411308982408754,0.38067357351156145,0.37755284455796545,0.3746974180381524,0.37192000038553924,0.3692437867051515,0.3667625295884183,0.3641382974400752,0.3614211382045328,0.3588814503473682,0.35645296484210415,0.3541259660551444,0.3518107185506141,0.3496053368157137,0.34734919352346333,0.345305001465118,0.34308793034445345,0.3412236873092769,0.3393144799482989,0.3373151834726407,0.3355948825584511,0.3337110893587289,0.33202350294475674,0.33033650123086766,0.32866850066804426,0.32689816152546153,0.3255203470755308,0.3241758755054116,0.32267965935260384,0.321209386719509,0.31957364121908943,0.31806198654155254,0.3166888954845746,0.31511058727226365,0.3138193894399429,0.3125474831710446,0.3112134645458239,0.30989374490536675,0.30871176500967923,0.30758627103242314,0.3064523687410983,0.30519601809781566,0.3040382624194398,0.303003016284998,0.3020089649968612,0.30084694120739075,0.299619379126899,0.29854895460279596,0.29758080434352274,0.29660862597205484,0.29582826188414607,0.29498910545997364,0.29397038068221015,0.29298198628665006,0.2921089313228148,0.29107730822622757,0.29023710214013015,0.2894566398191137,0.28848611504382604,0.28756356486192797,0.2868111479264309,0.2860069282665702,0.2852222781764541,0.2844250026334474,0.2836502457323201,0.28294592188435347,0.2823408666748464,0.281451364809257,0.2807011913610557,0.279940047527032,0.2790564226361546,0.2784214161881862,0.2777290344631707,0.27697591387822,0.2763600437989685,0.27565470390394137,0.274996055851639,0.2744313130163562,0.2738317659232945,0.2730050196893006,0.27244522567591045,0.2717074326903106,0.2711395211204865,0.27049467208817457,0.2698208765771669,0.2691714468644259,0.2686088427188839,0.2679850918224413,0.26746388802043347,0.2668740500210573,0.26631274219806433,0.2656742022036842,0.26524644514846296,0.2647443677610521,0.2642637487267823,0.2637385471237477,0.26324576920395965,0.2626908511301122,0.2622492003915144,0.2618277199648681,0.26132942619378086,0.26091562575389565,0.2604826960011375,0.26001501611970107,0.25954479772722366,0.25909466919130186,0.258605433962396,0.25812554297186857,0.25754857943997167,0.2570637971796385,0.25654582993100933,0.2560409281985702,0.25558187256817844,0.25512912396237697,0.25475041712418767,0.2543219619864099,0.2538674705216867,0.2534403254823038,0.25303182816274794,0.2526558956532294,0.2522333812697973,0.2518454328459272,0.2513436680503263,0.25091236971455455,0.2504129799470174,0.24999253240884337,0.24949340646713322,0.24911754804598416,0.2487130109209947,0.24832424825146082,0.2479101295209462,0.24751965937777803,0.24714768970990392,0.2466540296652689,0.24626475811336315,0.24589433396454058,0.24551486271646314,0.24512932822663494,0.24480659026266663,0.24447488006910514,0.24408838871769328,0.24368182906287358,0.24327593843665918,0.2429327347015058],\"type\":\"scatter\"},{\"line\":{\"color\":\"#FC4C02\",\"width\":2},\"name\":\"Validation\",\"x\":[0,1,2,3,4,5,6,7,8,9,10,11,12,13,14,15,16,17,18,19,20,21,22,23,24,25,26,27,28,29,30,31,32,33,34,35,36,37,38,39,40,41,42,43,44,45,46,47,48,49,50,51,52,53,54,55,56,57,58,59,60,61,62,63,64,65,66,67,68,69,70,71,72,73,74,75,76,77,78,79,80,81,82,83,84,85,86,87,88,89,90,91,92,93,94,95,96,97,98,99,100,101,102,103,104,105,106,107,108,109,110,111,112,113,114,115,116,117,118,119,120,121,122,123,124,125,126,127,128,129,130,131,132,133,134,135,136,137,138,139,140,141,142,143,144,145,146,147,148,149,150,151,152,153,154,155,156,157,158,159,160,161,162,163,164,165,166,167,168,169,170,171,172,173,174,175,176,177,178,179,180,181,182,183,184,185,186,187,188,189,190,191,192,193,194,195,196,197,198,199,200,201,202,203,204,205,206,207,208,209],\"y\":[1.8262918220836533,1.7189892789704262,1.623049829104962,1.5448687705058812,1.471523522785174,1.408864283464088,1.352695382370655,1.3011920920686226,1.246441317862169,1.2037380242967881,1.1620165526235264,1.1206372366475232,1.0871226780389316,1.0557303184891023,1.0224338416189587,0.9952585501650165,0.9644217219397512,0.9341357768098743,0.9094765822121403,0.8862377441629968,0.8650797413292418,0.8404818384375187,0.8221655477678156,0.8077980653025741,0.7872485804061095,0.7664604029960945,0.747125835131014,0.7287381719905517,0.7134975208856007,0.6962588522762692,0.6824784809884997,0.6676920835711134,0.6544057825339782,0.640979101913685,0.6303593279050954,0.6198012004418008,0.6080522264976607,0.5986522271267366,0.5878561445097358,0.5771527632116296,0.5694044449964183,0.5599002322659384,0.5515576297765408,0.544982338984549,0.5367591077630518,0.5283391432287549,0.520113390294372,0.5129743022754473,0.5059085860148589,0.500894871077398,0.4942860007967965,0.48984074362541097,0.48345534331371615,0.4776946919645418,0.47209941257178956,0.4683381518733065,0.4634201350480117,0.4581857422341616,0.453833706535198,0.4493025287802767,0.4448314017251938,0.4401647277886985,0.43613591968119575,0.4324795842019981,0.42862504164855175,0.4263696525943948,0.42363118987372556,0.4198262332256718,0.41633686771067235,0.41312961833128037,0.4116251195874245,0.4100161129734362,0.40730809458658845,0.4060261774007841,0.4031624866125527,0.4011987118258613,0.4000792699284593,0.39868176606688327,0.3976923596133659,0.3961503758011763,0.39349048718969787,0.3912737855220282,0.3901487346361741,0.38800518346864277,0.38595166460293306,0.38473040465066327,0.3838640729064994,0.38207395047331605,0.3802177411650338,0.3796984036587652,0.37811080791075896,0.37637780201065074,0.376165019658256,0.37464615547184354,0.3730292312485957,0.37300713870473395,0.3711735163420539,0.37012211803543366,0.36885311778299223,0.36744911613473075,0.36617566326293044,0.3662487846507147,0.36575599412388043,0.3654289021874959,0.36443580573748596,0.363408741406174,0.36219836806323064,0.36229473680481206,0.3610741862487084,0.361472736536265,0.36050976245567157,0.36035854403519024,0.35923636550494686,0.3596665105443297,0.3587488890772457,0.3580549480943081,0.3572304918332499,0.35734968392978295,0.35650730069622627,0.3557575363422446,0.35496013475154026,0.35516439413466544,0.3552011736557166,0.35492725440512746,0.3539230702788101,0.3530237864539644,0.3521862260131246,0.3521040862865579,0.3513995081099712,0.3505366060644817,0.34988095520377366,0.3493100069289415,0.34888174232012037,0.34937327114739797,0.34869462377746163,0.34898646540651795,0.34972210094638423,0.35016610146870725,0.34956815494704446,0.34981258923995584,0.34949931319728306,0.3506988644439984,0.3509713849397098,0.35053577893496596,0.34985475477548084,0.3505246042331025,0.3499710583260937,0.34948353531039394,0.350419014595462,0.3498710840063996,0.35043256900634173,0.35124121151113324,0.35101706619535505,0.3514709702418935,0.35229500738233427,0.3518005062841455,0.3524888955314732,0.35322614169240163,0.35294561469754715,0.35250005227576864,0.3530360954744236,0.3541880796262458,0.3536736190895306,0.35345399684742856,0.3533131962068745,0.3528913794500239,0.3532475273282225,0.3528833900405211,0.35292212255695554,0.35249343709631575,0.3524296464128662,0.35183180545458165,0.3524663083232636,0.3524268324910459,0.353457436881804,0.35301089508245653,0.35257753991000496,0.35226224035723697,0.35190956668632967,0.3518292434470502,0.3515442247998617,0.35150014925197437,0.3520421778452854,0.3517573559099336,0.3515269675466249,0.3511823589358051,0.3519576859590575,0.3515249076578351,0.3525193380067432,0.35210490585900334,0.3518169816955016,0.35305326734823717,0.35317100695743625,0.35293723566581336,0.3530584027839179,0.3526074083832683,0.3524084100008517,0.35218822188969356,0.35193512897851237,0.35260284176695333,0.35308368400501683,0.35319681664426233,0.35304829589724795,0.35324008086935044,0.3529904311950034,0.3527474490572554,0.35355406027689706,0.35403671803098463,0.35406599955929424,0.3539191507701273],\"type\":\"scatter\"}],                        {\"template\":{\"data\":{\"barpolar\":[{\"marker\":{\"line\":{\"color\":\"white\",\"width\":0.5},\"pattern\":{\"fillmode\":\"overlay\",\"size\":10,\"solidity\":0.2}},\"type\":\"barpolar\"}],\"bar\":[{\"error_x\":{\"color\":\"#2a3f5f\"},\"error_y\":{\"color\":\"#2a3f5f\"},\"marker\":{\"line\":{\"color\":\"white\",\"width\":0.5},\"pattern\":{\"fillmode\":\"overlay\",\"size\":10,\"solidity\":0.2}},\"type\":\"bar\"}],\"carpet\":[{\"aaxis\":{\"endlinecolor\":\"#2a3f5f\",\"gridcolor\":\"#C8D4E3\",\"linecolor\":\"#C8D4E3\",\"minorgridcolor\":\"#C8D4E3\",\"startlinecolor\":\"#2a3f5f\"},\"baxis\":{\"endlinecolor\":\"#2a3f5f\",\"gridcolor\":\"#C8D4E3\",\"linecolor\":\"#C8D4E3\",\"minorgridcolor\":\"#C8D4E3\",\"startlinecolor\":\"#2a3f5f\"},\"type\":\"carpet\"}],\"choropleth\":[{\"colorbar\":{\"outlinewidth\":0,\"ticks\":\"\"},\"type\":\"choropleth\"}],\"contourcarpet\":[{\"colorbar\":{\"outlinewidth\":0,\"ticks\":\"\"},\"type\":\"contourcarpet\"}],\"contour\":[{\"colorbar\":{\"outlinewidth\":0,\"ticks\":\"\"},\"colorscale\":[[0.0,\"#0d0887\"],[0.1111111111111111,\"#46039f\"],[0.2222222222222222,\"#7201a8\"],[0.3333333333333333,\"#9c179e\"],[0.4444444444444444,\"#bd3786\"],[0.5555555555555556,\"#d8576b\"],[0.6666666666666666,\"#ed7953\"],[0.7777777777777778,\"#fb9f3a\"],[0.8888888888888888,\"#fdca26\"],[1.0,\"#f0f921\"]],\"type\":\"contour\"}],\"heatmapgl\":[{\"colorbar\":{\"outlinewidth\":0,\"ticks\":\"\"},\"colorscale\":[[0.0,\"#0d0887\"],[0.1111111111111111,\"#46039f\"],[0.2222222222222222,\"#7201a8\"],[0.3333333333333333,\"#9c179e\"],[0.4444444444444444,\"#bd3786\"],[0.5555555555555556,\"#d8576b\"],[0.6666666666666666,\"#ed7953\"],[0.7777777777777778,\"#fb9f3a\"],[0.8888888888888888,\"#fdca26\"],[1.0,\"#f0f921\"]],\"type\":\"heatmapgl\"}],\"heatmap\":[{\"colorbar\":{\"outlinewidth\":0,\"ticks\":\"\"},\"colorscale\":[[0.0,\"#0d0887\"],[0.1111111111111111,\"#46039f\"],[0.2222222222222222,\"#7201a8\"],[0.3333333333333333,\"#9c179e\"],[0.4444444444444444,\"#bd3786\"],[0.5555555555555556,\"#d8576b\"],[0.6666666666666666,\"#ed7953\"],[0.7777777777777778,\"#fb9f3a\"],[0.8888888888888888,\"#fdca26\"],[1.0,\"#f0f921\"]],\"type\":\"heatmap\"}],\"histogram2dcontour\":[{\"colorbar\":{\"outlinewidth\":0,\"ticks\":\"\"},\"colorscale\":[[0.0,\"#0d0887\"],[0.1111111111111111,\"#46039f\"],[0.2222222222222222,\"#7201a8\"],[0.3333333333333333,\"#9c179e\"],[0.4444444444444444,\"#bd3786\"],[0.5555555555555556,\"#d8576b\"],[0.6666666666666666,\"#ed7953\"],[0.7777777777777778,\"#fb9f3a\"],[0.8888888888888888,\"#fdca26\"],[1.0,\"#f0f921\"]],\"type\":\"histogram2dcontour\"}],\"histogram2d\":[{\"colorbar\":{\"outlinewidth\":0,\"ticks\":\"\"},\"colorscale\":[[0.0,\"#0d0887\"],[0.1111111111111111,\"#46039f\"],[0.2222222222222222,\"#7201a8\"],[0.3333333333333333,\"#9c179e\"],[0.4444444444444444,\"#bd3786\"],[0.5555555555555556,\"#d8576b\"],[0.6666666666666666,\"#ed7953\"],[0.7777777777777778,\"#fb9f3a\"],[0.8888888888888888,\"#fdca26\"],[1.0,\"#f0f921\"]],\"type\":\"histogram2d\"}],\"histogram\":[{\"marker\":{\"pattern\":{\"fillmode\":\"overlay\",\"size\":10,\"solidity\":0.2}},\"type\":\"histogram\"}],\"mesh3d\":[{\"colorbar\":{\"outlinewidth\":0,\"ticks\":\"\"},\"type\":\"mesh3d\"}],\"parcoords\":[{\"line\":{\"colorbar\":{\"outlinewidth\":0,\"ticks\":\"\"}},\"type\":\"parcoords\"}],\"pie\":[{\"automargin\":true,\"type\":\"pie\"}],\"scatter3d\":[{\"line\":{\"colorbar\":{\"outlinewidth\":0,\"ticks\":\"\"}},\"marker\":{\"colorbar\":{\"outlinewidth\":0,\"ticks\":\"\"}},\"type\":\"scatter3d\"}],\"scattercarpet\":[{\"marker\":{\"colorbar\":{\"outlinewidth\":0,\"ticks\":\"\"}},\"type\":\"scattercarpet\"}],\"scattergeo\":[{\"marker\":{\"colorbar\":{\"outlinewidth\":0,\"ticks\":\"\"}},\"type\":\"scattergeo\"}],\"scattergl\":[{\"marker\":{\"colorbar\":{\"outlinewidth\":0,\"ticks\":\"\"}},\"type\":\"scattergl\"}],\"scattermapbox\":[{\"marker\":{\"colorbar\":{\"outlinewidth\":0,\"ticks\":\"\"}},\"type\":\"scattermapbox\"}],\"scatterpolargl\":[{\"marker\":{\"colorbar\":{\"outlinewidth\":0,\"ticks\":\"\"}},\"type\":\"scatterpolargl\"}],\"scatterpolar\":[{\"marker\":{\"colorbar\":{\"outlinewidth\":0,\"ticks\":\"\"}},\"type\":\"scatterpolar\"}],\"scatter\":[{\"fillpattern\":{\"fillmode\":\"overlay\",\"size\":10,\"solidity\":0.2},\"type\":\"scatter\"}],\"scatterternary\":[{\"marker\":{\"colorbar\":{\"outlinewidth\":0,\"ticks\":\"\"}},\"type\":\"scatterternary\"}],\"surface\":[{\"colorbar\":{\"outlinewidth\":0,\"ticks\":\"\"},\"colorscale\":[[0.0,\"#0d0887\"],[0.1111111111111111,\"#46039f\"],[0.2222222222222222,\"#7201a8\"],[0.3333333333333333,\"#9c179e\"],[0.4444444444444444,\"#bd3786\"],[0.5555555555555556,\"#d8576b\"],[0.6666666666666666,\"#ed7953\"],[0.7777777777777778,\"#fb9f3a\"],[0.8888888888888888,\"#fdca26\"],[1.0,\"#f0f921\"]],\"type\":\"surface\"}],\"table\":[{\"cells\":{\"fill\":{\"color\":\"#EBF0F8\"},\"line\":{\"color\":\"white\"}},\"header\":{\"fill\":{\"color\":\"#C8D4E3\"},\"line\":{\"color\":\"white\"}},\"type\":\"table\"}]},\"layout\":{\"annotationdefaults\":{\"arrowcolor\":\"#2a3f5f\",\"arrowhead\":0,\"arrowwidth\":1},\"autotypenumbers\":\"strict\",\"coloraxis\":{\"colorbar\":{\"outlinewidth\":0,\"ticks\":\"\"}},\"colorscale\":{\"diverging\":[[0,\"#8e0152\"],[0.1,\"#c51b7d\"],[0.2,\"#de77ae\"],[0.3,\"#f1b6da\"],[0.4,\"#fde0ef\"],[0.5,\"#f7f7f7\"],[0.6,\"#e6f5d0\"],[0.7,\"#b8e186\"],[0.8,\"#7fbc41\"],[0.9,\"#4d9221\"],[1,\"#276419\"]],\"sequential\":[[0.0,\"#0d0887\"],[0.1111111111111111,\"#46039f\"],[0.2222222222222222,\"#7201a8\"],[0.3333333333333333,\"#9c179e\"],[0.4444444444444444,\"#bd3786\"],[0.5555555555555556,\"#d8576b\"],[0.6666666666666666,\"#ed7953\"],[0.7777777777777778,\"#fb9f3a\"],[0.8888888888888888,\"#fdca26\"],[1.0,\"#f0f921\"]],\"sequentialminus\":[[0.0,\"#0d0887\"],[0.1111111111111111,\"#46039f\"],[0.2222222222222222,\"#7201a8\"],[0.3333333333333333,\"#9c179e\"],[0.4444444444444444,\"#bd3786\"],[0.5555555555555556,\"#d8576b\"],[0.6666666666666666,\"#ed7953\"],[0.7777777777777778,\"#fb9f3a\"],[0.8888888888888888,\"#fdca26\"],[1.0,\"#f0f921\"]]},\"colorway\":[\"#636efa\",\"#EF553B\",\"#00cc96\",\"#ab63fa\",\"#FFA15A\",\"#19d3f3\",\"#FF6692\",\"#B6E880\",\"#FF97FF\",\"#FECB52\"],\"font\":{\"color\":\"#2a3f5f\"},\"geo\":{\"bgcolor\":\"white\",\"lakecolor\":\"white\",\"landcolor\":\"white\",\"showlakes\":true,\"showland\":true,\"subunitcolor\":\"#C8D4E3\"},\"hoverlabel\":{\"align\":\"left\"},\"hovermode\":\"closest\",\"mapbox\":{\"style\":\"light\"},\"paper_bgcolor\":\"white\",\"plot_bgcolor\":\"white\",\"polar\":{\"angularaxis\":{\"gridcolor\":\"#EBF0F8\",\"linecolor\":\"#EBF0F8\",\"ticks\":\"\"},\"bgcolor\":\"white\",\"radialaxis\":{\"gridcolor\":\"#EBF0F8\",\"linecolor\":\"#EBF0F8\",\"ticks\":\"\"}},\"scene\":{\"xaxis\":{\"backgroundcolor\":\"white\",\"gridcolor\":\"#DFE8F3\",\"gridwidth\":2,\"linecolor\":\"#EBF0F8\",\"showbackground\":true,\"ticks\":\"\",\"zerolinecolor\":\"#EBF0F8\"},\"yaxis\":{\"backgroundcolor\":\"white\",\"gridcolor\":\"#DFE8F3\",\"gridwidth\":2,\"linecolor\":\"#EBF0F8\",\"showbackground\":true,\"ticks\":\"\",\"zerolinecolor\":\"#EBF0F8\"},\"zaxis\":{\"backgroundcolor\":\"white\",\"gridcolor\":\"#DFE8F3\",\"gridwidth\":2,\"linecolor\":\"#EBF0F8\",\"showbackground\":true,\"ticks\":\"\",\"zerolinecolor\":\"#EBF0F8\"}},\"shapedefaults\":{\"line\":{\"color\":\"#2a3f5f\"}},\"ternary\":{\"aaxis\":{\"gridcolor\":\"#DFE8F3\",\"linecolor\":\"#A2B1C6\",\"ticks\":\"\"},\"baxis\":{\"gridcolor\":\"#DFE8F3\",\"linecolor\":\"#A2B1C6\",\"ticks\":\"\"},\"bgcolor\":\"white\",\"caxis\":{\"gridcolor\":\"#DFE8F3\",\"linecolor\":\"#A2B1C6\",\"ticks\":\"\"}},\"title\":{\"x\":0.05},\"xaxis\":{\"automargin\":true,\"gridcolor\":\"#EBF0F8\",\"linecolor\":\"#EBF0F8\",\"ticks\":\"\",\"title\":{\"standoff\":15},\"zerolinecolor\":\"#EBF0F8\",\"zerolinewidth\":2},\"yaxis\":{\"automargin\":true,\"gridcolor\":\"#EBF0F8\",\"linecolor\":\"#EBF0F8\",\"ticks\":\"\",\"title\":{\"standoff\":15},\"zerolinecolor\":\"#EBF0F8\",\"zerolinewidth\":2}}},\"title\":{\"text\":\"\\u003cb\\u003eTraining Metrics: MLOGLOSS\\u003c\\u002fb\\u003e\"},\"width\":800,\"height\":400},                        {\"responsive\": true}                    ).then(function(){\n",
       "                            \n",
       "var gd = document.getElementById('315d6172-e616-45f2-9283-cc4b26672de4');\n",
       "var x = new MutationObserver(function (mutations, observer) {{\n",
       "        var display = window.getComputedStyle(gd).display;\n",
       "        if (!display || display === 'none') {{\n",
       "            console.log([gd, 'removed!']);\n",
       "            Plotly.purge(gd);\n",
       "            observer.disconnect();\n",
       "        }}\n",
       "}});\n",
       "\n",
       "// Listen for the removal of the full notebook cells\n",
       "var notebookContainer = gd.closest('#notebook-container');\n",
       "if (notebookContainer) {{\n",
       "    x.observe(notebookContainer, {childList: true});\n",
       "}}\n",
       "\n",
       "// Listen for the clearing of the current output cell\n",
       "var outputEl = gd.closest('.output');\n",
       "if (outputEl) {{\n",
       "    x.observe(outputEl, {childList: true});\n",
       "}}\n",
       "\n",
       "                        })                };                });            </script>        </div>"
      ]
     },
     "metadata": {},
     "output_type": "display_data"
    },
    {
     "data": {
      "text/html": [
       "<div>                            <div id=\"17ccebe3-0c92-45c1-a159-ca83d2602085\" class=\"plotly-graph-div\" style=\"height:500px; width:500px;\"></div>            <script type=\"text/javascript\">                require([\"plotly\"], function(Plotly) {                    window.PLOTLYENV=window.PLOTLYENV || {};                                    if (document.getElementById(\"17ccebe3-0c92-45c1-a159-ca83d2602085\")) {                    Plotly.newPlot(                        \"17ccebe3-0c92-45c1-a159-ca83d2602085\",                        [{\"marker\":{\"color\":\"#53808D\"},\"name\":\"Importance\",\"orientation\":\"h\",\"x\":[0.003357701728112634,0.00529252558958668,0.007009498362151318,0.010009045417069718,0.010309058671025977,0.013256455681563166,0.013450653698859994,0.015215806078996951,0.01593232879072213,0.018457431348795635,0.01973425778488379,0.020920090255023366,0.02142764575004328,0.021838696611281332,0.02585464119841866,0.0336203774356541,0.05445842871871193,0.11190864586828292,0.12472473962547731,0.17680701511164856,0.27641495627369056],\"y\":[\"cat__MTRANS_walking\",\"remainder__SMOKE\",\"num__risk_factor\",\"num__FAF\",\"cat__MTRANS_public_transportation\",\"num__TUE\",\"cat__MTRANS_automobile\",\"num__NCP\",\"remainder__SCC\",\"remainder__FamiliyHistory\",\"ord__CAEC\",\"num__Height\",\"num__Age\",\"ord__CALC\",\"num__CH2O\",\"remainder__FAVC\",\"num__FCVC\",\"cat__Gender_male\",\"num__Weight\",\"cat__Gender_female\",\"num__BMI\"],\"type\":\"bar\"}],                        {\"template\":{\"data\":{\"barpolar\":[{\"marker\":{\"line\":{\"color\":\"white\",\"width\":0.5},\"pattern\":{\"fillmode\":\"overlay\",\"size\":10,\"solidity\":0.2}},\"type\":\"barpolar\"}],\"bar\":[{\"error_x\":{\"color\":\"#2a3f5f\"},\"error_y\":{\"color\":\"#2a3f5f\"},\"marker\":{\"line\":{\"color\":\"white\",\"width\":0.5},\"pattern\":{\"fillmode\":\"overlay\",\"size\":10,\"solidity\":0.2}},\"type\":\"bar\"}],\"carpet\":[{\"aaxis\":{\"endlinecolor\":\"#2a3f5f\",\"gridcolor\":\"#C8D4E3\",\"linecolor\":\"#C8D4E3\",\"minorgridcolor\":\"#C8D4E3\",\"startlinecolor\":\"#2a3f5f\"},\"baxis\":{\"endlinecolor\":\"#2a3f5f\",\"gridcolor\":\"#C8D4E3\",\"linecolor\":\"#C8D4E3\",\"minorgridcolor\":\"#C8D4E3\",\"startlinecolor\":\"#2a3f5f\"},\"type\":\"carpet\"}],\"choropleth\":[{\"colorbar\":{\"outlinewidth\":0,\"ticks\":\"\"},\"type\":\"choropleth\"}],\"contourcarpet\":[{\"colorbar\":{\"outlinewidth\":0,\"ticks\":\"\"},\"type\":\"contourcarpet\"}],\"contour\":[{\"colorbar\":{\"outlinewidth\":0,\"ticks\":\"\"},\"colorscale\":[[0.0,\"#0d0887\"],[0.1111111111111111,\"#46039f\"],[0.2222222222222222,\"#7201a8\"],[0.3333333333333333,\"#9c179e\"],[0.4444444444444444,\"#bd3786\"],[0.5555555555555556,\"#d8576b\"],[0.6666666666666666,\"#ed7953\"],[0.7777777777777778,\"#fb9f3a\"],[0.8888888888888888,\"#fdca26\"],[1.0,\"#f0f921\"]],\"type\":\"contour\"}],\"heatmapgl\":[{\"colorbar\":{\"outlinewidth\":0,\"ticks\":\"\"},\"colorscale\":[[0.0,\"#0d0887\"],[0.1111111111111111,\"#46039f\"],[0.2222222222222222,\"#7201a8\"],[0.3333333333333333,\"#9c179e\"],[0.4444444444444444,\"#bd3786\"],[0.5555555555555556,\"#d8576b\"],[0.6666666666666666,\"#ed7953\"],[0.7777777777777778,\"#fb9f3a\"],[0.8888888888888888,\"#fdca26\"],[1.0,\"#f0f921\"]],\"type\":\"heatmapgl\"}],\"heatmap\":[{\"colorbar\":{\"outlinewidth\":0,\"ticks\":\"\"},\"colorscale\":[[0.0,\"#0d0887\"],[0.1111111111111111,\"#46039f\"],[0.2222222222222222,\"#7201a8\"],[0.3333333333333333,\"#9c179e\"],[0.4444444444444444,\"#bd3786\"],[0.5555555555555556,\"#d8576b\"],[0.6666666666666666,\"#ed7953\"],[0.7777777777777778,\"#fb9f3a\"],[0.8888888888888888,\"#fdca26\"],[1.0,\"#f0f921\"]],\"type\":\"heatmap\"}],\"histogram2dcontour\":[{\"colorbar\":{\"outlinewidth\":0,\"ticks\":\"\"},\"colorscale\":[[0.0,\"#0d0887\"],[0.1111111111111111,\"#46039f\"],[0.2222222222222222,\"#7201a8\"],[0.3333333333333333,\"#9c179e\"],[0.4444444444444444,\"#bd3786\"],[0.5555555555555556,\"#d8576b\"],[0.6666666666666666,\"#ed7953\"],[0.7777777777777778,\"#fb9f3a\"],[0.8888888888888888,\"#fdca26\"],[1.0,\"#f0f921\"]],\"type\":\"histogram2dcontour\"}],\"histogram2d\":[{\"colorbar\":{\"outlinewidth\":0,\"ticks\":\"\"},\"colorscale\":[[0.0,\"#0d0887\"],[0.1111111111111111,\"#46039f\"],[0.2222222222222222,\"#7201a8\"],[0.3333333333333333,\"#9c179e\"],[0.4444444444444444,\"#bd3786\"],[0.5555555555555556,\"#d8576b\"],[0.6666666666666666,\"#ed7953\"],[0.7777777777777778,\"#fb9f3a\"],[0.8888888888888888,\"#fdca26\"],[1.0,\"#f0f921\"]],\"type\":\"histogram2d\"}],\"histogram\":[{\"marker\":{\"pattern\":{\"fillmode\":\"overlay\",\"size\":10,\"solidity\":0.2}},\"type\":\"histogram\"}],\"mesh3d\":[{\"colorbar\":{\"outlinewidth\":0,\"ticks\":\"\"},\"type\":\"mesh3d\"}],\"parcoords\":[{\"line\":{\"colorbar\":{\"outlinewidth\":0,\"ticks\":\"\"}},\"type\":\"parcoords\"}],\"pie\":[{\"automargin\":true,\"type\":\"pie\"}],\"scatter3d\":[{\"line\":{\"colorbar\":{\"outlinewidth\":0,\"ticks\":\"\"}},\"marker\":{\"colorbar\":{\"outlinewidth\":0,\"ticks\":\"\"}},\"type\":\"scatter3d\"}],\"scattercarpet\":[{\"marker\":{\"colorbar\":{\"outlinewidth\":0,\"ticks\":\"\"}},\"type\":\"scattercarpet\"}],\"scattergeo\":[{\"marker\":{\"colorbar\":{\"outlinewidth\":0,\"ticks\":\"\"}},\"type\":\"scattergeo\"}],\"scattergl\":[{\"marker\":{\"colorbar\":{\"outlinewidth\":0,\"ticks\":\"\"}},\"type\":\"scattergl\"}],\"scattermapbox\":[{\"marker\":{\"colorbar\":{\"outlinewidth\":0,\"ticks\":\"\"}},\"type\":\"scattermapbox\"}],\"scatterpolargl\":[{\"marker\":{\"colorbar\":{\"outlinewidth\":0,\"ticks\":\"\"}},\"type\":\"scatterpolargl\"}],\"scatterpolar\":[{\"marker\":{\"colorbar\":{\"outlinewidth\":0,\"ticks\":\"\"}},\"type\":\"scatterpolar\"}],\"scatter\":[{\"fillpattern\":{\"fillmode\":\"overlay\",\"size\":10,\"solidity\":0.2},\"type\":\"scatter\"}],\"scatterternary\":[{\"marker\":{\"colorbar\":{\"outlinewidth\":0,\"ticks\":\"\"}},\"type\":\"scatterternary\"}],\"surface\":[{\"colorbar\":{\"outlinewidth\":0,\"ticks\":\"\"},\"colorscale\":[[0.0,\"#0d0887\"],[0.1111111111111111,\"#46039f\"],[0.2222222222222222,\"#7201a8\"],[0.3333333333333333,\"#9c179e\"],[0.4444444444444444,\"#bd3786\"],[0.5555555555555556,\"#d8576b\"],[0.6666666666666666,\"#ed7953\"],[0.7777777777777778,\"#fb9f3a\"],[0.8888888888888888,\"#fdca26\"],[1.0,\"#f0f921\"]],\"type\":\"surface\"}],\"table\":[{\"cells\":{\"fill\":{\"color\":\"#EBF0F8\"},\"line\":{\"color\":\"white\"}},\"header\":{\"fill\":{\"color\":\"#C8D4E3\"},\"line\":{\"color\":\"white\"}},\"type\":\"table\"}]},\"layout\":{\"annotationdefaults\":{\"arrowcolor\":\"#2a3f5f\",\"arrowhead\":0,\"arrowwidth\":1},\"autotypenumbers\":\"strict\",\"coloraxis\":{\"colorbar\":{\"outlinewidth\":0,\"ticks\":\"\"}},\"colorscale\":{\"diverging\":[[0,\"#8e0152\"],[0.1,\"#c51b7d\"],[0.2,\"#de77ae\"],[0.3,\"#f1b6da\"],[0.4,\"#fde0ef\"],[0.5,\"#f7f7f7\"],[0.6,\"#e6f5d0\"],[0.7,\"#b8e186\"],[0.8,\"#7fbc41\"],[0.9,\"#4d9221\"],[1,\"#276419\"]],\"sequential\":[[0.0,\"#0d0887\"],[0.1111111111111111,\"#46039f\"],[0.2222222222222222,\"#7201a8\"],[0.3333333333333333,\"#9c179e\"],[0.4444444444444444,\"#bd3786\"],[0.5555555555555556,\"#d8576b\"],[0.6666666666666666,\"#ed7953\"],[0.7777777777777778,\"#fb9f3a\"],[0.8888888888888888,\"#fdca26\"],[1.0,\"#f0f921\"]],\"sequentialminus\":[[0.0,\"#0d0887\"],[0.1111111111111111,\"#46039f\"],[0.2222222222222222,\"#7201a8\"],[0.3333333333333333,\"#9c179e\"],[0.4444444444444444,\"#bd3786\"],[0.5555555555555556,\"#d8576b\"],[0.6666666666666666,\"#ed7953\"],[0.7777777777777778,\"#fb9f3a\"],[0.8888888888888888,\"#fdca26\"],[1.0,\"#f0f921\"]]},\"colorway\":[\"#636efa\",\"#EF553B\",\"#00cc96\",\"#ab63fa\",\"#FFA15A\",\"#19d3f3\",\"#FF6692\",\"#B6E880\",\"#FF97FF\",\"#FECB52\"],\"font\":{\"color\":\"#2a3f5f\"},\"geo\":{\"bgcolor\":\"white\",\"lakecolor\":\"white\",\"landcolor\":\"white\",\"showlakes\":true,\"showland\":true,\"subunitcolor\":\"#C8D4E3\"},\"hoverlabel\":{\"align\":\"left\"},\"hovermode\":\"closest\",\"mapbox\":{\"style\":\"light\"},\"paper_bgcolor\":\"white\",\"plot_bgcolor\":\"white\",\"polar\":{\"angularaxis\":{\"gridcolor\":\"#EBF0F8\",\"linecolor\":\"#EBF0F8\",\"ticks\":\"\"},\"bgcolor\":\"white\",\"radialaxis\":{\"gridcolor\":\"#EBF0F8\",\"linecolor\":\"#EBF0F8\",\"ticks\":\"\"}},\"scene\":{\"xaxis\":{\"backgroundcolor\":\"white\",\"gridcolor\":\"#DFE8F3\",\"gridwidth\":2,\"linecolor\":\"#EBF0F8\",\"showbackground\":true,\"ticks\":\"\",\"zerolinecolor\":\"#EBF0F8\"},\"yaxis\":{\"backgroundcolor\":\"white\",\"gridcolor\":\"#DFE8F3\",\"gridwidth\":2,\"linecolor\":\"#EBF0F8\",\"showbackground\":true,\"ticks\":\"\",\"zerolinecolor\":\"#EBF0F8\"},\"zaxis\":{\"backgroundcolor\":\"white\",\"gridcolor\":\"#DFE8F3\",\"gridwidth\":2,\"linecolor\":\"#EBF0F8\",\"showbackground\":true,\"ticks\":\"\",\"zerolinecolor\":\"#EBF0F8\"}},\"shapedefaults\":{\"line\":{\"color\":\"#2a3f5f\"}},\"ternary\":{\"aaxis\":{\"gridcolor\":\"#DFE8F3\",\"linecolor\":\"#A2B1C6\",\"ticks\":\"\"},\"baxis\":{\"gridcolor\":\"#DFE8F3\",\"linecolor\":\"#A2B1C6\",\"ticks\":\"\"},\"bgcolor\":\"white\",\"caxis\":{\"gridcolor\":\"#DFE8F3\",\"linecolor\":\"#A2B1C6\",\"ticks\":\"\"}},\"title\":{\"x\":0.05},\"xaxis\":{\"automargin\":true,\"gridcolor\":\"#EBF0F8\",\"linecolor\":\"#EBF0F8\",\"ticks\":\"\",\"title\":{\"standoff\":15},\"zerolinecolor\":\"#EBF0F8\",\"zerolinewidth\":2},\"yaxis\":{\"automargin\":true,\"gridcolor\":\"#EBF0F8\",\"linecolor\":\"#EBF0F8\",\"ticks\":\"\",\"title\":{\"standoff\":15},\"zerolinecolor\":\"#EBF0F8\",\"zerolinewidth\":2}}},\"yaxis\":{\"type\":\"category\",\"tickmode\":\"linear\"},\"title\":{\"text\":\"\\u003cb\\u003eFeature Importance for the xgb model\\u003c\\u002fb\\u003e\\u003cbr\\u003eCalculated using feature gain\"},\"width\":500,\"height\":500},                        {\"responsive\": true}                    ).then(function(){\n",
       "                            \n",
       "var gd = document.getElementById('17ccebe3-0c92-45c1-a159-ca83d2602085');\n",
       "var x = new MutationObserver(function (mutations, observer) {{\n",
       "        var display = window.getComputedStyle(gd).display;\n",
       "        if (!display || display === 'none') {{\n",
       "            console.log([gd, 'removed!']);\n",
       "            Plotly.purge(gd);\n",
       "            observer.disconnect();\n",
       "        }}\n",
       "}});\n",
       "\n",
       "// Listen for the removal of the full notebook cells\n",
       "var notebookContainer = gd.closest('#notebook-container');\n",
       "if (notebookContainer) {{\n",
       "    x.observe(notebookContainer, {childList: true});\n",
       "}}\n",
       "\n",
       "// Listen for the clearing of the current output cell\n",
       "var outputEl = gd.closest('.output');\n",
       "if (outputEl) {{\n",
       "    x.observe(outputEl, {childList: true});\n",
       "}}\n",
       "\n",
       "                        })                };                });            </script>        </div>"
      ]
     },
     "metadata": {},
     "output_type": "display_data"
    },
    {
     "name": "stdout",
     "output_type": "stream",
     "text": [
      "Accuracy Score:0.8766859344894027\n"
     ]
    },
    {
     "data": {
      "text/plain": [
       "1591"
      ]
     },
     "execution_count": 17,
     "metadata": {},
     "output_type": "execute_result"
    }
   ],
   "source": [
    "xgb_best = {\n",
    "    'learning_rate'   : 0.050609513550763256, \n",
    "    'max_depth'       : 4, \n",
    "    'min_child_weight': 8, \n",
    "    'gamma'           : 0.000577280415637595, \n",
    "    'subsample'       : 0.7309115689873373, \n",
    "    'colsample_bytree': 0.7157383187006658, \n",
    "    'lambda'          : 0.8253860980908846, \n",
    "    'alpha'           : 0.505765671772347,\n",
    "    'objective'       : 'multi:softprob',\n",
    "    'tree_method'     :'auto',\n",
    "    'eval_metric'     :'mlogloss',\n",
    "    'random_state'    : RANDOM,\n",
    "}\n",
    "xgb_params = {\n",
    "    'n_estimators'          : 5000,\n",
    "    'early_stopping_rounds' :75,\n",
    "}\n",
    "# train params\n",
    "xgb_params.update(xgb_best)\n",
    "\n",
    "# train\n",
    "xgb_model = XGBClassifier(**xgb_params)\n",
    "xgb_model.fit(X_train, y_train,  eval_set =[(X_train,y_train),(X_test,y_test)],verbose=0)\n",
    "\n",
    "# plot training metrics\n",
    "plot_training_metrics(xgb_model, 'xgb', 'mlogloss')\n",
    "\n",
    "# test on train data \n",
    "y_pred = xgb_model.predict(X_test)\n",
    "\n",
    "# plot feature importance\n",
    "plot_feature_importance(xgb_model,'xgb','gain',True,None)\n",
    "\n",
    "# accuracy\n",
    "acc = accuracy_score(y_test,y_pred)\n",
    "print(f\"Accuracy Score:{acc}\")\n",
    "\n",
    "# clear some memmory\n",
    "gc.collect()"
   ]
  },
  {
   "cell_type": "markdown",
   "id": "7eaf382b",
   "metadata": {
    "papermill": {
     "duration": 0.013913,
     "end_time": "2024-02-11T02:25:39.051381",
     "exception": false,
     "start_time": "2024-02-11T02:25:39.037468",
     "status": "completed"
    },
    "tags": []
   },
   "source": [
    "## Light GBM\n",
    "### LGBM Hyperparameter Tuning"
   ]
  },
  {
   "cell_type": "code",
   "execution_count": 18,
   "id": "dd236517",
   "metadata": {
    "execution": {
     "iopub.execute_input": "2024-02-11T02:25:39.083338Z",
     "iopub.status.busy": "2024-02-11T02:25:39.082877Z",
     "iopub.status.idle": "2024-02-11T02:25:39.094216Z",
     "shell.execute_reply": "2024-02-11T02:25:39.093214Z"
    },
    "papermill": {
     "duration": 0.030177,
     "end_time": "2024-02-11T02:25:39.096967",
     "exception": false,
     "start_time": "2024-02-11T02:25:39.066790",
     "status": "completed"
    },
    "tags": []
   },
   "outputs": [],
   "source": [
    "def objective(trial):\n",
    "    #LGB params to tune\n",
    "    params = {\n",
    "        'objective'           : 'multiclass',\n",
    "        'boosting_type'       : 'gbdt',\n",
    "        'random_state'        : RANDOM,\n",
    "        'n_estimators'        : 500,\n",
    "        'metric'              : \"multi_logloss\",\n",
    "        'num_class'           : 7,\n",
    "        \"verbosity\"           : -1,\n",
    "        'n_jobs'              : -1,\n",
    "        'learning_rate'       : trial.suggest_float('learning_rate', 0.01, 0.1),  \n",
    "        'max_depth'           : trial.suggest_int('max_depth',3, 20),\n",
    "        'min_child_samples'   : trial.suggest_int('min_child_samples',10,60),\n",
    "        'num_leaves'          : trial.suggest_int('num_leaves', 30, 100), \n",
    "        'subsample'           : trial.suggest_float('subsample', 0.3, 0.9), \n",
    "        'colsample_bytree'    : trial.suggest_float('colsample_bytree', 0.3, 0.9), \n",
    "        'reg_lambda'          : trial.suggest_float('reg_lambda', 0.1, 5),\n",
    "        'reg_alpha'           : trial.suggest_float('reg_alpha', 0.1, 5),\n",
    "        'bagging_freq'        : trial.suggest_int('bagging_freq',2,8),\n",
    "        'bagging_fraction'    : trial.suggest_float('bagging_fraction',0.3,0.9)\n",
    "    }\n",
    "\n",
    "    # model\n",
    "    lgb = LGBMClassifier(**params)\n",
    "\n",
    "    # use stratified kfold to evalute each set of model weights\n",
    "    skf= StratifiedKFold(n_splits=5, shuffle=True, random_state=RANDOM)\n",
    "\n",
    "    # Calculate the auc for each set of model weights\n",
    "    acc = cross_val_score(lgb, X_train, y_train, cv=skf, scoring='accuracy').mean()\n",
    "    \n",
    "    return acc\n",
    "\n",
    "\n",
    "# Optimize Hyperparameters\n",
    "# =====================================================================================================\n",
    "# create the study and run the optimization\n",
    "# study = optuna.create_study(direction='maximize', sampler=optuna.samplers.TPESampler(seed=RANDOM))\n",
    "# study.optimize(objective, n_trials=100)\n",
    "\n",
    "# # get the best weights from the optimization\n",
    "# lgb_best = study.best_params\n",
    "# print(study.best_value)\n",
    "# print(lgb_best)\n",
    "\n",
    "# # clear some memmory\n",
    "# gc.collect()"
   ]
  },
  {
   "cell_type": "code",
   "execution_count": 19,
   "id": "fb0b1832",
   "metadata": {
    "execution": {
     "iopub.execute_input": "2024-02-11T02:25:39.127451Z",
     "iopub.status.busy": "2024-02-11T02:25:39.126737Z",
     "iopub.status.idle": "2024-02-11T02:25:50.994187Z",
     "shell.execute_reply": "2024-02-11T02:25:50.993011Z"
    },
    "papermill": {
     "duration": 11.885231,
     "end_time": "2024-02-11T02:25:50.996608",
     "exception": false,
     "start_time": "2024-02-11T02:25:39.111377",
     "status": "completed"
    },
    "tags": []
   },
   "outputs": [
    {
     "data": {
      "text/html": [
       "<div>                            <div id=\"fda4968a-92b4-4797-8cd8-da893dd57d73\" class=\"plotly-graph-div\" style=\"height:400px; width:800px;\"></div>            <script type=\"text/javascript\">                require([\"plotly\"], function(Plotly) {                    window.PLOTLYENV=window.PLOTLYENV || {};                                    if (document.getElementById(\"fda4968a-92b4-4797-8cd8-da893dd57d73\")) {                    Plotly.newPlot(                        \"fda4968a-92b4-4797-8cd8-da893dd57d73\",                        [{\"line\":{\"color\":\"#53808D\",\"width\":2},\"name\":\"Training\",\"x\":[0,1,2,3,4,5,6,7,8,9,10,11,12,13,14,15,16,17,18,19,20,21,22,23,24,25,26,27,28,29,30,31,32,33,34,35,36,37,38,39,40,41,42,43,44,45,46,47,48,49,50,51,52,53,54,55,56,57,58,59,60,61,62,63,64,65,66,67,68,69,70,71,72,73,74,75,76,77,78,79,80,81,82,83,84,85,86,87,88,89,90,91,92,93,94,95,96,97,98,99,100,101,102,103,104,105,106,107,108,109,110,111,112,113,114,115,116,117,118,119,120,121,122,123,124,125,126,127,128,129,130,131,132,133,134,135,136,137,138,139,140,141,142,143,144,145,146,147,148,149,150,151,152,153,154,155,156,157,158,159,160,161,162,163,164,165,166,167,168,169,170,171,172,173,174,175,176,177,178,179,180,181,182,183,184,185,186,187,188,189,190,191,192,193,194,195,196,197,198,199,200,201,202,203,204,205,206,207,208,209,210,211,212,213,214,215,216,217,218,219,220,221,222,223,224,225,226,227,228,229,230,231,232,233,234,235,236,237,238,239,240,241,242,243,244,245,246,247,248,249,250,251,252,253,254,255,256,257,258,259,260,261,262,263,264,265,266,267,268,269,270,271,272,273,274,275,276,277,278,279,280,281,282,283,284,285,286,287,288,289,290,291,292,293,294],\"y\":[1.881480512413081,1.830890341289841,1.7817038154211966,1.7297713247560813,1.685654855556077,1.6399477460938323,1.5999749870921613,1.5593749677297906,1.5237270449869627,1.4930653830257905,1.4569210780928366,1.427006367268524,1.3977131837132364,1.365470958310769,1.3389608970493645,1.3127653887088302,1.2897355328146947,1.264353776796748,1.2414629992383561,1.219277727598587,1.1986916596914068,1.1756771745897723,1.1544251431145034,1.1329263241620517,1.1154742281452865,1.0954556121530767,1.0775092816211607,1.0571423613359285,1.0375828063593755,1.0210129023779084,1.0055684641592886,0.9903403980960028,0.9748513792204155,0.9580908413723944,0.9422192542196391,0.9268826530528892,0.9129215523229074,0.8994523039011592,0.884684111027369,0.8711548955910374,0.8575473733482296,0.8448477515895607,0.8324368516396362,0.8201000569191579,0.807707229530227,0.795252577994807,0.7834620929568394,0.7731364905048385,0.761953390836417,0.7522370728943679,0.7417625489458486,0.7314717546317764,0.7210679165728527,0.7117018687081804,0.7016237336723994,0.6919759755941995,0.6833987684539574,0.6744278714109245,0.6661925245300673,0.6591464376725557,0.6502158676691467,0.6421403941853852,0.6350165929180811,0.6268934118308596,0.6205936762999767,0.6136130860377803,0.6058067291483944,0.5994702194014904,0.5929581403238021,0.5861312900683535,0.578899660791555,0.5719326732355179,0.5651651615977651,0.5593213825298624,0.5532057557927637,0.5480759843498169,0.5427972180293156,0.5369153801353568,0.5319412719396563,0.5262345562715406,0.5210339821600436,0.5159878034367429,0.510293960157172,0.5050438092890915,0.4999494398365409,0.4953983165972752,0.49035102247682866,0.48564011047037686,0.481947485812991,0.4770741077013713,0.47253665982076276,0.46825584944955134,0.46398733555905575,0.4601599419707055,0.45604469246223717,0.4521842151090989,0.4491073342612322,0.4450076626171229,0.4413557713779157,0.4375895115555153,0.4335332040545433,0.43010482454929017,0.42651875334803574,0.423480968975454,0.4199331339513975,0.41634506386027853,0.41281779794068607,0.4096196895597594,0.40660951695947595,0.4034541314298403,0.40023424004399705,0.39708997800841483,0.39444074484437325,0.39133527086338976,0.38875824867161923,0.3862057687014998,0.3832407611368079,0.3804987606839407,0.37811536577254,0.3755296595405671,0.3728075757616906,0.37018659112306046,0.3678155491729341,0.365340854693418,0.36294595951435005,0.3608037629873685,0.35862131239216377,0.35631015162870205,0.35388542562681297,0.3517639182728356,0.34939452116654407,0.34736095910755793,0.34516360983990707,0.3430714692287352,0.34091441574232084,0.3388372553611124,0.33691282715389975,0.335132628677052,0.3331974753343534,0.3314696266628312,0.3294861800863715,0.32770635849430585,0.32585505694460454,0.32412929289028364,0.32235371278606034,0.3205883697304245,0.318832915756151,0.3171133510332887,0.31540485631047804,0.31376409963844715,0.3120001654851425,0.31042771039578126,0.3089514139698295,0.307403457067989,0.30589136359919245,0.3042775931308132,0.30293715794776394,0.3014907826614509,0.3000423025640747,0.29864070487338845,0.2972643682097725,0.2959143322283066,0.29456171167853457,0.29323468398174146,0.29183713932013566,0.2905507212382589,0.2893703161085836,0.28817464575903634,0.2869849938409854,0.2857265392633521,0.2845109636144961,0.2833985944138785,0.28214604032535934,0.281077983898312,0.27995078243920607,0.2788303004251461,0.27772472744061844,0.2764906141332715,0.2754027930467048,0.2743299647555066,0.27334018387994835,0.2723073469914806,0.2712463427856713,0.2700939753747659,0.26911865973118965,0.26818344291268414,0.26729540241090416,0.2663132443320813,0.265418540864118,0.26450658635491964,0.263518242374537,0.26252075089500204,0.2616741765537787,0.2607474773979724,0.25993029423429326,0.25901600279757414,0.25821580509727016,0.25728775412576305,0.25645694790687157,0.2556159407917109,0.25471319534966697,0.25384118182996923,0.253062896831007,0.2522379639664912,0.25148040806773525,0.25064389249966407,0.24988797106750654,0.24907031371401694,0.24826315108285077,0.24750523410277017,0.24674204945150827,0.24599903018262884,0.2452418759347245,0.24439875985750154,0.24356459742244604,0.2428469495615694,0.24214030293890731,0.24146270944015394,0.24072427096114277,0.24001858061488024,0.23939334744944193,0.23866279726688688,0.23794820786408474,0.23726754427951194,0.23655548227717532,0.235883819906934,0.23517008398848202,0.23455620608978625,0.23390434383600914,0.23330007810793083,0.23266727932913764,0.23206248463401624,0.23141830907303929,0.23081850005518753,0.23014158703613952,0.22951355544165497,0.22888837395139744,0.22824861356658735,0.22768912520063794,0.22709247358433463,0.22650890373091104,0.22598786168496354,0.2253847303055206,0.22483557156953046,0.22429648388140813,0.22375120142746296,0.22317866421143334,0.22271450184674607,0.22217166525766396,0.22161485056895375,0.22104641646444106,0.22054866884940294,0.2199653174579163,0.21948195898333464,0.21896675121902,0.21840777574257966,0.2179027558048799,0.21737916170942212,0.21683495227689714,0.21630776735612023,0.21575557455208877,0.21523032359628236,0.21469316892498905,0.2141737384940021,0.2136270796206302,0.21316566340933543,0.21270860752091783,0.2121676677399409,0.21170991160484273,0.21123585246546184,0.21077105583516914,0.21024475278756685,0.20973937233890289,0.20925118526049086,0.20880919622244745,0.20835754708328033,0.20786254449339428,0.2073790483341479,0.20690936025595966,0.20646242358719785,0.206054328825743,0.20559772187731348,0.2051176976797565,0.20466846495887245,0.20423591200333815,0.20376168750835336,0.20331875195226906,0.20288250472657285,0.2024278530608257,0.20200277570722988,0.20153010398182067,0.2011059256584411,0.20065073472738348,0.2001854206341087,0.19976347080387724],\"type\":\"scatter\"},{\"line\":{\"color\":\"#FC4C02\",\"width\":2},\"name\":\"Validation\",\"x\":[0,1,2,3,4,5,6,7,8,9,10,11,12,13,14,15,16,17,18,19,20,21,22,23,24,25,26,27,28,29,30,31,32,33,34,35,36,37,38,39,40,41,42,43,44,45,46,47,48,49,50,51,52,53,54,55,56,57,58,59,60,61,62,63,64,65,66,67,68,69,70,71,72,73,74,75,76,77,78,79,80,81,82,83,84,85,86,87,88,89,90,91,92,93,94,95,96,97,98,99,100,101,102,103,104,105,106,107,108,109,110,111,112,113,114,115,116,117,118,119,120,121,122,123,124,125,126,127,128,129,130,131,132,133,134,135,136,137,138,139,140,141,142,143,144,145,146,147,148,149,150,151,152,153,154,155,156,157,158,159,160,161,162,163,164,165,166,167,168,169,170,171,172,173,174,175,176,177,178,179,180,181,182,183,184,185,186,187,188,189,190,191,192,193,194,195,196,197,198,199,200,201,202,203,204,205,206,207,208,209,210,211,212,213,214,215,216,217,218,219,220,221,222,223,224,225,226,227,228,229,230,231,232,233,234,235,236,237,238,239,240,241,242,243,244,245,246,247,248,249,250,251,252,253,254,255,256,257,258,259,260,261,262,263,264,265,266,267,268,269,270,271,272,273,274,275,276,277,278,279,280,281,282,283,284,285,286,287,288,289,290,291,292,293,294],\"y\":[1.8867960693995767,1.837283238647609,1.7883867171450354,1.7361413984497085,1.694897639142013,1.6500739992732691,1.6103605980931937,1.5704682347964347,1.5389579267070645,1.5093830596490179,1.4730979928529637,1.4466968747612965,1.417806938630807,1.3868151871043974,1.3626167901498236,1.3385050371050902,1.3158056154349187,1.292978552040674,1.2725829819137757,1.250779667461012,1.2304229192944127,1.2099203399406462,1.190583720448774,1.1708730140328412,1.155033271234753,1.1354653897717202,1.117908029285843,1.0974923724667216,1.078056260108434,1.0612180883671152,1.0463273662586308,1.0316013836517584,1.0160916177169168,0.9996665668326332,0.9852900217585038,0.9702303564584257,0.9565929118999382,0.9430475700352093,0.9283626173229741,0.9152669916961891,0.9016490234341049,0.8891154526419662,0.8770546411050673,0.8644781537933613,0.8521668437391245,0.8397670352719687,0.828011576286659,0.8175709010389008,0.8074903495150544,0.7985457221014342,0.7879977504188321,0.7774866759209793,0.7668787683217765,0.7573933735172013,0.7486499064810158,0.7392933398542212,0.7314976852364852,0.7225995118257166,0.7153411348025263,0.7087777326747015,0.7005292654301968,0.6938980748690027,0.6875238769227807,0.6802835261705718,0.6752361656522043,0.6680980872873072,0.6611336109591112,0.6559084864478721,0.6492099169088061,0.6423268111912925,0.6349250506012415,0.6277611519046354,0.6208323138034137,0.6152375457057907,0.6091498316380531,0.6038348583086265,0.5993417456444141,0.5934245488804629,0.5883079715319213,0.5833836138610076,0.5790428630554345,0.5745287255546262,0.5691455078862171,0.5646693810389907,0.5603616081260097,0.5567468902457121,0.5516305545045993,0.5471950011876359,0.5443870923548453,0.5394499231493995,0.5348532067868272,0.5304410124919279,0.5270986324295877,0.5240765669361285,0.5207274980973094,0.5169207935229935,0.5141049441256095,0.5099689811842872,0.5068579840217058,0.5030537401014307,0.49886273596540887,0.49618687326301547,0.4924458124791999,0.4896976461526517,0.48594202766443767,0.4821303988696032,0.4783051596417175,0.47493727552514103,0.47295038736200135,0.4696715002450756,0.4663871813767954,0.4632161720031519,0.4606939881589449,0.45825773850654294,0.45555696736084794,0.4533313507772393,0.45025980759224743,0.44817329547343315,0.44652005994113864,0.444580250469404,0.44244729591757315,0.4395724000108778,0.43718193686479534,0.4352373980410088,0.4336281785166291,0.4315861210883725,0.42945261595459094,0.4271256594873123,0.42529837581892305,0.42317146884186274,0.42076912888954937,0.41944579330466336,0.41737801627871485,0.4161653267022631,0.414888023805722,0.4137807224991783,0.41161628455550153,0.4103619317594023,0.4089280160100535,0.4076902995713877,0.40620412234189446,0.4052003085176753,0.4036974833817569,0.4020882890026437,0.40066247286928763,0.3992429557980082,0.3980923030744257,0.3962701422525378,0.3952979153040405,0.39436594632505906,0.39335390438751905,0.3926697431997633,0.3917100529394358,0.3904117312777639,0.38961195361785134,0.38860773494733714,0.3881732583911601,0.3869040140465071,0.38552343304995734,0.3840237044372103,0.3835742155309481,0.3828013959210089,0.3823727393692388,0.3815712248373375,0.3802988241674962,0.3789956970964456,0.37864490306162746,0.3782230085427001,0.3770118138164189,0.3759785335015809,0.3752472822292666,0.37420998668549976,0.37323731706682955,0.37290583761297436,0.37248481653178483,0.3713814511429021,0.3708275343424691,0.3699933816311018,0.36932272034303226,0.3691125070036624,0.36859181983795186,0.36761220170914594,0.36712595789351105,0.3661240780758133,0.36560089364513576,0.3650876452084133,0.36441216594152925,0.36357203690766376,0.3632734918579456,0.36313476420879187,0.36245677369475104,0.361539393871926,0.36073485961119756,0.36010214429305903,0.3595443789209709,0.3591341700978508,0.3590536969422519,0.358275121086371,0.3576696970596313,0.3569181505959868,0.3560759357784327,0.3559052190506566,0.3551418604801259,0.35471862262704856,0.3547077173697834,0.35441357500986603,0.3541523168338579,0.3534272766602972,0.3532498356227816,0.3530867455131235,0.3528902685522141,0.352882846468271,0.3521938003922537,0.35158218416702586,0.35116090991608606,0.3511494908856243,0.350516096630932,0.35005114373726287,0.3504196187628545,0.3500769975480856,0.34950055204767894,0.3495961312886457,0.34978085176984103,0.35010578971813616,0.3501689597193073,0.34992760015516855,0.3496228672814611,0.34917060945976375,0.3487541177574068,0.3491172019780398,0.34877369658924606,0.348769899760229,0.348792072752238,0.34890436740767267,0.3487891283865071,0.3487833928952898,0.34829305022879525,0.3481668162990597,0.34824118995226755,0.34829633046638003,0.34790430660645627,0.34762361317265666,0.3470687365929471,0.3470236213457576,0.3466063914425309,0.3468857692268036,0.3468886976133625,0.3471232460279627,0.34705970242211553,0.34748174576976487,0.34777480723203863,0.34816476354001297,0.34827244367799576,0.3484331962898705,0.34854452021998483,0.349025172390445,0.3488311618947526,0.34911026568589826,0.3493853957614121,0.34934719595794267,0.3491074561057267,0.3491073531716456,0.3490014596392708,0.3488185656185942,0.34910127534797325,0.34951865742768307,0.34983208816363603,0.3501982858122455,0.35024702176881656,0.3500680506888043,0.3497819493183447,0.3495822418848183,0.34977165198515703,0.34949890699266833,0.34935619913667526,0.3492176357216392,0.3489784316138937,0.3490538283624749,0.34935436779846535,0.3496493783423999,0.3499869326302872,0.34977779096074885,0.3495769504068148,0.3494547969101529,0.3492446277103299,0.34898720323730115,0.3492735182171868,0.3490858242955638,0.34912213037281176,0.3489960376575835,0.34906584820482456,0.3491160499557958,0.3492523755667813,0.3490160062334852,0.34918887595855413],\"type\":\"scatter\"}],                        {\"template\":{\"data\":{\"barpolar\":[{\"marker\":{\"line\":{\"color\":\"white\",\"width\":0.5},\"pattern\":{\"fillmode\":\"overlay\",\"size\":10,\"solidity\":0.2}},\"type\":\"barpolar\"}],\"bar\":[{\"error_x\":{\"color\":\"#2a3f5f\"},\"error_y\":{\"color\":\"#2a3f5f\"},\"marker\":{\"line\":{\"color\":\"white\",\"width\":0.5},\"pattern\":{\"fillmode\":\"overlay\",\"size\":10,\"solidity\":0.2}},\"type\":\"bar\"}],\"carpet\":[{\"aaxis\":{\"endlinecolor\":\"#2a3f5f\",\"gridcolor\":\"#C8D4E3\",\"linecolor\":\"#C8D4E3\",\"minorgridcolor\":\"#C8D4E3\",\"startlinecolor\":\"#2a3f5f\"},\"baxis\":{\"endlinecolor\":\"#2a3f5f\",\"gridcolor\":\"#C8D4E3\",\"linecolor\":\"#C8D4E3\",\"minorgridcolor\":\"#C8D4E3\",\"startlinecolor\":\"#2a3f5f\"},\"type\":\"carpet\"}],\"choropleth\":[{\"colorbar\":{\"outlinewidth\":0,\"ticks\":\"\"},\"type\":\"choropleth\"}],\"contourcarpet\":[{\"colorbar\":{\"outlinewidth\":0,\"ticks\":\"\"},\"type\":\"contourcarpet\"}],\"contour\":[{\"colorbar\":{\"outlinewidth\":0,\"ticks\":\"\"},\"colorscale\":[[0.0,\"#0d0887\"],[0.1111111111111111,\"#46039f\"],[0.2222222222222222,\"#7201a8\"],[0.3333333333333333,\"#9c179e\"],[0.4444444444444444,\"#bd3786\"],[0.5555555555555556,\"#d8576b\"],[0.6666666666666666,\"#ed7953\"],[0.7777777777777778,\"#fb9f3a\"],[0.8888888888888888,\"#fdca26\"],[1.0,\"#f0f921\"]],\"type\":\"contour\"}],\"heatmapgl\":[{\"colorbar\":{\"outlinewidth\":0,\"ticks\":\"\"},\"colorscale\":[[0.0,\"#0d0887\"],[0.1111111111111111,\"#46039f\"],[0.2222222222222222,\"#7201a8\"],[0.3333333333333333,\"#9c179e\"],[0.4444444444444444,\"#bd3786\"],[0.5555555555555556,\"#d8576b\"],[0.6666666666666666,\"#ed7953\"],[0.7777777777777778,\"#fb9f3a\"],[0.8888888888888888,\"#fdca26\"],[1.0,\"#f0f921\"]],\"type\":\"heatmapgl\"}],\"heatmap\":[{\"colorbar\":{\"outlinewidth\":0,\"ticks\":\"\"},\"colorscale\":[[0.0,\"#0d0887\"],[0.1111111111111111,\"#46039f\"],[0.2222222222222222,\"#7201a8\"],[0.3333333333333333,\"#9c179e\"],[0.4444444444444444,\"#bd3786\"],[0.5555555555555556,\"#d8576b\"],[0.6666666666666666,\"#ed7953\"],[0.7777777777777778,\"#fb9f3a\"],[0.8888888888888888,\"#fdca26\"],[1.0,\"#f0f921\"]],\"type\":\"heatmap\"}],\"histogram2dcontour\":[{\"colorbar\":{\"outlinewidth\":0,\"ticks\":\"\"},\"colorscale\":[[0.0,\"#0d0887\"],[0.1111111111111111,\"#46039f\"],[0.2222222222222222,\"#7201a8\"],[0.3333333333333333,\"#9c179e\"],[0.4444444444444444,\"#bd3786\"],[0.5555555555555556,\"#d8576b\"],[0.6666666666666666,\"#ed7953\"],[0.7777777777777778,\"#fb9f3a\"],[0.8888888888888888,\"#fdca26\"],[1.0,\"#f0f921\"]],\"type\":\"histogram2dcontour\"}],\"histogram2d\":[{\"colorbar\":{\"outlinewidth\":0,\"ticks\":\"\"},\"colorscale\":[[0.0,\"#0d0887\"],[0.1111111111111111,\"#46039f\"],[0.2222222222222222,\"#7201a8\"],[0.3333333333333333,\"#9c179e\"],[0.4444444444444444,\"#bd3786\"],[0.5555555555555556,\"#d8576b\"],[0.6666666666666666,\"#ed7953\"],[0.7777777777777778,\"#fb9f3a\"],[0.8888888888888888,\"#fdca26\"],[1.0,\"#f0f921\"]],\"type\":\"histogram2d\"}],\"histogram\":[{\"marker\":{\"pattern\":{\"fillmode\":\"overlay\",\"size\":10,\"solidity\":0.2}},\"type\":\"histogram\"}],\"mesh3d\":[{\"colorbar\":{\"outlinewidth\":0,\"ticks\":\"\"},\"type\":\"mesh3d\"}],\"parcoords\":[{\"line\":{\"colorbar\":{\"outlinewidth\":0,\"ticks\":\"\"}},\"type\":\"parcoords\"}],\"pie\":[{\"automargin\":true,\"type\":\"pie\"}],\"scatter3d\":[{\"line\":{\"colorbar\":{\"outlinewidth\":0,\"ticks\":\"\"}},\"marker\":{\"colorbar\":{\"outlinewidth\":0,\"ticks\":\"\"}},\"type\":\"scatter3d\"}],\"scattercarpet\":[{\"marker\":{\"colorbar\":{\"outlinewidth\":0,\"ticks\":\"\"}},\"type\":\"scattercarpet\"}],\"scattergeo\":[{\"marker\":{\"colorbar\":{\"outlinewidth\":0,\"ticks\":\"\"}},\"type\":\"scattergeo\"}],\"scattergl\":[{\"marker\":{\"colorbar\":{\"outlinewidth\":0,\"ticks\":\"\"}},\"type\":\"scattergl\"}],\"scattermapbox\":[{\"marker\":{\"colorbar\":{\"outlinewidth\":0,\"ticks\":\"\"}},\"type\":\"scattermapbox\"}],\"scatterpolargl\":[{\"marker\":{\"colorbar\":{\"outlinewidth\":0,\"ticks\":\"\"}},\"type\":\"scatterpolargl\"}],\"scatterpolar\":[{\"marker\":{\"colorbar\":{\"outlinewidth\":0,\"ticks\":\"\"}},\"type\":\"scatterpolar\"}],\"scatter\":[{\"fillpattern\":{\"fillmode\":\"overlay\",\"size\":10,\"solidity\":0.2},\"type\":\"scatter\"}],\"scatterternary\":[{\"marker\":{\"colorbar\":{\"outlinewidth\":0,\"ticks\":\"\"}},\"type\":\"scatterternary\"}],\"surface\":[{\"colorbar\":{\"outlinewidth\":0,\"ticks\":\"\"},\"colorscale\":[[0.0,\"#0d0887\"],[0.1111111111111111,\"#46039f\"],[0.2222222222222222,\"#7201a8\"],[0.3333333333333333,\"#9c179e\"],[0.4444444444444444,\"#bd3786\"],[0.5555555555555556,\"#d8576b\"],[0.6666666666666666,\"#ed7953\"],[0.7777777777777778,\"#fb9f3a\"],[0.8888888888888888,\"#fdca26\"],[1.0,\"#f0f921\"]],\"type\":\"surface\"}],\"table\":[{\"cells\":{\"fill\":{\"color\":\"#EBF0F8\"},\"line\":{\"color\":\"white\"}},\"header\":{\"fill\":{\"color\":\"#C8D4E3\"},\"line\":{\"color\":\"white\"}},\"type\":\"table\"}]},\"layout\":{\"annotationdefaults\":{\"arrowcolor\":\"#2a3f5f\",\"arrowhead\":0,\"arrowwidth\":1},\"autotypenumbers\":\"strict\",\"coloraxis\":{\"colorbar\":{\"outlinewidth\":0,\"ticks\":\"\"}},\"colorscale\":{\"diverging\":[[0,\"#8e0152\"],[0.1,\"#c51b7d\"],[0.2,\"#de77ae\"],[0.3,\"#f1b6da\"],[0.4,\"#fde0ef\"],[0.5,\"#f7f7f7\"],[0.6,\"#e6f5d0\"],[0.7,\"#b8e186\"],[0.8,\"#7fbc41\"],[0.9,\"#4d9221\"],[1,\"#276419\"]],\"sequential\":[[0.0,\"#0d0887\"],[0.1111111111111111,\"#46039f\"],[0.2222222222222222,\"#7201a8\"],[0.3333333333333333,\"#9c179e\"],[0.4444444444444444,\"#bd3786\"],[0.5555555555555556,\"#d8576b\"],[0.6666666666666666,\"#ed7953\"],[0.7777777777777778,\"#fb9f3a\"],[0.8888888888888888,\"#fdca26\"],[1.0,\"#f0f921\"]],\"sequentialminus\":[[0.0,\"#0d0887\"],[0.1111111111111111,\"#46039f\"],[0.2222222222222222,\"#7201a8\"],[0.3333333333333333,\"#9c179e\"],[0.4444444444444444,\"#bd3786\"],[0.5555555555555556,\"#d8576b\"],[0.6666666666666666,\"#ed7953\"],[0.7777777777777778,\"#fb9f3a\"],[0.8888888888888888,\"#fdca26\"],[1.0,\"#f0f921\"]]},\"colorway\":[\"#636efa\",\"#EF553B\",\"#00cc96\",\"#ab63fa\",\"#FFA15A\",\"#19d3f3\",\"#FF6692\",\"#B6E880\",\"#FF97FF\",\"#FECB52\"],\"font\":{\"color\":\"#2a3f5f\"},\"geo\":{\"bgcolor\":\"white\",\"lakecolor\":\"white\",\"landcolor\":\"white\",\"showlakes\":true,\"showland\":true,\"subunitcolor\":\"#C8D4E3\"},\"hoverlabel\":{\"align\":\"left\"},\"hovermode\":\"closest\",\"mapbox\":{\"style\":\"light\"},\"paper_bgcolor\":\"white\",\"plot_bgcolor\":\"white\",\"polar\":{\"angularaxis\":{\"gridcolor\":\"#EBF0F8\",\"linecolor\":\"#EBF0F8\",\"ticks\":\"\"},\"bgcolor\":\"white\",\"radialaxis\":{\"gridcolor\":\"#EBF0F8\",\"linecolor\":\"#EBF0F8\",\"ticks\":\"\"}},\"scene\":{\"xaxis\":{\"backgroundcolor\":\"white\",\"gridcolor\":\"#DFE8F3\",\"gridwidth\":2,\"linecolor\":\"#EBF0F8\",\"showbackground\":true,\"ticks\":\"\",\"zerolinecolor\":\"#EBF0F8\"},\"yaxis\":{\"backgroundcolor\":\"white\",\"gridcolor\":\"#DFE8F3\",\"gridwidth\":2,\"linecolor\":\"#EBF0F8\",\"showbackground\":true,\"ticks\":\"\",\"zerolinecolor\":\"#EBF0F8\"},\"zaxis\":{\"backgroundcolor\":\"white\",\"gridcolor\":\"#DFE8F3\",\"gridwidth\":2,\"linecolor\":\"#EBF0F8\",\"showbackground\":true,\"ticks\":\"\",\"zerolinecolor\":\"#EBF0F8\"}},\"shapedefaults\":{\"line\":{\"color\":\"#2a3f5f\"}},\"ternary\":{\"aaxis\":{\"gridcolor\":\"#DFE8F3\",\"linecolor\":\"#A2B1C6\",\"ticks\":\"\"},\"baxis\":{\"gridcolor\":\"#DFE8F3\",\"linecolor\":\"#A2B1C6\",\"ticks\":\"\"},\"bgcolor\":\"white\",\"caxis\":{\"gridcolor\":\"#DFE8F3\",\"linecolor\":\"#A2B1C6\",\"ticks\":\"\"}},\"title\":{\"x\":0.05},\"xaxis\":{\"automargin\":true,\"gridcolor\":\"#EBF0F8\",\"linecolor\":\"#EBF0F8\",\"ticks\":\"\",\"title\":{\"standoff\":15},\"zerolinecolor\":\"#EBF0F8\",\"zerolinewidth\":2},\"yaxis\":{\"automargin\":true,\"gridcolor\":\"#EBF0F8\",\"linecolor\":\"#EBF0F8\",\"ticks\":\"\",\"title\":{\"standoff\":15},\"zerolinecolor\":\"#EBF0F8\",\"zerolinewidth\":2}}},\"title\":{\"text\":\"\\u003cb\\u003eTraining Metrics: MULTI_LOGLOSS\\u003c\\u002fb\\u003e\"},\"width\":800,\"height\":400},                        {\"responsive\": true}                    ).then(function(){\n",
       "                            \n",
       "var gd = document.getElementById('fda4968a-92b4-4797-8cd8-da893dd57d73');\n",
       "var x = new MutationObserver(function (mutations, observer) {{\n",
       "        var display = window.getComputedStyle(gd).display;\n",
       "        if (!display || display === 'none') {{\n",
       "            console.log([gd, 'removed!']);\n",
       "            Plotly.purge(gd);\n",
       "            observer.disconnect();\n",
       "        }}\n",
       "}});\n",
       "\n",
       "// Listen for the removal of the full notebook cells\n",
       "var notebookContainer = gd.closest('#notebook-container');\n",
       "if (notebookContainer) {{\n",
       "    x.observe(notebookContainer, {childList: true});\n",
       "}}\n",
       "\n",
       "// Listen for the clearing of the current output cell\n",
       "var outputEl = gd.closest('.output');\n",
       "if (outputEl) {{\n",
       "    x.observe(outputEl, {childList: true});\n",
       "}}\n",
       "\n",
       "                        })                };                });            </script>        </div>"
      ]
     },
     "metadata": {},
     "output_type": "display_data"
    },
    {
     "data": {
      "text/html": [
       "<div>                            <div id=\"08a75166-49d6-4f37-92d3-66fdb5c08f4c\" class=\"plotly-graph-div\" style=\"height:500px; width:500px;\"></div>            <script type=\"text/javascript\">                require([\"plotly\"], function(Plotly) {                    window.PLOTLYENV=window.PLOTLYENV || {};                                    if (document.getElementById(\"08a75166-49d6-4f37-92d3-66fdb5c08f4c\")) {                    Plotly.newPlot(                        \"08a75166-49d6-4f37-92d3-66fdb5c08f4c\",                        [{\"marker\":{\"color\":\"#53808D\"},\"name\":\"Importance\",\"orientation\":\"h\",\"x\":[0.0,0.0,0.000324485690181063,0.0010599865879248058,0.005732580526532113,0.007225214701365003,0.008328466047980617,0.0102970125684124,0.011248837259610185,0.014666753196184048,0.019036493823955697,0.021589114586713393,0.02424989724619811,0.04774266121530707,0.051225474289917146,0.05544378826227097,0.05827762995651892,0.06100330975403985,0.09918445929867827,0.11527894953165899,0.11761524650096264,0.13145996928202133,0.1390096696735674],\"y\":[\"cat__MTRANS_motorbike\",\"cat__MTRANS_bike\",\"remainder__SMOKE\",\"cat__MTRANS_walking\",\"remainder__SCC\",\"cat__MTRANS_public_transportation\",\"cat__MTRANS_automobile\",\"cat__Gender_male\",\"remainder__FAVC\",\"remainder__FamiliyHistory\",\"cat__Gender_female\",\"ord__CAEC\",\"ord__CALC\",\"num__NCP\",\"num__FCVC\",\"num__TUE\",\"num__CH2O\",\"num__FAF\",\"num__risk_factor\",\"num__Age\",\"num__Height\",\"num__BMI\",\"num__Weight\"],\"type\":\"bar\"}],                        {\"template\":{\"data\":{\"barpolar\":[{\"marker\":{\"line\":{\"color\":\"white\",\"width\":0.5},\"pattern\":{\"fillmode\":\"overlay\",\"size\":10,\"solidity\":0.2}},\"type\":\"barpolar\"}],\"bar\":[{\"error_x\":{\"color\":\"#2a3f5f\"},\"error_y\":{\"color\":\"#2a3f5f\"},\"marker\":{\"line\":{\"color\":\"white\",\"width\":0.5},\"pattern\":{\"fillmode\":\"overlay\",\"size\":10,\"solidity\":0.2}},\"type\":\"bar\"}],\"carpet\":[{\"aaxis\":{\"endlinecolor\":\"#2a3f5f\",\"gridcolor\":\"#C8D4E3\",\"linecolor\":\"#C8D4E3\",\"minorgridcolor\":\"#C8D4E3\",\"startlinecolor\":\"#2a3f5f\"},\"baxis\":{\"endlinecolor\":\"#2a3f5f\",\"gridcolor\":\"#C8D4E3\",\"linecolor\":\"#C8D4E3\",\"minorgridcolor\":\"#C8D4E3\",\"startlinecolor\":\"#2a3f5f\"},\"type\":\"carpet\"}],\"choropleth\":[{\"colorbar\":{\"outlinewidth\":0,\"ticks\":\"\"},\"type\":\"choropleth\"}],\"contourcarpet\":[{\"colorbar\":{\"outlinewidth\":0,\"ticks\":\"\"},\"type\":\"contourcarpet\"}],\"contour\":[{\"colorbar\":{\"outlinewidth\":0,\"ticks\":\"\"},\"colorscale\":[[0.0,\"#0d0887\"],[0.1111111111111111,\"#46039f\"],[0.2222222222222222,\"#7201a8\"],[0.3333333333333333,\"#9c179e\"],[0.4444444444444444,\"#bd3786\"],[0.5555555555555556,\"#d8576b\"],[0.6666666666666666,\"#ed7953\"],[0.7777777777777778,\"#fb9f3a\"],[0.8888888888888888,\"#fdca26\"],[1.0,\"#f0f921\"]],\"type\":\"contour\"}],\"heatmapgl\":[{\"colorbar\":{\"outlinewidth\":0,\"ticks\":\"\"},\"colorscale\":[[0.0,\"#0d0887\"],[0.1111111111111111,\"#46039f\"],[0.2222222222222222,\"#7201a8\"],[0.3333333333333333,\"#9c179e\"],[0.4444444444444444,\"#bd3786\"],[0.5555555555555556,\"#d8576b\"],[0.6666666666666666,\"#ed7953\"],[0.7777777777777778,\"#fb9f3a\"],[0.8888888888888888,\"#fdca26\"],[1.0,\"#f0f921\"]],\"type\":\"heatmapgl\"}],\"heatmap\":[{\"colorbar\":{\"outlinewidth\":0,\"ticks\":\"\"},\"colorscale\":[[0.0,\"#0d0887\"],[0.1111111111111111,\"#46039f\"],[0.2222222222222222,\"#7201a8\"],[0.3333333333333333,\"#9c179e\"],[0.4444444444444444,\"#bd3786\"],[0.5555555555555556,\"#d8576b\"],[0.6666666666666666,\"#ed7953\"],[0.7777777777777778,\"#fb9f3a\"],[0.8888888888888888,\"#fdca26\"],[1.0,\"#f0f921\"]],\"type\":\"heatmap\"}],\"histogram2dcontour\":[{\"colorbar\":{\"outlinewidth\":0,\"ticks\":\"\"},\"colorscale\":[[0.0,\"#0d0887\"],[0.1111111111111111,\"#46039f\"],[0.2222222222222222,\"#7201a8\"],[0.3333333333333333,\"#9c179e\"],[0.4444444444444444,\"#bd3786\"],[0.5555555555555556,\"#d8576b\"],[0.6666666666666666,\"#ed7953\"],[0.7777777777777778,\"#fb9f3a\"],[0.8888888888888888,\"#fdca26\"],[1.0,\"#f0f921\"]],\"type\":\"histogram2dcontour\"}],\"histogram2d\":[{\"colorbar\":{\"outlinewidth\":0,\"ticks\":\"\"},\"colorscale\":[[0.0,\"#0d0887\"],[0.1111111111111111,\"#46039f\"],[0.2222222222222222,\"#7201a8\"],[0.3333333333333333,\"#9c179e\"],[0.4444444444444444,\"#bd3786\"],[0.5555555555555556,\"#d8576b\"],[0.6666666666666666,\"#ed7953\"],[0.7777777777777778,\"#fb9f3a\"],[0.8888888888888888,\"#fdca26\"],[1.0,\"#f0f921\"]],\"type\":\"histogram2d\"}],\"histogram\":[{\"marker\":{\"pattern\":{\"fillmode\":\"overlay\",\"size\":10,\"solidity\":0.2}},\"type\":\"histogram\"}],\"mesh3d\":[{\"colorbar\":{\"outlinewidth\":0,\"ticks\":\"\"},\"type\":\"mesh3d\"}],\"parcoords\":[{\"line\":{\"colorbar\":{\"outlinewidth\":0,\"ticks\":\"\"}},\"type\":\"parcoords\"}],\"pie\":[{\"automargin\":true,\"type\":\"pie\"}],\"scatter3d\":[{\"line\":{\"colorbar\":{\"outlinewidth\":0,\"ticks\":\"\"}},\"marker\":{\"colorbar\":{\"outlinewidth\":0,\"ticks\":\"\"}},\"type\":\"scatter3d\"}],\"scattercarpet\":[{\"marker\":{\"colorbar\":{\"outlinewidth\":0,\"ticks\":\"\"}},\"type\":\"scattercarpet\"}],\"scattergeo\":[{\"marker\":{\"colorbar\":{\"outlinewidth\":0,\"ticks\":\"\"}},\"type\":\"scattergeo\"}],\"scattergl\":[{\"marker\":{\"colorbar\":{\"outlinewidth\":0,\"ticks\":\"\"}},\"type\":\"scattergl\"}],\"scattermapbox\":[{\"marker\":{\"colorbar\":{\"outlinewidth\":0,\"ticks\":\"\"}},\"type\":\"scattermapbox\"}],\"scatterpolargl\":[{\"marker\":{\"colorbar\":{\"outlinewidth\":0,\"ticks\":\"\"}},\"type\":\"scatterpolargl\"}],\"scatterpolar\":[{\"marker\":{\"colorbar\":{\"outlinewidth\":0,\"ticks\":\"\"}},\"type\":\"scatterpolar\"}],\"scatter\":[{\"fillpattern\":{\"fillmode\":\"overlay\",\"size\":10,\"solidity\":0.2},\"type\":\"scatter\"}],\"scatterternary\":[{\"marker\":{\"colorbar\":{\"outlinewidth\":0,\"ticks\":\"\"}},\"type\":\"scatterternary\"}],\"surface\":[{\"colorbar\":{\"outlinewidth\":0,\"ticks\":\"\"},\"colorscale\":[[0.0,\"#0d0887\"],[0.1111111111111111,\"#46039f\"],[0.2222222222222222,\"#7201a8\"],[0.3333333333333333,\"#9c179e\"],[0.4444444444444444,\"#bd3786\"],[0.5555555555555556,\"#d8576b\"],[0.6666666666666666,\"#ed7953\"],[0.7777777777777778,\"#fb9f3a\"],[0.8888888888888888,\"#fdca26\"],[1.0,\"#f0f921\"]],\"type\":\"surface\"}],\"table\":[{\"cells\":{\"fill\":{\"color\":\"#EBF0F8\"},\"line\":{\"color\":\"white\"}},\"header\":{\"fill\":{\"color\":\"#C8D4E3\"},\"line\":{\"color\":\"white\"}},\"type\":\"table\"}]},\"layout\":{\"annotationdefaults\":{\"arrowcolor\":\"#2a3f5f\",\"arrowhead\":0,\"arrowwidth\":1},\"autotypenumbers\":\"strict\",\"coloraxis\":{\"colorbar\":{\"outlinewidth\":0,\"ticks\":\"\"}},\"colorscale\":{\"diverging\":[[0,\"#8e0152\"],[0.1,\"#c51b7d\"],[0.2,\"#de77ae\"],[0.3,\"#f1b6da\"],[0.4,\"#fde0ef\"],[0.5,\"#f7f7f7\"],[0.6,\"#e6f5d0\"],[0.7,\"#b8e186\"],[0.8,\"#7fbc41\"],[0.9,\"#4d9221\"],[1,\"#276419\"]],\"sequential\":[[0.0,\"#0d0887\"],[0.1111111111111111,\"#46039f\"],[0.2222222222222222,\"#7201a8\"],[0.3333333333333333,\"#9c179e\"],[0.4444444444444444,\"#bd3786\"],[0.5555555555555556,\"#d8576b\"],[0.6666666666666666,\"#ed7953\"],[0.7777777777777778,\"#fb9f3a\"],[0.8888888888888888,\"#fdca26\"],[1.0,\"#f0f921\"]],\"sequentialminus\":[[0.0,\"#0d0887\"],[0.1111111111111111,\"#46039f\"],[0.2222222222222222,\"#7201a8\"],[0.3333333333333333,\"#9c179e\"],[0.4444444444444444,\"#bd3786\"],[0.5555555555555556,\"#d8576b\"],[0.6666666666666666,\"#ed7953\"],[0.7777777777777778,\"#fb9f3a\"],[0.8888888888888888,\"#fdca26\"],[1.0,\"#f0f921\"]]},\"colorway\":[\"#636efa\",\"#EF553B\",\"#00cc96\",\"#ab63fa\",\"#FFA15A\",\"#19d3f3\",\"#FF6692\",\"#B6E880\",\"#FF97FF\",\"#FECB52\"],\"font\":{\"color\":\"#2a3f5f\"},\"geo\":{\"bgcolor\":\"white\",\"lakecolor\":\"white\",\"landcolor\":\"white\",\"showlakes\":true,\"showland\":true,\"subunitcolor\":\"#C8D4E3\"},\"hoverlabel\":{\"align\":\"left\"},\"hovermode\":\"closest\",\"mapbox\":{\"style\":\"light\"},\"paper_bgcolor\":\"white\",\"plot_bgcolor\":\"white\",\"polar\":{\"angularaxis\":{\"gridcolor\":\"#EBF0F8\",\"linecolor\":\"#EBF0F8\",\"ticks\":\"\"},\"bgcolor\":\"white\",\"radialaxis\":{\"gridcolor\":\"#EBF0F8\",\"linecolor\":\"#EBF0F8\",\"ticks\":\"\"}},\"scene\":{\"xaxis\":{\"backgroundcolor\":\"white\",\"gridcolor\":\"#DFE8F3\",\"gridwidth\":2,\"linecolor\":\"#EBF0F8\",\"showbackground\":true,\"ticks\":\"\",\"zerolinecolor\":\"#EBF0F8\"},\"yaxis\":{\"backgroundcolor\":\"white\",\"gridcolor\":\"#DFE8F3\",\"gridwidth\":2,\"linecolor\":\"#EBF0F8\",\"showbackground\":true,\"ticks\":\"\",\"zerolinecolor\":\"#EBF0F8\"},\"zaxis\":{\"backgroundcolor\":\"white\",\"gridcolor\":\"#DFE8F3\",\"gridwidth\":2,\"linecolor\":\"#EBF0F8\",\"showbackground\":true,\"ticks\":\"\",\"zerolinecolor\":\"#EBF0F8\"}},\"shapedefaults\":{\"line\":{\"color\":\"#2a3f5f\"}},\"ternary\":{\"aaxis\":{\"gridcolor\":\"#DFE8F3\",\"linecolor\":\"#A2B1C6\",\"ticks\":\"\"},\"baxis\":{\"gridcolor\":\"#DFE8F3\",\"linecolor\":\"#A2B1C6\",\"ticks\":\"\"},\"bgcolor\":\"white\",\"caxis\":{\"gridcolor\":\"#DFE8F3\",\"linecolor\":\"#A2B1C6\",\"ticks\":\"\"}},\"title\":{\"x\":0.05},\"xaxis\":{\"automargin\":true,\"gridcolor\":\"#EBF0F8\",\"linecolor\":\"#EBF0F8\",\"ticks\":\"\",\"title\":{\"standoff\":15},\"zerolinecolor\":\"#EBF0F8\",\"zerolinewidth\":2},\"yaxis\":{\"automargin\":true,\"gridcolor\":\"#EBF0F8\",\"linecolor\":\"#EBF0F8\",\"ticks\":\"\",\"title\":{\"standoff\":15},\"zerolinecolor\":\"#EBF0F8\",\"zerolinewidth\":2}}},\"yaxis\":{\"type\":\"category\",\"tickmode\":\"linear\"},\"title\":{\"text\":\"\\u003cb\\u003eFeature Importance for the lgb model\\u003c\\u002fb\\u003e\\u003cbr\\u003eCalculated using feature weight\"},\"width\":500,\"height\":500},                        {\"responsive\": true}                    ).then(function(){\n",
       "                            \n",
       "var gd = document.getElementById('08a75166-49d6-4f37-92d3-66fdb5c08f4c');\n",
       "var x = new MutationObserver(function (mutations, observer) {{\n",
       "        var display = window.getComputedStyle(gd).display;\n",
       "        if (!display || display === 'none') {{\n",
       "            console.log([gd, 'removed!']);\n",
       "            Plotly.purge(gd);\n",
       "            observer.disconnect();\n",
       "        }}\n",
       "}});\n",
       "\n",
       "// Listen for the removal of the full notebook cells\n",
       "var notebookContainer = gd.closest('#notebook-container');\n",
       "if (notebookContainer) {{\n",
       "    x.observe(notebookContainer, {childList: true});\n",
       "}}\n",
       "\n",
       "// Listen for the clearing of the current output cell\n",
       "var outputEl = gd.closest('.output');\n",
       "if (outputEl) {{\n",
       "    x.observe(outputEl, {childList: true});\n",
       "}}\n",
       "\n",
       "                        })                };                });            </script>        </div>"
      ]
     },
     "metadata": {},
     "output_type": "display_data"
    },
    {
     "name": "stdout",
     "output_type": "stream",
     "text": [
      "Accuracy Score:0.8841522157996147\n"
     ]
    },
    {
     "data": {
      "text/plain": [
       "1514"
      ]
     },
     "execution_count": 19,
     "metadata": {},
     "output_type": "execute_result"
    }
   ],
   "source": [
    "lgb_best ={\n",
    "    'learning_rate'     : 0.014, \n",
    "    'max_depth'         : -1, \n",
    "    'min_child_samples' : 20, \n",
    "    'num_leaves'        : 31, \n",
    "    'subsample'         : 0.55, \n",
    "    'colsample_bytree'  : 0.50, \n",
    "    'lambda_l2'        : 0.9230,  \n",
    "    'lambda_l1'         : 0,  \n",
    "    'bagging_freq'      : 4,\n",
    "    \"objective\"         : \"multiclass\",\n",
    "    \"metric\"            : \"multi_logloss\",\n",
    "    \"num_class\"         : 7,\n",
    "    \"verbosity\"         : -1,\n",
    "    \"boosting_type\"     : \"gbdt\",\n",
    "    \"random_state\"      : RANDOM,\n",
    "    'num_class'           : 7,\n",
    "}\n",
    "\n",
    "lgb_params = {\n",
    "    'n_estimators'          : 5000,\n",
    "    'early_stopping_rounds' :50\n",
    "}\n",
    "lgb_params.update(lgb_best)\n",
    "\n",
    "\n",
    "lgb_model = LGBMClassifier(**lgb_params)\n",
    "lgb_model.fit(X_train, y_train,  eval_set =[(X_train,y_train),(X_test,y_test)])\n",
    "\n",
    "# plot training metrics\n",
    "plot_training_metrics(lgb_model, 'lgb', 'multi_logloss')\n",
    "\n",
    "# test on train data \n",
    "y_pred = lgb_model.predict(X_test)\n",
    "\n",
    "# plot feature importance\n",
    "plot_feature_importance(lgb_model,'lgb','weight',True, None)\n",
    "\n",
    "# accuracy\n",
    "acc = accuracy_score(y_test,y_pred)\n",
    "print(f\"Accuracy Score:{acc}\")\n",
    "\n",
    "# clear some memmory\n",
    "gc.collect()\n",
    "\n"
   ]
  },
  {
   "cell_type": "markdown",
   "id": "0e1d343f",
   "metadata": {
    "papermill": {
     "duration": 0.015152,
     "end_time": "2024-02-11T02:25:51.027112",
     "exception": false,
     "start_time": "2024-02-11T02:25:51.011960",
     "status": "completed"
    },
    "tags": []
   },
   "source": [
    "## Submit the Model\n",
    "### Single XGB Model"
   ]
  },
  {
   "cell_type": "code",
   "execution_count": 20,
   "id": "faab2c94",
   "metadata": {
    "execution": {
     "iopub.execute_input": "2024-02-11T02:25:51.058754Z",
     "iopub.status.busy": "2024-02-11T02:25:51.058312Z",
     "iopub.status.idle": "2024-02-11T02:26:01.231279Z",
     "shell.execute_reply": "2024-02-11T02:26:01.230256Z"
    },
    "papermill": {
     "duration": 10.192209,
     "end_time": "2024-02-11T02:26:01.234227",
     "exception": false,
     "start_time": "2024-02-11T02:25:51.042018",
     "status": "completed"
    },
    "tags": []
   },
   "outputs": [
    {
     "data": {
      "text/html": [
       "<div>\n",
       "<style scoped>\n",
       "    .dataframe tbody tr th:only-of-type {\n",
       "        vertical-align: middle;\n",
       "    }\n",
       "\n",
       "    .dataframe tbody tr th {\n",
       "        vertical-align: top;\n",
       "    }\n",
       "\n",
       "    .dataframe thead th {\n",
       "        text-align: right;\n",
       "    }\n",
       "</style>\n",
       "<table border=\"1\" class=\"dataframe\">\n",
       "  <thead>\n",
       "    <tr style=\"text-align: right;\">\n",
       "      <th></th>\n",
       "      <th>id</th>\n",
       "      <th>NObeyesdad</th>\n",
       "    </tr>\n",
       "  </thead>\n",
       "  <tbody>\n",
       "    <tr>\n",
       "      <th>0</th>\n",
       "      <td>20758</td>\n",
       "      <td>Obesity_Type_II</td>\n",
       "    </tr>\n",
       "    <tr>\n",
       "      <th>1</th>\n",
       "      <td>20759</td>\n",
       "      <td>Overweight_Level_I</td>\n",
       "    </tr>\n",
       "    <tr>\n",
       "      <th>2</th>\n",
       "      <td>20760</td>\n",
       "      <td>Obesity_Type_III</td>\n",
       "    </tr>\n",
       "    <tr>\n",
       "      <th>3</th>\n",
       "      <td>20761</td>\n",
       "      <td>Obesity_Type_I</td>\n",
       "    </tr>\n",
       "    <tr>\n",
       "      <th>4</th>\n",
       "      <td>20762</td>\n",
       "      <td>Obesity_Type_III</td>\n",
       "    </tr>\n",
       "  </tbody>\n",
       "</table>\n",
       "</div>"
      ],
      "text/plain": [
       "      id          NObeyesdad\n",
       "0  20758     Obesity_Type_II\n",
       "1  20759  Overweight_Level_I\n",
       "2  20760    Obesity_Type_III\n",
       "3  20761      Obesity_Type_I\n",
       "4  20762    Obesity_Type_III"
      ]
     },
     "execution_count": 20,
     "metadata": {},
     "output_type": "execute_result"
    }
   ],
   "source": [
    "xgb_best = {\n",
    "    'learning_rate'   : 0.050609513550763256, \n",
    "    'max_depth'       : 4, \n",
    "    'min_child_weight': 8, \n",
    "    'gamma'           : 0.000577280415637595, \n",
    "    'subsample'       : 0.7309115689873373, \n",
    "    'colsample_bytree': 0.7157383187006658, \n",
    "    'lambda'          : 0.8253860980908846, \n",
    "    'alpha'           : 0.505765671772347,\n",
    "    'objective'       : 'multi:softprob',\n",
    "    'tree_method'     :'auto',\n",
    "    'eval_metric'     :'mlogloss',\n",
    "    'random_state'    : RANDOM,\n",
    "}\n",
    "xgb_params = {\n",
    "    'n_estimators'          : 250,\n",
    "}\n",
    "# train params\n",
    "xgb_params.update(xgb_best)\n",
    "\n",
    "\n",
    "# train the model on all available data\n",
    "xgb_model = XGBClassifier(**xgb_params)\n",
    "xgb_model.fit(X,y,verbose=0)\n",
    "\n",
    "# predict on the test set\n",
    "y_pred = xgb_model.predict(X_submit)\n",
    "\n",
    "# assemble the submission data, decode the target variable back to strings\n",
    "df_submission = pd.DataFrame(zip(X_submit_ids,y_pred),columns = ['id','Target'])\n",
    "df_submission = encode_target_variable(df_submission,'decode')\n",
    "df_submission.to_csv(\"/kaggle/working/submission.csv\",index=False)\n",
    "df_submission.head()"
   ]
  },
  {
   "cell_type": "markdown",
   "id": "357b8098",
   "metadata": {
    "papermill": {
     "duration": 0.016099,
     "end_time": "2024-02-11T02:26:01.265879",
     "exception": false,
     "start_time": "2024-02-11T02:26:01.249780",
     "status": "completed"
    },
    "tags": []
   },
   "source": [
    "### Single Light GBM Model"
   ]
  },
  {
   "cell_type": "code",
   "execution_count": 21,
   "id": "f5b5b82a",
   "metadata": {
    "execution": {
     "iopub.execute_input": "2024-02-11T02:26:01.297762Z",
     "iopub.status.busy": "2024-02-11T02:26:01.297380Z",
     "iopub.status.idle": "2024-02-11T02:26:21.826318Z",
     "shell.execute_reply": "2024-02-11T02:26:21.824948Z"
    },
    "papermill": {
     "duration": 20.547751,
     "end_time": "2024-02-11T02:26:21.828769",
     "exception": false,
     "start_time": "2024-02-11T02:26:01.281018",
     "status": "completed"
    },
    "tags": []
   },
   "outputs": [
    {
     "data": {
      "text/html": [
       "<div>\n",
       "<style scoped>\n",
       "    .dataframe tbody tr th:only-of-type {\n",
       "        vertical-align: middle;\n",
       "    }\n",
       "\n",
       "    .dataframe tbody tr th {\n",
       "        vertical-align: top;\n",
       "    }\n",
       "\n",
       "    .dataframe thead th {\n",
       "        text-align: right;\n",
       "    }\n",
       "</style>\n",
       "<table border=\"1\" class=\"dataframe\">\n",
       "  <thead>\n",
       "    <tr style=\"text-align: right;\">\n",
       "      <th></th>\n",
       "      <th>id</th>\n",
       "      <th>NObeyesdad</th>\n",
       "    </tr>\n",
       "  </thead>\n",
       "  <tbody>\n",
       "    <tr>\n",
       "      <th>0</th>\n",
       "      <td>20758</td>\n",
       "      <td>Obesity_Type_II</td>\n",
       "    </tr>\n",
       "    <tr>\n",
       "      <th>1</th>\n",
       "      <td>20759</td>\n",
       "      <td>Overweight_Level_I</td>\n",
       "    </tr>\n",
       "    <tr>\n",
       "      <th>2</th>\n",
       "      <td>20760</td>\n",
       "      <td>Obesity_Type_III</td>\n",
       "    </tr>\n",
       "    <tr>\n",
       "      <th>3</th>\n",
       "      <td>20761</td>\n",
       "      <td>Obesity_Type_I</td>\n",
       "    </tr>\n",
       "    <tr>\n",
       "      <th>4</th>\n",
       "      <td>20762</td>\n",
       "      <td>Obesity_Type_III</td>\n",
       "    </tr>\n",
       "  </tbody>\n",
       "</table>\n",
       "</div>"
      ],
      "text/plain": [
       "      id          NObeyesdad\n",
       "0  20758     Obesity_Type_II\n",
       "1  20759  Overweight_Level_I\n",
       "2  20760    Obesity_Type_III\n",
       "3  20761      Obesity_Type_I\n",
       "4  20762    Obesity_Type_III"
      ]
     },
     "execution_count": 21,
     "metadata": {},
     "output_type": "execute_result"
    }
   ],
   "source": [
    "lgb_best ={\n",
    "    'learning_rate'     : 0.014, \n",
    "    'max_depth'         : -1, \n",
    "    'min_child_samples' : 20, \n",
    "    'num_leaves'        : 31, \n",
    "    'subsample'         : 0.55, \n",
    "    'colsample_bytree'  : 0.50, \n",
    "    'lambda_l2'        : 0.9230,  \n",
    "    'lambda_l1'         : 0,  \n",
    "    'bagging_freq'      : 4,\n",
    "    \"objective\"         : \"multiclass\",\n",
    "    \"metric\"            : \"multi_logloss\",\n",
    "    \"num_class\"         : 7,\n",
    "    \"verbosity\"         : -1,\n",
    "    \"boosting_type\"     : \"gbdt\",\n",
    "    \"random_state\"      : RANDOM,\n",
    "    'num_class'           : 7,\n",
    "}\n",
    "lgb_params = {\n",
    "    'n_estimators'          : 500,\n",
    "}\n",
    "lgb_params.update(lgb_best)\n",
    "\n",
    "\n",
    "# train the model on all available data\n",
    "lgb_model = LGBMClassifier(**lgb_params)\n",
    "lgb_model.fit(X,y)\n",
    "\n",
    "# predict on the test set\n",
    "y_pred = lgb_model.predict(X_submit)\n",
    "\n",
    "# assemble the submission data, decode the target variable back to strings\n",
    "df_submission = pd.DataFrame(zip(X_submit_ids,y_pred),columns = ['id','Target'])\n",
    "df_submission = encode_target_variable(df_submission,'decode')\n",
    "df_submission.to_csv(\"/kaggle/working/submission.csv\",index=False)\n",
    "df_submission.head()"
   ]
  },
  {
   "cell_type": "markdown",
   "id": "8107c667",
   "metadata": {
    "papermill": {
     "duration": 0.015462,
     "end_time": "2024-02-11T02:26:21.859815",
     "exception": false,
     "start_time": "2024-02-11T02:26:21.844353",
     "status": "completed"
    },
    "tags": []
   },
   "source": [
    "## Lazy Classifer "
   ]
  },
  {
   "cell_type": "code",
   "execution_count": 22,
   "id": "5126124f",
   "metadata": {
    "execution": {
     "iopub.execute_input": "2024-02-11T02:26:21.892907Z",
     "iopub.status.busy": "2024-02-11T02:26:21.892274Z",
     "iopub.status.idle": "2024-02-11T02:26:21.896489Z",
     "shell.execute_reply": "2024-02-11T02:26:21.895527Z"
    },
    "papermill": {
     "duration": 0.02319,
     "end_time": "2024-02-11T02:26:21.898791",
     "exception": false,
     "start_time": "2024-02-11T02:26:21.875601",
     "status": "completed"
    },
    "tags": []
   },
   "outputs": [],
   "source": [
    "\n",
    "# lazy classifer \n",
    "# clf = LazyClassifier(verbose=0, ignore_warnings=True, predictions=True, custom_metric=None,random_state = RANDOM)\n",
    "# models, predictions = clf.fit(X_train,X_test, y_train, y_test)\n",
    "\n",
    "# gc.collect()"
   ]
  },
  {
   "cell_type": "code",
   "execution_count": 23,
   "id": "d988e4b8",
   "metadata": {
    "execution": {
     "iopub.execute_input": "2024-02-11T02:26:21.932551Z",
     "iopub.status.busy": "2024-02-11T02:26:21.932159Z",
     "iopub.status.idle": "2024-02-11T02:26:21.936821Z",
     "shell.execute_reply": "2024-02-11T02:26:21.935608Z"
    },
    "papermill": {
     "duration": 0.024772,
     "end_time": "2024-02-11T02:26:21.939337",
     "exception": false,
     "start_time": "2024-02-11T02:26:21.914565",
     "status": "completed"
    },
    "tags": []
   },
   "outputs": [],
   "source": [
    "# models"
   ]
  },
  {
   "cell_type": "code",
   "execution_count": 24,
   "id": "8167ad2c",
   "metadata": {
    "execution": {
     "iopub.execute_input": "2024-02-11T02:26:21.971332Z",
     "iopub.status.busy": "2024-02-11T02:26:21.970890Z",
     "iopub.status.idle": "2024-02-11T02:26:21.975676Z",
     "shell.execute_reply": "2024-02-11T02:26:21.974466Z"
    },
    "papermill": {
     "duration": 0.023791,
     "end_time": "2024-02-11T02:26:21.978288",
     "exception": false,
     "start_time": "2024-02-11T02:26:21.954497",
     "status": "completed"
    },
    "tags": []
   },
   "outputs": [],
   "source": [
    "\n",
    "# sns.relplot(data=train, kind='scatter',hue='Gender',y='Height',x='Weight',col='Target')\n",
    "\n",
    "# sns.boxplot(data=train,x='Age',y='Target')\n",
    "# sns.boxplot(data=train,x='Height',y='Target')\n",
    "# sns.boxplot(data=train,x='Weight',y='Target')\n",
    "# sns.boxplot(data=train,x='BMI',y='Target')\n",
    "\n",
    "# sns.pairplot(data=train[cols_numeric], hue='Target')\n"
   ]
  },
  {
   "cell_type": "code",
   "execution_count": 25,
   "id": "a02f2f77",
   "metadata": {
    "execution": {
     "iopub.execute_input": "2024-02-11T02:26:22.010589Z",
     "iopub.status.busy": "2024-02-11T02:26:22.010187Z",
     "iopub.status.idle": "2024-02-11T02:26:22.014431Z",
     "shell.execute_reply": "2024-02-11T02:26:22.013294Z"
    },
    "papermill": {
     "duration": 0.022857,
     "end_time": "2024-02-11T02:26:22.016587",
     "exception": false,
     "start_time": "2024-02-11T02:26:21.993730",
     "status": "completed"
    },
    "tags": []
   },
   "outputs": [],
   "source": [
    "# from ydata_profiling import ProfileReport\n",
    "# ProfileReport(train)"
   ]
  }
 ],
 "metadata": {
  "kaggle": {
   "accelerator": "none",
   "dataSources": [
    {
     "databundleVersionId": 7609535,
     "sourceId": 68479,
     "sourceType": "competition"
    }
   ],
   "dockerImageVersionId": 30646,
   "isGpuEnabled": false,
   "isInternetEnabled": true,
   "language": "python",
   "sourceType": "notebook"
  },
  "kernelspec": {
   "display_name": "Python 3",
   "language": "python",
   "name": "python3"
  },
  "language_info": {
   "codemirror_mode": {
    "name": "ipython",
    "version": 3
   },
   "file_extension": ".py",
   "mimetype": "text/x-python",
   "name": "python",
   "nbconvert_exporter": "python",
   "pygments_lexer": "ipython3",
   "version": "3.10.13"
  },
  "papermill": {
   "default_parameters": {},
   "duration": 65.796627,
   "end_time": "2024-02-11T02:26:23.157294",
   "environment_variables": {},
   "exception": null,
   "input_path": "__notebook__.ipynb",
   "output_path": "__notebook__.ipynb",
   "parameters": {},
   "start_time": "2024-02-11T02:25:17.360667",
   "version": "2.5.0"
  }
 },
 "nbformat": 4,
 "nbformat_minor": 5
}
