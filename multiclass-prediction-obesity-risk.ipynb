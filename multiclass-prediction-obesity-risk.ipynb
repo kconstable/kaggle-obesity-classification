{
 "cells": [
  {
   "cell_type": "markdown",
   "id": "d794bf96",
   "metadata": {
    "papermill": {
     "duration": 0.012069,
     "end_time": "2024-02-08T03:12:09.308262",
     "exception": false,
     "start_time": "2024-02-08T03:12:09.296193",
     "status": "completed"
    },
    "tags": []
   },
   "source": [
    "## Import Libraries and Configure Notebook"
   ]
  },
  {
   "cell_type": "code",
   "execution_count": 1,
   "id": "d2eba60f",
   "metadata": {
    "execution": {
     "iopub.execute_input": "2024-02-08T03:12:09.333552Z",
     "iopub.status.busy": "2024-02-08T03:12:09.333062Z",
     "iopub.status.idle": "2024-02-08T03:12:09.339738Z",
     "shell.execute_reply": "2024-02-08T03:12:09.338417Z"
    },
    "papermill": {
     "duration": 0.0225,
     "end_time": "2024-02-08T03:12:09.342227",
     "exception": false,
     "start_time": "2024-02-08T03:12:09.319727",
     "status": "completed"
    },
    "tags": []
   },
   "outputs": [],
   "source": [
    "# %pip install lazypredict "
   ]
  },
  {
   "cell_type": "code",
   "execution_count": 2,
   "id": "09e30b60",
   "metadata": {
    "_cell_guid": "b1076dfc-b9ad-4769-8c92-a6c4dae69d19",
    "_uuid": "8f2839f25d086af736a60e9eeb907d3b93b6e0e5",
    "execution": {
     "iopub.execute_input": "2024-02-08T03:12:09.368206Z",
     "iopub.status.busy": "2024-02-08T03:12:09.367789Z",
     "iopub.status.idle": "2024-02-08T03:12:17.295635Z",
     "shell.execute_reply": "2024-02-08T03:12:17.293766Z"
    },
    "papermill": {
     "duration": 7.944556,
     "end_time": "2024-02-08T03:12:17.298794",
     "exception": false,
     "start_time": "2024-02-08T03:12:09.354238",
     "status": "completed"
    },
    "tags": []
   },
   "outputs": [
    {
     "name": "stdout",
     "output_type": "stream",
     "text": [
      "/kaggle/input/playground-series-s4e2/sample_submission.csv\n",
      "/kaggle/input/playground-series-s4e2/train.csv\n",
      "/kaggle/input/playground-series-s4e2/test.csv\n"
     ]
    }
   ],
   "source": [
    "import gc\n",
    "import numpy as np # linear algebra\n",
    "import pandas as pd # data processing, CSV file I/O (e.g. pd.read_csv)\n",
    "import seaborn as sns\n",
    "import matplotlib.pyplot as plt\n",
    "import plotly.express as px\n",
    "import plotly.graph_objects as go\n",
    "import plotly.express as px\n",
    "import plotly.graph_objects as go\n",
    "\n",
    "\n",
    "from sklearn.preprocessing import OrdinalEncoder, OneHotEncoder,StandardScaler, MinMaxScaler\n",
    "from sklearn.model_selection import train_test_split\n",
    "from sklearn.pipeline import Pipeline\n",
    "from sklearn.compose import ColumnTransformer\n",
    "from sklearn.metrics import accuracy_score\n",
    "# import lazypredict\n",
    "# from lazypredict.Supervised import LazyClassifier\n",
    "\n",
    "from xgboost import XGBClassifier\n",
    "from lightgbm import LGBMClassifier\n",
    "from lightgbm import early_stopping, log_evaluation\n",
    "from catboost import CatBoostClassifier\n",
    "from sklearn.ensemble import VotingClassifier, StackingClassifier\n",
    "from sklearn.model_selection import RepeatedStratifiedKFold, StratifiedKFold, cross_val_score\n",
    "import optuna\n",
    "\n",
    "\n",
    "import warnings\n",
    "warnings.simplefilter(action='ignore', category=FutureWarning)\n",
    "\n",
    "import os\n",
    "for dirname, _, filenames in os.walk('/kaggle/input'):\n",
    "    for filename in filenames:\n",
    "        print(os.path.join(dirname, filename))\n",
    "\n",
    "# You can write up to 20GB to the current directory (/kaggle/working/) that gets preserved as output when you create a version using \"Save & Run All\" \n",
    "# You can also write temporary files to /kaggle/temp/, but they won't be saved outside of the current session\n",
    "\n",
    "# Constants\n",
    "RANDOM = 1992"
   ]
  },
  {
   "cell_type": "code",
   "execution_count": 3,
   "id": "a2bc292a",
   "metadata": {
    "execution": {
     "iopub.execute_input": "2024-02-08T03:12:17.324307Z",
     "iopub.status.busy": "2024-02-08T03:12:17.323891Z",
     "iopub.status.idle": "2024-02-08T03:12:17.340398Z",
     "shell.execute_reply": "2024-02-08T03:12:17.339094Z"
    },
    "papermill": {
     "duration": 0.032835,
     "end_time": "2024-02-08T03:12:17.343264",
     "exception": false,
     "start_time": "2024-02-08T03:12:17.310429",
     "status": "completed"
    },
    "tags": []
   },
   "outputs": [
    {
     "data": {
      "text/html": [
       "<svg  width=\"385\" height=\"55\"><rect x=\"0\" y=\"0\" width=\"55\" height=\"55\" style=\"fill:#53808d;stroke-width:2;stroke:rgb(255,255,255)\"/><rect x=\"55\" y=\"0\" width=\"55\" height=\"55\" style=\"fill:#fc4c02;stroke-width:2;stroke:rgb(255,255,255)\"/><rect x=\"110\" y=\"0\" width=\"55\" height=\"55\" style=\"fill:#1b99d6;stroke-width:2;stroke:rgb(255,255,255)\"/><rect x=\"165\" y=\"0\" width=\"55\" height=\"55\" style=\"fill:#fff57b;stroke-width:2;stroke:rgb(255,255,255)\"/><rect x=\"220\" y=\"0\" width=\"55\" height=\"55\" style=\"fill:#585858;stroke-width:2;stroke:rgb(255,255,255)\"/><rect x=\"275\" y=\"0\" width=\"55\" height=\"55\" style=\"fill:#d5dadd;stroke-width:2;stroke:rgb(255,255,255)\"/><rect x=\"330\" y=\"0\" width=\"55\" height=\"55\" style=\"fill:#e9f2ef;stroke-width:2;stroke:rgb(255,255,255)\"/></svg>"
      ],
      "text/plain": [
       "[(0.3254901960784314, 0.5019607843137255, 0.5529411764705883),\n",
       " (0.9882352941176471, 0.2980392156862745, 0.00784313725490196),\n",
       " (0.10588235294117647, 0.6, 0.8392156862745098),\n",
       " (1.0, 0.9607843137254902, 0.4823529411764706),\n",
       " (0.34509803921568627, 0.34509803921568627, 0.34509803921568627),\n",
       " (0.8352941176470589, 0.8549019607843137, 0.8666666666666667),\n",
       " (0.9137254901960784, 0.9490196078431372, 0.9372549019607843)]"
      ]
     },
     "execution_count": 3,
     "metadata": {},
     "output_type": "execute_result"
    }
   ],
   "source": [
    "# Color Palettes\n",
    "colors = {\n",
    "    \"sage\"     : \"#53808D\",\n",
    "    \"orange\"   : \"#FC4C02\",\n",
    "    \"blue\"     : \"#1B99D6\",\n",
    "    \"yellow\"   : \"#FFF57B\",\n",
    "    \"darkgrey\" : \"#585858\",\n",
    "    \"lightgrey\": \"#D5DADD\",\n",
    "    \"lightsage\": '#E9F2EF'\n",
    "}\n",
    "palette_discete = sns.color_palette([v for k,v in colors.items()])\n",
    "palette_continuous = sns.color_palette(f\"blend:{colors['sage']},{colors['orange']}\", as_cmap=True) \n",
    "\n",
    "# custom theme\n",
    "rc = {\n",
    "    'axes.facecolor':f\"{colors['lightsage']}\",\n",
    "    \"axes.edgecolor\":f\"{colors['sage']}\",\n",
    "    \"text.color\":f\"{colors['sage']}\",\n",
    "    \"axes.labelcolor\":f\"{colors['sage']}\",\n",
    "    \"ytick.color\":f\"{colors['sage']}\",\n",
    "    \"xtick.color\":f\"{colors['sage']}\",\n",
    "}\n",
    "sns.set_style('whitegrid',rc =rc)\n",
    "\n",
    "# set context elements\n",
    "sns.set_context('notebook',rc={'grid.linewidth':'1.1'})\n",
    "\n",
    "# set custom palette\n",
    "sns.set_palette(palette_discete)\n",
    "\n",
    "palette_discete\n",
    "\n"
   ]
  },
  {
   "cell_type": "markdown",
   "id": "5cdcd204",
   "metadata": {
    "papermill": {
     "duration": 0.011534,
     "end_time": "2024-02-08T03:12:17.366512",
     "exception": false,
     "start_time": "2024-02-08T03:12:17.354978",
     "status": "completed"
    },
    "tags": []
   },
   "source": [
    "## Data Descriptions\n",
    "\n",
    "The attributes related with eating habits are: \n",
    "+ Frequent consumption of high caloric food (FAVC)\n",
    "+ Frequency of consumption of vegetables (FCVC)\n",
    "+ Number of main meals (NCP)\n",
    "+ Consumption of food between meals (CAEC) => Ordinal  (always, frequently, sometimes, no=never)\n",
    "+ Consumption of water daily (CH20)\n",
    "+ Consumption of alcohol (CALC) => Ordinal (frequently, sometimes, no=never)\n",
    "\n",
    "The attributes related with the physical condition are: \n",
    "+ Calories consumption monitoring (SCC)\n",
    "+ Physical activity frequency (FAF)\n",
    "+ Time using technology devices (TUE)\n",
    "+ Transportation used (MTRANS)\n",
    "\n",
    "variables obtained\n",
    "+ Gender\n",
    "+ Age\n",
    "+ Height\n",
    "+ Weight\n",
    "\n",
    "NObesity values are\n",
    "\n",
    "+ Insufficient_Weight Less than 18.5\n",
    "+ Normal_Weight 18.5 to 24.9\n",
    "+ Overweight 25.0 to 29.9\n",
    "+ Obesity_Type_I 30.0 to 34.9\n",
    "+ Obesity_Type_II 35.0 to 39.9\n",
    "+ Obesity_Type_III Higher than 40"
   ]
  },
  {
   "cell_type": "code",
   "execution_count": 4,
   "id": "2bf3bf11",
   "metadata": {
    "execution": {
     "iopub.execute_input": "2024-02-08T03:12:17.393752Z",
     "iopub.status.busy": "2024-02-08T03:12:17.393265Z",
     "iopub.status.idle": "2024-02-08T03:12:17.966292Z",
     "shell.execute_reply": "2024-02-08T03:12:17.964925Z"
    },
    "papermill": {
     "duration": 0.590212,
     "end_time": "2024-02-08T03:12:17.969421",
     "exception": false,
     "start_time": "2024-02-08T03:12:17.379209",
     "status": "completed"
    },
    "tags": []
   },
   "outputs": [
    {
     "data": {
      "text/html": [
       "<div>\n",
       "<style scoped>\n",
       "    .dataframe tbody tr th:only-of-type {\n",
       "        vertical-align: middle;\n",
       "    }\n",
       "\n",
       "    .dataframe tbody tr th {\n",
       "        vertical-align: top;\n",
       "    }\n",
       "\n",
       "    .dataframe thead th {\n",
       "        text-align: right;\n",
       "    }\n",
       "</style>\n",
       "<table border=\"1\" class=\"dataframe\">\n",
       "  <thead>\n",
       "    <tr style=\"text-align: right;\">\n",
       "      <th></th>\n",
       "      <th>id</th>\n",
       "      <th>Gender</th>\n",
       "      <th>Age</th>\n",
       "      <th>Height</th>\n",
       "      <th>Weight</th>\n",
       "      <th>FamiliyHistory</th>\n",
       "      <th>FAVC</th>\n",
       "      <th>FCVC</th>\n",
       "      <th>NCP</th>\n",
       "      <th>CAEC</th>\n",
       "      <th>SMOKE</th>\n",
       "      <th>CH2O</th>\n",
       "      <th>SCC</th>\n",
       "      <th>FAF</th>\n",
       "      <th>TUE</th>\n",
       "      <th>CALC</th>\n",
       "      <th>MTRANS</th>\n",
       "      <th>NObeyesdad</th>\n",
       "    </tr>\n",
       "  </thead>\n",
       "  <tbody>\n",
       "    <tr>\n",
       "      <th>0</th>\n",
       "      <td>0</td>\n",
       "      <td>male</td>\n",
       "      <td>24.443011</td>\n",
       "      <td>1.699998</td>\n",
       "      <td>81.669950</td>\n",
       "      <td>1</td>\n",
       "      <td>1</td>\n",
       "      <td>2.000000</td>\n",
       "      <td>2.983297</td>\n",
       "      <td>sometimes</td>\n",
       "      <td>0</td>\n",
       "      <td>2.763573</td>\n",
       "      <td>0</td>\n",
       "      <td>0.000000</td>\n",
       "      <td>0.976473</td>\n",
       "      <td>sometimes</td>\n",
       "      <td>public_transportation</td>\n",
       "      <td>Overweight_Level_II</td>\n",
       "    </tr>\n",
       "    <tr>\n",
       "      <th>1</th>\n",
       "      <td>1</td>\n",
       "      <td>female</td>\n",
       "      <td>18.000000</td>\n",
       "      <td>1.560000</td>\n",
       "      <td>57.000000</td>\n",
       "      <td>1</td>\n",
       "      <td>1</td>\n",
       "      <td>2.000000</td>\n",
       "      <td>3.000000</td>\n",
       "      <td>frequently</td>\n",
       "      <td>0</td>\n",
       "      <td>2.000000</td>\n",
       "      <td>0</td>\n",
       "      <td>1.000000</td>\n",
       "      <td>1.000000</td>\n",
       "      <td>no</td>\n",
       "      <td>automobile</td>\n",
       "      <td>Normal_Weight</td>\n",
       "    </tr>\n",
       "    <tr>\n",
       "      <th>2</th>\n",
       "      <td>2</td>\n",
       "      <td>female</td>\n",
       "      <td>18.000000</td>\n",
       "      <td>1.711460</td>\n",
       "      <td>50.165754</td>\n",
       "      <td>1</td>\n",
       "      <td>1</td>\n",
       "      <td>1.880534</td>\n",
       "      <td>1.411685</td>\n",
       "      <td>sometimes</td>\n",
       "      <td>0</td>\n",
       "      <td>1.910378</td>\n",
       "      <td>0</td>\n",
       "      <td>0.866045</td>\n",
       "      <td>1.673584</td>\n",
       "      <td>no</td>\n",
       "      <td>public_transportation</td>\n",
       "      <td>Insufficient_Weight</td>\n",
       "    </tr>\n",
       "    <tr>\n",
       "      <th>3</th>\n",
       "      <td>3</td>\n",
       "      <td>female</td>\n",
       "      <td>20.952737</td>\n",
       "      <td>1.710730</td>\n",
       "      <td>131.274851</td>\n",
       "      <td>1</td>\n",
       "      <td>1</td>\n",
       "      <td>3.000000</td>\n",
       "      <td>3.000000</td>\n",
       "      <td>sometimes</td>\n",
       "      <td>0</td>\n",
       "      <td>1.674061</td>\n",
       "      <td>0</td>\n",
       "      <td>1.467863</td>\n",
       "      <td>0.780199</td>\n",
       "      <td>sometimes</td>\n",
       "      <td>public_transportation</td>\n",
       "      <td>Obesity_Type_III</td>\n",
       "    </tr>\n",
       "    <tr>\n",
       "      <th>4</th>\n",
       "      <td>4</td>\n",
       "      <td>male</td>\n",
       "      <td>31.641081</td>\n",
       "      <td>1.914186</td>\n",
       "      <td>93.798055</td>\n",
       "      <td>1</td>\n",
       "      <td>1</td>\n",
       "      <td>2.679664</td>\n",
       "      <td>1.971472</td>\n",
       "      <td>sometimes</td>\n",
       "      <td>0</td>\n",
       "      <td>1.979848</td>\n",
       "      <td>0</td>\n",
       "      <td>1.967973</td>\n",
       "      <td>0.931721</td>\n",
       "      <td>sometimes</td>\n",
       "      <td>public_transportation</td>\n",
       "      <td>Overweight_Level_II</td>\n",
       "    </tr>\n",
       "  </tbody>\n",
       "</table>\n",
       "</div>"
      ],
      "text/plain": [
       "   id  Gender        Age    Height      Weight  FamiliyHistory  FAVC  \\\n",
       "0   0    male  24.443011  1.699998   81.669950               1     1   \n",
       "1   1  female  18.000000  1.560000   57.000000               1     1   \n",
       "2   2  female  18.000000  1.711460   50.165754               1     1   \n",
       "3   3  female  20.952737  1.710730  131.274851               1     1   \n",
       "4   4    male  31.641081  1.914186   93.798055               1     1   \n",
       "\n",
       "       FCVC       NCP        CAEC  SMOKE      CH2O  SCC       FAF       TUE  \\\n",
       "0  2.000000  2.983297   sometimes      0  2.763573    0  0.000000  0.976473   \n",
       "1  2.000000  3.000000  frequently      0  2.000000    0  1.000000  1.000000   \n",
       "2  1.880534  1.411685   sometimes      0  1.910378    0  0.866045  1.673584   \n",
       "3  3.000000  3.000000   sometimes      0  1.674061    0  1.467863  0.780199   \n",
       "4  2.679664  1.971472   sometimes      0  1.979848    0  1.967973  0.931721   \n",
       "\n",
       "        CALC                 MTRANS           NObeyesdad  \n",
       "0  sometimes  public_transportation  Overweight_Level_II  \n",
       "1         no             automobile        Normal_Weight  \n",
       "2         no  public_transportation  Insufficient_Weight  \n",
       "3  sometimes  public_transportation     Obesity_Type_III  \n",
       "4  sometimes  public_transportation  Overweight_Level_II  "
      ]
     },
     "execution_count": 4,
     "metadata": {},
     "output_type": "execute_result"
    }
   ],
   "source": [
    "def get_data():\n",
    "    \"\"\"Read data from the csv, adjust data types\"\"\"\n",
    "    train= pd.read_csv(\"/kaggle/input/playground-series-s4e2/train.csv\")\n",
    "    test = pd.read_csv(\"/kaggle/input/playground-series-s4e2/test.csv\")\n",
    "    \n",
    "    # category features \n",
    "    cols = ['Gender','CAEC','CALC','MTRANS','NObeyesdad']\n",
    "    for col in cols:\n",
    "        if col == 'NObeyesdad':\n",
    "            # test data doesn't have NObeyesdad\n",
    "            train[col] = train[col].apply(lambda x: x.strip()).astype('category')\n",
    "        else:\n",
    "            train[col] = train[col].apply(lambda x: x.lower().strip()).astype('category')\n",
    "            test[col] = test[col].apply(lambda x: x.lower().strip()).astype('category')\n",
    "      \n",
    "            \n",
    "    # bindary features\n",
    "    cols = ['family_history_with_overweight','FAVC','SMOKE','SCC']\n",
    "    for col in cols:\n",
    "        train[col] = train[col].map({'yes':1,'no':0}).astype('uint8')\n",
    "        test[col] = test[col].map({'yes':1,'no':0}).astype('uint8')\n",
    "        \n",
    "    # rename columns\n",
    "    train.rename(columns = {'family_history_with_overweight':'FamiliyHistory'},inplace=True)\n",
    "    test.rename(columns = {'family_history_with_overweight':'FamiliyHistory'},inplace=True)\n",
    "    \n",
    "    return train, test\n",
    "\n",
    "\n",
    "# get the raw data\n",
    "train, test = get_data()\n",
    "gc.collect()\n",
    "train.head()"
   ]
  },
  {
   "cell_type": "code",
   "execution_count": 5,
   "id": "efde66d2",
   "metadata": {
    "execution": {
     "iopub.execute_input": "2024-02-08T03:12:17.996706Z",
     "iopub.status.busy": "2024-02-08T03:12:17.996216Z",
     "iopub.status.idle": "2024-02-08T03:12:18.004439Z",
     "shell.execute_reply": "2024-02-08T03:12:18.002809Z"
    },
    "papermill": {
     "duration": 0.025685,
     "end_time": "2024-02-08T03:12:18.007634",
     "exception": false,
     "start_time": "2024-02-08T03:12:17.981949",
     "status": "completed"
    },
    "tags": []
   },
   "outputs": [],
   "source": [
    "def add_features(df):\n",
    "    \"\"\"Add additional features\"\"\"\n",
    "    dff = df.copy()\n",
    "    \n",
    "    # body-mass-index\n",
    "    dff['BMI'] = dff['Weight'] / dff['Height']**2\n",
    "    \n",
    "    # physical transportation\n",
    "    dff['TransPhysical'] = dff['MTRANS'].apply(lambda x: 1 if  x=='walking' or x=='bike' else 0)\n",
    "    \n",
    "    return dff"
   ]
  },
  {
   "cell_type": "code",
   "execution_count": 6,
   "id": "858fa59a",
   "metadata": {
    "execution": {
     "iopub.execute_input": "2024-02-08T03:12:18.038528Z",
     "iopub.status.busy": "2024-02-08T03:12:18.037055Z",
     "iopub.status.idle": "2024-02-08T03:12:18.047214Z",
     "shell.execute_reply": "2024-02-08T03:12:18.046274Z"
    },
    "papermill": {
     "duration": 0.029372,
     "end_time": "2024-02-08T03:12:18.049565",
     "exception": false,
     "start_time": "2024-02-08T03:12:18.020193",
     "status": "completed"
    },
    "tags": []
   },
   "outputs": [],
   "source": [
    "def encode_target_variable(df,direction='encode'):\n",
    "    \"\"\"\n",
    "    Encode the target variable to ordinal integers for classification\n",
    "    Decode the target variable from ordinal integers back to string for submission\n",
    "    \"\"\"\n",
    "    if direction=='encode':\n",
    "        encode = {\n",
    "            'Insufficient_Weight': 0,\n",
    "            'Normal_Weight'      : 1,\n",
    "            'Overweight_Level_I' : 2,\n",
    "            'Overweight_Level_II': 3,\n",
    "            'Obesity_Type_I'     : 4,\n",
    "            'Obesity_Type_II'    : 5,\n",
    "            'Obesity_Type_III'   : 6\n",
    "        }\n",
    "        encoded = df.NObeyesdad.map(encode).to_frame('Target')\n",
    "        dff = pd.concat([df,encoded],axis=1)\n",
    "    else:\n",
    "        decode = {\n",
    "            0:'Insufficient_Weight',\n",
    "            1:'Normal_Weight'      ,\n",
    "            2:'Overweight_Level_I' ,\n",
    "            3:'Overweight_Level_II',\n",
    "            4:'Obesity_Type_I'     ,\n",
    "            5:'Obesity_Type_II'    ,\n",
    "            6:'Obesity_Type_III'   \n",
    "        }\n",
    "        decoded = df.Target.map(decode).to_frame('NObeyesdad')\n",
    "        dff = pd.concat([df,decoded],axis=1).drop(columns=['Target'])\n",
    "    return dff"
   ]
  },
  {
   "cell_type": "code",
   "execution_count": 7,
   "id": "330fb8a2",
   "metadata": {
    "execution": {
     "iopub.execute_input": "2024-02-08T03:12:18.077453Z",
     "iopub.status.busy": "2024-02-08T03:12:18.076148Z",
     "iopub.status.idle": "2024-02-08T03:12:18.086231Z",
     "shell.execute_reply": "2024-02-08T03:12:18.084629Z"
    },
    "papermill": {
     "duration": 0.026847,
     "end_time": "2024-02-08T03:12:18.089117",
     "exception": false,
     "start_time": "2024-02-08T03:12:18.062270",
     "status": "completed"
    },
    "tags": []
   },
   "outputs": [],
   "source": [
    "def describe_train_test(y_train, y_test):\n",
    "    \"\"\"\"\"\"\n",
    "        \n",
    "    tn = pd.DataFrame(y_train.value_counts()).reset_index()\n",
    "    tn['train_pct'] = round((tn['count']/tn['count'].sum())*100,2)\n",
    "    tn.drop(columns=['count'],inplace=True)\n",
    "    \n",
    "    ts = pd.DataFrame(y_test.value_counts()).reset_index()\n",
    "    ts['test_pct'] = round((ts['count']/ts['count'].sum())*100,2)\n",
    "    ts.drop(columns=['count'],inplace=True)\n",
    "    \n",
    "    return tn.merge(ts, on='Target',how='inner').set_index('Target')    "
   ]
  },
  {
   "cell_type": "code",
   "execution_count": 8,
   "id": "be3acdc0",
   "metadata": {
    "execution": {
     "iopub.execute_input": "2024-02-08T03:12:18.116151Z",
     "iopub.status.busy": "2024-02-08T03:12:18.115649Z",
     "iopub.status.idle": "2024-02-08T03:12:18.185417Z",
     "shell.execute_reply": "2024-02-08T03:12:18.183903Z"
    },
    "papermill": {
     "duration": 0.086725,
     "end_time": "2024-02-08T03:12:18.188124",
     "exception": false,
     "start_time": "2024-02-08T03:12:18.101399",
     "status": "completed"
    },
    "tags": []
   },
   "outputs": [
    {
     "data": {
      "text/html": [
       "<div>\n",
       "<style scoped>\n",
       "    .dataframe tbody tr th:only-of-type {\n",
       "        vertical-align: middle;\n",
       "    }\n",
       "\n",
       "    .dataframe tbody tr th {\n",
       "        vertical-align: top;\n",
       "    }\n",
       "\n",
       "    .dataframe thead th {\n",
       "        text-align: right;\n",
       "    }\n",
       "</style>\n",
       "<table border=\"1\" class=\"dataframe\">\n",
       "  <thead>\n",
       "    <tr style=\"text-align: right;\">\n",
       "      <th></th>\n",
       "      <th>train_pct</th>\n",
       "      <th>test_pct</th>\n",
       "    </tr>\n",
       "    <tr>\n",
       "      <th>Target</th>\n",
       "      <th></th>\n",
       "      <th></th>\n",
       "    </tr>\n",
       "  </thead>\n",
       "  <tbody>\n",
       "    <tr>\n",
       "      <th>6</th>\n",
       "      <td>19.49</td>\n",
       "      <td>19.48</td>\n",
       "    </tr>\n",
       "    <tr>\n",
       "      <th>5</th>\n",
       "      <td>15.64</td>\n",
       "      <td>15.66</td>\n",
       "    </tr>\n",
       "    <tr>\n",
       "      <th>1</th>\n",
       "      <td>14.84</td>\n",
       "      <td>14.86</td>\n",
       "    </tr>\n",
       "    <tr>\n",
       "      <th>4</th>\n",
       "      <td>14.02</td>\n",
       "      <td>14.02</td>\n",
       "    </tr>\n",
       "    <tr>\n",
       "      <th>0</th>\n",
       "      <td>12.15</td>\n",
       "      <td>12.16</td>\n",
       "    </tr>\n",
       "    <tr>\n",
       "      <th>3</th>\n",
       "      <td>12.15</td>\n",
       "      <td>12.14</td>\n",
       "    </tr>\n",
       "    <tr>\n",
       "      <th>2</th>\n",
       "      <td>11.69</td>\n",
       "      <td>11.68</td>\n",
       "    </tr>\n",
       "  </tbody>\n",
       "</table>\n",
       "</div>"
      ],
      "text/plain": [
       "        train_pct  test_pct\n",
       "Target                     \n",
       "6           19.49     19.48\n",
       "5           15.64     15.66\n",
       "1           14.84     14.86\n",
       "4           14.02     14.02\n",
       "0           12.15     12.16\n",
       "3           12.15     12.14\n",
       "2           11.69     11.68"
      ]
     },
     "execution_count": 8,
     "metadata": {},
     "output_type": "execute_result"
    }
   ],
   "source": [
    "# encode the target variable\n",
    "train = encode_target_variable(train,'encode')\n",
    "\n",
    "# add features\n",
    "train = add_features(train)\n",
    "test = add_features(test)\n",
    "\n",
    "# test data is used for submission (does not include the Exited(y) variable)\n",
    "X_submit_ids = test.id  # keep ids for later\n",
    "X_submit = test.drop(columns = ['id'])\n",
    "\n",
    "# train data\n",
    "X = train.drop(columns=['Target','id','NObeyesdad'])\n",
    "y = train.Target\n",
    "\n",
    "# split train data into train/test\n",
    "X_train, X_test, y_train, y_test = train_test_split(X, y, test_size=0.20, random_state=RANDOM,stratify=y)\n",
    "\n",
    "# remove train/test\n",
    "# del train\n",
    "# del test\n",
    "# gc.collect()\n",
    "\n",
    "# describe train/test split\n",
    "describe_train_test(y_train,y_test)"
   ]
  },
  {
   "cell_type": "code",
   "execution_count": 9,
   "id": "12ecc50d",
   "metadata": {
    "execution": {
     "iopub.execute_input": "2024-02-08T03:12:18.218912Z",
     "iopub.status.busy": "2024-02-08T03:12:18.217353Z",
     "iopub.status.idle": "2024-02-08T03:12:18.223742Z",
     "shell.execute_reply": "2024-02-08T03:12:18.222835Z"
    },
    "papermill": {
     "duration": 0.025098,
     "end_time": "2024-02-08T03:12:18.226181",
     "exception": false,
     "start_time": "2024-02-08T03:12:18.201083",
     "status": "completed"
    },
    "tags": []
   },
   "outputs": [],
   "source": [
    "def convert_to_df (transformed, processor):\n",
    "    \"\"\"Convert from array to dataframe after preprocessing the data\"\"\"\n",
    "    df = pd.DataFrame(transformed)\n",
    "    df.columns = processor.get_feature_names_out()\n",
    "    return df\n",
    "    "
   ]
  },
  {
   "cell_type": "markdown",
   "id": "c4ae58fe",
   "metadata": {
    "papermill": {
     "duration": 0.012136,
     "end_time": "2024-02-08T03:12:18.250774",
     "exception": false,
     "start_time": "2024-02-08T03:12:18.238638",
     "status": "completed"
    },
    "tags": []
   },
   "source": [
    "## Pipelines and Transformers\n",
    "https://medium.com/analytics-vidhya/how-to-apply-preprocessing-steps-in-a-pipeline-only-to-specific-features-4e91fe45dfb8"
   ]
  },
  {
   "cell_type": "code",
   "execution_count": 10,
   "id": "4a82f874",
   "metadata": {
    "execution": {
     "iopub.execute_input": "2024-02-08T03:12:18.279057Z",
     "iopub.status.busy": "2024-02-08T03:12:18.278574Z",
     "iopub.status.idle": "2024-02-08T03:12:18.625496Z",
     "shell.execute_reply": "2024-02-08T03:12:18.624358Z"
    },
    "papermill": {
     "duration": 0.363956,
     "end_time": "2024-02-08T03:12:18.628133",
     "exception": false,
     "start_time": "2024-02-08T03:12:18.264177",
     "status": "completed"
    },
    "tags": []
   },
   "outputs": [
    {
     "data": {
      "text/plain": [
       "108"
      ]
     },
     "execution_count": 10,
     "metadata": {},
     "output_type": "execute_result"
    }
   ],
   "source": [
    "# numeric transformers\n",
    "numeric_features = ['Age','Height','Weight','FCVC','NCP','CH2O','FAF','TUE','BMI']\n",
    "numeric_transformer = Pipeline(\n",
    "    steps = [('scaler',StandardScaler())]\n",
    ")\n",
    "\n",
    "# categorical encoders\n",
    "category_features =  ['Gender','MTRANS']\n",
    "category_transformer = Pipeline(\n",
    "    steps =[('onehot_encoder',OneHotEncoder())]\n",
    ")\n",
    "\n",
    "# ordinal features\n",
    "ordinal_features = ['CAEC','CALC']\n",
    "ordinal_feature_order = [['always','frequently','sometimes','no'],['always','frequently','sometimes','no']]\n",
    "ordinal_transformer = Pipeline(\n",
    "    steps =[('ordinal_encoder',OrdinalEncoder(categories = ordinal_feature_order))]\n",
    ")\n",
    "\n",
    "# apply the column transforms\n",
    "preprocessor = ColumnTransformer(\n",
    "    transformers = [\n",
    "        ('num', numeric_transformer,numeric_features),\n",
    "        ('cat',category_transformer,category_features),\n",
    "        ('ord',ordinal_transformer,ordinal_features),\n",
    "    ],\n",
    "    remainder = 'passthrough'\n",
    ")\n",
    "\n",
    "# prepare data for classification\n",
    "X_array = preprocessor.fit_transform(X)\n",
    "X_train_array = preprocessor.fit_transform(X_train)\n",
    "X_test_array = preprocessor.fit_transform(X_test)\n",
    "X_submit_array = preprocessor.fit_transform(X_submit)\n",
    "\n",
    "\n",
    "# convert to dataframes\n",
    "X = convert_to_df(X_array,preprocessor)\n",
    "X_train = convert_to_df(X_train_array,preprocessor)\n",
    "X_test =  convert_to_df(X_test_array,preprocessor)\n",
    "X_submit = convert_to_df(X_submit_array,preprocessor)\n",
    "\n",
    "\n",
    "# clear memmory\n",
    "gc.collect()\n"
   ]
  },
  {
   "cell_type": "markdown",
   "id": "07debdcc",
   "metadata": {
    "papermill": {
     "duration": 0.01245,
     "end_time": "2024-02-08T03:12:18.653309",
     "exception": false,
     "start_time": "2024-02-08T03:12:18.640859",
     "status": "completed"
    },
    "tags": []
   },
   "source": [
    "## Exploratory Data Analysis"
   ]
  },
  {
   "cell_type": "code",
   "execution_count": 11,
   "id": "62e4cb98",
   "metadata": {
    "execution": {
     "iopub.execute_input": "2024-02-08T03:12:18.680900Z",
     "iopub.status.busy": "2024-02-08T03:12:18.680458Z",
     "iopub.status.idle": "2024-02-08T03:12:18.689637Z",
     "shell.execute_reply": "2024-02-08T03:12:18.688016Z"
    },
    "papermill": {
     "duration": 0.026655,
     "end_time": "2024-02-08T03:12:18.692636",
     "exception": false,
     "start_time": "2024-02-08T03:12:18.665981",
     "status": "completed"
    },
    "tags": []
   },
   "outputs": [],
   "source": [
    "def plot_correlations(X_train, y_train, y_label, only_vs_target = True):\n",
    "    \"\"\" Plot the correlations between features\"\"\"\n",
    "    \n",
    "    df_y = pd.DataFrame(y_train)\n",
    "    df_y.columns = [y_label]\n",
    "    \n",
    "    # combine with input features\n",
    "    df = pd.concat([X_train,df_y],axis=1)\n",
    "    \n",
    "    # calc the correlations\n",
    "    c = df.corr().round(decimals=2)\n",
    "    \n",
    "    # subset to only show correlations with the target variable\n",
    "    if only_vs_target:\n",
    "        c = pd.DataFrame(c[y_label].sort_values()).T\n",
    "        w = 1200\n",
    "        h = 500\n",
    "        title = \"<b>Correlation of Features to Target</b>\"\n",
    "    else:\n",
    "        w = 1000\n",
    "        h = 1000\n",
    "        title = \"<b>Correlation of Features</b>\"\n",
    "    \n",
    "    # plot the correlation matrix\n",
    "    fig = px.imshow(\n",
    "        c, \n",
    "        text_auto=True, \n",
    "        color_continuous_scale = 'RdYlbu',\n",
    "        title = title,\n",
    "        template = 'plotly_white',\n",
    "        width = w,\n",
    "        height= h,\n",
    "    )\n",
    "    fig.show()"
   ]
  },
  {
   "cell_type": "code",
   "execution_count": 12,
   "id": "24c98328",
   "metadata": {
    "execution": {
     "iopub.execute_input": "2024-02-08T03:12:18.720470Z",
     "iopub.status.busy": "2024-02-08T03:12:18.719602Z",
     "iopub.status.idle": "2024-02-08T03:12:20.787113Z",
     "shell.execute_reply": "2024-02-08T03:12:20.785700Z"
    },
    "papermill": {
     "duration": 2.084582,
     "end_time": "2024-02-08T03:12:20.790097",
     "exception": false,
     "start_time": "2024-02-08T03:12:18.705515",
     "status": "completed"
    },
    "tags": []
   },
   "outputs": [
    {
     "data": {
      "text/html": [
       "        <script type=\"text/javascript\">\n",
       "        window.PlotlyConfig = {MathJaxConfig: 'local'};\n",
       "        if (window.MathJax && window.MathJax.Hub && window.MathJax.Hub.Config) {window.MathJax.Hub.Config({SVG: {font: \"STIX-Web\"}});}\n",
       "        if (typeof require !== 'undefined') {\n",
       "        require.undef(\"plotly\");\n",
       "        requirejs.config({\n",
       "            paths: {\n",
       "                'plotly': ['https://cdn.plot.ly/plotly-2.27.0.min']\n",
       "            }\n",
       "        });\n",
       "        require(['plotly'], function(Plotly) {\n",
       "            window._Plotly = Plotly;\n",
       "        });\n",
       "        }\n",
       "        </script>\n",
       "        "
      ]
     },
     "metadata": {},
     "output_type": "display_data"
    },
    {
     "data": {
      "text/html": [
       "<div>                            <div id=\"299e921f-8e19-4de4-9dba-5fdfd30d6b85\" class=\"plotly-graph-div\" style=\"height:1000px; width:1000px;\"></div>            <script type=\"text/javascript\">                require([\"plotly\"], function(Plotly) {                    window.PLOTLYENV=window.PLOTLYENV || {};                                    if (document.getElementById(\"299e921f-8e19-4de4-9dba-5fdfd30d6b85\")) {                    Plotly.newPlot(                        \"299e921f-8e19-4de4-9dba-5fdfd30d6b85\",                        [{\"coloraxis\":\"coloraxis\",\"name\":\"0\",\"texttemplate\":\"%{z}\",\"x\":[\"num__Age\",\"num__Height\",\"num__Weight\",\"num__FCVC\",\"num__NCP\",\"num__CH2O\",\"num__FAF\",\"num__TUE\",\"num__BMI\",\"cat__Gender_female\",\"cat__Gender_male\",\"cat__MTRANS_automobile\",\"cat__MTRANS_bike\",\"cat__MTRANS_motorbike\",\"cat__MTRANS_public_transportation\",\"cat__MTRANS_walking\",\"ord__CAEC\",\"ord__CALC\",\"remainder__FamiliyHistory\",\"remainder__FAVC\",\"remainder__SMOKE\",\"remainder__SCC\",\"remainder__TransPhysical\",\"Target\"],\"y\":[\"num__Age\",\"num__Height\",\"num__Weight\",\"num__FCVC\",\"num__NCP\",\"num__CH2O\",\"num__FAF\",\"num__TUE\",\"num__BMI\",\"cat__Gender_female\",\"cat__Gender_male\",\"cat__MTRANS_automobile\",\"cat__MTRANS_bike\",\"cat__MTRANS_motorbike\",\"cat__MTRANS_public_transportation\",\"cat__MTRANS_walking\",\"ord__CAEC\",\"ord__CALC\",\"remainder__FamiliyHistory\",\"remainder__FAVC\",\"remainder__SMOKE\",\"remainder__SCC\",\"remainder__TransPhysical\",\"Target\"],\"z\":[[1.0,-0.01,0.29,0.03,-0.05,-0.02,-0.19,-0.3,0.33,-0.06,0.06,0.6,0.0,0.01,-0.54,-0.08,0.15,-0.07,0.26,0.06,0.05,-0.11,-0.07,0.0],[-0.01,1.0,0.42,-0.07,0.19,0.19,0.3,0.08,0.1,-0.62,0.62,0.05,0.0,0.0,-0.07,0.04,0.07,-0.09,0.23,0.11,0.07,-0.09,0.04,-0.01],[0.29,0.42,1.0,0.25,0.09,0.32,-0.09,-0.09,0.94,-0.12,0.12,-0.0,-0.02,-0.03,0.04,-0.09,0.34,-0.22,0.52,0.22,0.04,-0.19,-0.1,-0.01],[0.03,-0.07,0.25,1.0,0.11,0.1,-0.1,-0.14,0.3,0.31,-0.31,-0.1,-0.02,0.01,0.1,-0.01,-0.01,-0.12,0.05,0.01,-0.01,0.02,-0.01,-0.01],[-0.05,0.19,0.09,0.11,1.0,0.08,0.1,0.07,0.05,-0.04,0.04,0.01,0.01,0.0,-0.02,0.04,-0.1,-0.1,0.04,0.01,0.01,0.02,0.04,0.0],[-0.02,0.19,0.32,0.1,0.08,1.0,0.08,-0.01,0.3,-0.05,0.05,-0.07,0.01,0.01,0.06,0.02,0.13,-0.08,0.2,0.04,-0.02,-0.03,0.02,0.0],[-0.19,0.3,-0.09,-0.1,0.1,0.08,1.0,0.03,-0.21,-0.24,0.24,-0.0,0.01,0.01,-0.05,0.12,-0.09,0.09,-0.09,-0.07,0.01,0.07,0.12,-0.01],[-0.3,0.08,-0.09,-0.14,0.07,-0.01,0.03,1.0,-0.12,-0.06,0.06,-0.18,-0.01,-0.01,0.15,0.05,-0.05,0.08,0.0,0.04,-0.01,-0.01,0.05,-0.0],[0.33,0.1,0.94,0.3,0.05,0.3,-0.21,-0.12,1.0,0.09,-0.09,-0.02,-0.03,-0.03,0.07,-0.11,0.35,-0.2,0.5,0.21,0.01,-0.18,-0.12,-0.0],[-0.06,-0.62,-0.12,0.31,-0.04,-0.05,-0.24,-0.06,0.09,1.0,-1.0,-0.14,-0.01,-0.02,0.16,-0.06,-0.05,-0.03,-0.1,-0.01,-0.06,0.06,-0.07,0.01],[0.06,0.62,0.12,-0.31,0.04,0.05,0.24,0.06,-0.09,-1.0,1.0,0.14,0.01,0.02,-0.16,0.06,0.05,0.03,0.1,0.01,0.06,-0.06,0.07,-0.01],[0.6,0.05,-0.0,-0.1,0.01,-0.07,-0.0,-0.18,-0.02,-0.14,0.14,1.0,-0.02,-0.02,-0.92,-0.07,0.04,0.0,0.1,0.01,0.02,-0.03,-0.07,0.0],[0.0,0.0,-0.02,-0.02,0.01,0.01,0.01,-0.01,-0.03,-0.01,0.01,-0.02,1.0,-0.0,-0.07,-0.01,-0.01,-0.01,-0.03,-0.02,0.03,0.02,0.23,0.01],[0.01,0.0,-0.03,0.01,0.0,0.01,0.01,-0.01,-0.03,-0.02,0.02,-0.02,-0.0,1.0,-0.09,-0.01,-0.03,0.02,-0.01,-0.03,0.03,0.01,-0.01,0.01],[-0.54,-0.07,0.04,0.1,-0.02,0.06,-0.05,0.15,0.07,0.16,-0.16,-0.92,-0.07,-0.09,1.0,-0.31,-0.01,-0.01,-0.06,0.04,-0.03,0.01,-0.31,-0.0],[-0.08,0.04,-0.09,-0.01,0.04,0.02,0.12,0.05,-0.11,-0.06,0.06,-0.07,-0.01,-0.01,-0.31,1.0,-0.07,0.02,-0.09,-0.11,-0.0,0.04,0.97,-0.01],[0.15,0.07,0.34,-0.01,-0.1,0.13,-0.09,-0.05,0.35,-0.05,0.05,0.04,-0.01,-0.03,-0.01,-0.07,1.0,-0.06,0.2,0.12,-0.02,-0.1,-0.07,0.0],[-0.07,-0.09,-0.22,-0.12,-0.1,-0.08,0.09,0.08,-0.2,-0.03,0.03,0.0,-0.01,0.02,-0.01,0.02,-0.06,1.0,0.0,-0.08,-0.02,0.0,0.02,0.0],[0.26,0.23,0.52,0.05,0.04,0.2,-0.09,0.0,0.5,-0.1,0.1,0.1,-0.03,-0.01,-0.06,-0.09,0.2,0.0,1.0,0.15,0.02,-0.16,-0.09,0.0],[0.06,0.11,0.22,0.01,0.01,0.04,-0.07,0.04,0.21,-0.01,0.01,0.01,-0.02,-0.03,0.04,-0.11,0.12,-0.08,0.15,1.0,-0.01,-0.11,-0.11,-0.01],[0.05,0.07,0.04,-0.01,0.01,-0.02,0.01,-0.01,0.01,-0.06,0.06,0.02,0.03,0.03,-0.03,-0.0,-0.02,-0.02,0.02,-0.01,1.0,0.02,0.01,0.0],[-0.11,-0.09,-0.19,0.02,0.02,-0.03,0.07,-0.01,-0.18,0.06,-0.06,-0.03,0.02,0.01,0.01,0.04,-0.1,0.0,-0.16,-0.11,0.02,1.0,0.04,-0.0],[-0.07,0.04,-0.1,-0.01,0.04,0.02,0.12,0.05,-0.12,-0.07,0.07,-0.07,0.23,-0.01,-0.31,0.97,-0.07,0.02,-0.09,-0.11,0.01,0.04,1.0,-0.01],[0.0,-0.01,-0.01,-0.01,0.0,0.0,-0.01,-0.0,-0.0,0.01,-0.01,0.0,0.01,0.01,-0.0,-0.01,0.0,0.0,0.0,-0.01,0.0,-0.0,-0.01,1.0]],\"type\":\"heatmap\",\"xaxis\":\"x\",\"yaxis\":\"y\",\"hovertemplate\":\"x: %{x}\\u003cbr\\u003ey: %{y}\\u003cbr\\u003ecolor: %{z}\\u003cextra\\u003e\\u003c\\u002fextra\\u003e\"}],                        {\"template\":{\"data\":{\"barpolar\":[{\"marker\":{\"line\":{\"color\":\"white\",\"width\":0.5},\"pattern\":{\"fillmode\":\"overlay\",\"size\":10,\"solidity\":0.2}},\"type\":\"barpolar\"}],\"bar\":[{\"error_x\":{\"color\":\"#2a3f5f\"},\"error_y\":{\"color\":\"#2a3f5f\"},\"marker\":{\"line\":{\"color\":\"white\",\"width\":0.5},\"pattern\":{\"fillmode\":\"overlay\",\"size\":10,\"solidity\":0.2}},\"type\":\"bar\"}],\"carpet\":[{\"aaxis\":{\"endlinecolor\":\"#2a3f5f\",\"gridcolor\":\"#C8D4E3\",\"linecolor\":\"#C8D4E3\",\"minorgridcolor\":\"#C8D4E3\",\"startlinecolor\":\"#2a3f5f\"},\"baxis\":{\"endlinecolor\":\"#2a3f5f\",\"gridcolor\":\"#C8D4E3\",\"linecolor\":\"#C8D4E3\",\"minorgridcolor\":\"#C8D4E3\",\"startlinecolor\":\"#2a3f5f\"},\"type\":\"carpet\"}],\"choropleth\":[{\"colorbar\":{\"outlinewidth\":0,\"ticks\":\"\"},\"type\":\"choropleth\"}],\"contourcarpet\":[{\"colorbar\":{\"outlinewidth\":0,\"ticks\":\"\"},\"type\":\"contourcarpet\"}],\"contour\":[{\"colorbar\":{\"outlinewidth\":0,\"ticks\":\"\"},\"colorscale\":[[0.0,\"#0d0887\"],[0.1111111111111111,\"#46039f\"],[0.2222222222222222,\"#7201a8\"],[0.3333333333333333,\"#9c179e\"],[0.4444444444444444,\"#bd3786\"],[0.5555555555555556,\"#d8576b\"],[0.6666666666666666,\"#ed7953\"],[0.7777777777777778,\"#fb9f3a\"],[0.8888888888888888,\"#fdca26\"],[1.0,\"#f0f921\"]],\"type\":\"contour\"}],\"heatmapgl\":[{\"colorbar\":{\"outlinewidth\":0,\"ticks\":\"\"},\"colorscale\":[[0.0,\"#0d0887\"],[0.1111111111111111,\"#46039f\"],[0.2222222222222222,\"#7201a8\"],[0.3333333333333333,\"#9c179e\"],[0.4444444444444444,\"#bd3786\"],[0.5555555555555556,\"#d8576b\"],[0.6666666666666666,\"#ed7953\"],[0.7777777777777778,\"#fb9f3a\"],[0.8888888888888888,\"#fdca26\"],[1.0,\"#f0f921\"]],\"type\":\"heatmapgl\"}],\"heatmap\":[{\"colorbar\":{\"outlinewidth\":0,\"ticks\":\"\"},\"colorscale\":[[0.0,\"#0d0887\"],[0.1111111111111111,\"#46039f\"],[0.2222222222222222,\"#7201a8\"],[0.3333333333333333,\"#9c179e\"],[0.4444444444444444,\"#bd3786\"],[0.5555555555555556,\"#d8576b\"],[0.6666666666666666,\"#ed7953\"],[0.7777777777777778,\"#fb9f3a\"],[0.8888888888888888,\"#fdca26\"],[1.0,\"#f0f921\"]],\"type\":\"heatmap\"}],\"histogram2dcontour\":[{\"colorbar\":{\"outlinewidth\":0,\"ticks\":\"\"},\"colorscale\":[[0.0,\"#0d0887\"],[0.1111111111111111,\"#46039f\"],[0.2222222222222222,\"#7201a8\"],[0.3333333333333333,\"#9c179e\"],[0.4444444444444444,\"#bd3786\"],[0.5555555555555556,\"#d8576b\"],[0.6666666666666666,\"#ed7953\"],[0.7777777777777778,\"#fb9f3a\"],[0.8888888888888888,\"#fdca26\"],[1.0,\"#f0f921\"]],\"type\":\"histogram2dcontour\"}],\"histogram2d\":[{\"colorbar\":{\"outlinewidth\":0,\"ticks\":\"\"},\"colorscale\":[[0.0,\"#0d0887\"],[0.1111111111111111,\"#46039f\"],[0.2222222222222222,\"#7201a8\"],[0.3333333333333333,\"#9c179e\"],[0.4444444444444444,\"#bd3786\"],[0.5555555555555556,\"#d8576b\"],[0.6666666666666666,\"#ed7953\"],[0.7777777777777778,\"#fb9f3a\"],[0.8888888888888888,\"#fdca26\"],[1.0,\"#f0f921\"]],\"type\":\"histogram2d\"}],\"histogram\":[{\"marker\":{\"pattern\":{\"fillmode\":\"overlay\",\"size\":10,\"solidity\":0.2}},\"type\":\"histogram\"}],\"mesh3d\":[{\"colorbar\":{\"outlinewidth\":0,\"ticks\":\"\"},\"type\":\"mesh3d\"}],\"parcoords\":[{\"line\":{\"colorbar\":{\"outlinewidth\":0,\"ticks\":\"\"}},\"type\":\"parcoords\"}],\"pie\":[{\"automargin\":true,\"type\":\"pie\"}],\"scatter3d\":[{\"line\":{\"colorbar\":{\"outlinewidth\":0,\"ticks\":\"\"}},\"marker\":{\"colorbar\":{\"outlinewidth\":0,\"ticks\":\"\"}},\"type\":\"scatter3d\"}],\"scattercarpet\":[{\"marker\":{\"colorbar\":{\"outlinewidth\":0,\"ticks\":\"\"}},\"type\":\"scattercarpet\"}],\"scattergeo\":[{\"marker\":{\"colorbar\":{\"outlinewidth\":0,\"ticks\":\"\"}},\"type\":\"scattergeo\"}],\"scattergl\":[{\"marker\":{\"colorbar\":{\"outlinewidth\":0,\"ticks\":\"\"}},\"type\":\"scattergl\"}],\"scattermapbox\":[{\"marker\":{\"colorbar\":{\"outlinewidth\":0,\"ticks\":\"\"}},\"type\":\"scattermapbox\"}],\"scatterpolargl\":[{\"marker\":{\"colorbar\":{\"outlinewidth\":0,\"ticks\":\"\"}},\"type\":\"scatterpolargl\"}],\"scatterpolar\":[{\"marker\":{\"colorbar\":{\"outlinewidth\":0,\"ticks\":\"\"}},\"type\":\"scatterpolar\"}],\"scatter\":[{\"fillpattern\":{\"fillmode\":\"overlay\",\"size\":10,\"solidity\":0.2},\"type\":\"scatter\"}],\"scatterternary\":[{\"marker\":{\"colorbar\":{\"outlinewidth\":0,\"ticks\":\"\"}},\"type\":\"scatterternary\"}],\"surface\":[{\"colorbar\":{\"outlinewidth\":0,\"ticks\":\"\"},\"colorscale\":[[0.0,\"#0d0887\"],[0.1111111111111111,\"#46039f\"],[0.2222222222222222,\"#7201a8\"],[0.3333333333333333,\"#9c179e\"],[0.4444444444444444,\"#bd3786\"],[0.5555555555555556,\"#d8576b\"],[0.6666666666666666,\"#ed7953\"],[0.7777777777777778,\"#fb9f3a\"],[0.8888888888888888,\"#fdca26\"],[1.0,\"#f0f921\"]],\"type\":\"surface\"}],\"table\":[{\"cells\":{\"fill\":{\"color\":\"#EBF0F8\"},\"line\":{\"color\":\"white\"}},\"header\":{\"fill\":{\"color\":\"#C8D4E3\"},\"line\":{\"color\":\"white\"}},\"type\":\"table\"}]},\"layout\":{\"annotationdefaults\":{\"arrowcolor\":\"#2a3f5f\",\"arrowhead\":0,\"arrowwidth\":1},\"autotypenumbers\":\"strict\",\"coloraxis\":{\"colorbar\":{\"outlinewidth\":0,\"ticks\":\"\"}},\"colorscale\":{\"diverging\":[[0,\"#8e0152\"],[0.1,\"#c51b7d\"],[0.2,\"#de77ae\"],[0.3,\"#f1b6da\"],[0.4,\"#fde0ef\"],[0.5,\"#f7f7f7\"],[0.6,\"#e6f5d0\"],[0.7,\"#b8e186\"],[0.8,\"#7fbc41\"],[0.9,\"#4d9221\"],[1,\"#276419\"]],\"sequential\":[[0.0,\"#0d0887\"],[0.1111111111111111,\"#46039f\"],[0.2222222222222222,\"#7201a8\"],[0.3333333333333333,\"#9c179e\"],[0.4444444444444444,\"#bd3786\"],[0.5555555555555556,\"#d8576b\"],[0.6666666666666666,\"#ed7953\"],[0.7777777777777778,\"#fb9f3a\"],[0.8888888888888888,\"#fdca26\"],[1.0,\"#f0f921\"]],\"sequentialminus\":[[0.0,\"#0d0887\"],[0.1111111111111111,\"#46039f\"],[0.2222222222222222,\"#7201a8\"],[0.3333333333333333,\"#9c179e\"],[0.4444444444444444,\"#bd3786\"],[0.5555555555555556,\"#d8576b\"],[0.6666666666666666,\"#ed7953\"],[0.7777777777777778,\"#fb9f3a\"],[0.8888888888888888,\"#fdca26\"],[1.0,\"#f0f921\"]]},\"colorway\":[\"#636efa\",\"#EF553B\",\"#00cc96\",\"#ab63fa\",\"#FFA15A\",\"#19d3f3\",\"#FF6692\",\"#B6E880\",\"#FF97FF\",\"#FECB52\"],\"font\":{\"color\":\"#2a3f5f\"},\"geo\":{\"bgcolor\":\"white\",\"lakecolor\":\"white\",\"landcolor\":\"white\",\"showlakes\":true,\"showland\":true,\"subunitcolor\":\"#C8D4E3\"},\"hoverlabel\":{\"align\":\"left\"},\"hovermode\":\"closest\",\"mapbox\":{\"style\":\"light\"},\"paper_bgcolor\":\"white\",\"plot_bgcolor\":\"white\",\"polar\":{\"angularaxis\":{\"gridcolor\":\"#EBF0F8\",\"linecolor\":\"#EBF0F8\",\"ticks\":\"\"},\"bgcolor\":\"white\",\"radialaxis\":{\"gridcolor\":\"#EBF0F8\",\"linecolor\":\"#EBF0F8\",\"ticks\":\"\"}},\"scene\":{\"xaxis\":{\"backgroundcolor\":\"white\",\"gridcolor\":\"#DFE8F3\",\"gridwidth\":2,\"linecolor\":\"#EBF0F8\",\"showbackground\":true,\"ticks\":\"\",\"zerolinecolor\":\"#EBF0F8\"},\"yaxis\":{\"backgroundcolor\":\"white\",\"gridcolor\":\"#DFE8F3\",\"gridwidth\":2,\"linecolor\":\"#EBF0F8\",\"showbackground\":true,\"ticks\":\"\",\"zerolinecolor\":\"#EBF0F8\"},\"zaxis\":{\"backgroundcolor\":\"white\",\"gridcolor\":\"#DFE8F3\",\"gridwidth\":2,\"linecolor\":\"#EBF0F8\",\"showbackground\":true,\"ticks\":\"\",\"zerolinecolor\":\"#EBF0F8\"}},\"shapedefaults\":{\"line\":{\"color\":\"#2a3f5f\"}},\"ternary\":{\"aaxis\":{\"gridcolor\":\"#DFE8F3\",\"linecolor\":\"#A2B1C6\",\"ticks\":\"\"},\"baxis\":{\"gridcolor\":\"#DFE8F3\",\"linecolor\":\"#A2B1C6\",\"ticks\":\"\"},\"bgcolor\":\"white\",\"caxis\":{\"gridcolor\":\"#DFE8F3\",\"linecolor\":\"#A2B1C6\",\"ticks\":\"\"}},\"title\":{\"x\":0.05},\"xaxis\":{\"automargin\":true,\"gridcolor\":\"#EBF0F8\",\"linecolor\":\"#EBF0F8\",\"ticks\":\"\",\"title\":{\"standoff\":15},\"zerolinecolor\":\"#EBF0F8\",\"zerolinewidth\":2},\"yaxis\":{\"automargin\":true,\"gridcolor\":\"#EBF0F8\",\"linecolor\":\"#EBF0F8\",\"ticks\":\"\",\"title\":{\"standoff\":15},\"zerolinecolor\":\"#EBF0F8\",\"zerolinewidth\":2}}},\"xaxis\":{\"anchor\":\"y\",\"domain\":[0.0,1.0],\"scaleanchor\":\"y\",\"constrain\":\"domain\"},\"yaxis\":{\"anchor\":\"x\",\"domain\":[0.0,1.0],\"autorange\":\"reversed\",\"constrain\":\"domain\"},\"coloraxis\":{\"colorscale\":[[0.0,\"rgb(165,0,38)\"],[0.1,\"rgb(215,48,39)\"],[0.2,\"rgb(244,109,67)\"],[0.3,\"rgb(253,174,97)\"],[0.4,\"rgb(254,224,144)\"],[0.5,\"rgb(255,255,191)\"],[0.6,\"rgb(224,243,248)\"],[0.7,\"rgb(171,217,233)\"],[0.8,\"rgb(116,173,209)\"],[0.9,\"rgb(69,117,180)\"],[1.0,\"rgb(49,54,149)\"]]},\"title\":{\"text\":\"\\u003cb\\u003eCorrelation of Features\\u003c\\u002fb\\u003e\"},\"height\":1000,\"width\":1000},                        {\"responsive\": true}                    ).then(function(){\n",
       "                            \n",
       "var gd = document.getElementById('299e921f-8e19-4de4-9dba-5fdfd30d6b85');\n",
       "var x = new MutationObserver(function (mutations, observer) {{\n",
       "        var display = window.getComputedStyle(gd).display;\n",
       "        if (!display || display === 'none') {{\n",
       "            console.log([gd, 'removed!']);\n",
       "            Plotly.purge(gd);\n",
       "            observer.disconnect();\n",
       "        }}\n",
       "}});\n",
       "\n",
       "// Listen for the removal of the full notebook cells\n",
       "var notebookContainer = gd.closest('#notebook-container');\n",
       "if (notebookContainer) {{\n",
       "    x.observe(notebookContainer, {childList: true});\n",
       "}}\n",
       "\n",
       "// Listen for the clearing of the current output cell\n",
       "var outputEl = gd.closest('.output');\n",
       "if (outputEl) {{\n",
       "    x.observe(outputEl, {childList: true});\n",
       "}}\n",
       "\n",
       "                        })                };                });            </script>        </div>"
      ]
     },
     "metadata": {},
     "output_type": "display_data"
    }
   ],
   "source": [
    "plot_correlations(X_train, y_train, 'Target',False)"
   ]
  },
  {
   "cell_type": "markdown",
   "id": "6ea58548",
   "metadata": {
    "papermill": {
     "duration": 0.013479,
     "end_time": "2024-02-08T03:12:20.817990",
     "exception": false,
     "start_time": "2024-02-08T03:12:20.804511",
     "status": "completed"
    },
    "tags": []
   },
   "source": [
    "## Model Training\n",
    "### Plotting & Evaluation Functions"
   ]
  },
  {
   "cell_type": "code",
   "execution_count": 13,
   "id": "112b5657",
   "metadata": {
    "execution": {
     "iopub.execute_input": "2024-02-08T03:12:20.847896Z",
     "iopub.status.busy": "2024-02-08T03:12:20.846583Z",
     "iopub.status.idle": "2024-02-08T03:12:20.859474Z",
     "shell.execute_reply": "2024-02-08T03:12:20.858139Z"
    },
    "papermill": {
     "duration": 0.031121,
     "end_time": "2024-02-08T03:12:20.862223",
     "exception": false,
     "start_time": "2024-02-08T03:12:20.831102",
     "status": "completed"
    },
    "tags": []
   },
   "outputs": [],
   "source": [
    "def plot_training_metrics(model, model_type, metric='auc'):\n",
    "    \"\"\"\n",
    "    Plot the evalution metric for train/validation datasets against each epoch\n",
    "    Supports xgb, catboost and light gbm models\n",
    "    \"\"\"\n",
    "    # extract train/validation results from the model\n",
    "    if model_type == 'xgb':\n",
    "        d = model.evals_result_\n",
    "        t = d['validation_0'][metric]\n",
    "        v = d['validation_1'][metric]\n",
    "    elif model_type == \"cat\":\n",
    "        d = model.evals_result_\n",
    "        t = d[\"validation_0\"][str.upper(metric)]\n",
    "        v = d[\"validation_1\"][str.upper(metric)]\n",
    "    elif model_type == 'lgb':\n",
    "        d = model.evals_result_\n",
    "        t = d['training'][metric]\n",
    "        v = d['valid_1'][metric]\n",
    "        \n",
    "    # convert to dataframe\n",
    "    df_eval = pd.DataFrame(list(zip(t, v)), columns=[\"train\", \"val\"])\n",
    "    \n",
    "    # create the plot\n",
    "    fig = go.Figure()\n",
    "    fig.add_trace(\n",
    "        go.Scatter(\n",
    "            x=df_eval.index,\n",
    "            y=df_eval.train,\n",
    "            name=\"Training\",\n",
    "            line=dict(color=colors[\"sage\"], width=2),\n",
    "        )\n",
    "    )\n",
    "    fig.add_trace(\n",
    "        go.Scatter(\n",
    "            x=df_eval.index,\n",
    "            y=df_eval.val,\n",
    "            name=\"Validation\",\n",
    "            line=dict(color=colors[\"orange\"], width=2),\n",
    "        )\n",
    "    )\n",
    "    fig.update_layout(\n",
    "        template=\"plotly_white\",\n",
    "        title=f\"<b>Training Metrics: {metric.upper()}</b>\",\n",
    "        width=800,\n",
    "        height=400,\n",
    "    )\n",
    "    fig.show()"
   ]
  },
  {
   "cell_type": "code",
   "execution_count": 14,
   "id": "561a5eed",
   "metadata": {
    "execution": {
     "iopub.execute_input": "2024-02-08T03:12:20.892003Z",
     "iopub.status.busy": "2024-02-08T03:12:20.890850Z",
     "iopub.status.idle": "2024-02-08T03:12:20.902337Z",
     "shell.execute_reply": "2024-02-08T03:12:20.901135Z"
    },
    "papermill": {
     "duration": 0.029413,
     "end_time": "2024-02-08T03:12:20.905144",
     "exception": false,
     "start_time": "2024-02-08T03:12:20.875731",
     "status": "completed"
    },
    "tags": []
   },
   "outputs": [],
   "source": [
    "def get_feature_importance(model, model_type, importance_type, normalize=True):\n",
    "    \"\"\"\n",
    "    Extract the feature importance from a trained model\n",
    "    model: trained  model\n",
    "    model_type: model name (xgb, lgbm, cat)\n",
    "    importance_type: weight, gain, cover (only applies to xgb)\n",
    "    \"\"\"\n",
    "\n",
    "    # extract feature importance for each cv\n",
    "    if model_type == \"xgb\":\n",
    "        scores = model.get_booster().get_score(importance_type=importance_type)\n",
    "        df = pd.DataFrame(dict(feature=scores.keys(),score=scores.values()))\n",
    "    elif model_type == \"lgb\":\n",
    "        # importance_type is set during model training=> importance_type='gain','split'\n",
    "        names = model.feature_name_\n",
    "        scores = model.feature_importances_\n",
    "        df = pd.DataFrame(dict(feature=names,score=scores))\n",
    "    elif model_type == \"cat\":\n",
    "        # only weight is available. Gain requires that training dataset and is calculated post-training\n",
    "        df = (\n",
    "             model.get_feature_importance(prettified=True)\n",
    "            .rename(columns={'Feature Id':'feature','Importances':'score'})\n",
    "        )\n",
    "    else:\n",
    "        print(f\"Model not recognized:{model_type} (get_feature_importances)\")\n",
    "        df = None\n",
    "    \n",
    "    # normalize the score out of 100%\n",
    "    if normalize:\n",
    "        df['score'] = df[\"score\"] / df[\"score\"].sum()\n",
    "        \n",
    "    # sort\n",
    "    df.sort_values(by=\"score\", ascending=True, inplace=True)\n",
    "    \n",
    "    return df"
   ]
  },
  {
   "cell_type": "code",
   "execution_count": 15,
   "id": "512c8d93",
   "metadata": {
    "execution": {
     "iopub.execute_input": "2024-02-08T03:12:20.936040Z",
     "iopub.status.busy": "2024-02-08T03:12:20.935528Z",
     "iopub.status.idle": "2024-02-08T03:12:20.946165Z",
     "shell.execute_reply": "2024-02-08T03:12:20.944850Z"
    },
    "papermill": {
     "duration": 0.028933,
     "end_time": "2024-02-08T03:12:20.948891",
     "exception": false,
     "start_time": "2024-02-08T03:12:20.919958",
     "status": "completed"
    },
    "tags": []
   },
   "outputs": [],
   "source": [
    "def plot_feature_importance(model, model_type, importance_type, normalize=True, top_n=None):\n",
    "    \"\"\"\n",
    "    Plot a bar chart of feature importance\n",
    "    Params:\n",
    "        df_importance: a dataframe with the output from calc_feature_importance\n",
    "    \"\"\"\n",
    "    # get feature importance\n",
    "    df = get_feature_importance(model, model_type, importance_type, normalize)\n",
    "\n",
    "    # filter by the top-n features & resort\n",
    "    if top_n is not None:\n",
    "        df = df.nlargest(top_n, \"score\")\n",
    "        df.sort_values(by=\"score\", ascending=True, inplace=True)\n",
    "\n",
    "    # create plot\n",
    "    fig = go.Figure()\n",
    "\n",
    "    # create the plot of feature importance\n",
    "    fig.add_trace(\n",
    "        go.Bar(\n",
    "            name=\"Importance\",\n",
    "            x=df.score,\n",
    "            y=df.feature,\n",
    "            orientation=\"h\",\n",
    "            marker=dict(color=colors[\"sage\"]),\n",
    "        )\n",
    "    )\n",
    "    fig.update_layout(\n",
    "        title=f\"<b>Feature Importance for the {model_type} model</b><br>Calculated using feature {importance_type}\",\n",
    "        template=\"plotly_white\",\n",
    "        width=500,\n",
    "        height=500,\n",
    "        yaxis=dict(type=\"category\", tickmode=\"linear\"),\n",
    "    )\n",
    "    fig.show()"
   ]
  },
  {
   "cell_type": "markdown",
   "id": "49afe484",
   "metadata": {
    "papermill": {
     "duration": 0.012631,
     "end_time": "2024-02-08T03:12:20.975039",
     "exception": false,
     "start_time": "2024-02-08T03:12:20.962408",
     "status": "completed"
    },
    "tags": []
   },
   "source": [
    "### XGBoost\n",
    "#### XGB Hyperparameter Tuning"
   ]
  },
  {
   "cell_type": "code",
   "execution_count": 16,
   "id": "d2b3e98c",
   "metadata": {
    "execution": {
     "iopub.execute_input": "2024-02-08T03:12:21.003858Z",
     "iopub.status.busy": "2024-02-08T03:12:21.003310Z",
     "iopub.status.idle": "2024-02-08T03:12:21.014944Z",
     "shell.execute_reply": "2024-02-08T03:12:21.013492Z"
    },
    "papermill": {
     "duration": 0.02895,
     "end_time": "2024-02-08T03:12:21.017432",
     "exception": false,
     "start_time": "2024-02-08T03:12:20.988482",
     "status": "completed"
    },
    "tags": []
   },
   "outputs": [],
   "source": [
    "def objective(trial):\n",
    "    #XGB params to tune\n",
    "    params = {\n",
    "        'n_estimators'     : 500,\n",
    "        'objective'        : 'multi:softprob',\n",
    "        'tree_method'      :'auto',\n",
    "        'eval_metric'      :'mlogloss',\n",
    "        'random_state'     : RANDOM,\n",
    "        'learning_rate'    : trial.suggest_float('learning_rate', 0.03, 0.1),  \n",
    "        'max_depth'        : trial.suggest_int('max_depth',3, 12),\n",
    "        'min_child_weight' : trial.suggest_int('min_child_weight',3,12),\n",
    "        'gamma'            : trial.suggest_float('gamma', 0, 0.5), \n",
    "        'subsample'        : trial.suggest_float('subsample', 0.5, 0.9), \n",
    "        'colsample_bytree' : trial.suggest_float('colsample_bytree', 0.5, 0.9), \n",
    "        'lambda'           : trial.suggest_float('lambda', 0.5, 0.9),\n",
    "        'alpha'            : trial.suggest_float('alpha', 0.5, 0.9),\n",
    "    }\n",
    "    # model\n",
    "    xgb = XGBClassifier(**params)\n",
    "\n",
    "    # use stratified kfold to evalute each set of model weights\n",
    "    skf= StratifiedKFold(n_splits=3, shuffle=True, random_state=RANDOM)\n",
    "\n",
    "    # Calculate the auc for each set of model weights\n",
    "    acc = abs(cross_val_score(xgb, X_train, y_train, cv=skf, scoring='accuracy').mean())\n",
    "    \n",
    "    return acc\n",
    "\n",
    "\n",
    "# Optimize Hyperparameters\n",
    "# =====================================================================================================\n",
    "# # create the study and run the optimization\n",
    "# study = optuna.create_study(direction='maximize', sampler=optuna.samplers.TPESampler(seed=RANDOM))\n",
    "# study.optimize(objective, n_trials=50)\n",
    "\n",
    "# # get the best weights from the optimization\n",
    "# xgb_best = study.best_params\n",
    "# print(study.best_value)\n",
    "# print(xgb_best)\n",
    "\n",
    "# # clear some memmory\n",
    "# gc.collect()"
   ]
  },
  {
   "cell_type": "code",
   "execution_count": 17,
   "id": "7e1abdcb",
   "metadata": {
    "execution": {
     "iopub.execute_input": "2024-02-08T03:12:21.046550Z",
     "iopub.status.busy": "2024-02-08T03:12:21.046115Z",
     "iopub.status.idle": "2024-02-08T03:12:26.632615Z",
     "shell.execute_reply": "2024-02-08T03:12:26.631442Z"
    },
    "papermill": {
     "duration": 5.604336,
     "end_time": "2024-02-08T03:12:26.635103",
     "exception": false,
     "start_time": "2024-02-08T03:12:21.030767",
     "status": "completed"
    },
    "tags": []
   },
   "outputs": [
    {
     "data": {
      "text/html": [
       "<div>                            <div id=\"de0ac1dd-afd4-4189-9bff-9783ff1b02b1\" class=\"plotly-graph-div\" style=\"height:400px; width:800px;\"></div>            <script type=\"text/javascript\">                require([\"plotly\"], function(Plotly) {                    window.PLOTLYENV=window.PLOTLYENV || {};                                    if (document.getElementById(\"de0ac1dd-afd4-4189-9bff-9783ff1b02b1\")) {                    Plotly.newPlot(                        \"de0ac1dd-afd4-4189-9bff-9783ff1b02b1\",                        [{\"line\":{\"color\":\"#53808D\",\"width\":2},\"name\":\"Training\",\"x\":[0,1,2,3,4,5,6,7,8,9,10,11,12,13,14,15,16,17,18,19,20,21,22,23,24,25,26,27,28,29,30,31,32,33,34,35,36,37,38,39,40,41,42,43,44,45,46,47,48,49,50,51,52,53,54,55,56,57,58,59,60,61,62,63,64,65,66,67,68,69,70,71,72,73,74,75,76,77,78,79,80,81,82,83,84,85,86,87,88,89,90,91,92,93,94,95,96,97,98,99,100,101,102,103,104,105,106,107,108,109,110,111,112,113,114,115,116,117,118,119,120,121,122,123,124,125,126,127,128,129,130,131,132,133,134,135,136,137,138,139,140,141,142,143,144,145,146,147,148,149,150,151,152,153,154,155,156,157,158,159,160,161,162,163,164,165,166,167,168,169,170,171,172,173,174,175,176,177,178,179,180,181,182,183,184,185,186,187,188,189,190,191,192,193,194,195,196,197,198,199,200,201,202,203,204,205,206,207,208,209,210,211,212,213,214,215,216,217,218,219,220,221,222,223,224,225,226,227,228,229,230,231,232,233,234,235,236,237,238,239,240,241,242,243,244,245,246,247,248,249,250,251,252,253,254,255,256,257,258,259,260],\"y\":[1.8245417852940422,1.71753180350049,1.6221860182525076,1.542262462288676,1.4669927693800253,1.3992474192411775,1.3424493023304858,1.2903557978350615,1.236527169675378,1.1894123584308438,1.143520158991589,1.1016953335057593,1.063476019317409,1.0289622554825857,0.9960347907407936,0.9651095673224731,0.9353838696632559,0.9057781127444465,0.8773720804595178,0.8527271051148715,0.8290623270085558,0.8049634756843655,0.7846594868180954,0.7673879144178246,0.7473819321711265,0.7273502989205397,0.7087314481977438,0.6912309828345695,0.6741789186771097,0.6579441627895604,0.6440756083787471,0.629655450403037,0.6169601611350655,0.6042765338679588,0.591672984122024,0.5794311763848164,0.568070077655991,0.557426018982957,0.5472790941265812,0.5374019847449001,0.5280121516121822,0.5192738952431265,0.5114249412841242,0.503707843789936,0.4962179850287557,0.4884739075132871,0.4810436269048322,0.47442425069669836,0.4678126925556118,0.4612803176704062,0.45513609041788844,0.4495025701115544,0.4437071078147469,0.43838810048684235,0.43310921510077377,0.42837191598386015,0.42341052044344984,0.4186588876935555,0.4144955387644763,0.4103070754707254,0.4061984937056122,0.4021127122906042,0.39826645322572957,0.39460124605155045,0.3911514079166161,0.38760283519707395,0.38409320040765577,0.3804831696939166,0.3773373636893464,0.374455101575824,0.37171228510327303,0.36894825557530586,0.3664394648507638,0.363862022106513,0.3612037114413168,0.35874471777098216,0.3562603917142921,0.35390978291781944,0.3516537254306296,0.3494824268898339,0.34724433832435875,0.34531852513337247,0.34311688953736247,0.3413443513377006,0.33929113647348097,0.33729372920232226,0.3356024759260647,0.3337472986034429,0.33208906007601985,0.33037632828925845,0.3288005482023832,0.3270770339825818,0.3256113167617061,0.3242762925318219,0.322797394860242,0.3213430894567363,0.3199556886154441,0.3185248661555366,0.3172161482093046,0.31587978163625274,0.31451200207164365,0.31330278620551666,0.31199415849499773,0.31077442146058376,0.3096519881877032,0.3084578240637105,0.30733035151441446,0.3060648083343822,0.30476704185466713,0.30357891920041846,0.3026147725885683,0.3015742223922602,0.3004347726655692,0.29938704432410046,0.29841358769846216,0.29746677377126624,0.29658313638833633,0.29570520799787064,0.2946479354965597,0.2936034925995047,0.29270566454867586,0.2916789595973732,0.29090455284445477,0.2900964567923395,0.28912335260939803,0.28816190152759935,0.2873390315811521,0.2865803670663343,0.2858292004735684,0.2851102155829619,0.28438751092709474,0.28362589363891155,0.28298792292419017,0.28215633066596313,0.28137753253197684,0.2806861042520925,0.2798638848753205,0.2792083447028275,0.2785272497451886,0.27774716433079943,0.27709247713641205,0.2763129829963398,0.2756765427703975,0.27508105476448874,0.27447052235943015,0.27371698027947994,0.2731611614952751,0.2725639045702165,0.2720071706920105,0.2714186654221789,0.2707972555474095,0.2702187731020171,0.2696990365238401,0.2690887900695416,0.26854850217409154,0.26790209567219686,0.2673312845890942,0.2666935337822708,0.2662149175622312,0.2657552453439902,0.26523568289256916,0.2647368901587246,0.26427744273682957,0.26377919648101417,0.2633398618364117,0.2628537221649925,0.2623264422267193,0.26191602284319515,0.2614312146631511,0.2609818022471853,0.26052779600937515,0.2600893955919117,0.2595508657790247,0.2590853804942696,0.2586047954142397,0.25809158976858027,0.25757728136117464,0.257076406050188,0.2566596497405675,0.2562035169382549,0.25582060516788013,0.25543354592643946,0.2550028784815477,0.2545086714284598,0.25413591534489977,0.25378411599479583,0.25333898409066613,0.252894640207297,0.2524156449239813,0.2519994520961706,0.25145280737126363,0.25106133675844405,0.25064368124792546,0.25026088873321434,0.24988650833983525,0.24947851822862896,0.24905040139679796,0.24866341323263175,0.24830596892017312,0.24785043103818666,0.2474849161391258,0.24712818169630651,0.24676309499978602,0.24638846444116713,0.2460487849530839,0.24569725387805108,0.24531535556307973,0.24490156137027588,0.2445036906790624,0.24418137239729967,0.24381953992961544,0.2434570246001733,0.24297565515540998,0.2426516668679541,0.24216528630388834,0.2418732957085775,0.24146494339863783,0.2411061414481653,0.2408098552212331,0.24039433236417787,0.24003029362243222,0.23966325056449003,0.23926905545601676,0.23887668934699274,0.238540767032116,0.23823798267698057,0.2379024593746975,0.2375729928828145,0.2372648739555696,0.23689041099398905,0.2366189854082502,0.23633103473112757,0.23597565767922535,0.2356513159764761,0.23533947281978013,0.23506840872840792,0.23465786395106356,0.23432270939870792,0.23398594490428426,0.2336587159641316,0.2333013409643082,0.23300255863489938,0.23277263580956825,0.23248870783294381,0.23215845868688118,0.23180321220027256,0.23147352646184224,0.23117968085326318,0.23091035059682358,0.23062637079082335,0.23036095567943837,0.23002605386017913,0.22967922408579258,0.22932233548686412,0.22904816484662804,0.2287316090681867,0.22848973325445918,0.2281981754805188,0.22793807857292378,0.22767512271834178,0.2274410898679151],\"type\":\"scatter\"},{\"line\":{\"color\":\"#FC4C02\",\"width\":2},\"name\":\"Validation\",\"x\":[0,1,2,3,4,5,6,7,8,9,10,11,12,13,14,15,16,17,18,19,20,21,22,23,24,25,26,27,28,29,30,31,32,33,34,35,36,37,38,39,40,41,42,43,44,45,46,47,48,49,50,51,52,53,54,55,56,57,58,59,60,61,62,63,64,65,66,67,68,69,70,71,72,73,74,75,76,77,78,79,80,81,82,83,84,85,86,87,88,89,90,91,92,93,94,95,96,97,98,99,100,101,102,103,104,105,106,107,108,109,110,111,112,113,114,115,116,117,118,119,120,121,122,123,124,125,126,127,128,129,130,131,132,133,134,135,136,137,138,139,140,141,142,143,144,145,146,147,148,149,150,151,152,153,154,155,156,157,158,159,160,161,162,163,164,165,166,167,168,169,170,171,172,173,174,175,176,177,178,179,180,181,182,183,184,185,186,187,188,189,190,191,192,193,194,195,196,197,198,199,200,201,202,203,204,205,206,207,208,209,210,211,212,213,214,215,216,217,218,219,220,221,222,223,224,225,226,227,228,229,230,231,232,233,234,235,236,237,238,239,240,241,242,243,244,245,246,247,248,249,250,251,252,253,254,255,256,257,258,259,260],\"y\":[1.8262697983109653,1.7189399203813145,1.623082737616032,1.5440098297331835,1.4707615029260603,1.4081574319529855,1.351802816883677,1.2991700320861703,1.2450784343745207,1.2014999545981428,1.159595484793301,1.1183475287117939,1.0849582194880025,1.0533760936073027,1.0201960965301948,0.9931039188150496,0.9625062780286076,0.9321728980954672,0.9075309567311366,0.8842466125454976,0.8630708755067548,0.8382660261855993,0.8205258354386727,0.806484707152051,0.7859626695987462,0.7649336345206681,0.7453642388687313,0.7270682088111982,0.7122506221580482,0.6948208885558079,0.6822592770260882,0.6674594158855821,0.6541364266248223,0.6406534120497905,0.6299052761225227,0.6177731142783096,0.6059725252347989,0.5966649283161513,0.5860515554509124,0.5752427913571541,0.5675170013576976,0.557777340690783,0.5491094464805831,0.5424497382273908,0.5343717587950257,0.5258660054512624,0.5175604473239597,0.5104578269218492,0.5032985814163364,0.49828443847424375,0.49175279302906555,0.48723292925174355,0.4808908925842142,0.4751030238406277,0.469379861092622,0.4656359821715911,0.4601811380403723,0.45500618595852443,0.45092058366771093,0.44627858369982654,0.44367908107328563,0.4390689827724286,0.4350296799999685,0.4313907140402952,0.42751358603154216,0.4253109393422429,0.42254294327017,0.4199180958186041,0.4163803091418063,0.41366581211444386,0.41220722849317515,0.4105636558974582,0.40770427468331505,0.4054760685090069,0.4027128042231506,0.4008949168146676,0.39986011089653006,0.3986579200785844,0.39768063013849203,0.3962398590865457,0.39363905159094387,0.39153074728852577,0.3905313629405806,0.38862946443484025,0.3872492203182991,0.38510302814380454,0.38436474717044505,0.3825471038402548,0.38069122715185616,0.3801629005824548,0.37862947871702185,0.37667531434218676,0.37635711431261043,0.3748435710686006,0.3732181246022771,0.3733110513857984,0.37163054947144675,0.37076577502939856,0.36961671605464863,0.36825305773712413,0.36686316781981465,0.36687865865242764,0.3663783248416139,0.36606695619703367,0.36514223895487885,0.3639774238984576,0.36287558771672557,0.361575428399828,0.3603931255613926,0.36069547084652726,0.3597112726619797,0.35978781213505673,0.3585784436458801,0.35780997643438356,0.35768504272318696,0.356923394554868,0.3559220108051734,0.35575849438482726,0.35487245045815863,0.3539966865042754,0.35316289304152243,0.3533754715866899,0.35290230337915285,0.352651949741551,0.35162589756676815,0.3506901112847391,0.3498663819883546,0.35029177055586497,0.34961239096389185,0.3488005364260112,0.34803820059754526,0.3473488947989864,0.3468680125367352,0.3474740727039939,0.3467723200384681,0.34650889737223123,0.3467735849264924,0.3462597410819159,0.3454443560201591,0.3456364687212437,0.34499694070166875,0.3461717376892584,0.346427616058153,0.3458692380278178,0.3452145092493584,0.34596760428697004,0.34550572739512997,0.34509548155683084,0.3458784528930473,0.3452482263399252,0.34477908658926953,0.34559629779868234,0.3453813882854517,0.34609635286764395,0.34694995583655935,0.3475234800777425,0.3471614258270307,0.34780830673730767,0.3475158229311668,0.3471170437242634,0.3476088476627603,0.3484370534268216,0.34792271292221,0.34760085584983624,0.34751900673788627,0.34711902654064264,0.3475753854967101,0.34719441326749256,0.34713032031303376,0.3467227033101283,0.34662798531919287,0.346157137160988,0.34682197195300246,0.3466855716789359,0.3466921462843967,0.3461689806556413,0.3455946535396765,0.3451309503872699,0.3447745846330019,0.3447759977100484,0.3445281994454823,0.34465465826743463,0.34520448460904785,0.3449338922350946,0.34468123413943025,0.3442700960596735,0.34497432851895193,0.344509195896556,0.3450179496335742,0.3446765529577372,0.3444796612271806,0.34561496476492165,0.34590105506729896,0.3468839160427942,0.34695782725714275,0.3465321704418982,0.3461461381674166,0.34591152187529234,0.3462041289371085,0.3473263645144204,0.3473554094822679,0.3474634991930026,0.3473517032395012,0.34713474994653504,0.3468115838321074,0.346310174926049,0.3471134152410997,0.3467946650081508,0.34647810914359567,0.34735200009510914,0.34853802168870124,0.3490320432702868,0.3496673296635023,0.34957204012575444,0.3492314414374846,0.349230601228713,0.3489555180719798,0.34893803439683013,0.34848654674335444,0.3487640813783648,0.34897181127314153,0.3489523804137014,0.3496583483822374,0.34989662301260194,0.35078593509006833,0.3505334582895941,0.35138439419094464,0.3511030544880551,0.3510947422977261,0.35198651321703306,0.3518749886431941,0.3531274839331248,0.35351620334499617,0.3535744430320815,0.3535661324780298,0.3533423285343272,0.35376103875071213,0.354789331666048,0.35573290808512475,0.3557103406031437,0.35676618935384985,0.3568469653749062,0.3567437622611766,0.35700704519298393,0.35699868287503606,0.3576499558517834,0.357681050331363,0.35854083183681346,0.35907049795070933,0.3588718316997899,0.3587552841542003,0.35859480989590387,0.35965580767047106,0.3606372855070041,0.3608757079464147,0.36086659106907193,0.3607170689711807,0.36078726640003383,0.36039409935158684,0.36040006148207643,0.3615870967432556],\"type\":\"scatter\"}],                        {\"template\":{\"data\":{\"barpolar\":[{\"marker\":{\"line\":{\"color\":\"white\",\"width\":0.5},\"pattern\":{\"fillmode\":\"overlay\",\"size\":10,\"solidity\":0.2}},\"type\":\"barpolar\"}],\"bar\":[{\"error_x\":{\"color\":\"#2a3f5f\"},\"error_y\":{\"color\":\"#2a3f5f\"},\"marker\":{\"line\":{\"color\":\"white\",\"width\":0.5},\"pattern\":{\"fillmode\":\"overlay\",\"size\":10,\"solidity\":0.2}},\"type\":\"bar\"}],\"carpet\":[{\"aaxis\":{\"endlinecolor\":\"#2a3f5f\",\"gridcolor\":\"#C8D4E3\",\"linecolor\":\"#C8D4E3\",\"minorgridcolor\":\"#C8D4E3\",\"startlinecolor\":\"#2a3f5f\"},\"baxis\":{\"endlinecolor\":\"#2a3f5f\",\"gridcolor\":\"#C8D4E3\",\"linecolor\":\"#C8D4E3\",\"minorgridcolor\":\"#C8D4E3\",\"startlinecolor\":\"#2a3f5f\"},\"type\":\"carpet\"}],\"choropleth\":[{\"colorbar\":{\"outlinewidth\":0,\"ticks\":\"\"},\"type\":\"choropleth\"}],\"contourcarpet\":[{\"colorbar\":{\"outlinewidth\":0,\"ticks\":\"\"},\"type\":\"contourcarpet\"}],\"contour\":[{\"colorbar\":{\"outlinewidth\":0,\"ticks\":\"\"},\"colorscale\":[[0.0,\"#0d0887\"],[0.1111111111111111,\"#46039f\"],[0.2222222222222222,\"#7201a8\"],[0.3333333333333333,\"#9c179e\"],[0.4444444444444444,\"#bd3786\"],[0.5555555555555556,\"#d8576b\"],[0.6666666666666666,\"#ed7953\"],[0.7777777777777778,\"#fb9f3a\"],[0.8888888888888888,\"#fdca26\"],[1.0,\"#f0f921\"]],\"type\":\"contour\"}],\"heatmapgl\":[{\"colorbar\":{\"outlinewidth\":0,\"ticks\":\"\"},\"colorscale\":[[0.0,\"#0d0887\"],[0.1111111111111111,\"#46039f\"],[0.2222222222222222,\"#7201a8\"],[0.3333333333333333,\"#9c179e\"],[0.4444444444444444,\"#bd3786\"],[0.5555555555555556,\"#d8576b\"],[0.6666666666666666,\"#ed7953\"],[0.7777777777777778,\"#fb9f3a\"],[0.8888888888888888,\"#fdca26\"],[1.0,\"#f0f921\"]],\"type\":\"heatmapgl\"}],\"heatmap\":[{\"colorbar\":{\"outlinewidth\":0,\"ticks\":\"\"},\"colorscale\":[[0.0,\"#0d0887\"],[0.1111111111111111,\"#46039f\"],[0.2222222222222222,\"#7201a8\"],[0.3333333333333333,\"#9c179e\"],[0.4444444444444444,\"#bd3786\"],[0.5555555555555556,\"#d8576b\"],[0.6666666666666666,\"#ed7953\"],[0.7777777777777778,\"#fb9f3a\"],[0.8888888888888888,\"#fdca26\"],[1.0,\"#f0f921\"]],\"type\":\"heatmap\"}],\"histogram2dcontour\":[{\"colorbar\":{\"outlinewidth\":0,\"ticks\":\"\"},\"colorscale\":[[0.0,\"#0d0887\"],[0.1111111111111111,\"#46039f\"],[0.2222222222222222,\"#7201a8\"],[0.3333333333333333,\"#9c179e\"],[0.4444444444444444,\"#bd3786\"],[0.5555555555555556,\"#d8576b\"],[0.6666666666666666,\"#ed7953\"],[0.7777777777777778,\"#fb9f3a\"],[0.8888888888888888,\"#fdca26\"],[1.0,\"#f0f921\"]],\"type\":\"histogram2dcontour\"}],\"histogram2d\":[{\"colorbar\":{\"outlinewidth\":0,\"ticks\":\"\"},\"colorscale\":[[0.0,\"#0d0887\"],[0.1111111111111111,\"#46039f\"],[0.2222222222222222,\"#7201a8\"],[0.3333333333333333,\"#9c179e\"],[0.4444444444444444,\"#bd3786\"],[0.5555555555555556,\"#d8576b\"],[0.6666666666666666,\"#ed7953\"],[0.7777777777777778,\"#fb9f3a\"],[0.8888888888888888,\"#fdca26\"],[1.0,\"#f0f921\"]],\"type\":\"histogram2d\"}],\"histogram\":[{\"marker\":{\"pattern\":{\"fillmode\":\"overlay\",\"size\":10,\"solidity\":0.2}},\"type\":\"histogram\"}],\"mesh3d\":[{\"colorbar\":{\"outlinewidth\":0,\"ticks\":\"\"},\"type\":\"mesh3d\"}],\"parcoords\":[{\"line\":{\"colorbar\":{\"outlinewidth\":0,\"ticks\":\"\"}},\"type\":\"parcoords\"}],\"pie\":[{\"automargin\":true,\"type\":\"pie\"}],\"scatter3d\":[{\"line\":{\"colorbar\":{\"outlinewidth\":0,\"ticks\":\"\"}},\"marker\":{\"colorbar\":{\"outlinewidth\":0,\"ticks\":\"\"}},\"type\":\"scatter3d\"}],\"scattercarpet\":[{\"marker\":{\"colorbar\":{\"outlinewidth\":0,\"ticks\":\"\"}},\"type\":\"scattercarpet\"}],\"scattergeo\":[{\"marker\":{\"colorbar\":{\"outlinewidth\":0,\"ticks\":\"\"}},\"type\":\"scattergeo\"}],\"scattergl\":[{\"marker\":{\"colorbar\":{\"outlinewidth\":0,\"ticks\":\"\"}},\"type\":\"scattergl\"}],\"scattermapbox\":[{\"marker\":{\"colorbar\":{\"outlinewidth\":0,\"ticks\":\"\"}},\"type\":\"scattermapbox\"}],\"scatterpolargl\":[{\"marker\":{\"colorbar\":{\"outlinewidth\":0,\"ticks\":\"\"}},\"type\":\"scatterpolargl\"}],\"scatterpolar\":[{\"marker\":{\"colorbar\":{\"outlinewidth\":0,\"ticks\":\"\"}},\"type\":\"scatterpolar\"}],\"scatter\":[{\"fillpattern\":{\"fillmode\":\"overlay\",\"size\":10,\"solidity\":0.2},\"type\":\"scatter\"}],\"scatterternary\":[{\"marker\":{\"colorbar\":{\"outlinewidth\":0,\"ticks\":\"\"}},\"type\":\"scatterternary\"}],\"surface\":[{\"colorbar\":{\"outlinewidth\":0,\"ticks\":\"\"},\"colorscale\":[[0.0,\"#0d0887\"],[0.1111111111111111,\"#46039f\"],[0.2222222222222222,\"#7201a8\"],[0.3333333333333333,\"#9c179e\"],[0.4444444444444444,\"#bd3786\"],[0.5555555555555556,\"#d8576b\"],[0.6666666666666666,\"#ed7953\"],[0.7777777777777778,\"#fb9f3a\"],[0.8888888888888888,\"#fdca26\"],[1.0,\"#f0f921\"]],\"type\":\"surface\"}],\"table\":[{\"cells\":{\"fill\":{\"color\":\"#EBF0F8\"},\"line\":{\"color\":\"white\"}},\"header\":{\"fill\":{\"color\":\"#C8D4E3\"},\"line\":{\"color\":\"white\"}},\"type\":\"table\"}]},\"layout\":{\"annotationdefaults\":{\"arrowcolor\":\"#2a3f5f\",\"arrowhead\":0,\"arrowwidth\":1},\"autotypenumbers\":\"strict\",\"coloraxis\":{\"colorbar\":{\"outlinewidth\":0,\"ticks\":\"\"}},\"colorscale\":{\"diverging\":[[0,\"#8e0152\"],[0.1,\"#c51b7d\"],[0.2,\"#de77ae\"],[0.3,\"#f1b6da\"],[0.4,\"#fde0ef\"],[0.5,\"#f7f7f7\"],[0.6,\"#e6f5d0\"],[0.7,\"#b8e186\"],[0.8,\"#7fbc41\"],[0.9,\"#4d9221\"],[1,\"#276419\"]],\"sequential\":[[0.0,\"#0d0887\"],[0.1111111111111111,\"#46039f\"],[0.2222222222222222,\"#7201a8\"],[0.3333333333333333,\"#9c179e\"],[0.4444444444444444,\"#bd3786\"],[0.5555555555555556,\"#d8576b\"],[0.6666666666666666,\"#ed7953\"],[0.7777777777777778,\"#fb9f3a\"],[0.8888888888888888,\"#fdca26\"],[1.0,\"#f0f921\"]],\"sequentialminus\":[[0.0,\"#0d0887\"],[0.1111111111111111,\"#46039f\"],[0.2222222222222222,\"#7201a8\"],[0.3333333333333333,\"#9c179e\"],[0.4444444444444444,\"#bd3786\"],[0.5555555555555556,\"#d8576b\"],[0.6666666666666666,\"#ed7953\"],[0.7777777777777778,\"#fb9f3a\"],[0.8888888888888888,\"#fdca26\"],[1.0,\"#f0f921\"]]},\"colorway\":[\"#636efa\",\"#EF553B\",\"#00cc96\",\"#ab63fa\",\"#FFA15A\",\"#19d3f3\",\"#FF6692\",\"#B6E880\",\"#FF97FF\",\"#FECB52\"],\"font\":{\"color\":\"#2a3f5f\"},\"geo\":{\"bgcolor\":\"white\",\"lakecolor\":\"white\",\"landcolor\":\"white\",\"showlakes\":true,\"showland\":true,\"subunitcolor\":\"#C8D4E3\"},\"hoverlabel\":{\"align\":\"left\"},\"hovermode\":\"closest\",\"mapbox\":{\"style\":\"light\"},\"paper_bgcolor\":\"white\",\"plot_bgcolor\":\"white\",\"polar\":{\"angularaxis\":{\"gridcolor\":\"#EBF0F8\",\"linecolor\":\"#EBF0F8\",\"ticks\":\"\"},\"bgcolor\":\"white\",\"radialaxis\":{\"gridcolor\":\"#EBF0F8\",\"linecolor\":\"#EBF0F8\",\"ticks\":\"\"}},\"scene\":{\"xaxis\":{\"backgroundcolor\":\"white\",\"gridcolor\":\"#DFE8F3\",\"gridwidth\":2,\"linecolor\":\"#EBF0F8\",\"showbackground\":true,\"ticks\":\"\",\"zerolinecolor\":\"#EBF0F8\"},\"yaxis\":{\"backgroundcolor\":\"white\",\"gridcolor\":\"#DFE8F3\",\"gridwidth\":2,\"linecolor\":\"#EBF0F8\",\"showbackground\":true,\"ticks\":\"\",\"zerolinecolor\":\"#EBF0F8\"},\"zaxis\":{\"backgroundcolor\":\"white\",\"gridcolor\":\"#DFE8F3\",\"gridwidth\":2,\"linecolor\":\"#EBF0F8\",\"showbackground\":true,\"ticks\":\"\",\"zerolinecolor\":\"#EBF0F8\"}},\"shapedefaults\":{\"line\":{\"color\":\"#2a3f5f\"}},\"ternary\":{\"aaxis\":{\"gridcolor\":\"#DFE8F3\",\"linecolor\":\"#A2B1C6\",\"ticks\":\"\"},\"baxis\":{\"gridcolor\":\"#DFE8F3\",\"linecolor\":\"#A2B1C6\",\"ticks\":\"\"},\"bgcolor\":\"white\",\"caxis\":{\"gridcolor\":\"#DFE8F3\",\"linecolor\":\"#A2B1C6\",\"ticks\":\"\"}},\"title\":{\"x\":0.05},\"xaxis\":{\"automargin\":true,\"gridcolor\":\"#EBF0F8\",\"linecolor\":\"#EBF0F8\",\"ticks\":\"\",\"title\":{\"standoff\":15},\"zerolinecolor\":\"#EBF0F8\",\"zerolinewidth\":2},\"yaxis\":{\"automargin\":true,\"gridcolor\":\"#EBF0F8\",\"linecolor\":\"#EBF0F8\",\"ticks\":\"\",\"title\":{\"standoff\":15},\"zerolinecolor\":\"#EBF0F8\",\"zerolinewidth\":2}}},\"title\":{\"text\":\"\\u003cb\\u003eTraining Metrics: MLOGLOSS\\u003c\\u002fb\\u003e\"},\"width\":800,\"height\":400},                        {\"responsive\": true}                    ).then(function(){\n",
       "                            \n",
       "var gd = document.getElementById('de0ac1dd-afd4-4189-9bff-9783ff1b02b1');\n",
       "var x = new MutationObserver(function (mutations, observer) {{\n",
       "        var display = window.getComputedStyle(gd).display;\n",
       "        if (!display || display === 'none') {{\n",
       "            console.log([gd, 'removed!']);\n",
       "            Plotly.purge(gd);\n",
       "            observer.disconnect();\n",
       "        }}\n",
       "}});\n",
       "\n",
       "// Listen for the removal of the full notebook cells\n",
       "var notebookContainer = gd.closest('#notebook-container');\n",
       "if (notebookContainer) {{\n",
       "    x.observe(notebookContainer, {childList: true});\n",
       "}}\n",
       "\n",
       "// Listen for the clearing of the current output cell\n",
       "var outputEl = gd.closest('.output');\n",
       "if (outputEl) {{\n",
       "    x.observe(outputEl, {childList: true});\n",
       "}}\n",
       "\n",
       "                        })                };                });            </script>        </div>"
      ]
     },
     "metadata": {},
     "output_type": "display_data"
    },
    {
     "data": {
      "text/html": [
       "<div>                            <div id=\"06a11232-b3c9-4bf4-a6de-fb887a5056c8\" class=\"plotly-graph-div\" style=\"height:500px; width:500px;\"></div>            <script type=\"text/javascript\">                require([\"plotly\"], function(Plotly) {                    window.PLOTLYENV=window.PLOTLYENV || {};                                    if (document.getElementById(\"06a11232-b3c9-4bf4-a6de-fb887a5056c8\")) {                    Plotly.newPlot(                        \"06a11232-b3c9-4bf4-a6de-fb887a5056c8\",                        [{\"marker\":{\"color\":\"#53808D\"},\"name\":\"Importance\",\"orientation\":\"h\",\"x\":[0.012223057023651784,0.014131102013354309,0.016877191242224296,0.019052055215603745,0.019311386790478835,0.01971815161488201,0.02073572008227234,0.020872255527171847,0.021732654050361927,0.03376949441805213,0.04836426439575887,0.11593993322051127,0.1625384148524833,0.17200036406923594,0.255428600029552],\"y\":[\"num__TUE\",\"num__NCP\",\"num__Height\",\"num__Age\",\"remainder__SCC\",\"remainder__FamiliyHistory\",\"ord__CAEC\",\"ord__CALC\",\"num__CH2O\",\"remainder__FAVC\",\"num__FCVC\",\"num__Weight\",\"cat__Gender_female\",\"cat__Gender_male\",\"num__BMI\"],\"type\":\"bar\"}],                        {\"template\":{\"data\":{\"barpolar\":[{\"marker\":{\"line\":{\"color\":\"white\",\"width\":0.5},\"pattern\":{\"fillmode\":\"overlay\",\"size\":10,\"solidity\":0.2}},\"type\":\"barpolar\"}],\"bar\":[{\"error_x\":{\"color\":\"#2a3f5f\"},\"error_y\":{\"color\":\"#2a3f5f\"},\"marker\":{\"line\":{\"color\":\"white\",\"width\":0.5},\"pattern\":{\"fillmode\":\"overlay\",\"size\":10,\"solidity\":0.2}},\"type\":\"bar\"}],\"carpet\":[{\"aaxis\":{\"endlinecolor\":\"#2a3f5f\",\"gridcolor\":\"#C8D4E3\",\"linecolor\":\"#C8D4E3\",\"minorgridcolor\":\"#C8D4E3\",\"startlinecolor\":\"#2a3f5f\"},\"baxis\":{\"endlinecolor\":\"#2a3f5f\",\"gridcolor\":\"#C8D4E3\",\"linecolor\":\"#C8D4E3\",\"minorgridcolor\":\"#C8D4E3\",\"startlinecolor\":\"#2a3f5f\"},\"type\":\"carpet\"}],\"choropleth\":[{\"colorbar\":{\"outlinewidth\":0,\"ticks\":\"\"},\"type\":\"choropleth\"}],\"contourcarpet\":[{\"colorbar\":{\"outlinewidth\":0,\"ticks\":\"\"},\"type\":\"contourcarpet\"}],\"contour\":[{\"colorbar\":{\"outlinewidth\":0,\"ticks\":\"\"},\"colorscale\":[[0.0,\"#0d0887\"],[0.1111111111111111,\"#46039f\"],[0.2222222222222222,\"#7201a8\"],[0.3333333333333333,\"#9c179e\"],[0.4444444444444444,\"#bd3786\"],[0.5555555555555556,\"#d8576b\"],[0.6666666666666666,\"#ed7953\"],[0.7777777777777778,\"#fb9f3a\"],[0.8888888888888888,\"#fdca26\"],[1.0,\"#f0f921\"]],\"type\":\"contour\"}],\"heatmapgl\":[{\"colorbar\":{\"outlinewidth\":0,\"ticks\":\"\"},\"colorscale\":[[0.0,\"#0d0887\"],[0.1111111111111111,\"#46039f\"],[0.2222222222222222,\"#7201a8\"],[0.3333333333333333,\"#9c179e\"],[0.4444444444444444,\"#bd3786\"],[0.5555555555555556,\"#d8576b\"],[0.6666666666666666,\"#ed7953\"],[0.7777777777777778,\"#fb9f3a\"],[0.8888888888888888,\"#fdca26\"],[1.0,\"#f0f921\"]],\"type\":\"heatmapgl\"}],\"heatmap\":[{\"colorbar\":{\"outlinewidth\":0,\"ticks\":\"\"},\"colorscale\":[[0.0,\"#0d0887\"],[0.1111111111111111,\"#46039f\"],[0.2222222222222222,\"#7201a8\"],[0.3333333333333333,\"#9c179e\"],[0.4444444444444444,\"#bd3786\"],[0.5555555555555556,\"#d8576b\"],[0.6666666666666666,\"#ed7953\"],[0.7777777777777778,\"#fb9f3a\"],[0.8888888888888888,\"#fdca26\"],[1.0,\"#f0f921\"]],\"type\":\"heatmap\"}],\"histogram2dcontour\":[{\"colorbar\":{\"outlinewidth\":0,\"ticks\":\"\"},\"colorscale\":[[0.0,\"#0d0887\"],[0.1111111111111111,\"#46039f\"],[0.2222222222222222,\"#7201a8\"],[0.3333333333333333,\"#9c179e\"],[0.4444444444444444,\"#bd3786\"],[0.5555555555555556,\"#d8576b\"],[0.6666666666666666,\"#ed7953\"],[0.7777777777777778,\"#fb9f3a\"],[0.8888888888888888,\"#fdca26\"],[1.0,\"#f0f921\"]],\"type\":\"histogram2dcontour\"}],\"histogram2d\":[{\"colorbar\":{\"outlinewidth\":0,\"ticks\":\"\"},\"colorscale\":[[0.0,\"#0d0887\"],[0.1111111111111111,\"#46039f\"],[0.2222222222222222,\"#7201a8\"],[0.3333333333333333,\"#9c179e\"],[0.4444444444444444,\"#bd3786\"],[0.5555555555555556,\"#d8576b\"],[0.6666666666666666,\"#ed7953\"],[0.7777777777777778,\"#fb9f3a\"],[0.8888888888888888,\"#fdca26\"],[1.0,\"#f0f921\"]],\"type\":\"histogram2d\"}],\"histogram\":[{\"marker\":{\"pattern\":{\"fillmode\":\"overlay\",\"size\":10,\"solidity\":0.2}},\"type\":\"histogram\"}],\"mesh3d\":[{\"colorbar\":{\"outlinewidth\":0,\"ticks\":\"\"},\"type\":\"mesh3d\"}],\"parcoords\":[{\"line\":{\"colorbar\":{\"outlinewidth\":0,\"ticks\":\"\"}},\"type\":\"parcoords\"}],\"pie\":[{\"automargin\":true,\"type\":\"pie\"}],\"scatter3d\":[{\"line\":{\"colorbar\":{\"outlinewidth\":0,\"ticks\":\"\"}},\"marker\":{\"colorbar\":{\"outlinewidth\":0,\"ticks\":\"\"}},\"type\":\"scatter3d\"}],\"scattercarpet\":[{\"marker\":{\"colorbar\":{\"outlinewidth\":0,\"ticks\":\"\"}},\"type\":\"scattercarpet\"}],\"scattergeo\":[{\"marker\":{\"colorbar\":{\"outlinewidth\":0,\"ticks\":\"\"}},\"type\":\"scattergeo\"}],\"scattergl\":[{\"marker\":{\"colorbar\":{\"outlinewidth\":0,\"ticks\":\"\"}},\"type\":\"scattergl\"}],\"scattermapbox\":[{\"marker\":{\"colorbar\":{\"outlinewidth\":0,\"ticks\":\"\"}},\"type\":\"scattermapbox\"}],\"scatterpolargl\":[{\"marker\":{\"colorbar\":{\"outlinewidth\":0,\"ticks\":\"\"}},\"type\":\"scatterpolargl\"}],\"scatterpolar\":[{\"marker\":{\"colorbar\":{\"outlinewidth\":0,\"ticks\":\"\"}},\"type\":\"scatterpolar\"}],\"scatter\":[{\"fillpattern\":{\"fillmode\":\"overlay\",\"size\":10,\"solidity\":0.2},\"type\":\"scatter\"}],\"scatterternary\":[{\"marker\":{\"colorbar\":{\"outlinewidth\":0,\"ticks\":\"\"}},\"type\":\"scatterternary\"}],\"surface\":[{\"colorbar\":{\"outlinewidth\":0,\"ticks\":\"\"},\"colorscale\":[[0.0,\"#0d0887\"],[0.1111111111111111,\"#46039f\"],[0.2222222222222222,\"#7201a8\"],[0.3333333333333333,\"#9c179e\"],[0.4444444444444444,\"#bd3786\"],[0.5555555555555556,\"#d8576b\"],[0.6666666666666666,\"#ed7953\"],[0.7777777777777778,\"#fb9f3a\"],[0.8888888888888888,\"#fdca26\"],[1.0,\"#f0f921\"]],\"type\":\"surface\"}],\"table\":[{\"cells\":{\"fill\":{\"color\":\"#EBF0F8\"},\"line\":{\"color\":\"white\"}},\"header\":{\"fill\":{\"color\":\"#C8D4E3\"},\"line\":{\"color\":\"white\"}},\"type\":\"table\"}]},\"layout\":{\"annotationdefaults\":{\"arrowcolor\":\"#2a3f5f\",\"arrowhead\":0,\"arrowwidth\":1},\"autotypenumbers\":\"strict\",\"coloraxis\":{\"colorbar\":{\"outlinewidth\":0,\"ticks\":\"\"}},\"colorscale\":{\"diverging\":[[0,\"#8e0152\"],[0.1,\"#c51b7d\"],[0.2,\"#de77ae\"],[0.3,\"#f1b6da\"],[0.4,\"#fde0ef\"],[0.5,\"#f7f7f7\"],[0.6,\"#e6f5d0\"],[0.7,\"#b8e186\"],[0.8,\"#7fbc41\"],[0.9,\"#4d9221\"],[1,\"#276419\"]],\"sequential\":[[0.0,\"#0d0887\"],[0.1111111111111111,\"#46039f\"],[0.2222222222222222,\"#7201a8\"],[0.3333333333333333,\"#9c179e\"],[0.4444444444444444,\"#bd3786\"],[0.5555555555555556,\"#d8576b\"],[0.6666666666666666,\"#ed7953\"],[0.7777777777777778,\"#fb9f3a\"],[0.8888888888888888,\"#fdca26\"],[1.0,\"#f0f921\"]],\"sequentialminus\":[[0.0,\"#0d0887\"],[0.1111111111111111,\"#46039f\"],[0.2222222222222222,\"#7201a8\"],[0.3333333333333333,\"#9c179e\"],[0.4444444444444444,\"#bd3786\"],[0.5555555555555556,\"#d8576b\"],[0.6666666666666666,\"#ed7953\"],[0.7777777777777778,\"#fb9f3a\"],[0.8888888888888888,\"#fdca26\"],[1.0,\"#f0f921\"]]},\"colorway\":[\"#636efa\",\"#EF553B\",\"#00cc96\",\"#ab63fa\",\"#FFA15A\",\"#19d3f3\",\"#FF6692\",\"#B6E880\",\"#FF97FF\",\"#FECB52\"],\"font\":{\"color\":\"#2a3f5f\"},\"geo\":{\"bgcolor\":\"white\",\"lakecolor\":\"white\",\"landcolor\":\"white\",\"showlakes\":true,\"showland\":true,\"subunitcolor\":\"#C8D4E3\"},\"hoverlabel\":{\"align\":\"left\"},\"hovermode\":\"closest\",\"mapbox\":{\"style\":\"light\"},\"paper_bgcolor\":\"white\",\"plot_bgcolor\":\"white\",\"polar\":{\"angularaxis\":{\"gridcolor\":\"#EBF0F8\",\"linecolor\":\"#EBF0F8\",\"ticks\":\"\"},\"bgcolor\":\"white\",\"radialaxis\":{\"gridcolor\":\"#EBF0F8\",\"linecolor\":\"#EBF0F8\",\"ticks\":\"\"}},\"scene\":{\"xaxis\":{\"backgroundcolor\":\"white\",\"gridcolor\":\"#DFE8F3\",\"gridwidth\":2,\"linecolor\":\"#EBF0F8\",\"showbackground\":true,\"ticks\":\"\",\"zerolinecolor\":\"#EBF0F8\"},\"yaxis\":{\"backgroundcolor\":\"white\",\"gridcolor\":\"#DFE8F3\",\"gridwidth\":2,\"linecolor\":\"#EBF0F8\",\"showbackground\":true,\"ticks\":\"\",\"zerolinecolor\":\"#EBF0F8\"},\"zaxis\":{\"backgroundcolor\":\"white\",\"gridcolor\":\"#DFE8F3\",\"gridwidth\":2,\"linecolor\":\"#EBF0F8\",\"showbackground\":true,\"ticks\":\"\",\"zerolinecolor\":\"#EBF0F8\"}},\"shapedefaults\":{\"line\":{\"color\":\"#2a3f5f\"}},\"ternary\":{\"aaxis\":{\"gridcolor\":\"#DFE8F3\",\"linecolor\":\"#A2B1C6\",\"ticks\":\"\"},\"baxis\":{\"gridcolor\":\"#DFE8F3\",\"linecolor\":\"#A2B1C6\",\"ticks\":\"\"},\"bgcolor\":\"white\",\"caxis\":{\"gridcolor\":\"#DFE8F3\",\"linecolor\":\"#A2B1C6\",\"ticks\":\"\"}},\"title\":{\"x\":0.05},\"xaxis\":{\"automargin\":true,\"gridcolor\":\"#EBF0F8\",\"linecolor\":\"#EBF0F8\",\"ticks\":\"\",\"title\":{\"standoff\":15},\"zerolinecolor\":\"#EBF0F8\",\"zerolinewidth\":2},\"yaxis\":{\"automargin\":true,\"gridcolor\":\"#EBF0F8\",\"linecolor\":\"#EBF0F8\",\"ticks\":\"\",\"title\":{\"standoff\":15},\"zerolinecolor\":\"#EBF0F8\",\"zerolinewidth\":2}}},\"yaxis\":{\"type\":\"category\",\"tickmode\":\"linear\"},\"title\":{\"text\":\"\\u003cb\\u003eFeature Importance for the xgb model\\u003c\\u002fb\\u003e\\u003cbr\\u003eCalculated using feature gain\"},\"width\":500,\"height\":500},                        {\"responsive\": true}                    ).then(function(){\n",
       "                            \n",
       "var gd = document.getElementById('06a11232-b3c9-4bf4-a6de-fb887a5056c8');\n",
       "var x = new MutationObserver(function (mutations, observer) {{\n",
       "        var display = window.getComputedStyle(gd).display;\n",
       "        if (!display || display === 'none') {{\n",
       "            console.log([gd, 'removed!']);\n",
       "            Plotly.purge(gd);\n",
       "            observer.disconnect();\n",
       "        }}\n",
       "}});\n",
       "\n",
       "// Listen for the removal of the full notebook cells\n",
       "var notebookContainer = gd.closest('#notebook-container');\n",
       "if (notebookContainer) {{\n",
       "    x.observe(notebookContainer, {childList: true});\n",
       "}}\n",
       "\n",
       "// Listen for the clearing of the current output cell\n",
       "var outputEl = gd.closest('.output');\n",
       "if (outputEl) {{\n",
       "    x.observe(outputEl, {childList: true});\n",
       "}}\n",
       "\n",
       "                        })                };                });            </script>        </div>"
      ]
     },
     "metadata": {},
     "output_type": "display_data"
    },
    {
     "name": "stdout",
     "output_type": "stream",
     "text": [
      "Accuracy Score:0.8754816955684007\n"
     ]
    },
    {
     "data": {
      "text/plain": [
       "1614"
      ]
     },
     "execution_count": 17,
     "metadata": {},
     "output_type": "execute_result"
    }
   ],
   "source": [
    "xgb_best = {\n",
    "    'learning_rate'   : 0.050609513550763256, \n",
    "    'max_depth'       : 4, \n",
    "    'min_child_weight': 8, \n",
    "    'gamma'           : 0.000577280415637595, \n",
    "    'subsample'       : 0.7309115689873373, \n",
    "    'colsample_bytree': 0.7157383187006658, \n",
    "    'lambda'          : 0.8253860980908846, \n",
    "    'alpha'           : 0.505765671772347,\n",
    "    'objective'       : 'multi:softprob',\n",
    "    'tree_method'     :'auto',\n",
    "    'eval_metric'     :'mlogloss',\n",
    "    'random_state'    : RANDOM,\n",
    "}\n",
    "xgb_params = {\n",
    "    'n_estimators'          : 5000,\n",
    "    'early_stopping_rounds' :75,\n",
    "}\n",
    "# train params\n",
    "xgb_params.update(xgb_best)\n",
    "\n",
    "# train\n",
    "xgb_model = XGBClassifier(**xgb_params)\n",
    "xgb_model.fit(X_train, y_train,  eval_set =[(X_train,y_train),(X_test,y_test)],verbose=0)\n",
    "\n",
    "# plot training metrics\n",
    "plot_training_metrics(xgb_model, 'xgb', 'mlogloss')\n",
    "\n",
    "# test on train data \n",
    "y_pred = xgb_model.predict(X_test)\n",
    "\n",
    "# plot feature importance\n",
    "plot_feature_importance(xgb_model,'xgb','gain',True,15)\n",
    "\n",
    "# accuracy\n",
    "acc = accuracy_score(y_test,y_pred)\n",
    "print(f\"Accuracy Score:{acc}\")\n",
    "\n",
    "# clear some memmory\n",
    "gc.collect()"
   ]
  },
  {
   "cell_type": "markdown",
   "id": "25de6048",
   "metadata": {
    "papermill": {
     "duration": 0.013427,
     "end_time": "2024-02-08T03:12:26.662421",
     "exception": false,
     "start_time": "2024-02-08T03:12:26.648994",
     "status": "completed"
    },
    "tags": []
   },
   "source": [
    "## Light GBM\n",
    "### LGBM Hyperparameter Tuning"
   ]
  },
  {
   "cell_type": "code",
   "execution_count": 18,
   "id": "4064f314",
   "metadata": {
    "execution": {
     "iopub.execute_input": "2024-02-08T03:12:26.693884Z",
     "iopub.status.busy": "2024-02-08T03:12:26.693361Z",
     "iopub.status.idle": "2024-02-08T03:12:26.705243Z",
     "shell.execute_reply": "2024-02-08T03:12:26.703882Z"
    },
    "papermill": {
     "duration": 0.031067,
     "end_time": "2024-02-08T03:12:26.707955",
     "exception": false,
     "start_time": "2024-02-08T03:12:26.676888",
     "status": "completed"
    },
    "tags": []
   },
   "outputs": [],
   "source": [
    "def objective(trial):\n",
    "    #LGB params to tune\n",
    "    params = {\n",
    "        'objective'           : 'multiclass',\n",
    "        'boosting_type'       : 'gbdt',\n",
    "        'random_state'        : RANDOM,\n",
    "        'n_estimators'        : 500,\n",
    "        'metric'              : \"multi_logloss\",\n",
    "        \"verbosity\"         : -1,\n",
    "        'n_jobs'              : -1,\n",
    "        'learning_rate'       : trial.suggest_float('learning_rate', 0.01, 0.1),  \n",
    "        'max_depth'           : trial.suggest_int('max_depth',3, 12),\n",
    "        'min_child_samples'   : trial.suggest_int('min_child_samples',10,60),\n",
    "        'num_leaves'          : trial.suggest_int('num_leaves', 30, 60), \n",
    "        'subsample'           : trial.suggest_float('subsample', 0.3, 0.9), \n",
    "        'colsample_bytree'    : trial.suggest_float('colsample_bytree', 0.3, 0.9), \n",
    "        'reg_lambda'          : trial.suggest_float('reg_lambda', 0.1, 5),\n",
    "        'reg_alpha'           : trial.suggest_float('reg_alpha', 0.1, 5),\n",
    "    }\n",
    "\n",
    "    # model\n",
    "    lgb = LGBMClassifier(**params)\n",
    "\n",
    "    # use stratified kfold to evalute each set of model weights\n",
    "    skf= StratifiedKFold(n_splits=3, shuffle=True, random_state=RANDOM)\n",
    "\n",
    "    # Calculate the auc for each set of model weights\n",
    "    acc = cross_val_score(lgb, X_train, y_train, cv=skf, scoring='accuracy').mean()\n",
    "    \n",
    "    return acc\n",
    "\n",
    "\n",
    "# Optimize Hyperparameters\n",
    "# =====================================================================================================\n",
    "# # create the study and run the optimization\n",
    "# study = optuna.create_study(direction='maximize', sampler=optuna.samplers.TPESampler(seed=RANDOM))\n",
    "# study.optimize(objective, n_trials=50)\n",
    "\n",
    "# # get the best weights from the optimization\n",
    "# lgb_best = study.best_params\n",
    "# print(study.best_value)\n",
    "# print(lgb_best)\n",
    "\n",
    "# # clear some memmory\n",
    "# gc.collect()"
   ]
  },
  {
   "cell_type": "code",
   "execution_count": 19,
   "id": "5309cbcd",
   "metadata": {
    "execution": {
     "iopub.execute_input": "2024-02-08T03:12:26.739251Z",
     "iopub.status.busy": "2024-02-08T03:12:26.738700Z",
     "iopub.status.idle": "2024-02-08T03:12:37.163148Z",
     "shell.execute_reply": "2024-02-08T03:12:37.161733Z"
    },
    "papermill": {
     "duration": 10.442671,
     "end_time": "2024-02-08T03:12:37.165709",
     "exception": false,
     "start_time": "2024-02-08T03:12:26.723038",
     "status": "completed"
    },
    "tags": []
   },
   "outputs": [
    {
     "data": {
      "text/html": [
       "<div>                            <div id=\"0fd0cbbd-6c24-47c1-bbd8-348bf8954c9f\" class=\"plotly-graph-div\" style=\"height:400px; width:800px;\"></div>            <script type=\"text/javascript\">                require([\"plotly\"], function(Plotly) {                    window.PLOTLYENV=window.PLOTLYENV || {};                                    if (document.getElementById(\"0fd0cbbd-6c24-47c1-bbd8-348bf8954c9f\")) {                    Plotly.newPlot(                        \"0fd0cbbd-6c24-47c1-bbd8-348bf8954c9f\",                        [{\"line\":{\"color\":\"#53808D\",\"width\":2},\"name\":\"Training\",\"x\":[0,1,2,3,4,5,6,7,8,9,10,11,12,13,14,15,16,17,18,19,20,21,22,23,24,25,26,27,28,29,30,31,32,33,34,35,36,37,38,39,40,41,42,43,44,45,46,47,48,49,50,51,52,53,54,55,56,57,58,59,60,61,62,63,64,65,66,67,68,69,70,71,72,73,74,75,76,77,78,79,80,81,82,83,84,85,86,87,88,89,90,91,92,93,94,95,96,97,98,99,100,101,102,103,104,105,106,107,108,109,110,111,112,113,114,115,116,117,118,119,120,121,122,123,124,125,126,127,128,129,130,131,132,133,134,135,136,137,138,139,140,141,142,143,144,145,146,147,148,149,150,151,152,153,154,155,156,157,158,159,160,161,162,163,164,165,166,167,168,169,170,171,172,173,174,175,176,177,178,179,180,181,182,183,184,185,186,187,188,189,190,191,192,193,194,195,196,197,198,199,200,201,202,203,204,205,206,207,208,209,210,211,212,213,214,215,216,217,218,219,220,221,222,223,224,225,226,227,228,229,230,231,232,233,234,235,236,237,238,239,240,241,242,243,244,245,246,247,248,249,250,251,252,253,254,255,256,257,258,259,260,261,262,263,264,265,266,267,268,269,270,271,272,273,274,275],\"y\":[1.8469453693651576,1.7627848812003304,1.6824053158164196,1.6018110894461166,1.5375803074767966,1.472035854734088,1.4144489696296372,1.3571956218270036,1.3098005609858818,1.271285529351521,1.224550794380869,1.1878678137676388,1.151951921838411,1.1114253055444712,1.0795449996964872,1.0493321185854774,1.0221037224923955,0.9934788927138638,0.9685553163953378,0.9433336523110971,0.9206529700984404,0.895868174735522,0.8740225856210806,0.8514511989677974,0.8337194978065005,0.8133146979677468,0.7956674522161243,0.7753505631051261,0.7555504075860118,0.7390628147818804,0.7247221560540773,0.7105064887914925,0.6958967316984136,0.6808169450404212,0.6669861594883062,0.65368134600585,0.6415942632607141,0.6301616309030481,0.6179274606404871,0.6064891307774951,0.5949874267900589,0.5845904426702179,0.5745230878206486,0.5649845051752268,0.5553054587120341,0.5459557122658899,0.5369224965116081,0.5289187594503073,0.520862246962764,0.513572120226355,0.5060839712829913,0.49865545819427637,0.4913419576071798,0.4847982396339889,0.4777995255769714,0.471152871047482,0.4654120741069271,0.45972094853217166,0.4541444979340383,0.44926633805755994,0.4435524669883013,0.43874783490852093,0.4341927281490245,0.42928628621555953,0.4252863565997879,0.4211472897899623,0.4165409199184766,0.4128094580517132,0.4089217909727698,0.40509744368902834,0.40119946797152367,0.39723756067364774,0.39350253660833334,0.3903613659504034,0.3868988742986783,0.38391487588568973,0.3810278548514944,0.3778020552231617,0.3750939218561986,0.3720177100593363,0.3693186871986313,0.3666364318191193,0.363717854346457,0.3610854768745946,0.35846219216203173,0.3562751570857232,0.3537556608923339,0.3514908120818975,0.34952196953384734,0.3472666195638989,0.3451302546230075,0.34302281134588436,0.34087620293305537,0.3390957524030153,0.33714831181400345,0.3352805674778144,0.3337105577064729,0.3318807371943539,0.3303874816000507,0.3288049476218619,0.32701079670859035,0.325470428733524,0.32376977798070206,0.3222829929123727,0.32078705797902174,0.3192201953612164,0.31772581913893044,0.3163137592480048,0.3150762201790335,0.31365255696715266,0.3121842140441631,0.3108888161193691,0.3097901694307756,0.3085130924541136,0.3071835737577189,0.306003638676825,0.3047162614559853,0.3034810219017761,0.30249218923039145,0.30140351638390744,0.30022130096605876,0.2990504360818024,0.29803796190238696,0.2971116217956717,0.2960534913391283,0.2951867618450666,0.29419542767471235,0.29315531640900067,0.29216762389126016,0.2912817776715694,0.29029103552262836,0.28943262814441095,0.2884688603767424,0.2877198117005114,0.2868819143713211,0.2860426393684569,0.28508493024799364,0.28429999244881693,0.2834519720782282,0.28258469347445925,0.2817466763541781,0.2808529154153514,0.2800789313227683,0.27940059801530454,0.27877707372999966,0.278002926881802,0.27725897848270364,0.27661411314959594,0.2760264637823225,0.275459106078652,0.2747549716695971,0.27417782064806334,0.27344928091991416,0.2727932912848712,0.27218476900787814,0.27157495991351266,0.2708629394995504,0.27025617861354867,0.2696093533244112,0.2689718963537012,0.26840758455922265,0.2678037299440369,0.26720362243167467,0.2666415146825708,0.26613042012826654,0.2656532214404462,0.2651040518044128,0.26462891156862356,0.2641222734420281,0.2635885047686167,0.2630896659890999,0.2626041572507934,0.2620173532148439,0.26149538560258434,0.26100696782896005,0.2604465134031631,0.2598426836126764,0.2592251269155357,0.2587522837964953,0.2583033172821558,0.25783797089459054,0.25741602094961735,0.2568904053714405,0.2563799073592447,0.25591380286396287,0.2554238748203093,0.2550806913095935,0.25460071610790014,0.2541851743338637,0.25375027277647433,0.25335358623393134,0.2528957923234625,0.2525207588787629,0.25212467790279647,0.25176173304792676,0.25138265840896856,0.25099512953175906,0.25057736184344465,0.25026400228891055,0.24987950421644417,0.24946567470193595,0.24912289699828097,0.24876439520351987,0.24845884984527428,0.2480964404314101,0.24766310491855903,0.24734825468875205,0.24694259875992958,0.2465774309805887,0.24621354657626873,0.24582437648907762,0.2455250176196481,0.24518650832689715,0.2447682394849462,0.24438782718504232,0.24402778976345504,0.2436883034889018,0.24342870335471303,0.24309038937707866,0.242737483151114,0.2423630220135555,0.24196038284739857,0.2415872460071254,0.2411986201912076,0.24087279744910756,0.24055590096185203,0.24018002642217662,0.23993903554213783,0.23964328315526162,0.23930562628474222,0.23897373030991984,0.2386949753661641,0.23834305361476174,0.23797102091744574,0.23760705709483254,0.2373019283729628,0.23692771843637475,0.23658904438208225,0.2362580158249892,0.23594659533272316,0.23556699927195798,0.23521757432110862,0.2349378373503255,0.23462970678824308,0.234288220423964,0.23396040095046414,0.23365457674108656,0.23335246047663807,0.2331139258081889,0.23281051997724403,0.23252831815568192,0.2322473863872607,0.23196986737074202,0.2317522422465165,0.23146181156195136,0.2312075348358244,0.23098398723647387,0.230640944533124,0.23037266412245222,0.23013894781621239,0.22984747152920973,0.22955695960454428,0.22925143749920743,0.22896224918107735,0.2286526601867567,0.22840888189376496,0.22812458162137153,0.22781531262962,0.2275905443633909,0.22739926075105873,0.22717742196487267,0.22695292496438654,0.22666604436860815,0.22639670773012088,0.2261230668934863,0.2258773144574843],\"type\":\"scatter\"},{\"line\":{\"color\":\"#FC4C02\",\"width\":2},\"name\":\"Validation\",\"x\":[0,1,2,3,4,5,6,7,8,9,10,11,12,13,14,15,16,17,18,19,20,21,22,23,24,25,26,27,28,29,30,31,32,33,34,35,36,37,38,39,40,41,42,43,44,45,46,47,48,49,50,51,52,53,54,55,56,57,58,59,60,61,62,63,64,65,66,67,68,69,70,71,72,73,74,75,76,77,78,79,80,81,82,83,84,85,86,87,88,89,90,91,92,93,94,95,96,97,98,99,100,101,102,103,104,105,106,107,108,109,110,111,112,113,114,115,116,117,118,119,120,121,122,123,124,125,126,127,128,129,130,131,132,133,134,135,136,137,138,139,140,141,142,143,144,145,146,147,148,149,150,151,152,153,154,155,156,157,158,159,160,161,162,163,164,165,166,167,168,169,170,171,172,173,174,175,176,177,178,179,180,181,182,183,184,185,186,187,188,189,190,191,192,193,194,195,196,197,198,199,200,201,202,203,204,205,206,207,208,209,210,211,212,213,214,215,216,217,218,219,220,221,222,223,224,225,226,227,228,229,230,231,232,233,234,235,236,237,238,239,240,241,242,243,244,245,246,247,248,249,250,251,252,253,254,255,256,257,258,259,260,261,262,263,264,265,266,267,268,269,270,271,272,273,274,275],\"y\":[1.8561394406569753,1.7728315228064018,1.6923570308348768,1.6106950630210413,1.5497483749668868,1.4840376638325603,1.4262233063649317,1.3746930686356407,1.3313296555411096,1.2932947466829117,1.245458048712334,1.2118767742701253,1.1756279663942155,1.1351947416745494,1.1045487510454095,1.0769553818639463,1.0495973250054849,1.0233956434486695,1.0008389869885792,0.9753761046601653,0.9523134394310415,0.9294237748382849,0.9095003777518541,0.8891704831972521,0.8734210384770407,0.8523936316879457,0.834278334986462,0.8134264156848043,0.795670484876294,0.778566663761691,0.7647099549269067,0.7506832803457004,0.7352913526392437,0.7196727235745798,0.7073806843738559,0.6939932740203317,0.6812609604759129,0.6711222360289436,0.6583022018139756,0.6463770891602778,0.6363089726898655,0.6255913437092099,0.6151547541703488,0.6050583083212976,0.5949811866588995,0.5850866740658224,0.5755171826658169,0.5686808136681214,0.5614934516875603,0.5538373681191254,0.5457783903256888,0.5377470030220778,0.5298063846158109,0.5227702115200643,0.5165341762756883,0.5109525442596625,0.5051546524880189,0.4994359836936753,0.4948820389073468,0.4911189196919557,0.48618176380462147,0.482324258098254,0.47755693505187485,0.47354263356844245,0.4709813003099085,0.4665192318187714,0.4615760603325527,0.4590504685733993,0.45480630111148956,0.4506993745490734,0.4463211273869758,0.4421021389167551,0.43818665790646566,0.4350769939485497,0.43149159047799984,0.42845101836289884,0.4268670121217525,0.42339529387804153,0.42047104496977,0.4185628403293254,0.41690517128279336,0.4152447357081437,0.413022914593155,0.4114974598710133,0.4099623097572023,0.4089467766854155,0.40620553658250264,0.4036126283878099,0.40269277245816626,0.40028349639927796,0.39782142053623626,0.39544629923275865,0.39433014438203745,0.39266991670820794,0.3918668103602725,0.3897253897580007,0.3894635173833108,0.3889036538406049,0.38843492297171595,0.3867219736455695,0.3859589308499178,0.38539595424314865,0.38468593150965935,0.3836685472793206,0.3830236131476517,0.3811846686929785,0.37955986659618934,0.37799708898276135,0.37799626301843303,0.3767734547015224,0.37636271739252913,0.3748405438531123,0.3739330203451237,0.37261136897128827,0.3720803524353222,0.3718076941627155,0.3705227885169833,0.3692582718912502,0.36956037878536135,0.36958188654319785,0.36946828043524277,0.36949520876108827,0.36843548713479135,0.36853446942315743,0.36869342882095596,0.3681151876572071,0.3672673087926662,0.36610757697889107,0.36522875381813963,0.36420896902455946,0.3630951606748699,0.36206251831753244,0.3611583501361616,0.36038382571670674,0.3594449231328214,0.35843320804081574,0.3574663327200063,0.3573351095447879,0.35713431644648036,0.35658320452548203,0.3568669623744855,0.35721334248477826,0.35756450444472565,0.3570442408135836,0.3565300953734689,0.35641152689027866,0.35563988051768075,0.35557348374975467,0.35580349805241934,0.3552511521432255,0.35563813007080286,0.35576514776394724,0.35619575329139797,0.35571665374335687,0.35611077008543224,0.35623594613999493,0.35646110383330654,0.3558839876374639,0.35519987168714334,0.3545472430701871,0.3558083648367665,0.35544811233027157,0.3549848477556222,0.3548024008808829,0.3551356801735804,0.35545550916521257,0.35596155983561156,0.3562865729100635,0.35641505310512606,0.35597587669843267,0.3555662747859331,0.3550749419057448,0.3544807328855734,0.3549408084564588,0.3544099320526765,0.35384057750011066,0.3541584851345172,0.3543455430459528,0.3544325549435899,0.35452331006334104,0.35492206537699933,0.35498592967892817,0.3545196500165366,0.35459918623986336,0.3542815957111578,0.3547057479966773,0.35480643997818967,0.35453577090720634,0.3544908273574379,0.3547148938017454,0.3542200356845031,0.3540001877835904,0.35422746320248555,0.35390223080549915,0.3542776002453577,0.35444670055897187,0.3549969116292206,0.3547007955509978,0.3546916634057908,0.3544560127482362,0.3542547742531807,0.3543155650984149,0.35410514620203215,0.35395951388688707,0.3542745784506492,0.35534746054014676,0.3551917357028431,0.3549185054410185,0.3560522327642909,0.3564774024152749,0.3568851465827607,0.3575475742758657,0.3575808714101775,0.3579165970219519,0.35820164693459977,0.3587477538151583,0.3585540098716653,0.35831039838515233,0.3587915652337674,0.3590874232020614,0.3588095929465397,0.3595490818016591,0.3607483634813128,0.3619680989926187,0.3624987383888623,0.3637173934149713,0.3650274665705488,0.36492206114899167,0.3647640963440618,0.36621476332632924,0.36598752703998677,0.36607183301153673,0.36602294394161483,0.36611946205688667,0.36621395140204566,0.36619610324325474,0.36601423065604943,0.36615767720435144,0.36633304644034476,0.3664666209367007,0.36619014578431336,0.36661543310434364,0.36647779359077626,0.3669422185164415,0.3669584382272784,0.36748595225483394,0.367591171915128,0.3678451792623957,0.3677023008653616,0.3680237952099563,0.368544365159018,0.36847833625522153,0.36893728403282766,0.36896827790720194,0.36927474041217656,0.37042880034805026,0.3704357720398783,0.3703643332193475,0.3703497313537631,0.37102816881196493,0.3710642600227585,0.37104354160052616,0.3708520212123278,0.3709303221225598,0.3708997501963915,0.3710717521040332,0.37223902628926897,0.3724671234488326,0.3729234726710223,0.3726549050477965,0.37250403093052814,0.372336512513289,0.37226295966257594,0.3724202158300652,0.3735949724325057,0.373806362878432],\"type\":\"scatter\"}],                        {\"template\":{\"data\":{\"barpolar\":[{\"marker\":{\"line\":{\"color\":\"white\",\"width\":0.5},\"pattern\":{\"fillmode\":\"overlay\",\"size\":10,\"solidity\":0.2}},\"type\":\"barpolar\"}],\"bar\":[{\"error_x\":{\"color\":\"#2a3f5f\"},\"error_y\":{\"color\":\"#2a3f5f\"},\"marker\":{\"line\":{\"color\":\"white\",\"width\":0.5},\"pattern\":{\"fillmode\":\"overlay\",\"size\":10,\"solidity\":0.2}},\"type\":\"bar\"}],\"carpet\":[{\"aaxis\":{\"endlinecolor\":\"#2a3f5f\",\"gridcolor\":\"#C8D4E3\",\"linecolor\":\"#C8D4E3\",\"minorgridcolor\":\"#C8D4E3\",\"startlinecolor\":\"#2a3f5f\"},\"baxis\":{\"endlinecolor\":\"#2a3f5f\",\"gridcolor\":\"#C8D4E3\",\"linecolor\":\"#C8D4E3\",\"minorgridcolor\":\"#C8D4E3\",\"startlinecolor\":\"#2a3f5f\"},\"type\":\"carpet\"}],\"choropleth\":[{\"colorbar\":{\"outlinewidth\":0,\"ticks\":\"\"},\"type\":\"choropleth\"}],\"contourcarpet\":[{\"colorbar\":{\"outlinewidth\":0,\"ticks\":\"\"},\"type\":\"contourcarpet\"}],\"contour\":[{\"colorbar\":{\"outlinewidth\":0,\"ticks\":\"\"},\"colorscale\":[[0.0,\"#0d0887\"],[0.1111111111111111,\"#46039f\"],[0.2222222222222222,\"#7201a8\"],[0.3333333333333333,\"#9c179e\"],[0.4444444444444444,\"#bd3786\"],[0.5555555555555556,\"#d8576b\"],[0.6666666666666666,\"#ed7953\"],[0.7777777777777778,\"#fb9f3a\"],[0.8888888888888888,\"#fdca26\"],[1.0,\"#f0f921\"]],\"type\":\"contour\"}],\"heatmapgl\":[{\"colorbar\":{\"outlinewidth\":0,\"ticks\":\"\"},\"colorscale\":[[0.0,\"#0d0887\"],[0.1111111111111111,\"#46039f\"],[0.2222222222222222,\"#7201a8\"],[0.3333333333333333,\"#9c179e\"],[0.4444444444444444,\"#bd3786\"],[0.5555555555555556,\"#d8576b\"],[0.6666666666666666,\"#ed7953\"],[0.7777777777777778,\"#fb9f3a\"],[0.8888888888888888,\"#fdca26\"],[1.0,\"#f0f921\"]],\"type\":\"heatmapgl\"}],\"heatmap\":[{\"colorbar\":{\"outlinewidth\":0,\"ticks\":\"\"},\"colorscale\":[[0.0,\"#0d0887\"],[0.1111111111111111,\"#46039f\"],[0.2222222222222222,\"#7201a8\"],[0.3333333333333333,\"#9c179e\"],[0.4444444444444444,\"#bd3786\"],[0.5555555555555556,\"#d8576b\"],[0.6666666666666666,\"#ed7953\"],[0.7777777777777778,\"#fb9f3a\"],[0.8888888888888888,\"#fdca26\"],[1.0,\"#f0f921\"]],\"type\":\"heatmap\"}],\"histogram2dcontour\":[{\"colorbar\":{\"outlinewidth\":0,\"ticks\":\"\"},\"colorscale\":[[0.0,\"#0d0887\"],[0.1111111111111111,\"#46039f\"],[0.2222222222222222,\"#7201a8\"],[0.3333333333333333,\"#9c179e\"],[0.4444444444444444,\"#bd3786\"],[0.5555555555555556,\"#d8576b\"],[0.6666666666666666,\"#ed7953\"],[0.7777777777777778,\"#fb9f3a\"],[0.8888888888888888,\"#fdca26\"],[1.0,\"#f0f921\"]],\"type\":\"histogram2dcontour\"}],\"histogram2d\":[{\"colorbar\":{\"outlinewidth\":0,\"ticks\":\"\"},\"colorscale\":[[0.0,\"#0d0887\"],[0.1111111111111111,\"#46039f\"],[0.2222222222222222,\"#7201a8\"],[0.3333333333333333,\"#9c179e\"],[0.4444444444444444,\"#bd3786\"],[0.5555555555555556,\"#d8576b\"],[0.6666666666666666,\"#ed7953\"],[0.7777777777777778,\"#fb9f3a\"],[0.8888888888888888,\"#fdca26\"],[1.0,\"#f0f921\"]],\"type\":\"histogram2d\"}],\"histogram\":[{\"marker\":{\"pattern\":{\"fillmode\":\"overlay\",\"size\":10,\"solidity\":0.2}},\"type\":\"histogram\"}],\"mesh3d\":[{\"colorbar\":{\"outlinewidth\":0,\"ticks\":\"\"},\"type\":\"mesh3d\"}],\"parcoords\":[{\"line\":{\"colorbar\":{\"outlinewidth\":0,\"ticks\":\"\"}},\"type\":\"parcoords\"}],\"pie\":[{\"automargin\":true,\"type\":\"pie\"}],\"scatter3d\":[{\"line\":{\"colorbar\":{\"outlinewidth\":0,\"ticks\":\"\"}},\"marker\":{\"colorbar\":{\"outlinewidth\":0,\"ticks\":\"\"}},\"type\":\"scatter3d\"}],\"scattercarpet\":[{\"marker\":{\"colorbar\":{\"outlinewidth\":0,\"ticks\":\"\"}},\"type\":\"scattercarpet\"}],\"scattergeo\":[{\"marker\":{\"colorbar\":{\"outlinewidth\":0,\"ticks\":\"\"}},\"type\":\"scattergeo\"}],\"scattergl\":[{\"marker\":{\"colorbar\":{\"outlinewidth\":0,\"ticks\":\"\"}},\"type\":\"scattergl\"}],\"scattermapbox\":[{\"marker\":{\"colorbar\":{\"outlinewidth\":0,\"ticks\":\"\"}},\"type\":\"scattermapbox\"}],\"scatterpolargl\":[{\"marker\":{\"colorbar\":{\"outlinewidth\":0,\"ticks\":\"\"}},\"type\":\"scatterpolargl\"}],\"scatterpolar\":[{\"marker\":{\"colorbar\":{\"outlinewidth\":0,\"ticks\":\"\"}},\"type\":\"scatterpolar\"}],\"scatter\":[{\"fillpattern\":{\"fillmode\":\"overlay\",\"size\":10,\"solidity\":0.2},\"type\":\"scatter\"}],\"scatterternary\":[{\"marker\":{\"colorbar\":{\"outlinewidth\":0,\"ticks\":\"\"}},\"type\":\"scatterternary\"}],\"surface\":[{\"colorbar\":{\"outlinewidth\":0,\"ticks\":\"\"},\"colorscale\":[[0.0,\"#0d0887\"],[0.1111111111111111,\"#46039f\"],[0.2222222222222222,\"#7201a8\"],[0.3333333333333333,\"#9c179e\"],[0.4444444444444444,\"#bd3786\"],[0.5555555555555556,\"#d8576b\"],[0.6666666666666666,\"#ed7953\"],[0.7777777777777778,\"#fb9f3a\"],[0.8888888888888888,\"#fdca26\"],[1.0,\"#f0f921\"]],\"type\":\"surface\"}],\"table\":[{\"cells\":{\"fill\":{\"color\":\"#EBF0F8\"},\"line\":{\"color\":\"white\"}},\"header\":{\"fill\":{\"color\":\"#C8D4E3\"},\"line\":{\"color\":\"white\"}},\"type\":\"table\"}]},\"layout\":{\"annotationdefaults\":{\"arrowcolor\":\"#2a3f5f\",\"arrowhead\":0,\"arrowwidth\":1},\"autotypenumbers\":\"strict\",\"coloraxis\":{\"colorbar\":{\"outlinewidth\":0,\"ticks\":\"\"}},\"colorscale\":{\"diverging\":[[0,\"#8e0152\"],[0.1,\"#c51b7d\"],[0.2,\"#de77ae\"],[0.3,\"#f1b6da\"],[0.4,\"#fde0ef\"],[0.5,\"#f7f7f7\"],[0.6,\"#e6f5d0\"],[0.7,\"#b8e186\"],[0.8,\"#7fbc41\"],[0.9,\"#4d9221\"],[1,\"#276419\"]],\"sequential\":[[0.0,\"#0d0887\"],[0.1111111111111111,\"#46039f\"],[0.2222222222222222,\"#7201a8\"],[0.3333333333333333,\"#9c179e\"],[0.4444444444444444,\"#bd3786\"],[0.5555555555555556,\"#d8576b\"],[0.6666666666666666,\"#ed7953\"],[0.7777777777777778,\"#fb9f3a\"],[0.8888888888888888,\"#fdca26\"],[1.0,\"#f0f921\"]],\"sequentialminus\":[[0.0,\"#0d0887\"],[0.1111111111111111,\"#46039f\"],[0.2222222222222222,\"#7201a8\"],[0.3333333333333333,\"#9c179e\"],[0.4444444444444444,\"#bd3786\"],[0.5555555555555556,\"#d8576b\"],[0.6666666666666666,\"#ed7953\"],[0.7777777777777778,\"#fb9f3a\"],[0.8888888888888888,\"#fdca26\"],[1.0,\"#f0f921\"]]},\"colorway\":[\"#636efa\",\"#EF553B\",\"#00cc96\",\"#ab63fa\",\"#FFA15A\",\"#19d3f3\",\"#FF6692\",\"#B6E880\",\"#FF97FF\",\"#FECB52\"],\"font\":{\"color\":\"#2a3f5f\"},\"geo\":{\"bgcolor\":\"white\",\"lakecolor\":\"white\",\"landcolor\":\"white\",\"showlakes\":true,\"showland\":true,\"subunitcolor\":\"#C8D4E3\"},\"hoverlabel\":{\"align\":\"left\"},\"hovermode\":\"closest\",\"mapbox\":{\"style\":\"light\"},\"paper_bgcolor\":\"white\",\"plot_bgcolor\":\"white\",\"polar\":{\"angularaxis\":{\"gridcolor\":\"#EBF0F8\",\"linecolor\":\"#EBF0F8\",\"ticks\":\"\"},\"bgcolor\":\"white\",\"radialaxis\":{\"gridcolor\":\"#EBF0F8\",\"linecolor\":\"#EBF0F8\",\"ticks\":\"\"}},\"scene\":{\"xaxis\":{\"backgroundcolor\":\"white\",\"gridcolor\":\"#DFE8F3\",\"gridwidth\":2,\"linecolor\":\"#EBF0F8\",\"showbackground\":true,\"ticks\":\"\",\"zerolinecolor\":\"#EBF0F8\"},\"yaxis\":{\"backgroundcolor\":\"white\",\"gridcolor\":\"#DFE8F3\",\"gridwidth\":2,\"linecolor\":\"#EBF0F8\",\"showbackground\":true,\"ticks\":\"\",\"zerolinecolor\":\"#EBF0F8\"},\"zaxis\":{\"backgroundcolor\":\"white\",\"gridcolor\":\"#DFE8F3\",\"gridwidth\":2,\"linecolor\":\"#EBF0F8\",\"showbackground\":true,\"ticks\":\"\",\"zerolinecolor\":\"#EBF0F8\"}},\"shapedefaults\":{\"line\":{\"color\":\"#2a3f5f\"}},\"ternary\":{\"aaxis\":{\"gridcolor\":\"#DFE8F3\",\"linecolor\":\"#A2B1C6\",\"ticks\":\"\"},\"baxis\":{\"gridcolor\":\"#DFE8F3\",\"linecolor\":\"#A2B1C6\",\"ticks\":\"\"},\"bgcolor\":\"white\",\"caxis\":{\"gridcolor\":\"#DFE8F3\",\"linecolor\":\"#A2B1C6\",\"ticks\":\"\"}},\"title\":{\"x\":0.05},\"xaxis\":{\"automargin\":true,\"gridcolor\":\"#EBF0F8\",\"linecolor\":\"#EBF0F8\",\"ticks\":\"\",\"title\":{\"standoff\":15},\"zerolinecolor\":\"#EBF0F8\",\"zerolinewidth\":2},\"yaxis\":{\"automargin\":true,\"gridcolor\":\"#EBF0F8\",\"linecolor\":\"#EBF0F8\",\"ticks\":\"\",\"title\":{\"standoff\":15},\"zerolinecolor\":\"#EBF0F8\",\"zerolinewidth\":2}}},\"title\":{\"text\":\"\\u003cb\\u003eTraining Metrics: MULTI_LOGLOSS\\u003c\\u002fb\\u003e\"},\"width\":800,\"height\":400},                        {\"responsive\": true}                    ).then(function(){\n",
       "                            \n",
       "var gd = document.getElementById('0fd0cbbd-6c24-47c1-bbd8-348bf8954c9f');\n",
       "var x = new MutationObserver(function (mutations, observer) {{\n",
       "        var display = window.getComputedStyle(gd).display;\n",
       "        if (!display || display === 'none') {{\n",
       "            console.log([gd, 'removed!']);\n",
       "            Plotly.purge(gd);\n",
       "            observer.disconnect();\n",
       "        }}\n",
       "}});\n",
       "\n",
       "// Listen for the removal of the full notebook cells\n",
       "var notebookContainer = gd.closest('#notebook-container');\n",
       "if (notebookContainer) {{\n",
       "    x.observe(notebookContainer, {childList: true});\n",
       "}}\n",
       "\n",
       "// Listen for the clearing of the current output cell\n",
       "var outputEl = gd.closest('.output');\n",
       "if (outputEl) {{\n",
       "    x.observe(outputEl, {childList: true});\n",
       "}}\n",
       "\n",
       "                        })                };                });            </script>        </div>"
      ]
     },
     "metadata": {},
     "output_type": "display_data"
    },
    {
     "data": {
      "text/html": [
       "<div>                            <div id=\"cdf2dbc1-6953-4453-8bab-125898d11cb1\" class=\"plotly-graph-div\" style=\"height:500px; width:500px;\"></div>            <script type=\"text/javascript\">                require([\"plotly\"], function(Plotly) {                    window.PLOTLYENV=window.PLOTLYENV || {};                                    if (document.getElementById(\"cdf2dbc1-6953-4453-8bab-125898d11cb1\")) {                    Plotly.newPlot(                        \"cdf2dbc1-6953-4453-8bab-125898d11cb1\",                        [{\"marker\":{\"color\":\"#53808D\"},\"name\":\"Importance\",\"orientation\":\"h\",\"x\":[0.011313380643834208,0.013473207857657103,0.016867222050807363,0.020621207446261444,0.032140285919983545,0.03388871747403065,0.05343001131338065,0.05522986732489972,0.06032088861462512,0.0609379821042888,0.061452226679008536,0.10732284274400905,0.13606911447084233,0.14265144502725496,0.16219273886660496],\"y\":[\"cat__Gender_male\",\"remainder__FAVC\",\"remainder__FamiliyHistory\",\"cat__Gender_female\",\"ord__CALC\",\"ord__CAEC\",\"num__TUE\",\"num__CH2O\",\"num__FCVC\",\"num__NCP\",\"num__FAF\",\"num__Height\",\"num__Age\",\"num__BMI\",\"num__Weight\"],\"type\":\"bar\"}],                        {\"template\":{\"data\":{\"barpolar\":[{\"marker\":{\"line\":{\"color\":\"white\",\"width\":0.5},\"pattern\":{\"fillmode\":\"overlay\",\"size\":10,\"solidity\":0.2}},\"type\":\"barpolar\"}],\"bar\":[{\"error_x\":{\"color\":\"#2a3f5f\"},\"error_y\":{\"color\":\"#2a3f5f\"},\"marker\":{\"line\":{\"color\":\"white\",\"width\":0.5},\"pattern\":{\"fillmode\":\"overlay\",\"size\":10,\"solidity\":0.2}},\"type\":\"bar\"}],\"carpet\":[{\"aaxis\":{\"endlinecolor\":\"#2a3f5f\",\"gridcolor\":\"#C8D4E3\",\"linecolor\":\"#C8D4E3\",\"minorgridcolor\":\"#C8D4E3\",\"startlinecolor\":\"#2a3f5f\"},\"baxis\":{\"endlinecolor\":\"#2a3f5f\",\"gridcolor\":\"#C8D4E3\",\"linecolor\":\"#C8D4E3\",\"minorgridcolor\":\"#C8D4E3\",\"startlinecolor\":\"#2a3f5f\"},\"type\":\"carpet\"}],\"choropleth\":[{\"colorbar\":{\"outlinewidth\":0,\"ticks\":\"\"},\"type\":\"choropleth\"}],\"contourcarpet\":[{\"colorbar\":{\"outlinewidth\":0,\"ticks\":\"\"},\"type\":\"contourcarpet\"}],\"contour\":[{\"colorbar\":{\"outlinewidth\":0,\"ticks\":\"\"},\"colorscale\":[[0.0,\"#0d0887\"],[0.1111111111111111,\"#46039f\"],[0.2222222222222222,\"#7201a8\"],[0.3333333333333333,\"#9c179e\"],[0.4444444444444444,\"#bd3786\"],[0.5555555555555556,\"#d8576b\"],[0.6666666666666666,\"#ed7953\"],[0.7777777777777778,\"#fb9f3a\"],[0.8888888888888888,\"#fdca26\"],[1.0,\"#f0f921\"]],\"type\":\"contour\"}],\"heatmapgl\":[{\"colorbar\":{\"outlinewidth\":0,\"ticks\":\"\"},\"colorscale\":[[0.0,\"#0d0887\"],[0.1111111111111111,\"#46039f\"],[0.2222222222222222,\"#7201a8\"],[0.3333333333333333,\"#9c179e\"],[0.4444444444444444,\"#bd3786\"],[0.5555555555555556,\"#d8576b\"],[0.6666666666666666,\"#ed7953\"],[0.7777777777777778,\"#fb9f3a\"],[0.8888888888888888,\"#fdca26\"],[1.0,\"#f0f921\"]],\"type\":\"heatmapgl\"}],\"heatmap\":[{\"colorbar\":{\"outlinewidth\":0,\"ticks\":\"\"},\"colorscale\":[[0.0,\"#0d0887\"],[0.1111111111111111,\"#46039f\"],[0.2222222222222222,\"#7201a8\"],[0.3333333333333333,\"#9c179e\"],[0.4444444444444444,\"#bd3786\"],[0.5555555555555556,\"#d8576b\"],[0.6666666666666666,\"#ed7953\"],[0.7777777777777778,\"#fb9f3a\"],[0.8888888888888888,\"#fdca26\"],[1.0,\"#f0f921\"]],\"type\":\"heatmap\"}],\"histogram2dcontour\":[{\"colorbar\":{\"outlinewidth\":0,\"ticks\":\"\"},\"colorscale\":[[0.0,\"#0d0887\"],[0.1111111111111111,\"#46039f\"],[0.2222222222222222,\"#7201a8\"],[0.3333333333333333,\"#9c179e\"],[0.4444444444444444,\"#bd3786\"],[0.5555555555555556,\"#d8576b\"],[0.6666666666666666,\"#ed7953\"],[0.7777777777777778,\"#fb9f3a\"],[0.8888888888888888,\"#fdca26\"],[1.0,\"#f0f921\"]],\"type\":\"histogram2dcontour\"}],\"histogram2d\":[{\"colorbar\":{\"outlinewidth\":0,\"ticks\":\"\"},\"colorscale\":[[0.0,\"#0d0887\"],[0.1111111111111111,\"#46039f\"],[0.2222222222222222,\"#7201a8\"],[0.3333333333333333,\"#9c179e\"],[0.4444444444444444,\"#bd3786\"],[0.5555555555555556,\"#d8576b\"],[0.6666666666666666,\"#ed7953\"],[0.7777777777777778,\"#fb9f3a\"],[0.8888888888888888,\"#fdca26\"],[1.0,\"#f0f921\"]],\"type\":\"histogram2d\"}],\"histogram\":[{\"marker\":{\"pattern\":{\"fillmode\":\"overlay\",\"size\":10,\"solidity\":0.2}},\"type\":\"histogram\"}],\"mesh3d\":[{\"colorbar\":{\"outlinewidth\":0,\"ticks\":\"\"},\"type\":\"mesh3d\"}],\"parcoords\":[{\"line\":{\"colorbar\":{\"outlinewidth\":0,\"ticks\":\"\"}},\"type\":\"parcoords\"}],\"pie\":[{\"automargin\":true,\"type\":\"pie\"}],\"scatter3d\":[{\"line\":{\"colorbar\":{\"outlinewidth\":0,\"ticks\":\"\"}},\"marker\":{\"colorbar\":{\"outlinewidth\":0,\"ticks\":\"\"}},\"type\":\"scatter3d\"}],\"scattercarpet\":[{\"marker\":{\"colorbar\":{\"outlinewidth\":0,\"ticks\":\"\"}},\"type\":\"scattercarpet\"}],\"scattergeo\":[{\"marker\":{\"colorbar\":{\"outlinewidth\":0,\"ticks\":\"\"}},\"type\":\"scattergeo\"}],\"scattergl\":[{\"marker\":{\"colorbar\":{\"outlinewidth\":0,\"ticks\":\"\"}},\"type\":\"scattergl\"}],\"scattermapbox\":[{\"marker\":{\"colorbar\":{\"outlinewidth\":0,\"ticks\":\"\"}},\"type\":\"scattermapbox\"}],\"scatterpolargl\":[{\"marker\":{\"colorbar\":{\"outlinewidth\":0,\"ticks\":\"\"}},\"type\":\"scatterpolargl\"}],\"scatterpolar\":[{\"marker\":{\"colorbar\":{\"outlinewidth\":0,\"ticks\":\"\"}},\"type\":\"scatterpolar\"}],\"scatter\":[{\"fillpattern\":{\"fillmode\":\"overlay\",\"size\":10,\"solidity\":0.2},\"type\":\"scatter\"}],\"scatterternary\":[{\"marker\":{\"colorbar\":{\"outlinewidth\":0,\"ticks\":\"\"}},\"type\":\"scatterternary\"}],\"surface\":[{\"colorbar\":{\"outlinewidth\":0,\"ticks\":\"\"},\"colorscale\":[[0.0,\"#0d0887\"],[0.1111111111111111,\"#46039f\"],[0.2222222222222222,\"#7201a8\"],[0.3333333333333333,\"#9c179e\"],[0.4444444444444444,\"#bd3786\"],[0.5555555555555556,\"#d8576b\"],[0.6666666666666666,\"#ed7953\"],[0.7777777777777778,\"#fb9f3a\"],[0.8888888888888888,\"#fdca26\"],[1.0,\"#f0f921\"]],\"type\":\"surface\"}],\"table\":[{\"cells\":{\"fill\":{\"color\":\"#EBF0F8\"},\"line\":{\"color\":\"white\"}},\"header\":{\"fill\":{\"color\":\"#C8D4E3\"},\"line\":{\"color\":\"white\"}},\"type\":\"table\"}]},\"layout\":{\"annotationdefaults\":{\"arrowcolor\":\"#2a3f5f\",\"arrowhead\":0,\"arrowwidth\":1},\"autotypenumbers\":\"strict\",\"coloraxis\":{\"colorbar\":{\"outlinewidth\":0,\"ticks\":\"\"}},\"colorscale\":{\"diverging\":[[0,\"#8e0152\"],[0.1,\"#c51b7d\"],[0.2,\"#de77ae\"],[0.3,\"#f1b6da\"],[0.4,\"#fde0ef\"],[0.5,\"#f7f7f7\"],[0.6,\"#e6f5d0\"],[0.7,\"#b8e186\"],[0.8,\"#7fbc41\"],[0.9,\"#4d9221\"],[1,\"#276419\"]],\"sequential\":[[0.0,\"#0d0887\"],[0.1111111111111111,\"#46039f\"],[0.2222222222222222,\"#7201a8\"],[0.3333333333333333,\"#9c179e\"],[0.4444444444444444,\"#bd3786\"],[0.5555555555555556,\"#d8576b\"],[0.6666666666666666,\"#ed7953\"],[0.7777777777777778,\"#fb9f3a\"],[0.8888888888888888,\"#fdca26\"],[1.0,\"#f0f921\"]],\"sequentialminus\":[[0.0,\"#0d0887\"],[0.1111111111111111,\"#46039f\"],[0.2222222222222222,\"#7201a8\"],[0.3333333333333333,\"#9c179e\"],[0.4444444444444444,\"#bd3786\"],[0.5555555555555556,\"#d8576b\"],[0.6666666666666666,\"#ed7953\"],[0.7777777777777778,\"#fb9f3a\"],[0.8888888888888888,\"#fdca26\"],[1.0,\"#f0f921\"]]},\"colorway\":[\"#636efa\",\"#EF553B\",\"#00cc96\",\"#ab63fa\",\"#FFA15A\",\"#19d3f3\",\"#FF6692\",\"#B6E880\",\"#FF97FF\",\"#FECB52\"],\"font\":{\"color\":\"#2a3f5f\"},\"geo\":{\"bgcolor\":\"white\",\"lakecolor\":\"white\",\"landcolor\":\"white\",\"showlakes\":true,\"showland\":true,\"subunitcolor\":\"#C8D4E3\"},\"hoverlabel\":{\"align\":\"left\"},\"hovermode\":\"closest\",\"mapbox\":{\"style\":\"light\"},\"paper_bgcolor\":\"white\",\"plot_bgcolor\":\"white\",\"polar\":{\"angularaxis\":{\"gridcolor\":\"#EBF0F8\",\"linecolor\":\"#EBF0F8\",\"ticks\":\"\"},\"bgcolor\":\"white\",\"radialaxis\":{\"gridcolor\":\"#EBF0F8\",\"linecolor\":\"#EBF0F8\",\"ticks\":\"\"}},\"scene\":{\"xaxis\":{\"backgroundcolor\":\"white\",\"gridcolor\":\"#DFE8F3\",\"gridwidth\":2,\"linecolor\":\"#EBF0F8\",\"showbackground\":true,\"ticks\":\"\",\"zerolinecolor\":\"#EBF0F8\"},\"yaxis\":{\"backgroundcolor\":\"white\",\"gridcolor\":\"#DFE8F3\",\"gridwidth\":2,\"linecolor\":\"#EBF0F8\",\"showbackground\":true,\"ticks\":\"\",\"zerolinecolor\":\"#EBF0F8\"},\"zaxis\":{\"backgroundcolor\":\"white\",\"gridcolor\":\"#DFE8F3\",\"gridwidth\":2,\"linecolor\":\"#EBF0F8\",\"showbackground\":true,\"ticks\":\"\",\"zerolinecolor\":\"#EBF0F8\"}},\"shapedefaults\":{\"line\":{\"color\":\"#2a3f5f\"}},\"ternary\":{\"aaxis\":{\"gridcolor\":\"#DFE8F3\",\"linecolor\":\"#A2B1C6\",\"ticks\":\"\"},\"baxis\":{\"gridcolor\":\"#DFE8F3\",\"linecolor\":\"#A2B1C6\",\"ticks\":\"\"},\"bgcolor\":\"white\",\"caxis\":{\"gridcolor\":\"#DFE8F3\",\"linecolor\":\"#A2B1C6\",\"ticks\":\"\"}},\"title\":{\"x\":0.05},\"xaxis\":{\"automargin\":true,\"gridcolor\":\"#EBF0F8\",\"linecolor\":\"#EBF0F8\",\"ticks\":\"\",\"title\":{\"standoff\":15},\"zerolinecolor\":\"#EBF0F8\",\"zerolinewidth\":2},\"yaxis\":{\"automargin\":true,\"gridcolor\":\"#EBF0F8\",\"linecolor\":\"#EBF0F8\",\"ticks\":\"\",\"title\":{\"standoff\":15},\"zerolinecolor\":\"#EBF0F8\",\"zerolinewidth\":2}}},\"yaxis\":{\"type\":\"category\",\"tickmode\":\"linear\"},\"title\":{\"text\":\"\\u003cb\\u003eFeature Importance for the lgb model\\u003c\\u002fb\\u003e\\u003cbr\\u003eCalculated using feature weight\"},\"width\":500,\"height\":500},                        {\"responsive\": true}                    ).then(function(){\n",
       "                            \n",
       "var gd = document.getElementById('cdf2dbc1-6953-4453-8bab-125898d11cb1');\n",
       "var x = new MutationObserver(function (mutations, observer) {{\n",
       "        var display = window.getComputedStyle(gd).display;\n",
       "        if (!display || display === 'none') {{\n",
       "            console.log([gd, 'removed!']);\n",
       "            Plotly.purge(gd);\n",
       "            observer.disconnect();\n",
       "        }}\n",
       "}});\n",
       "\n",
       "// Listen for the removal of the full notebook cells\n",
       "var notebookContainer = gd.closest('#notebook-container');\n",
       "if (notebookContainer) {{\n",
       "    x.observe(notebookContainer, {childList: true});\n",
       "}}\n",
       "\n",
       "// Listen for the clearing of the current output cell\n",
       "var outputEl = gd.closest('.output');\n",
       "if (outputEl) {{\n",
       "    x.observe(outputEl, {childList: true});\n",
       "}}\n",
       "\n",
       "                        })                };                });            </script>        </div>"
      ]
     },
     "metadata": {},
     "output_type": "display_data"
    },
    {
     "name": "stdout",
     "output_type": "stream",
     "text": [
      "Accuracy Score:0.8723506743737958\n"
     ]
    },
    {
     "data": {
      "text/plain": [
       "1522"
      ]
     },
     "execution_count": 19,
     "metadata": {},
     "output_type": "execute_result"
    }
   ],
   "source": [
    "lgb_best = {\n",
    "    \"objective\"         : \"multiclass\",\n",
    "    \"metric\"            : \"multi_logloss\",\n",
    "    \"verbosity\"         : -1,\n",
    "    \"boosting_type\"     : \"gbdt\",\n",
    "    \"random_state\"      : RANDOM,\n",
    "    'feature_pre_filter': False,\n",
    "    'learning_rate'     : 0.02652139516618378, \n",
    "    'max_depth'         : 5, \n",
    "    'min_child_samples' : 12, \n",
    "    'num_leaves'        : 42, \n",
    "    'subsample'         : 0.8237381030243406, \n",
    "    'colsample_bytree'  : 0.5284799300520185, \n",
    "    'reg_lambda'        : 4.303870659102397, \n",
    "    'reg_alpha'         : 2.0590307690968483,\n",
    "    'bagging_freq'      : 4,\n",
    "}\n",
    "\n",
    "# lgb_best = {\n",
    "#     \"objective\"         : \"multiclass\",\n",
    "#     \"metric\"            : \"multi_logloss\",\n",
    "#     \"verbosity\"         : -1,\n",
    "#     \"boosting_type\"     : \"gbdt\",\n",
    "#     \"random_state\"      : RANDOM,\n",
    "#     \"num_class\"         : 7,\n",
    "#     \"learning_rate\"     :  0.01386432121252535,\n",
    "#     'n_estimators'      : 494,\n",
    "#     'feature_pre_filter': False,\n",
    "#     'lambda_l1'         : 1.2149501037669967e-07,\n",
    "#     'lambda_l2'         : 0.9230890143196759,\n",
    "#     'num_leaves'        : 31,\n",
    "#     'feature_fraction'  : 0.5,\n",
    "#     'bagging_fraction'  : 0.5523862448863431,\n",
    "#     'bagging_freq'      : 4,\n",
    "#     'min_child_samples' : 20\n",
    "# }\n",
    "lgb_params = {\n",
    "    'n_estimators'          : 5000,\n",
    "    'early_stopping_rounds' :100\n",
    "}\n",
    "lgb_params.update(lgb_best)\n",
    "\n",
    "\n",
    "lgb_model = LGBMClassifier(**lgb_params)\n",
    "lgb_model.fit(X_train, y_train,  eval_set =[(X_train,y_train),(X_test,y_test)])\n",
    "\n",
    "# plot training metrics\n",
    "plot_training_metrics(lgb_model, 'lgb', 'multi_logloss')\n",
    "\n",
    "# test on train data \n",
    "y_pred = lgb_model.predict(X_test)\n",
    "\n",
    "# plot feature importance\n",
    "plot_feature_importance(lgb_model,'lgb','weight',True, 15)\n",
    "\n",
    "# accuracy\n",
    "acc = accuracy_score(y_test,y_pred)\n",
    "print(f\"Accuracy Score:{acc}\")\n",
    "\n",
    "# clear some memmory\n",
    "gc.collect()\n",
    "\n"
   ]
  },
  {
   "cell_type": "markdown",
   "id": "4b66d00e",
   "metadata": {
    "papermill": {
     "duration": 0.014951,
     "end_time": "2024-02-08T03:12:37.196367",
     "exception": false,
     "start_time": "2024-02-08T03:12:37.181416",
     "status": "completed"
    },
    "tags": []
   },
   "source": [
    "## Submit the Model\n",
    "### Single XGB Model"
   ]
  },
  {
   "cell_type": "code",
   "execution_count": 20,
   "id": "79e79411",
   "metadata": {
    "execution": {
     "iopub.execute_input": "2024-02-08T03:12:37.228853Z",
     "iopub.status.busy": "2024-02-08T03:12:37.228362Z",
     "iopub.status.idle": "2024-02-08T03:12:47.604000Z",
     "shell.execute_reply": "2024-02-08T03:12:47.602537Z"
    },
    "papermill": {
     "duration": 10.39514,
     "end_time": "2024-02-08T03:12:47.606568",
     "exception": false,
     "start_time": "2024-02-08T03:12:37.211428",
     "status": "completed"
    },
    "tags": []
   },
   "outputs": [
    {
     "data": {
      "text/html": [
       "<div>\n",
       "<style scoped>\n",
       "    .dataframe tbody tr th:only-of-type {\n",
       "        vertical-align: middle;\n",
       "    }\n",
       "\n",
       "    .dataframe tbody tr th {\n",
       "        vertical-align: top;\n",
       "    }\n",
       "\n",
       "    .dataframe thead th {\n",
       "        text-align: right;\n",
       "    }\n",
       "</style>\n",
       "<table border=\"1\" class=\"dataframe\">\n",
       "  <thead>\n",
       "    <tr style=\"text-align: right;\">\n",
       "      <th></th>\n",
       "      <th>id</th>\n",
       "      <th>NObeyesdad</th>\n",
       "    </tr>\n",
       "  </thead>\n",
       "  <tbody>\n",
       "    <tr>\n",
       "      <th>0</th>\n",
       "      <td>20758</td>\n",
       "      <td>Obesity_Type_II</td>\n",
       "    </tr>\n",
       "    <tr>\n",
       "      <th>1</th>\n",
       "      <td>20759</td>\n",
       "      <td>Overweight_Level_I</td>\n",
       "    </tr>\n",
       "    <tr>\n",
       "      <th>2</th>\n",
       "      <td>20760</td>\n",
       "      <td>Obesity_Type_III</td>\n",
       "    </tr>\n",
       "    <tr>\n",
       "      <th>3</th>\n",
       "      <td>20761</td>\n",
       "      <td>Obesity_Type_I</td>\n",
       "    </tr>\n",
       "    <tr>\n",
       "      <th>4</th>\n",
       "      <td>20762</td>\n",
       "      <td>Obesity_Type_III</td>\n",
       "    </tr>\n",
       "  </tbody>\n",
       "</table>\n",
       "</div>"
      ],
      "text/plain": [
       "      id          NObeyesdad\n",
       "0  20758     Obesity_Type_II\n",
       "1  20759  Overweight_Level_I\n",
       "2  20760    Obesity_Type_III\n",
       "3  20761      Obesity_Type_I\n",
       "4  20762    Obesity_Type_III"
      ]
     },
     "execution_count": 20,
     "metadata": {},
     "output_type": "execute_result"
    }
   ],
   "source": [
    "xgb_best = {\n",
    "    'learning_rate'   : 0.050609513550763256, \n",
    "    'max_depth'       : 4, \n",
    "    'min_child_weight': 8, \n",
    "    'gamma'           : 0.000577280415637595, \n",
    "    'subsample'       : 0.7309115689873373, \n",
    "    'colsample_bytree': 0.7157383187006658, \n",
    "    'lambda'          : 0.8253860980908846, \n",
    "    'alpha'           : 0.505765671772347,\n",
    "    'objective'       : 'multi:softprob',\n",
    "    'tree_method'     :'auto',\n",
    "    'eval_metric'     :'mlogloss',\n",
    "    'random_state'    : RANDOM,\n",
    "}\n",
    "xgb_params = {\n",
    "    'n_estimators'          : 250,\n",
    "}\n",
    "# train params\n",
    "xgb_params.update(xgb_best)\n",
    "\n",
    "\n",
    "# train the model on all available data\n",
    "xgb_model = XGBClassifier(**xgb_params)\n",
    "xgb_model.fit(X,y,verbose=0)\n",
    "\n",
    "# predict on the test set\n",
    "y_pred = xgb_model.predict(X_submit)\n",
    "\n",
    "# assemble the submission data, decode the target variable back to strings\n",
    "df_submission = pd.DataFrame(zip(X_submit_ids,y_pred),columns = ['id','Target'])\n",
    "df_submission = encode_target_variable(df_submission,'decode')\n",
    "df_submission.to_csv(\"/kaggle/working/submission.csv\",index=False)\n",
    "df_submission.head()"
   ]
  },
  {
   "cell_type": "markdown",
   "id": "9686805f",
   "metadata": {
    "papermill": {
     "duration": 0.01517,
     "end_time": "2024-02-08T03:12:47.636955",
     "exception": false,
     "start_time": "2024-02-08T03:12:47.621785",
     "status": "completed"
    },
    "tags": []
   },
   "source": [
    "### Single Light GBM Model"
   ]
  },
  {
   "cell_type": "code",
   "execution_count": 21,
   "id": "1e9d8edb",
   "metadata": {
    "execution": {
     "iopub.execute_input": "2024-02-08T03:12:47.672551Z",
     "iopub.status.busy": "2024-02-08T03:12:47.670779Z",
     "iopub.status.idle": "2024-02-08T03:13:09.008467Z",
     "shell.execute_reply": "2024-02-08T03:13:09.007021Z"
    },
    "papermill": {
     "duration": 21.358118,
     "end_time": "2024-02-08T03:13:09.011184",
     "exception": false,
     "start_time": "2024-02-08T03:12:47.653066",
     "status": "completed"
    },
    "tags": []
   },
   "outputs": [
    {
     "data": {
      "text/html": [
       "<div>\n",
       "<style scoped>\n",
       "    .dataframe tbody tr th:only-of-type {\n",
       "        vertical-align: middle;\n",
       "    }\n",
       "\n",
       "    .dataframe tbody tr th {\n",
       "        vertical-align: top;\n",
       "    }\n",
       "\n",
       "    .dataframe thead th {\n",
       "        text-align: right;\n",
       "    }\n",
       "</style>\n",
       "<table border=\"1\" class=\"dataframe\">\n",
       "  <thead>\n",
       "    <tr style=\"text-align: right;\">\n",
       "      <th></th>\n",
       "      <th>id</th>\n",
       "      <th>NObeyesdad</th>\n",
       "    </tr>\n",
       "  </thead>\n",
       "  <tbody>\n",
       "    <tr>\n",
       "      <th>0</th>\n",
       "      <td>20758</td>\n",
       "      <td>Obesity_Type_II</td>\n",
       "    </tr>\n",
       "    <tr>\n",
       "      <th>1</th>\n",
       "      <td>20759</td>\n",
       "      <td>Overweight_Level_I</td>\n",
       "    </tr>\n",
       "    <tr>\n",
       "      <th>2</th>\n",
       "      <td>20760</td>\n",
       "      <td>Obesity_Type_III</td>\n",
       "    </tr>\n",
       "    <tr>\n",
       "      <th>3</th>\n",
       "      <td>20761</td>\n",
       "      <td>Obesity_Type_I</td>\n",
       "    </tr>\n",
       "    <tr>\n",
       "      <th>4</th>\n",
       "      <td>20762</td>\n",
       "      <td>Obesity_Type_III</td>\n",
       "    </tr>\n",
       "  </tbody>\n",
       "</table>\n",
       "</div>"
      ],
      "text/plain": [
       "      id          NObeyesdad\n",
       "0  20758     Obesity_Type_II\n",
       "1  20759  Overweight_Level_I\n",
       "2  20760    Obesity_Type_III\n",
       "3  20761      Obesity_Type_I\n",
       "4  20762    Obesity_Type_III"
      ]
     },
     "execution_count": 21,
     "metadata": {},
     "output_type": "execute_result"
    }
   ],
   "source": [
    "lgb_best = {\n",
    "    \"objective\"         : \"multiclass\",\n",
    "    \"metric\"            : \"multi_logloss\",\n",
    "    \"verbosity\"         : -1,\n",
    "    \"boosting_type\"     : \"gbdt\",\n",
    "    \"random_state\"      : RANDOM,\n",
    "    \"num_class\"         : 7,\n",
    "    \"learning_rate\"     :  0.013,\n",
    "    'feature_pre_filter': False,\n",
    "    'lambda_l1'         : 1.2149e-07,\n",
    "    'lambda_l2'         : 0.9230,\n",
    "    'num_leaves'        : 31,\n",
    "    'feature_fraction'  : 0.5,\n",
    "    'bagging_fraction'  : 0.55231,\n",
    "    'bagging_freq'      : 4,\n",
    "    'min_child_samples' : 20\n",
    "}\n",
    "lgb_params = {\n",
    "    'n_estimators'          : 500,\n",
    "}\n",
    "lgb_params.update(lgb_best)\n",
    "\n",
    "\n",
    "# train the model on all available data\n",
    "lgb_model = LGBMClassifier(**lgb_params)\n",
    "lgb_model.fit(X,y)\n",
    "\n",
    "# predict on the test set\n",
    "y_pred = lgb_model.predict(X_submit)\n",
    "\n",
    "# assemble the submission data, decode the target variable back to strings\n",
    "df_submission = pd.DataFrame(zip(X_submit_ids,y_pred),columns = ['id','Target'])\n",
    "df_submission = encode_target_variable(df_submission,'decode')\n",
    "df_submission.to_csv(\"/kaggle/working/submission.csv\",index=False)\n",
    "df_submission.head()"
   ]
  },
  {
   "cell_type": "markdown",
   "id": "b12dfd23",
   "metadata": {
    "papermill": {
     "duration": 0.015058,
     "end_time": "2024-02-08T03:13:09.041419",
     "exception": false,
     "start_time": "2024-02-08T03:13:09.026361",
     "status": "completed"
    },
    "tags": []
   },
   "source": [
    "## Lazy Classifer "
   ]
  },
  {
   "cell_type": "code",
   "execution_count": 22,
   "id": "04e54fc6",
   "metadata": {
    "execution": {
     "iopub.execute_input": "2024-02-08T03:13:09.074576Z",
     "iopub.status.busy": "2024-02-08T03:13:09.074121Z",
     "iopub.status.idle": "2024-02-08T03:13:09.079755Z",
     "shell.execute_reply": "2024-02-08T03:13:09.078190Z"
    },
    "papermill": {
     "duration": 0.025342,
     "end_time": "2024-02-08T03:13:09.082186",
     "exception": false,
     "start_time": "2024-02-08T03:13:09.056844",
     "status": "completed"
    },
    "tags": []
   },
   "outputs": [],
   "source": [
    "\n",
    "# lazy classifer \n",
    "# clf = LazyClassifier(verbose=0, ignore_warnings=True, predictions=True, custom_metric=None,random_state = RANDOM)\n",
    "# models, predictions = clf.fit(X_train,X_test, y_train, y_test)\n",
    "\n",
    "# gc.collect()"
   ]
  },
  {
   "cell_type": "code",
   "execution_count": 23,
   "id": "4a41dbc5",
   "metadata": {
    "execution": {
     "iopub.execute_input": "2024-02-08T03:13:09.116357Z",
     "iopub.status.busy": "2024-02-08T03:13:09.115033Z",
     "iopub.status.idle": "2024-02-08T03:13:09.121113Z",
     "shell.execute_reply": "2024-02-08T03:13:09.119733Z"
    },
    "papermill": {
     "duration": 0.026286,
     "end_time": "2024-02-08T03:13:09.123809",
     "exception": false,
     "start_time": "2024-02-08T03:13:09.097523",
     "status": "completed"
    },
    "tags": []
   },
   "outputs": [],
   "source": [
    "# models"
   ]
  },
  {
   "cell_type": "code",
   "execution_count": 24,
   "id": "ebd401f5",
   "metadata": {
    "execution": {
     "iopub.execute_input": "2024-02-08T03:13:09.157858Z",
     "iopub.status.busy": "2024-02-08T03:13:09.157397Z",
     "iopub.status.idle": "2024-02-08T03:13:09.163426Z",
     "shell.execute_reply": "2024-02-08T03:13:09.161957Z"
    },
    "papermill": {
     "duration": 0.025912,
     "end_time": "2024-02-08T03:13:09.166075",
     "exception": false,
     "start_time": "2024-02-08T03:13:09.140163",
     "status": "completed"
    },
    "tags": []
   },
   "outputs": [],
   "source": [
    "\n",
    "# sns.relplot(data=train, kind='scatter',hue='Gender',y='Height',x='Weight',col='Target')\n",
    "\n",
    "# sns.boxplot(data=train,x='Age',y='Target')\n",
    "# sns.boxplot(data=train,x='Height',y='Target')\n",
    "# sns.boxplot(data=train,x='Weight',y='Target')\n",
    "# sns.boxplot(data=train,x='BMI',y='Target')\n",
    "\n",
    "# sns.pairplot(data=train[cols_numeric], hue='Target')\n"
   ]
  },
  {
   "cell_type": "code",
   "execution_count": 25,
   "id": "cdf81a48",
   "metadata": {
    "execution": {
     "iopub.execute_input": "2024-02-08T03:13:09.201725Z",
     "iopub.status.busy": "2024-02-08T03:13:09.201238Z",
     "iopub.status.idle": "2024-02-08T03:13:09.207205Z",
     "shell.execute_reply": "2024-02-08T03:13:09.205634Z"
    },
    "papermill": {
     "duration": 0.026603,
     "end_time": "2024-02-08T03:13:09.210048",
     "exception": false,
     "start_time": "2024-02-08T03:13:09.183445",
     "status": "completed"
    },
    "tags": []
   },
   "outputs": [],
   "source": [
    "# from ydata_profiling import ProfileReport\n",
    "# ProfileReport(train)"
   ]
  }
 ],
 "metadata": {
  "kaggle": {
   "accelerator": "none",
   "dataSources": [
    {
     "databundleVersionId": 7609535,
     "sourceId": 68479,
     "sourceType": "competition"
    }
   ],
   "dockerImageVersionId": 30646,
   "isGpuEnabled": false,
   "isInternetEnabled": true,
   "language": "python",
   "sourceType": "notebook"
  },
  "kernelspec": {
   "display_name": "Python 3",
   "language": "python",
   "name": "python3"
  },
  "language_info": {
   "codemirror_mode": {
    "name": "ipython",
    "version": 3
   },
   "file_extension": ".py",
   "mimetype": "text/x-python",
   "name": "python",
   "nbconvert_exporter": "python",
   "pygments_lexer": "ipython3",
   "version": "3.10.13"
  },
  "papermill": {
   "default_parameters": {},
   "duration": 64.773264,
   "end_time": "2024-02-08T03:13:10.755660",
   "environment_variables": {},
   "exception": null,
   "input_path": "__notebook__.ipynb",
   "output_path": "__notebook__.ipynb",
   "parameters": {},
   "start_time": "2024-02-08T03:12:05.982396",
   "version": "2.5.0"
  }
 },
 "nbformat": 4,
 "nbformat_minor": 5
}
